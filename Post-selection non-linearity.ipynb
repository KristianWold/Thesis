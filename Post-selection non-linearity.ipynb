{
 "cells": [
  {
   "cell_type": "code",
   "execution_count": 2,
   "metadata": {},
   "outputs": [],
   "source": [
    "import numpy as np\n",
    "import qiskit as qk\n",
    "import matplotlib.pyplot as plt\n",
    "from qiskit import Aer\n",
    "from src.dnn import *\n",
    "from src.data_encoders import *\n",
    "%matplotlib inline\n",
    "%load_ext autoreload\n",
    "%autoreload 2"
   ]
  },
  {
   "cell_type": "markdown",
   "metadata": {},
   "source": [
    "## Post selection non-linearity"
   ]
  },
  {
   "cell_type": "code",
   "execution_count": 58,
   "metadata": {},
   "outputs": [],
   "source": [
    "def non_linearity(x, weights, shots=1000):\n",
    "    n = weights.shape[0]\n",
    "    \n",
    "    storage = qk.QuantumRegister(n, name=\"storage\")\n",
    "    clas_reg = qk.ClassicalRegister(2, name=\"clas_reg\")\n",
    "    registers = [storage, clas_reg]\n",
    "    circuit = qk.QuantumCircuit(*registers)\n",
    "\n",
    "    circuit.ry(x, storage[0])\n",
    "    circuit.barrier()\n",
    "\n",
    "    for i in range(n - 1):\n",
    "        circuit.cx(storage[i], storage[i + 1])\n",
    "\n",
    "    circuit.barrier()\n",
    "\n",
    "    for i, w in enumerate(weights):\n",
    "        circuit.ry(2*w, storage[i])\n",
    "\n",
    "    circuit.barrier()    \n",
    "\n",
    "    for i in range(n - 1):\n",
    "        circuit.cx(storage[i], storage[i + 1])\n",
    "\n",
    "    circuit.measure(storage[-2:], clas_reg)\n",
    "    \n",
    "    job = qk.execute(circuit, backend, shots=shots)\n",
    "    result = job.result()\n",
    "    counts = result.get_counts(circuit)\n",
    "    \n",
    "    states = [\"00\", \"01\", \"10\", \"11\"]\n",
    "    \n",
    "    for state in states:\n",
    "        if state not in counts:\n",
    "            counts[state] = 0\n",
    "    print(counts)\n",
    "        \n",
    "    return np.sqrt((counts[\"10\"] + counts[\"11\"])/shots), np.sqrt((counts[\"11\"])/(counts[\"01\"] + counts[\"11\"])), circuit"
   ]
  },
  {
   "cell_type": "code",
   "execution_count": 60,
   "metadata": {},
   "outputs": [
    {
     "name": "stdout",
     "output_type": "stream",
     "text": [
      "{'00': 31, '01': 651, '10': 179, '11': 139}\n"
     ]
    },
    {
     "data": {
      "text/html": [
       "<pre style=\"word-wrap: normal;white-space: pre;background: #fff0;line-height: 1.1;font-family: &quot;Courier New&quot;,Courier,monospace\">            ┌────────┐ ░            ░ ┌─────────────┐ ░                 \n",
       " storage_0: ┤ RY(pi) ├─░───■────────░─┤ RY(0.72291) ├─░───■─────────────\n",
       "            └────────┘ ░ ┌─┴─┐      ░ └┬────────────┤ ░ ┌─┴─┐     ┌─┐   \n",
       " storage_1: ───────────░─┤ X ├──■───░──┤ RY(3.8269) ├─░─┤ X ├──■──┤M├───\n",
       "                       ░ └───┘┌─┴─┐ ░ ┌┴────────────┤ ░ └───┘┌─┴─┐└╥┘┌─┐\n",
       " storage_2: ───────────░──────┤ X ├─░─┤ RY(0.83812) ├─░──────┤ X ├─╫─┤M├\n",
       "                       ░      └───┘ ░ └─────────────┘ ░      └───┘ ║ └╥┘\n",
       "clas_reg: 2/═══════════════════════════════════════════════════════╩══╩═\n",
       "                                                                   0  1 </pre>"
      ],
      "text/plain": [
       "            ┌────────┐ ░            ░ ┌─────────────┐ ░                 \n",
       " storage_0: ┤ RY(pi) ├─░───■────────░─┤ RY(0.72291) ├─░───■─────────────\n",
       "            └────────┘ ░ ┌─┴─┐      ░ └┬────────────┤ ░ ┌─┴─┐     ┌─┐   \n",
       " storage_1: ───────────░─┤ X ├──■───░──┤ RY(3.8269) ├─░─┤ X ├──■──┤M├───\n",
       "                       ░ └───┘┌─┴─┐ ░ ┌┴────────────┤ ░ └───┘┌─┴─┐└╥┘┌─┐\n",
       " storage_2: ───────────░──────┤ X ├─░─┤ RY(0.83812) ├─░──────┤ X ├─╫─┤M├\n",
       "                       ░      └───┘ ░ └─────────────┘ ░      └───┘ ║ └╥┘\n",
       "clas_reg: 2/═══════════════════════════════════════════════════════╩══╩═\n",
       "                                                                   0  1 "
      ]
     },
     "execution_count": 60,
     "metadata": {},
     "output_type": "execute_result"
    }
   ],
   "source": [
    "np.random.seed(43)\n",
    "backend = Aer.get_backend('qasm_simulator')\n",
    "n = 3\n",
    "weights = np.random.uniform(0, np.pi, n)\n",
    "_, _, circuit = non_linearity(x, weights, shots=10000)\n",
    "circuit.draw()"
   ]
  },
  {
   "cell_type": "code",
   "execution_count": 53,
   "metadata": {},
   "outputs": [],
   "source": [
    "X = np.linspace(0, np.pi, 30)\n",
    "Y1 = []\n",
    "Y2 = []\n",
    "for x in X:\n",
    "    y1, y2 = non_linearity(x, weights, shots=10000)\n",
    "    Y1.append(y1)\n",
    "    Y2.append(y2)"
   ]
  },
  {
   "cell_type": "code",
   "execution_count": 54,
   "metadata": {},
   "outputs": [
    {
     "data": {
      "image/png": "[encoded data removed]",
      "text/plain": [
       "<Figure size 432x288 with 1 Axes>"
      ]
     },
     "metadata": {
      "needs_background": "light"
     },
     "output_type": "display_data"
    }
   ],
   "source": [
    "plt.plot(X,Y1)\n",
    "plt.plot(X,Y2)\n",
    "plt.show()"
   ]
  },
  {
   "cell_type": "code",
   "execution_count": null,
   "metadata": {},
   "outputs": [],
   "source": []
  }
 ],
 "metadata": {
  "kernelspec": {
   "display_name": "qiskit",
   "language": "python",
   "name": "qiskit"
  },
  "language_info": {
   "codemirror_mode": {
    "name": "ipython",
    "version": 3
   },
   "file_extension": ".py",
   "mimetype": "text/x-python",
   "name": "python",
   "nbconvert_exporter": "python",
   "pygments_lexer": "ipython3",
   "version": "3.8.5"
  }
 },
 "nbformat": 4,
 "nbformat_minor": 4
}
