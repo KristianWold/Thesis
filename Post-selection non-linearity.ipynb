{
 "cells": [
  {
   "cell_type": "code",
   "execution_count": 15,
   "metadata": {},
   "outputs": [
    {
     "name": "stdout",
     "output_type": "stream",
     "text": [
      "The autoreload extension is already loaded. To reload it, use:\n",
      "  %reload_ext autoreload\n"
     ]
    }
   ],
   "source": [
    "import numpy as np\n",
    "import qiskit as qk\n",
    "import matplotlib.pyplot as plt\n",
    "from qiskit import Aer\n",
    "from src.dnn import *\n",
    "from src.data_encoders import *\n",
    "%matplotlib inline\n",
    "%load_ext autoreload\n",
    "%autoreload 2"
   ]
  },
  {
   "cell_type": "markdown",
   "metadata": {},
   "source": [
    "## Post selection non-linearity"
   ]
  },
  {
   "cell_type": "code",
   "execution_count": 12,
   "metadata": {},
   "outputs": [],
   "source": [
    "def non_linearity(x, weights, shots=1000):\n",
    "    n = weights.shape[0]\n",
    "    \n",
    "    storage = qk.QuantumRegister(n, name=\"storage\")\n",
    "    clas_reg = qk.ClassicalRegister(2, name=\"clas_reg\")\n",
    "    registers = [storage, clas_reg]\n",
    "    circuit = qk.QuantumCircuit(*registers)\n",
    "\n",
    "    circuit.ry(x, storage[0])\n",
    "    circuit.barrier()\n",
    "\n",
    "    for i in range(n - 1):\n",
    "        circuit.cx(storage[i], storage[i + 1])\n",
    "\n",
    "    circuit.barrier()\n",
    "\n",
    "    for i, w in enumerate(weights):\n",
    "        circuit.ry(2*w, storage[i])\n",
    "\n",
    "    circuit.barrier()    \n",
    "\n",
    "    for i in range(n - 1):\n",
    "        circuit.cx(storage[i], storage[i + 1])\n",
    "\n",
    "    circuit.measure(storage[-2:], clas_reg)\n",
    "    \n",
    "    job = qk.execute(circuit, backend, shots=shots)\n",
    "    result = job.result()\n",
    "    counts = result.get_counts(circuit)\n",
    "    \n",
    "    states = [\"00\", \"01\", \"10\", \"11\"]\n",
    "    \n",
    "    for state in states:\n",
    "        if state not in counts:\n",
    "            counts[state] = 0\n",
    "        \n",
    "    return (counts[\"11\"])/(counts[\"01\"] + counts[\"11\"]), (counts[\"01\"] + counts[\"11\"])/shots, circuit\n",
    "\n",
    "\n",
    "def gradient(x, y, weights):\n",
    "    n = weights.shape[0]\n",
    "    gradient = np.zeros(weights.shape)\n",
    "    \n",
    "    for i in range(n): \n",
    "        A, B, _ = non_linearity(x, weights, shots=1000)\n",
    "        weights[i] +=np.pi/4\n",
    "        c, d, _ = non_linearity(x, weights, shots=1000)\n",
    "        weights[i] -=np.pi/2\n",
    "        e, f, _ = non_linearity(x, weights, shots=1000)\n",
    "        weights[i] +=np.pi/4\n",
    "\n",
    "        C = 0.5*(c-e)\n",
    "        D = 0.5*(d-f)\n",
    "        \n",
    "        gradient = C - 0.5*A*D/B\n",
    "        \n",
    "        gradient = (A - y)*gradient\n",
    "\n",
    "    \n",
    "    return gradient\n",
    "    "
   ]
  },
  {
   "cell_type": "code",
   "execution_count": 13,
   "metadata": {},
   "outputs": [],
   "source": [
    "np.random.seed(42)\n",
    "backend = Aer.get_backend('qasm_simulator')\n",
    "n = 6\n",
    "weights = np.random.uniform(0, np.pi, n)\n",
    "x = np.array([0, 0.2, 0.4])\n",
    "y = np.array([0.3, 0.7, 0.2])\n"
   ]
  },
  {
   "cell_type": "code",
   "execution_count": 14,
   "metadata": {},
   "outputs": [
    {
     "name": "stdout",
     "output_type": "stream",
     "text": [
      "[0.7825919507028692, 0.78123178550612, 0.7786932362521556]\n",
      "[0.7727449455676516, 0.7694428037015161, 0.756385068762279]\n",
      "[0.7572413793103449, 0.7502467917077986, 0.7509464036660689]\n",
      "[0.7391478295659132, 0.7305751765893037, 0.7156181782099623]\n",
      "[0.7196549599507086, 0.7151860134173612, 0.7047006830052229]\n",
      "[0.6937936703658035, 0.7066258919469929, 0.6775111834078894]\n",
      "[0.6836818368183681, 0.6798191533086724, 0.6779311765917989]\n",
      "[0.6568205128205128, 0.6678430558438863, 0.6531075779475531]\n",
      "[0.6437742001222743, 0.6475, 0.6375284149617689]\n",
      "[0.6176590538336052, 0.634465820712239, 0.6069458631256384]\n",
      "[0.614983305509182, 0.6023012552301256, 0.6033158107561666]\n",
      "[0.5932446264073695, 0.5803625993073945, 0.5876288659793815]\n",
      "[0.5888459189904336, 0.5772642871879513, 0.567890870933893]\n",
      "[0.5606060606060606, 0.5530612244897959, 0.5606791029134354]\n",
      "[0.5815284021250511, 0.5496417604912999, 0.5387589013224822]\n",
      "[0.544884755357865, 0.5452880113983309, 0.5261669024045261]\n",
      "[0.5377243066884176, 0.5245544554455446, 0.5304804198627372]\n",
      "[0.526378896882494, 0.521495700859828, 0.5063033753558357]\n",
      "[0.515863453815261, 0.5063113604488079, 0.5122934300685208]\n",
      "[0.5240016135538523, 0.505073051948052, 0.505775075987842]\n",
      "[0.5104727707959306, 0.500804505229284, 0.4829635499207607]\n",
      "[0.4955947136563877, 0.5018196522442377, 0.48847002205734913]\n",
      "[0.4948596283115856, 0.47778230737871996, 0.49192422731804586]\n",
      "[0.480047885075818, 0.4712460063897764, 0.4808410296718412]\n",
      "[0.47579365079365077, 0.46969393878775756, 0.4649001384219893]\n",
      "[0.4731563421828909, 0.4696197569580557, 0.4647047126665341]\n",
      "[0.4613237639553429, 0.4658136745301879, 0.47910918407567993]\n",
      "[0.465213082259663, 0.46691610870421424, 0.47051792828685257]\n",
      "[0.45805033959248903, 0.44871794871794873, 0.45795854517012125]\n",
      "[0.44815784175558687, 0.459, 0.4643564356435644]\n",
      "[0.45607439651760984, 0.4452569169960474, 0.45114136964357227]\n",
      "[0.4485742379547689, 0.4541699449252557, 0.45881670533642693]\n",
      "[0.43666732948896403, 0.44843935203476887, 0.4367363027197477]\n",
      "[0.43917322834645667, 0.42568370986920334, 0.4602985074626866]\n",
      "[0.42365120445948634, 0.4345991561181435, 0.43195384003183446]\n",
      "[0.44241954245831716, 0.44089147286821706, 0.4493942946463462]\n",
      "[0.4367403865311815, 0.42390659014446863, 0.43674280039721947]\n",
      "[0.4281219272369715, 0.4423114593535749, 0.43610192569539]\n",
      "[0.4308447937131631, 0.42851531814611155, 0.427768082218344]\n",
      "[0.42682204226743037, 0.41541798107255523, 0.43315508021390375]\n",
      "[0.4361407671016212, 0.4348595008842602, 0.4227803045283765]\n",
      "[0.4155895025460243, 0.41881342701014834, 0.4214695979401862]\n",
      "[0.41115743498113955, 0.42214804633811115, 0.4239566613162119]\n",
      "[0.4220830070477682, 0.4209279368213228, 0.4249901302803]\n",
      "[0.42113564668769715, 0.4183352964271692, 0.4158869201672307]\n",
      "[0.41172985781990523, 0.4045032589373889, 0.42843079346328017]\n",
      "[0.4067433248879361, 0.41482343810632516, 0.4161232957913456]\n",
      "[0.4072389240506329, 0.4068329079128215, 0.432156862745098]\n",
      "[0.4108360943285909, 0.4158774934515414, 0.41616240484091355]\n",
      "[0.4210423197492163, 0.42078825347758886, 0.418210484824596]\n"
     ]
    }
   ],
   "source": [
    "grad = np.zeros(weights.shape)\n",
    "m = x.shape[0]\n",
    "\n",
    "for i in range(50):\n",
    "    y_pred = []\n",
    "    \n",
    "    for x_, y_ in zip(x,y):\n",
    "        grad += gradient(x_, y_, weights)\n",
    "        y_pred.append(non_linearity(x_, weights, shots=10000)[0])\n",
    "    \n",
    "    grad = grad/m \n",
    "    \n",
    "    weights += -0.1*grad\n",
    "    print(y_pred)"
   ]
  },
  {
   "cell_type": "code",
   "execution_count": 6,
   "metadata": {},
   "outputs": [
    {
     "name": "stdout",
     "output_type": "stream",
     "text": [
      "0.4174994448145681 0.4503\n",
      "            ┌─────────┐ ░                      ░ ┌────────────┐ ░           »\n",
      " storage_0: ┤ RY(0.3) ├─░───■──────────────────░─┤ RY(3.1179) ├─░───■───────»\n",
      "            └─────────┘ ░ ┌─┴─┐                ░ ├────────────┤ ░ ┌─┴─┐     »\n",
      " storage_1: ────────────░─┤ X ├──■─────────────░─┤ RY(6.7381) ├─░─┤ X ├──■──»\n",
      "                        ░ └───┘┌─┴─┐           ░ ├────────────┤ ░ └───┘┌─┴─┐»\n",
      " storage_2: ────────────░──────┤ X ├──■────────░─┤ RY(5.3638) ├─░──────┤ X ├»\n",
      "                        ░      └───┘┌─┴─┐      ░ ├────────────┤ ░      └───┘»\n",
      " storage_3: ────────────░───────────┤ X ├──■───░─┤ RY(4.5261) ├─░───────────»\n",
      "                        ░           └───┘┌─┴─┐ ░ ├────────────┤ ░           »\n",
      " storage_4: ────────────░────────────────┤ X ├─░─┤ RY(1.7449) ├─░───────────»\n",
      "                        ░                └───┘ ░ └────────────┘ ░           »\n",
      "clas_reg: 2/════════════════════════════════════════════════════════════════»\n",
      "                                                                            »\n",
      "«                            \n",
      "« storage_0: ────────────────\n",
      "«                            \n",
      "« storage_1: ────────────────\n",
      "«                            \n",
      "« storage_2: ──■─────────────\n",
      "«            ┌─┴─┐     ┌─┐   \n",
      "« storage_3: ┤ X ├──■──┤M├───\n",
      "«            └───┘┌─┴─┐└╥┘┌─┐\n",
      "« storage_4: ─────┤ X ├─╫─┤M├\n",
      "«                 └───┘ ║ └╥┘\n",
      "«clas_reg: 2/═══════════╩══╩═\n",
      "«                       0  1 \n"
     ]
    }
   ],
   "source": [
    "y_pred, y_anc, circuit = non_linearity(0.3, weights, shots=10000)\n",
    "print(y_pred, y_anc)\n",
    "print(circuit)"
   ]
  },
  {
   "cell_type": "code",
   "execution_count": null,
   "metadata": {},
   "outputs": [],
   "source": []
  }
 ],
 "metadata": {
  "kernelspec": {
   "display_name": "qiskit",
   "language": "python",
   "name": "qiskit"
  },
  "language_info": {
   "codemirror_mode": {
    "name": "ipython",
    "version": 3
   },
   "file_extension": ".py",
   "mimetype": "text/x-python",
   "name": "python",
   "nbconvert_exporter": "python",
   "pygments_lexer": "ipython3",
   "version": "3.8.5"
  }
 },
 "nbformat": 4,
 "nbformat_minor": 4
}
