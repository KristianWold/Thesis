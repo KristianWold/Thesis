{
 "cells": [
  {
   "cell_type": "code",
   "execution_count": 1,
   "metadata": {},
   "outputs": [],
   "source": [
    "import numpy as np\n",
    "import qiskit as qk\n",
    "import matplotlib.pyplot as plt\n",
    "from qiskit import Aer\n",
    "from src.dnn import *\n",
    "from src.data_encoders import *\n",
    "%matplotlib inline\n",
    "%load_ext autoreload\n",
    "%autoreload 2"
   ]
  },
  {
   "cell_type": "markdown",
   "metadata": {},
   "source": [
    "## Post selection non-linearity"
   ]
  },
  {
   "cell_type": "code",
   "execution_count": 89,
   "metadata": {},
   "outputs": [],
   "source": [
    "def non_linearity(x, weights, shots=1000):\n",
    "    n = weights.shape[0]\n",
    "    \n",
    "    storage = qk.QuantumRegister(n, name=\"storage\")\n",
    "    clas_reg = qk.ClassicalRegister(2, name=\"clas_reg\")\n",
    "    registers = [storage, clas_reg]\n",
    "    circuit = qk.QuantumCircuit(*registers)\n",
    "\n",
    "    circuit.ry(x, storage[0])\n",
    "    circuit.barrier()\n",
    "\n",
    "    for i in range(n - 1):\n",
    "        circuit.cx(storage[i], storage[i + 1])\n",
    "\n",
    "    circuit.barrier()\n",
    "\n",
    "    for i, w in enumerate(weights):\n",
    "        circuit.ry(2*w, storage[i])\n",
    "\n",
    "    circuit.barrier()    \n",
    "\n",
    "    for i in range(n - 1):\n",
    "        circuit.cx(storage[i], storage[i + 1])\n",
    "\n",
    "    circuit.measure(storage[-2:], clas_reg)\n",
    "    \n",
    "    job = qk.execute(circuit, backend, shots=shots)\n",
    "    result = job.result()\n",
    "    counts = result.get_counts(circuit)\n",
    "    \n",
    "    states = [\"00\", \"01\", \"10\", \"11\"]\n",
    "    \n",
    "    for state in states:\n",
    "        if state not in counts:\n",
    "            counts[state] = 0\n",
    "        \n",
    "    return (counts[\"11\"])/(counts[\"01\"] + counts[\"11\"]), (counts[\"01\"] + counts[\"11\"])/shots, circuit\n",
    "\n",
    "\n",
    "def gradient(x, weights):\n",
    "    n = weights.shape[0]\n",
    "    gradient = np.zeros(weights.shape)\n",
    "    \n",
    "    for i in range(n): \n",
    "        A, B, _ = non_linearity(x, weights, shots=1000)\n",
    "        weights[i] +=np.pi/4\n",
    "        c, d, _ = non_linearity(x, weights, shots=1000)\n",
    "        weights[i] -=np.pi/2\n",
    "        e, f, _ = non_linearity(x, weights, shots=1000)\n",
    "        weights[i] +=np.pi/4\n",
    "\n",
    "        C = 0.5*(c-e)\n",
    "        D = 0.5*(d-f)\n",
    "        \n",
    "        gradient[i] = C - 2*A*D/B\n",
    "\n",
    "    \n",
    "    return gradient\n",
    "    "
   ]
  },
  {
   "cell_type": "code",
   "execution_count": 90,
   "metadata": {},
   "outputs": [],
   "source": [
    "np.random.seed(42)\n",
    "backend = Aer.get_backend('qasm_simulator')\n",
    "n = 5\n",
    "weights = np.random.uniform(0, np.pi, n)\n",
    "x = 0"
   ]
  },
  {
   "cell_type": "code",
   "execution_count": 93,
   "metadata": {},
   "outputs": [
    {
     "name": "stdout",
     "output_type": "stream",
     "text": [
      "0.3059444571953179\n",
      "0.29004868108230497\n",
      "0.30296489833011475\n",
      "0.30015941698929627\n",
      "0.2979959007059895\n",
      "0.29376854599406527\n",
      "0.3002390982579984\n",
      "0.3031132398221006\n",
      "0.2972972972972973\n",
      "0.29954285714285717\n"
     ]
    }
   ],
   "source": [
    "for i in range(10):    \n",
    "    grad = gradient(x, weights)\n",
    "    y_pred, _, _ = non_linearity(x, weights, shots=10000)\n",
    "    weights += -0.5*grad*(y_pred - 0.3)\n",
    "    print(y_pred)"
   ]
  },
  {
   "cell_type": "code",
   "execution_count": null,
   "metadata": {},
   "outputs": [],
   "source": [
    "X = np.linspace(0, np.pi, 30)\n",
    "Y1 = []\n",
    "Y2 = []\n",
    "for x in X:\n",
    "    y1, y2, _ = non_linearity(x, weights, shots=10000)\n",
    "    Y1.append(y1)\n",
    "    Y2.append(y2)"
   ]
  },
  {
   "cell_type": "code",
   "execution_count": null,
   "metadata": {},
   "outputs": [],
   "source": [
    "plt.plot(X,Y1)\n",
    "plt.plot(X,Y2)\n",
    "plt.show()"
   ]
  },
  {
   "cell_type": "code",
   "execution_count": null,
   "metadata": {},
   "outputs": [],
   "source": []
  }
 ],
 "metadata": {
  "kernelspec": {
   "display_name": "qiskit",
   "language": "python",
   "name": "qiskit"
  },
  "language_info": {
   "codemirror_mode": {
    "name": "ipython",
    "version": 3
   },
   "file_extension": ".py",
   "mimetype": "text/x-python",
   "name": "python",
   "nbconvert_exporter": "python",
   "pygments_lexer": "ipython3",
   "version": "3.8.5"
  }
 },
 "nbformat": 4,
 "nbformat_minor": 4
}
