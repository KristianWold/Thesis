{
 "cells": [
  {
   "cell_type": "code",
   "execution_count": 1,
   "metadata": {},
   "outputs": [],
   "source": [
    "import numpy as np\n",
    "import qiskit as qk\n",
    "from qiskit import Aer\n",
    "%matplotlib inline"
   ]
  },
  {
   "cell_type": "code",
   "execution_count": 5,
   "metadata": {},
   "outputs": [],
   "source": [
    "def basis_encoding(x):\n",
    "    M,N = x.shape\n",
    "    clas_reg = qk.ClassicalRegister(N)\n",
    "    loading_reg = qk.QuantumRegister(N, name = \"loading\")\n",
    "    storage_reg = qk.QuantumRegister(N, name = \"storage\")\n",
    "    ancillas = qk.QuantumRegister(N, name = \"ancillas\")\n",
    "    branches = qk.QuantumRegister(2, name = \"branches\")\n",
    "    \n",
    "    \n",
    "    circuit = qk.QuantumCircuit(clas_reg, loading_reg, storage_reg, ancillas, branches)\n",
    "    circuit.x(branches[1])\n",
    "    circuit.barrier()\n",
    "    for i in range(M):\n",
    "        for j in range(N):\n",
    "            if x[i,j] == 1:\n",
    "                circuit.x(loading_reg[j])\n",
    "                circuit.cx(branches[1], storage_reg[j])\n",
    "        \n",
    "        circuit.barrier()\n",
    "        \n",
    "        circuit.cx(branches[1], branches[0])\n",
    "        theta = 1/np.sqrt(M-i)\n",
    "        circuit.cry(2*np.arcsin(theta), branches[0], branches[1])\n",
    "        \n",
    "        circuit.barrier()\n",
    "        circuit.toffoli(loading_reg, storage_reg, ancillas)\n",
    "        circuit.mcx(ancillas,branches[0])\n",
    "        circuit.toffoli(loading_reg, storage_reg, ancillas)\n",
    "        circuit.barrier()\n",
    "        \n",
    "        for j in range(N):\n",
    "            if x[i,j] == 1:\n",
    "                circuit.x(loading_reg[j])\n",
    "                circuit.cx(branches[1], storage_reg[j])\n",
    "        \n",
    "        circuit.barrier()\n",
    "\n",
    "    circuit.measure(storage_reg, clas_reg)\n",
    "    return circuit"
   ]
  },
  {
   "cell_type": "code",
   "execution_count": 6,
   "metadata": {
    "scrolled": true
   },
   "outputs": [
    {
     "data": {
      "text/html": [
       "<pre style=\"word-wrap: normal;white-space: pre;background: #fff0;line-height: 1.1;font-family: &quot;Courier New&quot;,Courier,monospace\">                  ░ ┌───┐ ░                 ░                           ░ ┌───┐»\n",
       " loading_0: ──────░─┤ X ├─░─────────────────░───■──────────────■────────░─┤ X ├»\n",
       "                  ░ └───┘ ░                 ░   │              │        ░ └───┘»\n",
       " loading_1: ──────░───────░─────────────────░───┼────■─────────┼────■───░──────»\n",
       "                  ░ ┌───┐ ░                 ░   │    │         │    │   ░ ┌───┐»\n",
       " storage_0: ──────░─┤ X ├─░─────────────────░───■────┼─────────■────┼───░─┤ X ├»\n",
       "                  ░ └─┬─┘ ░                 ░   │    │         │    │   ░ └─┬─┘»\n",
       " storage_1: ──────░───┼───░─────────────────░───┼────■─────────┼────■───░───┼──»\n",
       "                  ░   │   ░                 ░ ┌─┴─┐  │       ┌─┴─┐  │   ░   │  »\n",
       "ancillas_0: ──────░───┼───░─────────────────░─┤ X ├──┼────■──┤ X ├──┼───░───┼──»\n",
       "                  ░   │   ░                 ░ └───┘┌─┴─┐  │  └───┘┌─┴─┐ ░   │  »\n",
       "ancillas_1: ──────░───┼───░─────────────────░──────┤ X ├──■───────┤ X ├─░───┼──»\n",
       "                  ░   │   ░ ┌───┐           ░      └───┘┌─┴─┐     └───┘ ░   │  »\n",
       "branches_0: ──────░───┼───░─┤ X ├────■──────░───────────┤ X ├───────────░───┼──»\n",
       "            ┌───┐ ░   │   ░ └─┬─┘┌───┴────┐ ░           └───┘           ░   │  »\n",
       "branches_1: ┤ X ├─░───■───░───■──┤ RY(pi) ├─░───────────────────────────░───■──»\n",
       "            └───┘ ░       ░      └────────┘ ░                           ░      »\n",
       "      c2: 2/═══════════════════════════════════════════════════════════════════»\n",
       "                                                                               »\n",
       "«             ░       \n",
       "« loading_0: ─░───────\n",
       "«             ░       \n",
       "« loading_1: ─░───────\n",
       "«             ░ ┌─┐   \n",
       "« storage_0: ─░─┤M├───\n",
       "«             ░ └╥┘┌─┐\n",
       "« storage_1: ─░──╫─┤M├\n",
       "«             ░  ║ └╥┘\n",
       "«ancillas_0: ─░──╫──╫─\n",
       "«             ░  ║  ║ \n",
       "«ancillas_1: ─░──╫──╫─\n",
       "«             ░  ║  ║ \n",
       "«branches_0: ─░──╫──╫─\n",
       "«             ░  ║  ║ \n",
       "«branches_1: ─░──╫──╫─\n",
       "«             ░  ║  ║ \n",
       "«      c2: 2/════╩══╩═\n",
       "«                0  1 </pre>"
      ],
      "text/plain": [
       "                  ░ ┌───┐ ░                 ░                           ░ ┌───┐»\n",
       " loading_0: ──────░─┤ X ├─░─────────────────░───■──────────────■────────░─┤ X ├»\n",
       "                  ░ └───┘ ░                 ░   │              │        ░ └───┘»\n",
       " loading_1: ──────░───────░─────────────────░───┼────■─────────┼────■───░──────»\n",
       "                  ░ ┌───┐ ░                 ░   │    │         │    │   ░ ┌───┐»\n",
       " storage_0: ──────░─┤ X ├─░─────────────────░───■────┼─────────■────┼───░─┤ X ├»\n",
       "                  ░ └─┬─┘ ░                 ░   │    │         │    │   ░ └─┬─┘»\n",
       " storage_1: ──────░───┼───░─────────────────░───┼────■─────────┼────■───░───┼──»\n",
       "                  ░   │   ░                 ░ ┌─┴─┐  │       ┌─┴─┐  │   ░   │  »\n",
       "ancillas_0: ──────░───┼───░─────────────────░─┤ X ├──┼────■──┤ X ├──┼───░───┼──»\n",
       "                  ░   │   ░                 ░ └───┘┌─┴─┐  │  └───┘┌─┴─┐ ░   │  »\n",
       "ancillas_1: ──────░───┼───░─────────────────░──────┤ X ├──■───────┤ X ├─░───┼──»\n",
       "                  ░   │   ░ ┌───┐           ░      └───┘┌─┴─┐     └───┘ ░   │  »\n",
       "branches_0: ──────░───┼───░─┤ X ├────■──────░───────────┤ X ├───────────░───┼──»\n",
       "            ┌───┐ ░   │   ░ └─┬─┘┌───┴────┐ ░           └───┘           ░   │  »\n",
       "branches_1: ┤ X ├─░───■───░───■──┤ RY(pi) ├─░───────────────────────────░───■──»\n",
       "            └───┘ ░       ░      └────────┘ ░                           ░      »\n",
       "      c2: 2/═══════════════════════════════════════════════════════════════════»\n",
       "                                                                               »\n",
       "«             ░       \n",
       "« loading_0: ─░───────\n",
       "«             ░       \n",
       "« loading_1: ─░───────\n",
       "«             ░ ┌─┐   \n",
       "« storage_0: ─░─┤M├───\n",
       "«             ░ └╥┘┌─┐\n",
       "« storage_1: ─░──╫─┤M├\n",
       "«             ░  ║ └╥┘\n",
       "«ancillas_0: ─░──╫──╫─\n",
       "«             ░  ║  ║ \n",
       "«ancillas_1: ─░──╫──╫─\n",
       "«             ░  ║  ║ \n",
       "«branches_0: ─░──╫──╫─\n",
       "«             ░  ║  ║ \n",
       "«branches_1: ─░──╫──╫─\n",
       "«             ░  ║  ║ \n",
       "«      c2: 2/════╩══╩═\n",
       "«                0  1 "
      ]
     },
     "execution_count": 6,
     "metadata": {},
     "output_type": "execute_result"
    }
   ],
   "source": [
    "x = np.array([[1,0]])\n",
    "backend = Aer.get_backend('qasm_simulator')\n",
    "\n",
    "circuit = basis_encoding(x)\n",
    "circuit.draw()\n",
    "\n",
    "job = qk.execute(circuit, backend, shots=1000)\n",
    "result = job.result()\n",
    "print(result.get_counts(circuit))"
   ]
  },
  {
   "cell_type": "code",
   "execution_count": null,
   "metadata": {},
   "outputs": [],
   "source": []
  }
 ],
 "metadata": {
  "kernelspec": {
   "display_name": "qiskit",
   "language": "python",
   "name": "qiskit"
  },
  "language_info": {
   "codemirror_mode": {
    "name": "ipython",
    "version": 3
   },
   "file_extension": ".py",
   "mimetype": "text/x-python",
   "name": "python",
   "nbconvert_exporter": "python",
   "pygments_lexer": "ipython3",
   "version": "3.8.5"
  }
 },
 "nbformat": 4,
 "nbformat_minor": 4
}
