{
 "cells": [
  {
   "cell_type": "code",
   "execution_count": 3,
   "metadata": {},
   "outputs": [],
   "source": [
    "import numpy as np\n",
    "import qiskit as qk\n",
    "from qiskit import Aer\n",
    "from utils.dnn import *\n",
    "from utils.data_encoders import *\n",
    "%matplotlib inline"
   ]
  },
  {
   "cell_type": "markdown",
   "metadata": {},
   "source": [
    "## QNN"
   ]
  },
  {
   "cell_type": "code",
   "execution_count": null,
   "metadata": {},
   "outputs": [],
   "source": [
    "backend = Aer.get_backend('qasm_simulator')\n",
    "\n",
    "layer1 = Layer(n_inputs=3, n_outputs=3, ansatz=Ansatz(), backend=backend, shots=1000)\n",
    "layer2 = Layer(n_inputs=3, n_outputs=3, ansatz=Ansatz(), backend=backend, shots=1000)\n",
    "layers = [layer1, layer2]"
   ]
  },
  {
   "cell_type": "markdown",
   "metadata": {},
   "source": [
    "## Basis Encoding"
   ]
  },
  {
   "cell_type": "code",
   "execution_count": null,
   "metadata": {
    "scrolled": true
   },
   "outputs": [],
   "source": [
    "backend = Aer.get_backend('qasm_simulator')\n",
    "#backend = Aer.get_backend('statevector_simulator')\n",
    "\n",
    "M = 2\n",
    "N = 2\n",
    "\n",
    "x = np.random.normal(0, 1, size = (M,N))\n",
    "print(x)\n",
    "x = x/np.max(np.abs(x))\n",
    "print(x)\n",
    "\n",
    "x = design_matrix_to_binary(x,digits=3)\n",
    "print(x)\n",
    "\n",
    "circuit = basis_encoding(x)\n",
    "job = qk.execute(circuit, backend, shots=1000)\n",
    "result = job.result()\n",
    "counts = result.get_counts(circuit)\n",
    "\n",
    "counts = {key[::-1]:value for key, value in counts.items()}\n",
    "print(counts)"
   ]
  },
  {
   "cell_type": "code",
   "execution_count": null,
   "metadata": {},
   "outputs": [],
   "source": [
    "reg1 = qk.QuantumRegister(2)\n",
    "reg2 = qk.QuantumRegister(1)\n",
    "\n",
    "circuit = qk.QuantumCircuit(reg1, reg2)\n",
    "circuit.mcx(reg1, reg2)\n",
    "circuit = circuit.decompose().decompose()\n",
    "circuit.draw()\n",
    "print(circuit.depth())"
   ]
  },
  {
   "cell_type": "markdown",
   "metadata": {},
   "source": [
    "Rekkefølge på bits\n",
    "kompleksitet til C^n x\n",
    "dekomp av C^n ry\n",
    "statevector av subsystem"
   ]
  }
 ],
 "metadata": {
  "kernelspec": {
   "display_name": "qiskit",
   "language": "python",
   "name": "qiskit"
  },
  "language_info": {
   "codemirror_mode": {
    "name": "ipython",
    "version": 3
   },
   "file_extension": ".py",
   "mimetype": "text/x-python",
   "name": "python",
   "nbconvert_exporter": "python",
   "pygments_lexer": "ipython3",
   "version": "3.8.5"
  }
 },
 "nbformat": 4,
 "nbformat_minor": 4
}
