{
 "cells": [
  {
   "cell_type": "code",
   "execution_count": 17,
   "metadata": {},
   "outputs": [],
   "source": [
    "import numpy as np\n",
    "import qiskit as qk\n",
    "from qiskit import Aer\n",
    "from math import ceil\n",
    "from math import floor\n",
    "%matplotlib inline"
   ]
  },
  {
   "cell_type": "markdown",
   "metadata": {},
   "source": [
    "## Amplitude Encoding"
   ]
  },
  {
   "cell_type": "code",
   "execution_count": 18,
   "metadata": {},
   "outputs": [],
   "source": [
    "def theta(data, i, j):\n",
    "    n = int(np.log2(len(data)))\n",
    "    \n",
    "    idx1 = (2*j+1)*2**(n-i-1)\n",
    "    idx2 = (j+1)*2**(n-i)\n",
    "    idx3 = j*2**(n-i)\n",
    "    idx4 = (j+1)*2**(n-i)\n",
    "    \n",
    "    if i==n-1:\n",
    "        a1 = data[idx1]\n",
    "    else:\n",
    "        a1 = np.sqrt(np.sum(np.abs(data[idx1:idx2])**2))     \n",
    "    \n",
    "    a2 = np.sqrt(np.sum(np.abs(data[idx3:idx4])**2))\n",
    "    if a2 == 0:\n",
    "        return 0\n",
    "    else:\n",
    "        return 2*np.arcsin(a1/a2)\n",
    "\n",
    "def interger_to_binary(integer, digits):\n",
    "    binary = [int(b) for b in bin(integer)[2:]]\n",
    "    binary = (digits-len(binary))*[0] + binary\n",
    "    return binary\n",
    "    \n",
    "def amplitude_encoding(data, circuit, reg):\n",
    "    N = data.shape[0]\n",
    "    data = data.reshape(-1,)\n",
    "    data = data/np.sqrt(np.sum(np.abs(data)**2))\n",
    "    \n",
    "    n = int(np.log2(N))\n",
    "    c_reg = qk.ClassicalRegister(n, name=\"clas\")\n",
    "    reg = qk.QuantumRegister(n, name=\"reg\")\n",
    "    ancillae = qk.QuantumRegister(n, name=\"anc\")\n",
    "    circuit = qk.QuantumCircuit(c_reg, reg, ancillae)\n",
    "    \n",
    "    circuit.ry(theta(data, 0, 0), reg[0])\n",
    "    for i in range(1, n):\n",
    "        binary_ref = i*[0]\n",
    "        circuit.x(reg[:i])\n",
    "        for j in range(2**i):\n",
    "            binary = interger_to_binary(j, i)\n",
    "            \n",
    "            for k, (b, b_ref) in enumerate(zip(binary, binary_ref)):\n",
    "                if b != b_ref: circuit.x(reg[k]) \n",
    "            \n",
    "            circuit.mcry(theta(data, i, j), reg[:i], reg[i], ancillae[:i])\n",
    "            \n",
    "            binary_ref = binary\n",
    "    \n",
    "    circuit.measure(reg, c_reg)\n",
    "    \n",
    "    return circuit"
   ]
  },
  {
   "cell_type": "code",
   "execution_count": 19,
   "metadata": {},
   "outputs": [
    {
     "name": "stdout",
     "output_type": "stream",
     "text": [
      "[0.070014   0.14002801 0.21004201 0.28005602 0.35007002 0.42008403\n",
      " 0.49009803 0.56011203]\n",
      "{'000': 7, '100': 114, '010': 40, '110': 256, '001': 17, '101': 175, '011': 82, '111': 309}\n"
     ]
    }
   ],
   "source": [
    "data = np.array([[1,2],[3,4], [5,6], [7,8]])\n",
    "data = data.reshape(-1,)\n",
    "data = data/np.sqrt(np.sum(np.abs(data)**2))\n",
    "\n",
    "circuit = amplitude_encoding(data)\n",
    "backend = Aer.get_backend('qasm_simulator')\n",
    "#backend = Aer.get_backend('statevector_simulator')\n",
    "\n",
    "job = qk.execute(circuit, backend, shots=1000)\n",
    "result = job.result()\n",
    "counts = result.get_counts(circuit)\n",
    "counts = {key[::-1]:value for key, value in counts.items()}\n",
    "print(data)\n",
    "print(counts)"
   ]
  },
  {
   "cell_type": "markdown",
   "metadata": {},
   "source": [
    "## Basis Encoding"
   ]
  },
  {
   "cell_type": "code",
   "execution_count": 12,
   "metadata": {},
   "outputs": [],
   "source": [
    "def basis_encoding(x):\n",
    "    M,N = x.shape\n",
    "    \n",
    "    clas_reg = qk.ClassicalRegister(N)\n",
    "    loading_reg = qk.QuantumRegister(N, name = \"loading\")\n",
    "    storage_reg = qk.QuantumRegister(N, name = \"storage\")\n",
    "    ancillas = qk.QuantumRegister(N, name = \"ancillas\")\n",
    "    branches = qk.QuantumRegister(2, name = \"branches\")\n",
    "    \n",
    "    \n",
    "    circuit = qk.QuantumCircuit(clas_reg, loading_reg, storage_reg, ancillas, branches)\n",
    "    circuit.x(branches[1])\n",
    "\n",
    "    \n",
    "    for i in range(M):\n",
    "        for j in range(N):\n",
    "            if x[i,j] == 1:\n",
    "                circuit.x(loading_reg[j])\n",
    "                circuit.cx(branches[1], storage_reg[j])\n",
    "        \n",
    "        circuit.cx(branches[1], branches[0])\n",
    "        theta = -1/np.sqrt(M-i)\n",
    "        circuit.cry(2*np.arcsin(theta), branches[0], branches[1])\n",
    "        \n",
    "        circuit.toffoli(loading_reg, storage_reg, ancillas)\n",
    "        circuit.x(loading_reg)\n",
    "        circuit.x(storage_reg)\n",
    "        circuit.toffoli(loading_reg, storage_reg, ancillas)\n",
    "        \n",
    "        circuit.mcx(ancillas, branches[0])\n",
    "        \n",
    "        circuit.toffoli(loading_reg, storage_reg, ancillas)\n",
    "        circuit.x(loading_reg)\n",
    "        circuit.x(storage_reg)\n",
    "        circuit.toffoli(loading_reg, storage_reg, ancillas)\n",
    "        \n",
    "        for j in range(N):\n",
    "            if x[i,j] == 1:\n",
    "                circuit.x(loading_reg[j])\n",
    "                circuit.cx(branches[1], storage_reg[j])\n",
    "\n",
    "    circuit.measure(storage_reg, clas_reg)\n",
    "    return circuit"
   ]
  },
  {
   "cell_type": "code",
   "execution_count": 13,
   "metadata": {},
   "outputs": [],
   "source": [
    "def float_to_binary(x, digits=4):\n",
    "        binary_rep = []\n",
    "        if x>0:\n",
    "            binary_rep.append(0)\n",
    "        else:\n",
    "            binary_rep.append(1)\n",
    "        \n",
    "        x = abs(x)\n",
    "            \n",
    "        for i in range(digits):\n",
    "            digit = floor(x*2**(i))         \n",
    "            binary_rep.append(digit)\n",
    "            x -= digit*2**(-i) \n",
    "        \n",
    "        return binary_rep\n",
    "    \n",
    "def design_matrix_to_binary(X, digits=4):\n",
    "    M,N = X.shape\n",
    "    X_ = []\n",
    "    \n",
    "    for row in X:\n",
    "        row_ = [float_to_binary(feature, digits) for feature in row]\n",
    "        X_.append(row_)\n",
    "    \n",
    "    return np.array(X_).reshape(M, (digits+1)*N)"
   ]
  },
  {
   "cell_type": "code",
   "execution_count": 14,
   "metadata": {
    "scrolled": true
   },
   "outputs": [
    {
     "name": "stdout",
     "output_type": "stream",
     "text": [
      "[[-1.26257065  3.2480511 ]\n",
      " [-0.23797959 -1.118201  ]]\n",
      "[[-0.38871638  1.        ]\n",
      " [-0.07326843 -0.34426829]]\n",
      "[[1 0 0 1 0 1 0 0]\n",
      " [1 0 0 0 1 0 0 1]]\n",
      "{'10010100': 517, '10001001': 483}\n"
     ]
    }
   ],
   "source": [
    "backend = Aer.get_backend('qasm_simulator')\n",
    "#backend = Aer.get_backend('statevector_simulator')\n",
    "\n",
    "M = 2\n",
    "N = 2\n",
    "\n",
    "x = np.random.normal(0, 1, size = (M,N))\n",
    "print(x)\n",
    "x = x/np.max(np.abs(x))\n",
    "print(x)\n",
    "\n",
    "x = design_matrix_to_binary(x,digits=3)\n",
    "print(x)\n",
    "\n",
    "circuit = basis_encoding(x)\n",
    "job = qk.execute(circuit, backend, shots=1000)\n",
    "result = job.result()\n",
    "counts = result.get_counts(circuit)\n",
    "\n",
    "counts = {key[::-1]:value for key, value in counts.items()}\n",
    "print(counts)"
   ]
  },
  {
   "cell_type": "code",
   "execution_count": null,
   "metadata": {},
   "outputs": [],
   "source": [
    "reg1 = qk.QuantumRegister(2)\n",
    "reg2 = qk.QuantumRegister(1)\n",
    "\n",
    "circuit = qk.QuantumCircuit(reg1, reg2)\n",
    "circuit.mcx(reg1, reg2)\n",
    "circuit = circuit.decompose().decompose()\n",
    "circuit.draw()\n",
    "print(circuit.depth())"
   ]
  },
  {
   "cell_type": "markdown",
   "metadata": {},
   "source": [
    "Rekkefølge på bits\n",
    "kompleksitet til C^n x\n",
    "dekomp av C^n ry\n",
    "statevector av subsystem"
   ]
  }
 ],
 "metadata": {
  "kernelspec": {
   "display_name": "qiskit",
   "language": "python",
   "name": "qiskit"
  },
  "language_info": {
   "codemirror_mode": {
    "name": "ipython",
    "version": 3
   },
   "file_extension": ".py",
   "mimetype": "text/x-python",
   "name": "python",
   "nbconvert_exporter": "python",
   "pygments_lexer": "ipython3",
   "version": "3.8.5"
  }
 },
 "nbformat": 4,
 "nbformat_minor": 4
}
