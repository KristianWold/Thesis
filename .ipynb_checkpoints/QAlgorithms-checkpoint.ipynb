{
 "cells": [
  {
   "cell_type": "code",
   "execution_count": 199,
   "metadata": {},
   "outputs": [
    {
     "name": "stdout",
     "output_type": "stream",
     "text": [
      "The autoreload extension is already loaded. To reload it, use:\n",
      "  %reload_ext autoreload\n"
     ]
    }
   ],
   "source": [
    "import numpy as np\n",
    "import qiskit as qk\n",
    "import matplotlib.pyplot as plt\n",
    "from qiskit import Aer\n",
    "from utils.dnn import *\n",
    "from utils.data_encoders import *\n",
    "%matplotlib inline\n",
    "%load_ext autoreload\n",
    "%autoreload 2"
   ]
  },
  {
   "cell_type": "markdown",
   "metadata": {},
   "source": [
    "## QNN"
   ]
  },
  {
   "cell_type": "code",
   "execution_count": 200,
   "metadata": {},
   "outputs": [],
   "source": [
    "np.random.seed(42)\n",
    "backend = Aer.get_backend('qasm_simulator')\n",
    "\n",
    "layer = Layer(n_inputs=3, n_outputs=1, ansatz=Ansatz(), backend=backend, shots=1000)\n",
    "#layer2 = Layer(n_inputs=3, n_outputs=1, ansatz=Ansatz(), backend=backend, shots=1000)\n",
    "#layers = [layer1, layer2]\n",
    "#network = QNN(layers)"
   ]
  },
  {
   "cell_type": "code",
   "execution_count": 201,
   "metadata": {},
   "outputs": [
    {
     "name": "stdout",
     "output_type": "stream",
     "text": [
      "(10, 3)\n"
     ]
    },
    {
     "data": {
      "text/plain": [
       "[<matplotlib.lines.Line2D at 0x1cf3df4db20>]"
      ]
     },
     "execution_count": 201,
     "metadata": {},
     "output_type": "execute_result"
    },
    {
     "data": {
      "image/png": "[encoded data removed]",
      "text/plain": [
       "<Figure size 432x288 with 1 Axes>"
      ]
     },
     "metadata": {
      "needs_background": "light"
     },
     "output_type": "display_data"
    }
   ],
   "source": [
    "x = np.linspace(0, 1, 10).reshape(-1,1)\n",
    "X = np.hstack([x**0, x, x**2])\n",
    "print(X.shape)\n",
    "y = 1 + 3*x1 - 4*x2**2\n",
    "y_min = np.min(y)\n",
    "y_max = np.max(y)\n",
    "y_normalized = (y - y_min)/y_max\n",
    "plt.plot(x, y_normalized)"
   ]
  },
  {
   "cell_type": "code",
   "execution_count": 202,
   "metadata": {},
   "outputs": [
    {
     "name": "stdout",
     "output_type": "stream",
     "text": [
      "[0.986]\n",
      "[0.99]\n",
      "[0.989]\n",
      "[0.989]\n",
      "[0.99]\n",
      "[0.99]\n",
      "[0.986]\n",
      "[0.993]\n",
      "[0.987]\n",
      "[0.988]\n",
      "[0.986]\n",
      "[0.979]\n",
      "[0.982]\n",
      "[0.988]\n",
      "[0.987]\n",
      "[0.982]\n",
      "[0.981]\n",
      "[0.979]\n",
      "[0.985]\n",
      "[0.975]\n",
      "[0.98]\n",
      "[0.982]\n",
      "[0.979]\n",
      "[0.982]\n",
      "[0.987]\n",
      "[0.976]\n",
      "[0.985]\n",
      "[0.978]\n",
      "[0.981]\n",
      "[0.975]\n",
      "[0.975]\n",
      "[0.981]\n",
      "[0.976]\n",
      "[0.972]\n",
      "[0.976]\n",
      "[0.975]\n",
      "[0.97]\n",
      "[0.964]\n",
      "[0.97]\n",
      "[0.972]\n",
      "[0.968]\n",
      "[0.97]\n",
      "[0.975]\n",
      "[0.968]\n",
      "[0.968]\n",
      "[0.972]\n",
      "[0.973]\n",
      "[0.966]\n",
      "[0.966]\n",
      "[0.968]\n",
      "[0.972]\n",
      "[0.971]\n",
      "[0.952]\n",
      "[0.97]\n",
      "[0.954]\n",
      "[0.958]\n",
      "[0.954]\n",
      "[0.956]\n",
      "[0.957]\n",
      "[0.952]\n",
      "[0.955]\n",
      "[0.933]\n",
      "[0.946]\n",
      "[0.959]\n",
      "[0.956]\n",
      "[0.938]\n",
      "[0.944]\n",
      "[0.948]\n",
      "[0.947]\n",
      "[0.941]\n",
      "[0.946]\n",
      "[0.947]\n",
      "[0.926]\n",
      "[0.943]\n",
      "[0.943]\n",
      "[0.934]\n",
      "[0.947]\n",
      "[0.932]\n",
      "[0.942]\n",
      "[0.931]\n",
      "[0.923]\n",
      "[0.914]\n",
      "[0.937]\n",
      "[0.941]\n",
      "[0.931]\n",
      "[0.929]\n",
      "[0.922]\n",
      "[0.93]\n",
      "[0.928]\n",
      "[0.929]\n",
      "[0.919]\n",
      "[0.907]\n",
      "[0.913]\n",
      "[0.917]\n",
      "[0.916]\n",
      "[0.913]\n",
      "[0.9]\n",
      "[0.901]\n",
      "[0.887]\n",
      "[0.882]\n"
     ]
    }
   ],
   "source": [
    "for i in range(100):\n",
    "    \n",
    "    output = layer(X[0])\n",
    "    delta = layer.grad(X[0])\n",
    "    gradient = (output - 0.5)*delta\n",
    "    \n",
    "    layer.parameters -= gradient\n",
    "    print(output)"
   ]
  },
  {
   "cell_type": "markdown",
   "metadata": {},
   "source": [
    "## Basis Encoding"
   ]
  },
  {
   "cell_type": "code",
   "execution_count": null,
   "metadata": {
    "scrolled": true
   },
   "outputs": [],
   "source": [
    "backend = Aer.get_backend('qasm_simulator')\n",
    "#backend = Aer.get_backend('statevector_simulator')\n",
    "\n",
    "M = 2\n",
    "N = 2\n",
    "\n",
    "x = np.random.normal(0, 1, size = (M,N))\n",
    "print(x)\n",
    "x = x/np.max(np.abs(x))\n",
    "print(x)\n",
    "\n",
    "x = design_matrix_to_binary(x,digits=3)\n",
    "print(x)\n",
    "\n",
    "circuit = basis_encoding(x)\n",
    "job = qk.execute(circuit, backend, shots=1000)\n",
    "result = job.result()\n",
    "counts = result.get_counts(circuit)\n",
    "\n",
    "counts = {key[::-1]:value for key, value in counts.items()}\n",
    "print(counts)"
   ]
  },
  {
   "cell_type": "code",
   "execution_count": null,
   "metadata": {},
   "outputs": [],
   "source": [
    "reg1 = qk.QuantumRegister(2)\n",
    "reg2 = qk.QuantumRegister(1)\n",
    "\n",
    "circuit = qk.QuantumCircuit(reg1, reg2)\n",
    "circuit.mcx(reg1, reg2)\n",
    "circuit = circuit.decompose().decompose()\n",
    "circuit.draw()\n",
    "print(circuit.depth())"
   ]
  },
  {
   "cell_type": "markdown",
   "metadata": {},
   "source": [
    "Rekkefølge på bits\n",
    "kompleksitet til C^n x\n",
    "dekomp av C^n ry\n",
    "statevector av subsystem"
   ]
  }
 ],
 "metadata": {
  "kernelspec": {
   "display_name": "qiskit",
   "language": "python",
   "name": "qiskit"
  },
  "language_info": {
   "codemirror_mode": {
    "name": "ipython",
    "version": 3
   },
   "file_extension": ".py",
   "mimetype": "text/x-python",
   "name": "python",
   "nbconvert_exporter": "python",
   "pygments_lexer": "ipython3",
   "version": "3.8.5"
  }
 },
 "nbformat": 4,
 "nbformat_minor": 4
}
