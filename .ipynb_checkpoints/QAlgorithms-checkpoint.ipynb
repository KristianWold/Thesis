{
 "cells": [
  {
   "cell_type": "code",
   "execution_count": 66,
   "metadata": {},
   "outputs": [
    {
     "name": "stdout",
     "output_type": "stream",
     "text": [
      "The autoreload extension is already loaded. To reload it, use:\n",
      "  %reload_ext autoreload\n"
     ]
    }
   ],
   "source": [
    "import numpy as np\n",
    "import qiskit as qk\n",
    "import matplotlib.pyplot as plt\n",
    "from qiskit import Aer\n",
    "from utils.dnn import *\n",
    "from utils.data_encoders import *\n",
    "%matplotlib inline\n",
    "%load_ext autoreload\n",
    "%autoreload 2"
   ]
  },
  {
   "cell_type": "markdown",
   "metadata": {},
   "source": [
    "## QNN"
   ]
  },
  {
   "cell_type": "code",
   "execution_count": 70,
   "metadata": {},
   "outputs": [],
   "source": [
    "np.random.seed(42)\n",
    "backend = Aer.get_backend('qasm_simulator')\n",
    "\n",
    "layer1 = Layer(n_inputs=1, n_outputs=5, ansatz=Ansatz(), backend=backend, shots=1000)\n",
    "layer2 = Layer(n_inputs=5, n_outputs=1, ansatz=Ansatz(), backend=backend, shots=1000)\n",
    "layers = [layer1, layer2]\n",
    "network = QNN(layers)"
   ]
  },
  {
   "cell_type": "code",
   "execution_count": 71,
   "metadata": {},
   "outputs": [],
   "source": [
    "#x = np.linspace(0, 1, 10).reshape(-1,1)"
   ]
  },
  {
   "cell_type": "code",
   "execution_count": 72,
   "metadata": {},
   "outputs": [
    {
     "name": "stdout",
     "output_type": "stream",
     "text": [
      "[0.715]\n",
      "[0.447]\n",
      "[0.361]\n",
      "[0.322]\n",
      "[0.312]\n",
      "[0.294]\n",
      "[0.282]\n",
      "[0.343]\n",
      "[0.289]\n",
      "[0.293]\n",
      "[0.297]\n",
      "[0.315]\n",
      "[0.28]\n",
      "[0.307]\n",
      "[0.306]\n",
      "[0.289]\n",
      "[0.313]\n",
      "[0.293]\n",
      "[0.278]\n",
      "[0.305]\n"
     ]
    }
   ],
   "source": [
    "network = QNN(layers)\n",
    "\n",
    "for i in range(20):\n",
    "    network.backprop(x[0])\n",
    "    y_pred = network.a[-1]\n",
    "    \n",
    "    layer1.weights -= network.weights_gradients[0]*np.transpose(network.input_gradients[1])*(y_pred - 0.3)\n",
    "    layer2.weights -= network.weights_gradients[1]*(y_pred - 0.3)\n",
    "    print(y_pred)\n"
   ]
  },
  {
   "cell_type": "code",
   "execution_count": null,
   "metadata": {},
   "outputs": [],
   "source": [
    "layer1 = Layer(n_inputs=1, n_outputs=1, ansatz=Ansatz(), backend=backend, shots=1000)"
   ]
  },
  {
   "cell_type": "markdown",
   "metadata": {},
   "source": [
    "## Basis Encoding"
   ]
  },
  {
   "cell_type": "code",
   "execution_count": null,
   "metadata": {
    "scrolled": true
   },
   "outputs": [],
   "source": [
    "backend = Aer.get_backend('qasm_simulator')\n",
    "#backend = Aer.get_backend('statevector_simulator')\n",
    "\n",
    "M = 2\n",
    "N = 2\n",
    "\n",
    "x = np.random.normal(0, 1, size = (M,N))\n",
    "print(x)\n",
    "x = x/np.max(np.abs(x))\n",
    "print(x)\n",
    "\n",
    "x = design_matrix_to_binary(x,digits=3)\n",
    "print(x)\n",
    "\n",
    "circuit = basis_encoding(x)\n",
    "job = qk.execute(circuit, backend, shots=1000)\n",
    "result = job.result()\n",
    "counts = result.get_counts(circuit)\n",
    "\n",
    "counts = {key[::-1]:value for key, value in counts.items()}\n",
    "print(counts)"
   ]
  },
  {
   "cell_type": "code",
   "execution_count": null,
   "metadata": {},
   "outputs": [],
   "source": [
    "reg1 = qk.QuantumRegister(2)\n",
    "reg2 = qk.QuantumRegister(1)\n",
    "\n",
    "circuit = qk.QuantumCircuit(reg1, reg2)\n",
    "circuit.mcx(reg1, reg2)\n",
    "circuit = circuit.decompose().decompose()\n",
    "circuit.draw()\n",
    "print(circuit.depth())"
   ]
  },
  {
   "cell_type": "markdown",
   "metadata": {},
   "source": [
    "Rekkefølge på bits\n",
    "kompleksitet til C^n x\n",
    "dekomp av C^n ry\n",
    "statevector av subsystem"
   ]
  }
 ],
 "metadata": {
  "kernelspec": {
   "display_name": "qiskit",
   "language": "python",
   "name": "qiskit"
  },
  "language_info": {
   "codemirror_mode": {
    "name": "ipython",
    "version": 3
   },
   "file_extension": ".py",
   "mimetype": "text/x-python",
   "name": "python",
   "nbconvert_exporter": "python",
   "pygments_lexer": "ipython3",
   "version": "3.8.5"
  }
 },
 "nbformat": 4,
 "nbformat_minor": 4
}
