{
 "cells": [
  {
   "cell_type": "code",
   "execution_count": 2,
   "metadata": {},
   "outputs": [
    {
     "ename": "SyntaxError",
     "evalue": "invalid syntax (<ipython-input-2-47160057404b>, line 4)",
     "output_type": "error",
     "traceback": [
      "\u001b[1;36m  File \u001b[1;32m\"<ipython-input-2-47160057404b>\"\u001b[1;36m, line \u001b[1;32m4\u001b[0m\n\u001b[1;33m    form /utils.utils import *\u001b[0m\n\u001b[1;37m                      ^\u001b[0m\n\u001b[1;31mSyntaxError\u001b[0m\u001b[1;31m:\u001b[0m invalid syntax\n"
     ]
    }
   ],
   "source": [
    "import numpy as np\n",
    "import qiskit as qk\n",
    "from qiskit import Aer\n",
    "from utils.utils import *\n",
    "%matplotlib inline"
   ]
  },
  {
   "cell_type": "markdown",
   "metadata": {},
   "source": [
    "## Simple Ansatz"
   ]
  },
  {
   "cell_type": "code",
   "execution_count": null,
   "metadata": {},
   "outputs": [],
   "source": [
    "def simple_ansatz(data, circuit, reg, theta):\n",
    "    N = data.shape[0]\n",
    "    n = int(np.log2(N))\n",
    "    clas_reg, storage, ancillae = reg\n",
    "\n",
    "    for theta_ in theta:\n",
    "        for i, t in enumerate(theta_):\n",
    "            circuit.ry(t, storage[i])\n",
    "\n",
    "        for i in range(n-1):\n",
    "            circuit.cx(storage[i], storage[i+1])\n",
    "    \n",
    "    return circuit"
   ]
  },
  {
   "cell_type": "code",
   "execution_count": null,
   "metadata": {},
   "outputs": [],
   "source": [
    "data = np.array([1, 2, 3, 4, 5, 6, 7, 8])\n",
    "data = data/np.sqrt(np.sum(np.abs(data)**2))\n",
    "N = data.shape[0] \n",
    "n = int(np.log2(N))\n",
    "\n",
    "clas_reg = qk.ClassicalRegister(n, name=\"clas_reg\")\n",
    "storage = qk.QuantumRegister(n, name=\"storage\")\n",
    "ancillae = qk.QuantumRegister(n, name=\"ancillae\")\n",
    "\n",
    "circuit = qk.QuantumCircuit(clas_reg, storage, ancillae)\n",
    "reg = [clas_reg, storage, ancillae]\n",
    "theta = [[0.1,0.2,0.3], [0.1,0.2,0.3], [0.1,0.2,0.3]]\n",
    "\n",
    "circuit = amplitude_encoding(data, circuit, reg)\n",
    "circuit = simple_ansatz(data, circuit, reg, theta)\n",
    "\n",
    "circuit.measure(storage, clas_reg)\n",
    "\n",
    "\n",
    "backend = Aer.get_backend('qasm_simulator')\n",
    "#backend = Aer.get_backend('statevector_simulator')\n",
    "\n",
    "job = qk.execute(circuit, backend, shots=1000)\n",
    "result = job.result()\n",
    "counts = result.get_counts(circuit)\n",
    "counts = {key[::-1]:value for key, value in counts.items()}\n",
    "print(data)\n",
    "print(counts)"
   ]
  },
  {
   "cell_type": "markdown",
   "metadata": {},
   "source": [
    "## Basis Encoding"
   ]
  },
  {
   "cell_type": "code",
   "execution_count": null,
   "metadata": {
    "scrolled": true
   },
   "outputs": [],
   "source": [
    "backend = Aer.get_backend('qasm_simulator')\n",
    "#backend = Aer.get_backend('statevector_simulator')\n",
    "\n",
    "M = 2\n",
    "N = 2\n",
    "\n",
    "x = np.random.normal(0, 1, size = (M,N))\n",
    "print(x)\n",
    "x = x/np.max(np.abs(x))\n",
    "print(x)\n",
    "\n",
    "x = design_matrix_to_binary(x,digits=3)\n",
    "print(x)\n",
    "\n",
    "circuit = basis_encoding(x)\n",
    "job = qk.execute(circuit, backend, shots=1000)\n",
    "result = job.result()\n",
    "counts = result.get_counts(circuit)\n",
    "\n",
    "counts = {key[::-1]:value for key, value in counts.items()}\n",
    "print(counts)"
   ]
  },
  {
   "cell_type": "code",
   "execution_count": null,
   "metadata": {},
   "outputs": [],
   "source": [
    "reg1 = qk.QuantumRegister(2)\n",
    "reg2 = qk.QuantumRegister(1)\n",
    "\n",
    "circuit = qk.QuantumCircuit(reg1, reg2)\n",
    "circuit.mcx(reg1, reg2)\n",
    "circuit = circuit.decompose().decompose()\n",
    "circuit.draw()\n",
    "print(circuit.depth())"
   ]
  },
  {
   "cell_type": "markdown",
   "metadata": {},
   "source": [
    "Rekkefølge på bits\n",
    "kompleksitet til C^n x\n",
    "dekomp av C^n ry\n",
    "statevector av subsystem"
   ]
  }
 ],
 "metadata": {
  "kernelspec": {
   "display_name": "qiskit",
   "language": "python",
   "name": "qiskit"
  },
  "language_info": {
   "codemirror_mode": {
    "name": "ipython",
    "version": 3
   },
   "file_extension": ".py",
   "mimetype": "text/x-python",
   "name": "python",
   "nbconvert_exporter": "python",
   "pygments_lexer": "ipython3",
   "version": "3.8.5"
  }
 },
 "nbformat": 4,
 "nbformat_minor": 4
}
