{
 "cells": [
  {
   "cell_type": "code",
   "execution_count": 2,
   "metadata": {},
   "outputs": [],
   "source": [
    "import numpy as np\n",
    "import qiskit as qk\n",
    "from qiskit import Aer\n",
    "from math import ceil\n",
    "from math import floor\n",
    "%matplotlib inline"
   ]
  },
  {
   "cell_type": "markdown",
   "metadata": {},
   "source": [
    "## Amplitude Encoding"
   ]
  },
  {
   "cell_type": "code",
   "execution_count": 3,
   "metadata": {},
   "outputs": [],
   "source": [
    "def calculate_rotation(data, i, j):\n",
    "    n = int(np.log2(len(data)))\n",
    "    \n",
    "    idx1 = (2*j+1)*2**(n-i-1)\n",
    "    idx2 = (j+1)*2**(n-i)\n",
    "    idx3 = j*2**(n-i)\n",
    "    idx4 = (j+1)*2**(n-i)\n",
    "    \n",
    "    if i==n-1:\n",
    "        a1 = data[idx1]\n",
    "    else:\n",
    "        a1 = np.sqrt(np.sum(np.abs(data[idx1:idx2])**2))     \n",
    "    \n",
    "    a2 = np.sqrt(np.sum(np.abs(data[idx3:idx4])**2))\n",
    "    if a2 == 0:\n",
    "        return 0\n",
    "    else:\n",
    "        return 2*np.arcsin(a1/a2)\n",
    "\n",
    "def interger_to_binary(integer, digits):\n",
    "    binary = [int(b) for b in bin(integer)[2:]]\n",
    "    binary = (digits-len(binary))*[0] + binary\n",
    "    return binary\n",
    "    \n",
    "def amplitude_encoding(data, circuit, reg, inverse = False):\n",
    "    N = data.shape[0]\n",
    "    n = int(np.log2(N))\n",
    "    clas_reg, storage, ancillae = reg\n",
    "    \n",
    "    if not inverse:\n",
    "        circuit.ry(calculate_rotation(data, 0, 0), storage[0])  \n",
    "        for i in range(1, n):\n",
    "            binary_ref = i*[0]\n",
    "            circuit.x(storage[:i])\n",
    "            \n",
    "            for j in range(2**i):\n",
    "                binary = interger_to_binary(j, i)\n",
    "\n",
    "                for k, (b, b_ref) in enumerate(zip(binary, binary_ref)):\n",
    "                    if b != b_ref: circuit.x(storage[k]) \n",
    "\n",
    "                circuit.mcry(calculate_rotation(data, i, j), storage[:i], storage[i], ancillae[:i])\n",
    "                binary_ref = binary\n",
    "\n",
    "\n",
    "    else:\n",
    "        for i in range(n-1, 0, -1):\n",
    "            binary_ref = i*[1]\n",
    "            for j in range(2**i-1, -1, -1):\n",
    "                binary = interger_to_binary(j, i)\n",
    "\n",
    "                for k, (b, b_ref) in enumerate(zip(binary, binary_ref)):\n",
    "                    if b != b_ref: circuit.x(storage[k]) \n",
    "\n",
    "                circuit.mcry(-calculate_rotation(data, i, j), storage[:i], storage[i], ancillae[:i])\n",
    "                binary_ref = binary\n",
    "            \n",
    "            circuit.x(storage[:i])\n",
    "        \n",
    "        circuit.ry(-calculate_rotation(data, 0, 0), storage[0]) \n",
    "        \n",
    "\n",
    "    return circuit"
   ]
  },
  {
   "cell_type": "markdown",
   "metadata": {},
   "source": [
    "## Simple Ansatz"
   ]
  },
  {
   "cell_type": "code",
   "execution_count": 8,
   "metadata": {},
   "outputs": [],
   "source": [
    "def simple_ansatz(data, circuit, reg, theta):\n",
    "    N = data.shape[0]\n",
    "    n = int(np.log2(N))\n",
    "    clas_reg, storage, ancillae = reg\n",
    "\n",
    "    for theta_ in theta:\n",
    "        for i, t in enumerate(theta_):\n",
    "            circuit.ry(t, storage[i])\n",
    "\n",
    "        for i in range(n-1):\n",
    "            circuit.cx(storage[i], storage[i+1])\n",
    "    \n",
    "    return circuit"
   ]
  },
  {
   "cell_type": "code",
   "execution_count": 10,
   "metadata": {},
   "outputs": [
    {
     "ename": "AttributeError",
     "evalue": "'NoneType' object has no attribute 'measure'",
     "output_type": "error",
     "traceback": [
      "\u001b[1;31m---------------------------------------------------------------------------\u001b[0m",
      "\u001b[1;31mAttributeError\u001b[0m                            Traceback (most recent call last)",
      "\u001b[1;32m<ipython-input-10-164370528079>\u001b[0m in \u001b[0;36m<module>\u001b[1;34m\u001b[0m\n\u001b[0;32m     14\u001b[0m \u001b[0mcircuit\u001b[0m \u001b[1;33m=\u001b[0m \u001b[0mamplitude_encoding\u001b[0m\u001b[1;33m(\u001b[0m\u001b[0mdata\u001b[0m\u001b[1;33m,\u001b[0m \u001b[0mcircuit\u001b[0m\u001b[1;33m,\u001b[0m \u001b[0mreg\u001b[0m\u001b[1;33m)\u001b[0m\u001b[1;33m\u001b[0m\u001b[1;33m\u001b[0m\u001b[0m\n\u001b[0;32m     15\u001b[0m \u001b[0mcircuit\u001b[0m \u001b[1;33m=\u001b[0m \u001b[0msimple_ansatz\u001b[0m\u001b[1;33m(\u001b[0m\u001b[0mdata\u001b[0m\u001b[1;33m,\u001b[0m \u001b[0mcircuit\u001b[0m\u001b[1;33m,\u001b[0m \u001b[0mreg\u001b[0m\u001b[1;33m,\u001b[0m \u001b[0mtheta\u001b[0m\u001b[1;33m)\u001b[0m\u001b[1;33m\u001b[0m\u001b[1;33m\u001b[0m\u001b[0m\n\u001b[1;32m---> 16\u001b[1;33m \u001b[0mcircuit\u001b[0m\u001b[1;33m.\u001b[0m\u001b[0mmeasure\u001b[0m\u001b[1;33m(\u001b[0m\u001b[0mstorage\u001b[0m\u001b[1;33m,\u001b[0m \u001b[0mclas_reg\u001b[0m\u001b[1;33m)\u001b[0m\u001b[1;33m\u001b[0m\u001b[1;33m\u001b[0m\u001b[0m\n\u001b[0m\u001b[0;32m     17\u001b[0m \u001b[1;33m\u001b[0m\u001b[0m\n\u001b[0;32m     18\u001b[0m \u001b[1;33m\u001b[0m\u001b[0m\n",
      "\u001b[1;31mAttributeError\u001b[0m: 'NoneType' object has no attribute 'measure'"
     ]
    }
   ],
   "source": [
    "data = np.array([1, 2, 3, 4, 5, 6, 7, 8])\n",
    "data = data/np.sqrt(np.sum(np.abs(data)**2))\n",
    "N = data.shape[0] \n",
    "n = int(np.log2(N))\n",
    "\n",
    "clas_reg = qk.ClassicalRegister(n, name=\"clas_reg\")\n",
    "storage = qk.QuantumRegister(n, name=\"storage\")\n",
    "ancillae = qk.QuantumRegister(n, name=\"ancillae\")\n",
    "\n",
    "circuit = qk.QuantumCircuit(clas_reg, storage, ancillae)\n",
    "reg = [clas_reg, storage, ancillae]\n",
    "theta = [[0.1,0.2,0.3], [0.1,0.2,0.3], [0.1,0.2,0.3]]\n",
    "\n",
    "circuit = amplitude_encoding(data, circuit, reg)\n",
    "circuit = simple_ansatz(data, circuit, reg, theta)\n",
    "\n",
    "circuit.measure(storage, clas_reg)\n",
    "\n",
    "\n",
    "backend = Aer.get_backend('qasm_simulator')\n",
    "#backend = Aer.get_backend('statevector_simulator')\n",
    "\n",
    "job = qk.execute(circuit, backend, shots=1000)\n",
    "result = job.result()\n",
    "counts = result.get_counts(circuit)\n",
    "counts = {key[::-1]:value for key, value in counts.items()}\n",
    "print(data)\n",
    "print(counts)"
   ]
  },
  {
   "cell_type": "markdown",
   "metadata": {},
   "source": [
    "## Basis Encoding"
   ]
  },
  {
   "cell_type": "code",
   "execution_count": null,
   "metadata": {},
   "outputs": [],
   "source": [
    "def basis_encoding(x):\n",
    "    M,N = x.shape\n",
    "    \n",
    "    clas_reg = qk.ClassicalRegister(N)\n",
    "    loading_reg = qk.QuantumRegister(N, name = \"loading\")\n",
    "    storage_reg = qk.QuantumRegister(N, name = \"storage\")\n",
    "    ancillas = qk.QuantumRegister(N, name = \"ancillas\")\n",
    "    branches = qk.QuantumRegister(2, name = \"branches\")\n",
    "    \n",
    "    \n",
    "    circuit = qk.QuantumCircuit(clas_reg, loading_reg, storage_reg, ancillas, branches)\n",
    "    circuit.x(branches[1])\n",
    "\n",
    "    \n",
    "    for i in range(M):\n",
    "        for j in range(N):\n",
    "            if x[i,j] == 1:\n",
    "                circuit.x(loading_reg[j])\n",
    "                circuit.cx(branches[1], storage_reg[j])\n",
    "        \n",
    "        circuit.cx(branches[1], branches[0])\n",
    "        theta = -1/np.sqrt(M-i)\n",
    "        circuit.cry(2*np.arcsin(theta), branches[0], branches[1])\n",
    "        \n",
    "        circuit.toffoli(loading_reg, storage_reg, ancillas)\n",
    "        circuit.x(loading_reg)\n",
    "        circuit.x(storage_reg)\n",
    "        circuit.toffoli(loading_reg, storage_reg, ancillas)\n",
    "        \n",
    "        circuit.mcx(ancillas, branches[0])\n",
    "        \n",
    "        circuit.toffoli(loading_reg, storage_reg, ancillas)\n",
    "        circuit.x(loading_reg)\n",
    "        circuit.x(storage_reg)\n",
    "        circuit.toffoli(loading_reg, storage_reg, ancillas)\n",
    "        \n",
    "        for j in range(N):\n",
    "            if x[i,j] == 1:\n",
    "                circuit.x(loading_reg[j])\n",
    "                circuit.cx(branches[1], storage_reg[j])\n",
    "\n",
    "    circuit.measure(storage_reg, clas_reg)\n",
    "    return circuit"
   ]
  },
  {
   "cell_type": "code",
   "execution_count": null,
   "metadata": {},
   "outputs": [],
   "source": [
    "def float_to_binary(x, digits=4):\n",
    "        binary_rep = []\n",
    "        if x>0:\n",
    "            binary_rep.append(0)\n",
    "        else:\n",
    "            binary_rep.append(1)\n",
    "        \n",
    "        x = abs(x)\n",
    "            \n",
    "        for i in range(digits):\n",
    "            digit = floor(x*2**(i))         \n",
    "            binary_rep.append(digit)\n",
    "            x -= digit*2**(-i) \n",
    "        \n",
    "        return binary_rep\n",
    "    \n",
    "def design_matrix_to_binary(X, digits=4):\n",
    "    M,N = X.shape\n",
    "    X_ = []\n",
    "    \n",
    "    for row in X:\n",
    "        row_ = [float_to_binary(feature, digits) for feature in row]\n",
    "        X_.append(row_)\n",
    "    \n",
    "    return np.array(X_).reshape(M, (digits+1)*N)"
   ]
  },
  {
   "cell_type": "code",
   "execution_count": null,
   "metadata": {
    "scrolled": true
   },
   "outputs": [],
   "source": [
    "backend = Aer.get_backend('qasm_simulator')\n",
    "#backend = Aer.get_backend('statevector_simulator')\n",
    "\n",
    "M = 2\n",
    "N = 2\n",
    "\n",
    "x = np.random.normal(0, 1, size = (M,N))\n",
    "print(x)\n",
    "x = x/np.max(np.abs(x))\n",
    "print(x)\n",
    "\n",
    "x = design_matrix_to_binary(x,digits=3)\n",
    "print(x)\n",
    "\n",
    "circuit = basis_encoding(x)\n",
    "job = qk.execute(circuit, backend, shots=1000)\n",
    "result = job.result()\n",
    "counts = result.get_counts(circuit)\n",
    "\n",
    "counts = {key[::-1]:value for key, value in counts.items()}\n",
    "print(counts)"
   ]
  },
  {
   "cell_type": "code",
   "execution_count": null,
   "metadata": {},
   "outputs": [],
   "source": [
    "reg1 = qk.QuantumRegister(2)\n",
    "reg2 = qk.QuantumRegister(1)\n",
    "\n",
    "circuit = qk.QuantumCircuit(reg1, reg2)\n",
    "circuit.mcx(reg1, reg2)\n",
    "circuit = circuit.decompose().decompose()\n",
    "circuit.draw()\n",
    "print(circuit.depth())"
   ]
  },
  {
   "cell_type": "markdown",
   "metadata": {},
   "source": [
    "Rekkefølge på bits\n",
    "kompleksitet til C^n x\n",
    "dekomp av C^n ry\n",
    "statevector av subsystem"
   ]
  }
 ],
 "metadata": {
  "kernelspec": {
   "display_name": "qiskit",
   "language": "python",
   "name": "qiskit"
  },
  "language_info": {
   "codemirror_mode": {
    "name": "ipython",
    "version": 3
   },
   "file_extension": ".py",
   "mimetype": "text/x-python",
   "name": "python",
   "nbconvert_exporter": "python",
   "pygments_lexer": "ipython3",
   "version": "3.8.5"
  }
 },
 "nbformat": 4,
 "nbformat_minor": 4
}
