{
 "cells": [
  {
   "cell_type": "code",
   "execution_count": 1,
   "metadata": {},
   "outputs": [],
   "source": [
    "import numpy as np\n",
    "import qiskit as qk\n",
    "from qiskit import Aer\n",
    "from math import ceil\n",
    "from math import floor\n",
    "%matplotlib inline"
   ]
  },
  {
   "cell_type": "code",
   "execution_count": 2,
   "metadata": {},
   "outputs": [],
   "source": [
    "def theta(alpha, i, j):\n",
    "    n = int(np.log2(len(alpha)))\n",
    "    \n",
    "    idx1 = (2*j+1)*2**(n-i-1)\n",
    "    idx2 = (j+1)*2**(n-i)\n",
    "    idx3 = j*2**(n-i)\n",
    "    idx4 = (j+1)*2**(n-i)\n",
    "    \n",
    "    if i==n-1:\n",
    "        a1 = alpha[idx1]\n",
    "    else:\n",
    "        a1 = np.sqrt(np.sum(np.abs(alpha[idx1:idx2])**2))\n",
    "        \n",
    "    a2 = np.sqrt(np.sum(np.abs(alpha[idx3:idx4])**2))\n",
    "    return 2*np.arcsin(a1/a2)\n",
    "    \n",
    "def amplitude_encoding(x):\n",
    "    M, N = x.shape\n",
    "    x = x.reshape(-1,)\n",
    "    alpha = x/np.sqrt(np.sum(np.abs(x)**2))\n",
    "    \n",
    "    n = int(np.log2(M*N))\n",
    "    reg = qk.QuantumRegister(n)\n",
    "    #ancillae = qk.QuantumRegister(n)\n",
    "    circuit = qk.QuantumCircuit(reg)\n",
    "    \n",
    "    circuit.ry(theta(alpha, 0, 0), reg[-1])\n",
    "    #for i in range(1,i):\n",
    "    #    for j in range(2**i):\n",
    "    #        binary = [int(b) for b in bin(j)[2:]]\n",
    "    #        \n",
    "    #        for b in binary:\n",
    "    #            if b: circuit.x(reg[b]) \n",
    "    #        \n",
    "    #        circuit.mcry(theta(alpha, i, j), reg[:i], reg[i], ancillae[:i])\n",
    "    #\n",
    "    #        for b in binary:\n",
    "    #            if b: circuit.x(reg[b])\n",
    "    \n",
    "    return circuit"
   ]
  },
  {
   "cell_type": "code",
   "execution_count": 3,
   "metadata": {},
   "outputs": [
    {
     "name": "stdout",
     "output_type": "stream",
     "text": [
      "[0.66539319+0.j 0.        +0.j 0.74649307+0.j 0.        +0.j]\n"
     ]
    }
   ],
   "source": [
    "x = np.array([[10,4],[11,5]])\n",
    "alpha = x.reshape(-1,)\n",
    "alpha = alpha/np.sqrt(np.sum(np.abs(alpha)**2))\n",
    "#print(alpha)\n",
    "\n",
    "circuit = amplitude_encoding(x)\n",
    "backend = Aer.get_backend('statevector_simulator')\n",
    "\n",
    "job = qk.execute(circuit, backend, shots=1000)\n",
    "result = job.result()\n",
    "outputstate = result.get_statevector(circuit, decimals=3)\n",
    "print(outputstate)"
   ]
  },
  {
   "cell_type": "code",
   "execution_count": 77,
   "metadata": {},
   "outputs": [],
   "source": [
    "def basis_encoding(x):\n",
    "    M,N = x.shape\n",
    "    \n",
    "    clas_reg = qk.ClassicalRegister(N)\n",
    "    loading_reg = qk.QuantumRegister(N, name = \"loading\")\n",
    "    storage_reg = qk.QuantumRegister(N, name = \"storage\")\n",
    "    ancillas = qk.QuantumRegister(N, name = \"ancillas\")\n",
    "    branches = qk.QuantumRegister(2, name = \"branches\")\n",
    "    \n",
    "    \n",
    "    circuit = qk.QuantumCircuit(clas_reg, loading_reg, storage_reg, ancillas, branches)\n",
    "    circuit.x(branches[1])\n",
    "\n",
    "    \n",
    "    for i in range(M):\n",
    "        for j in range(N):\n",
    "            if x[i,j] == 1:\n",
    "                circuit.x(loading_reg[j])\n",
    "                circuit.cx(branches[1], storage_reg[j])\n",
    "        \n",
    "        circuit.cx(branches[1], branches[0])\n",
    "        theta = -1/np.sqrt(M-i)\n",
    "        circuit.cry(2*np.arcsin(theta), branches[0], branches[1])\n",
    "        \n",
    "        circuit.toffoli(loading_reg, storage_reg, ancillas)\n",
    "        circuit.x(loading_reg)\n",
    "        circuit.x(storage_reg)\n",
    "        circuit.toffoli(loading_reg, storage_reg, ancillas)\n",
    "        \n",
    "        circuit.mcx(ancillas, branches[0])\n",
    "        \n",
    "        circuit.toffoli(loading_reg, storage_reg, ancillas)\n",
    "        circuit.x(loading_reg)\n",
    "        circuit.x(storage_reg)\n",
    "        circuit.toffoli(loading_reg, storage_reg, ancillas)\n",
    "        \n",
    "        for j in range(N):\n",
    "            if x[i,j] == 1:\n",
    "                circuit.x(loading_reg[j])\n",
    "                circuit.cx(branches[1], storage_reg[j])\n",
    "\n",
    "    circuit.measure(storage_reg, clas_reg)\n",
    "    return circuit"
   ]
  },
  {
   "cell_type": "code",
   "execution_count": 78,
   "metadata": {},
   "outputs": [],
   "source": [
    "def float_to_binary(x, digits=4):\n",
    "        binary_rep = []\n",
    "        if x>0:\n",
    "            binary_rep.append(0)\n",
    "        else:\n",
    "            binary_rep.append(1)\n",
    "        \n",
    "        x = abs(x)\n",
    "            \n",
    "        for i in range(digits):\n",
    "            digit = floor(x*2**(i))         \n",
    "            binary_rep.append(digit)\n",
    "            x -= digit*2**(-i) \n",
    "        \n",
    "        return binary_rep\n",
    "    \n",
    "def design_matrix_to_binary(X, digits=4):\n",
    "    M,N = X.shape\n",
    "    X_ = []\n",
    "    \n",
    "    for row in X:\n",
    "        row_ = [float_to_binary(feature, digits) for feature in row]\n",
    "        X_.append(row_)\n",
    "    \n",
    "    return np.array(X_).reshape(M, (digits+1)*N)"
   ]
  },
  {
   "cell_type": "code",
   "execution_count": 79,
   "metadata": {
    "scrolled": true
   },
   "outputs": [
    {
     "name": "stdout",
     "output_type": "stream",
     "text": [
      "[[ 0.41680933 -0.00987343]\n",
      " [ 0.50974014 -0.41030745]]\n",
      "[[ 0.81768983 -0.01936954]\n",
      " [ 1.         -0.80493455]]\n",
      "[[0 0 1 1 1 0 0 0]\n",
      " [0 1 0 0 1 0 1 1]]\n",
      "{'00111000': 492, '01001011': 508}\n"
     ]
    }
   ],
   "source": [
    "backend = Aer.get_backend('qasm_simulator')\n",
    "#backend = Aer.get_backend('statevector_simulator')\n",
    "\n",
    "M = 2\n",
    "N = 2\n",
    "\n",
    "x = np.random.normal(0, 1, size = (M,N))\n",
    "print(x)\n",
    "x = x/np.max(np.abs(x))\n",
    "print(x)\n",
    "\n",
    "x = design_matrix_to_binary(x,digits=3)\n",
    "print(x)\n",
    "\n",
    "circuit = basis_encoding(x)\n",
    "job = qk.execute(circuit, backend, shots=1000)\n",
    "result = job.result()\n",
    "counts = result.get_counts(circuit)\n",
    "\n",
    "counts = {key[::-1]:value for key, value in counts.items()}\n",
    "print(counts)"
   ]
  },
  {
   "cell_type": "code",
   "execution_count": 62,
   "metadata": {},
   "outputs": [
    {
     "name": "stdout",
     "output_type": "stream",
     "text": [
      "11\n"
     ]
    }
   ],
   "source": [
    "reg1 = qk.QuantumRegister(2)\n",
    "reg2 = qk.QuantumRegister(1)\n",
    "\n",
    "circuit = qk.QuantumCircuit(reg1, reg2)\n",
    "circuit.mcx(reg1, reg2)\n",
    "circuit = circuit.decompose().decompose()\n",
    "circuit.draw()\n",
    "print(circuit.depth())"
   ]
  },
  {
   "cell_type": "markdown",
   "metadata": {},
   "source": [
    "Rekkefølge på bits\n",
    "kompleksitet til C^n x\n",
    "dekomp av C^n ry\n",
    "statevector av subsystem"
   ]
  }
 ],
 "metadata": {
  "kernelspec": {
   "display_name": "qiskit",
   "language": "python",
   "name": "qiskit"
  },
  "language_info": {
   "codemirror_mode": {
    "name": "ipython",
    "version": 3
   },
   "file_extension": ".py",
   "mimetype": "text/x-python",
   "name": "python",
   "nbconvert_exporter": "python",
   "pygments_lexer": "ipython3",
   "version": "3.8.5"
  }
 },
 "nbformat": 4,
 "nbformat_minor": 4
}
