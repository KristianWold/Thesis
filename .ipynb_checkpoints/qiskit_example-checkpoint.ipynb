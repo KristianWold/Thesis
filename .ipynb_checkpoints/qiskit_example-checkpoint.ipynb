{
 "cells": [
  {
   "cell_type": "code",
   "execution_count": 17,
   "metadata": {},
   "outputs": [],
   "source": [
    "import qiskit as qk\n",
    "import numpy as np\n",
    "import matplotlib.pylab as plt"
   ]
  },
  {
   "cell_type": "markdown",
   "metadata": {},
   "source": [
    "## Initialize registers and circuit:"
   ]
  },
  {
   "cell_type": "code",
   "execution_count": 18,
   "metadata": {},
   "outputs": [],
   "source": [
    "reg1 = qk.QuantumRegister(2) #Quantum register nr. 1\n",
    "reg2 = qk.QuantumRegister(1) #Quantum register nr. 2\n",
    "clas_reg = qk.ClassicalRegister(2) #Classical register\n",
    "\n",
    "circuit = qk.QuantumCircuit(reg1,reg2,clas_reg)"
   ]
  },
  {
   "cell_type": "markdown",
   "metadata": {},
   "source": [
    "## Act on a register in the circuit with the Hadamard gate:"
   ]
  },
  {
   "cell_type": "code",
   "execution_count": 19,
   "metadata": {},
   "outputs": [
    {
     "data": {
      "text/plain": [
       "<qiskit.circuit.instructionset.InstructionSet at 0x7ff5846e4b38>"
      ]
     },
     "execution_count": 19,
     "metadata": {},
     "output_type": "execute_result"
    }
   ],
   "source": [
    "circuit.h(reg1[0]) #Hadamard transform on first qubit in reg1\n",
    "#circuit.cx(reg1[0],reg1[1]) #CNOT gate\n",
    "#circuit.rz(0.5,reg2[0]) # R_z gate"
   ]
  },
  {
   "cell_type": "markdown",
   "metadata": {},
   "source": [
    "## Use a measurement gate on the register to measure:"
   ]
  },
  {
   "cell_type": "code",
   "execution_count": 20,
   "metadata": {},
   "outputs": [
    {
     "name": "stdout",
     "output_type": "stream",
     "text": [
      "        ┌───┐┌─┐\n",
      "q206_0: ┤ H ├┤M├\n",
      "        └┬─┬┘└╥┘\n",
      "q206_1: ─┤M├──╫─\n",
      "         └╥┘  ║ \n",
      "q207_0: ──╫───╫─\n",
      "          ║   ║ \n",
      "c203_0: ══╬═══╩═\n",
      "          ║     \n",
      "c203_1: ══╩═════\n",
      "                \n"
     ]
    }
   ],
   "source": [
    "circuit.measure(reg1,clas_reg)\n",
    "print(circuit)"
   ]
  },
  {
   "cell_type": "markdown",
   "metadata": {},
   "source": [
    "## Execute circuit and view results:"
   ]
  },
  {
   "cell_type": "code",
   "execution_count": 29,
   "metadata": {},
   "outputs": [
    {
     "name": "stdout",
     "output_type": "stream",
     "text": [
      "{'00': 482, '01': 518}\n"
     ]
    }
   ],
   "source": [
    "job = qk.execute(circuit, backend = qk.Aer.get_backend('qasm_simulator'), shots=1000)\n",
    "result = job.result().get_counts(circuit)\n",
    "\n",
    "print(result)"
   ]
  },
  {
   "cell_type": "markdown",
   "metadata": {},
   "source": [
    "## Machine learning example:"
   ]
  },
  {
   "cell_type": "code",
   "execution_count": 41,
   "metadata": {},
   "outputs": [],
   "source": [
    "x = np.linspace(0,1,10)\n",
    "y = x - 0.1*np.sin(2*np.pi*x)\n",
    "y = (y - np.min(y))/np.max(y)\n",
    "\n",
    "y_pred = np.zeros((20,10))"
   ]
  },
  {
   "cell_type": "code",
   "execution_count": 42,
   "metadata": {},
   "outputs": [
    {
     "name": "stdout",
     "output_type": "stream",
     "text": [
      "        ┌─────────────┐┌─────────────┐┌─┐\n",
      "q420_0: ┤ RY(0.69813) ├┤ RY(0.33069) ├┤M├\n",
      "        └─────────────┘└─────────────┘└╥┘\n",
      "c416_0: ═══════════════════════════════╩═\n",
      "                                         \n"
     ]
    }
   ],
   "source": [
    "for i_t,theta in enumerate(np.linspace(0,2*np.pi,20)):\n",
    "    for i,x_i in enumerate(x):\n",
    "        reg1 = qk.QuantumRegister(1)   #Set up circuit\n",
    "        clas_reg = qk.ClassicalRegister(1)\n",
    "        circuit = qk.QuantumCircuit(reg1,clas_reg)\n",
    "\n",
    "        circuit.ry(np.pi*x_i,reg1)  #Encode the datapoint into the qubit\n",
    "        circuit.ry(theta,reg1)      #Perform a rotation on the qubit. The angle is the model parameter\n",
    "\n",
    "        circuit.measure(reg1,clas_reg) #Measure qubit\n",
    "        if i_t == 1 and i == 2:\n",
    "            print(circuit)\n",
    "\n",
    "        job = qk.execute(circuit, backend = qk.Aer.get_backend('qasm_simulator'), shots=1000) #Execute circuit\n",
    "        result = job.result().get_counts(circuit)\n",
    "\n",
    "        y_pred[i_t,i] = 0 if not '1' in result else result['1']/1000  #Prediction is the (approximated) probability\n",
    "                                                                    #of measuring 0"
   ]
  },
  {
   "cell_type": "code",
   "execution_count": 43,
   "metadata": {},
   "outputs": [
    {
     "name": "stdout",
     "output_type": "stream",
     "text": [
      "0\n"
     ]
    },
    {
     "data": {
      "image/png": "[encoded data removed]",
      "text/plain": [
       "<Figure size 432x288 with 1 Axes>"
      ]
     },
     "metadata": {
      "needs_background": "light"
     },
     "output_type": "display_data"
    }
   ],
   "source": [
    "mse = np.mean((y - y_pred)**2,axis=1)\n",
    "\n",
    "best_model_idx = np.argmin(mse)\n",
    "print(best_model_idx)\n",
    "\n",
    "plt.plot(x,y,label='actual')\n",
    "plt.plot(x,y_pred[0,:],label='predicted')\n",
    "plt.legend()\n",
    "plt.xlabel('x')\n",
    "plt.ylabel('y')\n",
    "plt.show()"
   ]
  },
  {
   "cell_type": "code",
   "execution_count": null,
   "metadata": {},
   "outputs": [],
   "source": []
  },
  {
   "cell_type": "code",
   "execution_count": null,
   "metadata": {},
   "outputs": [],
   "source": []
  }
 ],
 "metadata": {
  "kernelspec": {
   "display_name": "Python 3",
   "language": "python",
   "name": "python3"
  },
  "language_info": {
   "codemirror_mode": {
    "name": "ipython",
    "version": 3
   },
   "file_extension": ".py",
   "mimetype": "text/x-python",
   "name": "python",
   "nbconvert_exporter": "python",
   "pygments_lexer": "ipython3",
   "version": "3.8.3"
  }
 },
 "nbformat": 4,
 "nbformat_minor": 2
}
