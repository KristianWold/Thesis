{
 "cells": [
  {
   "cell_type": "code",
   "execution_count": 20,
   "metadata": {},
   "outputs": [],
   "source": [
    "import torch\n",
    "import torch.nn as nn\n",
    "import numpy as np\n",
    "import matplotlib.pyplot as plt"
   ]
  },
  {
   "cell_type": "code",
   "execution_count": 21,
   "metadata": {},
   "outputs": [],
   "source": [
    "class Model(nn.Module):\n",
    "    def __init__(self):\n",
    "        super(Model, self).__init__()\n",
    "        \n",
    "        self.layer1 = nn.Linear(1, 5)\n",
    "        self.layer2 = nn.Linear(5, 5)\n",
    "        self.layer3 = nn.Linear(5, 1)\n",
    "\n",
    "    def forward(self, x):\n",
    "        x = torch.tanh(self.layer1(x))\n",
    "        x = torch.tanh(self.layer2(x))\n",
    "        x = self.layer3(x)\n",
    "        \n",
    "        return x"
   ]
  },
  {
   "cell_type": "code",
   "execution_count": 25,
   "metadata": {},
   "outputs": [],
   "source": [
    "np.random.seed(42)\n",
    "model = Model()\n",
    "loss_func = nn.MSELoss()\n",
    "optimizer = torch.optim.SGD(model.parameters(), lr=0.01)\n",
    "\n",
    "x = torch.linspace(0, 1, 100).reshape(-1,1)\n",
    "y = x**2 + 1"
   ]
  },
  {
   "cell_type": "code",
   "execution_count": 26,
   "metadata": {},
   "outputs": [
    {
     "name": "stdout",
     "output_type": "stream",
     "text": [
      "tensor([[-0.0025],\n",
      "        [-0.0269],\n",
      "        [-0.0603],\n",
      "        [ 0.0316],\n",
      "        [ 0.0209],\n",
      "        [-0.0042],\n",
      "        [-0.1013],\n",
      "        [ 0.0998],\n",
      "        [-0.0278],\n",
      "        [ 0.0090]])\n",
      "tensor([-0.0002, -0.0492, -0.1253,  0.0611,  0.0366, -0.0085, -0.1619,  0.1576,\n",
      "        -0.0473,  0.0193])\n",
      "tensor([[-7.9391e-02,  4.1486e-02,  1.8631e-01, -8.4248e-02,  1.5287e-01,\n",
      "          1.4612e-01, -1.6312e-01, -1.1848e-01, -1.4147e-02,  1.4003e-01],\n",
      "        [ 1.5222e-01, -7.9890e-02, -3.5731e-01,  1.6211e-01, -2.9303e-01,\n",
      "         -2.8017e-01,  3.1240e-01,  2.2670e-01,  2.7639e-02, -2.6873e-01],\n",
      "        [-3.0499e-02,  1.5862e-02,  7.1569e-02, -3.2255e-02,  5.8745e-02,\n",
      "          5.6135e-02, -6.2753e-02, -4.5636e-02, -5.3192e-03,  5.3756e-02],\n",
      "        [-3.2330e-03,  1.4778e-03,  7.5527e-03, -3.1044e-03,  6.2693e-03,\n",
      "          5.9477e-03, -6.8743e-03, -5.1387e-03, -2.5694e-04,  5.5753e-03],\n",
      "        [-7.7429e-02,  3.8791e-02,  1.8143e-01, -7.9583e-02,  1.4944e-01,\n",
      "          1.4249e-01, -1.6091e-01, -1.1802e-01, -1.1281e-02,  1.3556e-01],\n",
      "        [-1.2723e-01,  6.5785e-02,  2.9846e-01, -1.3394e-01,  2.4513e-01,\n",
      "          2.3415e-01, -2.6217e-01, -1.9090e-01, -2.1620e-02,  2.2399e-01],\n",
      "        [-5.9745e-02,  3.0063e-02,  1.4003e-01, -6.1625e-02,  1.1528e-01,\n",
      "          1.0995e-01, -1.2403e-01, -9.0889e-02, -8.8986e-03,  1.0469e-01],\n",
      "        [-1.3154e-01,  6.7261e-02,  3.0858e-01, -1.3746e-01,  2.5360e-01,\n",
      "          2.4210e-01, -2.7198e-01, -1.9869e-01, -2.1170e-02,  2.3125e-01],\n",
      "        [-1.6812e-01,  8.5097e-02,  3.9408e-01, -1.7415e-01,  3.2429e-01,\n",
      "          3.0938e-01, -3.4843e-01, -2.5496e-01, -2.5807e-02,  2.9487e-01],\n",
      "        [-1.4509e-01,  7.2149e-02,  3.3989e-01, -1.4829e-01,  2.8015e-01,\n",
      "          2.6700e-01, -3.0212e-01, -2.2195e-01, -2.0325e-02,  2.5370e-01]])\n",
      "tensor([ 0.2682, -0.5139,  0.1031,  0.0111,  0.2629,  0.4303,  0.2027,  0.4455,\n",
      "         0.5701,  0.4931])\n",
      "tensor([[ 0.2850, -0.2141,  0.1216,  1.1386,  0.5832, -0.8536,  0.3688,  0.1149,\n",
      "         -0.3697,  1.0710]])\n",
      "tensor([-2.2824])\n"
     ]
    }
   ],
   "source": [
    "y_pred = model.forward(x)\n",
    "loss = loss_func(y, y_pred)\n",
    "loss.backward()\n",
    "\n",
    "for param in model.parameters():\n",
    "    print(param.grad)"
   ]
  },
  {
   "cell_type": "code",
   "execution_count": null,
   "metadata": {},
   "outputs": [],
   "source": []
  }
 ],
 "metadata": {
  "kernelspec": {
   "display_name": "env_qiskit",
   "language": "python",
   "name": "env_qiskit"
  },
  "language_info": {
   "codemirror_mode": {
    "name": "ipython",
    "version": 3
   },
   "file_extension": ".py",
   "mimetype": "text/x-python",
   "name": "python",
   "nbconvert_exporter": "python",
   "pygments_lexer": "ipython3",
   "version": "3.8.5"
  }
 },
 "nbformat": 4,
 "nbformat_minor": 2
}
