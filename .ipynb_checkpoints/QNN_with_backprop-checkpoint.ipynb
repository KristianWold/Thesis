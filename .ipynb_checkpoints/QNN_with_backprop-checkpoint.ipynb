{
 "cells": [
  {
   "cell_type": "code",
   "execution_count": 86,
   "metadata": {},
   "outputs": [
    {
     "name": "stdout",
     "output_type": "stream",
     "text": [
      "The autoreload extension is already loaded. To reload it, use:\n",
      "  %reload_ext autoreload\n"
     ]
    }
   ],
   "source": [
    "import numpy as np\n",
    "import qiskit as qk\n",
    "import matplotlib.pyplot as plt\n",
    "from qiskit import Aer\n",
    "from utils.dnn import *\n",
    "from utils.data_encoders import *\n",
    "%matplotlib inline\n",
    "%load_ext autoreload\n",
    "%autoreload 2"
   ]
  },
  {
   "cell_type": "markdown",
   "metadata": {},
   "source": [
    "## QNN"
   ]
  },
  {
   "cell_type": "code",
   "execution_count": 88,
   "metadata": {},
   "outputs": [],
   "source": [
    "np.random.seed(42)\n",
    "backend = Aer.get_backend('qasm_simulator')\n",
    "\n",
    "layer1 = Layer(n_inputs=1, n_outputs=1, ansatz=Ansatz(), backend=backend, shots=3000)\n",
    "layers = [layer1]\n",
    "network = QNN(layers)"
   ]
  },
  {
   "cell_type": "code",
   "execution_count": 91,
   "metadata": {},
   "outputs": [
    {
     "name": "stdout",
     "output_type": "stream",
     "text": [
      "[0.29333333]\n",
      "[0.30933333]\n",
      "[0.30733333]\n",
      "[0.29766667]\n",
      "[0.295]\n",
      "[0.309]\n",
      "[0.303]\n",
      "[0.297]\n",
      "[0.30533333]\n",
      "[0.31933333]\n",
      "[0.29166667]\n",
      "[0.28633333]\n",
      "[0.29566667]\n",
      "[0.29833333]\n",
      "[0.295]\n",
      "[0.301]\n",
      "[0.28566667]\n",
      "[0.307]\n",
      "[0.29366667]\n",
      "[0.3]\n",
      "[0.30066667]\n",
      "[0.30333333]\n",
      "[0.308]\n",
      "[0.29833333]\n",
      "[0.30233333]\n",
      "[0.3]\n",
      "[0.288]\n",
      "[0.319]\n",
      "[0.30233333]\n",
      "[0.301]\n",
      "[0.30666667]\n",
      "[0.288]\n",
      "[0.305]\n",
      "[0.30233333]\n",
      "[0.289]\n",
      "[0.30466667]\n",
      "[0.30733333]\n",
      "[0.29366667]\n",
      "[0.29833333]\n",
      "[0.30266667]\n",
      "[0.29866667]\n",
      "[0.29833333]\n",
      "[0.299]\n",
      "[0.30466667]\n",
      "[0.29566667]\n",
      "[0.30766667]\n",
      "[0.293]\n",
      "[0.298]\n",
      "[0.30433333]\n",
      "[0.30166667]\n"
     ]
    }
   ],
   "source": [
    "network = QNN(layers)\n",
    "for i in range(5):\n",
    "    weight_gradients = network.backprop(np.array([0]), 0.3)\n",
    "    y1 = network.a[-1]\n",
    "    #weight_gradients2 = network.backprop(np.array([0.5]), 0.7)\n",
    "    #y2 = network.a[-1]\n",
    "    \n",
    "    #weight_gradients = [(w1+w2)/2 for w1, w2 in zip(weight_gradients1, weight_gradients2)]\n",
    "\n",
    "    print(y1)\n",
    "    network.update(weight_gradients, 0.5)"
   ]
  },
  {
   "cell_type": "code",
   "execution_count": 92,
   "metadata": {},
   "outputs": [
    {
     "name": "stdout",
     "output_type": "stream",
     "text": [
      "[[0.99189405]\n",
      " [2.98743339]]\n"
     ]
    }
   ],
   "source": [
    "print(layer1.weights)"
   ]
  },
  {
   "cell_type": "code",
   "execution_count": null,
   "metadata": {},
   "outputs": [],
   "source": []
  }
 ],
 "metadata": {
  "kernelspec": {
   "display_name": "qiskit",
   "language": "python",
   "name": "qiskit"
  },
  "language_info": {
   "codemirror_mode": {
    "name": "ipython",
    "version": 3
   },
   "file_extension": ".py",
   "mimetype": "text/x-python",
   "name": "python",
   "nbconvert_exporter": "python",
   "pygments_lexer": "ipython3",
   "version": "3.8.5"
  }
 },
 "nbformat": 4,
 "nbformat_minor": 4
}
