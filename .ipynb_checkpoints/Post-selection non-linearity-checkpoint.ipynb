{
 "cells": [
  {
   "cell_type": "code",
   "execution_count": 1,
   "metadata": {},
   "outputs": [],
   "source": [
    "import numpy as np\n",
    "import qiskit as qk\n",
    "import matplotlib.pyplot as plt\n",
    "from qiskit import Aer\n",
    "from src.dnn import *\n",
    "from src.data_encoders import *\n",
    "%matplotlib inline\n",
    "%load_ext autoreload\n",
    "%autoreload 2"
   ]
  },
  {
   "cell_type": "markdown",
   "metadata": {},
   "source": [
    "## Post selection non-linearity"
   ]
  },
  {
   "cell_type": "code",
   "execution_count": 2,
   "metadata": {},
   "outputs": [],
   "source": [
    "def non_linearity(x, weights, shots=1000):\n",
    "    n = weights.shape[0]\n",
    "    \n",
    "    storage = qk.QuantumRegister(n, name=\"storage\")\n",
    "    clas_reg = qk.ClassicalRegister(2, name=\"clas_reg\")\n",
    "    registers = [storage, clas_reg]\n",
    "    circuit = qk.QuantumCircuit(*registers)\n",
    "\n",
    "    circuit.ry(x, storage[0])\n",
    "    circuit.barrier()\n",
    "\n",
    "    for i in range(n - 1):\n",
    "        circuit.cx(storage[i], storage[i + 1])\n",
    "\n",
    "    circuit.barrier()\n",
    "\n",
    "    for i, w in enumerate(weights):\n",
    "        circuit.ry(2*w, storage[i])\n",
    "\n",
    "    circuit.barrier()    \n",
    "\n",
    "    for i in range(n - 1):\n",
    "        circuit.cx(storage[i], storage[i + 1])\n",
    "\n",
    "    circuit.measure(storage[-2:], clas_reg)\n",
    "    \n",
    "    job = qk.execute(circuit, backend, shots=shots)\n",
    "    result = job.result()\n",
    "    counts = result.get_counts(circuit)\n",
    "    \n",
    "    states = [\"00\", \"01\", \"10\", \"11\"]\n",
    "    \n",
    "    for state in states:\n",
    "        if state not in counts:\n",
    "            counts[state] = 0\n",
    "        \n",
    "    return (counts[\"11\"])/(counts[\"01\"] + counts[\"11\"]), (counts[\"01\"] + counts[\"11\"])/shots, circuit\n",
    "\n",
    "\n",
    "def gradient(x, y, weights):\n",
    "    n = weights.shape[0]\n",
    "    gradient = np.zeros(weights.shape)\n",
    "    \n",
    "    for i in range(n): \n",
    "        A, B, _ = non_linearity(x, weights, shots=1000)\n",
    "        weights[i] +=np.pi/4\n",
    "        c, d, _ = non_linearity(x, weights, shots=1000)\n",
    "        weights[i] -=np.pi/2\n",
    "        e, f, _ = non_linearity(x, weights, shots=1000)\n",
    "        weights[i] +=np.pi/4\n",
    "\n",
    "        C = 0.5*(c-e)\n",
    "        D = 0.5*(d-f)\n",
    "        \n",
    "        gradient = C - 0.5*A*D/B\n",
    "        \n",
    "        gradient = (A - y)*gradient\n",
    "\n",
    "    \n",
    "    return gradient\n",
    "    "
   ]
  },
  {
   "cell_type": "code",
   "execution_count": 3,
   "metadata": {},
   "outputs": [],
   "source": [
    "np.random.seed(42)\n",
    "backend = Aer.get_backend('qasm_simulator')\n",
    "n = 6\n",
    "weights = np.random.uniform(0, np.pi, n)\n",
    "x = np.array([0, 0.2, 0.4])\n",
    "y = np.array([0.3, 0.7, 0.2])\n"
   ]
  },
  {
   "cell_type": "code",
   "execution_count": 4,
   "metadata": {},
   "outputs": [
    {
     "name": "stdout",
     "output_type": "stream",
     "text": [
      "[0.780343617217809, 0.7685532233883059, 0.7432584269662922]\n",
      "[0.762015503875969, 0.7577300150829562, 0.7369020501138952]\n",
      "[0.7467163301313468, 0.7399882789607345, 0.6998811410459588]\n",
      "[0.7363153594771242, 0.7201426024955436, 0.7019365142743063]\n",
      "[0.7180119120969398, 0.6944104447164423, 0.6821205402136666]\n",
      "[0.6982649174777825, 0.6809140922556073, 0.6686898283800753]\n",
      "[0.6713952995977133, 0.6724137931034483, 0.6525278491859469]\n",
      "[0.6551648831622625, 0.6611479028697572, 0.6348389982110912]\n",
      "[0.6415708396615318, 0.6532663316582915, 0.6359973136333109]\n",
      "[0.6389586663621831, 0.6288613303269448, 0.6271910112359551]\n",
      "[0.5996769727734195, 0.6193194793331811, 0.6026959104409413]\n",
      "[0.6031929662193429, 0.5999535639656374, 0.58203125]\n",
      "[0.57756618671621, 0.5794283036551078, 0.5651255573808965]\n",
      "[0.5718683400426238, 0.5664319248826291, 0.5789351851851852]\n",
      "[0.5466440513690332, 0.5501446480231437, 0.5485714285714286]\n",
      "[0.5366768221232716, 0.545583372697213, 0.5482873453853473]\n",
      "[0.5206088992974239, 0.5543402373749128, 0.5277511961722487]\n",
      "[0.5205609698122178, 0.5330666039068016, 0.5171001926782274]\n",
      "[0.5185185185185185, 0.525160982590031, 0.5118336122400191]\n",
      "[0.4983459357277883, 0.49789227166276345, 0.5223450264296011]\n",
      "[0.48315665488810366, 0.4926487747957993, 0.5271573007288972]\n",
      "[0.4983285577841452, 0.49558550185873607, 0.4850104578201255]\n",
      "[0.4833178869323448, 0.4734892336188933, 0.4908246225319396]\n",
      "[0.4703623710103192, 0.47730463266261114, 0.4956059204440333]\n",
      "[0.48212199111942045, 0.4704779756326148, 0.49399576171415116]\n",
      "[0.45695056857739613, 0.4597516099356026, 0.4898393194706994]\n",
      "[0.45882077678989236, 0.4734533702677747, 0.45588904047294226]\n",
      "[0.4561647004395096, 0.4554478301015697, 0.4654772937905468]\n",
      "[0.44408427876823336, 0.46997206703910616, 0.4489843028624192]\n",
      "[0.44024867603039375, 0.4516353514265832, 0.46119261713203974]\n",
      "[0.4322386679000925, 0.4436313743425566, 0.44317140238313474]\n",
      "[0.4508736101656456, 0.45358455882352944, 0.45614035087719296]\n",
      "[0.430222020842773, 0.43867707854846116, 0.4572413793103448]\n",
      "[0.43709058052857463, 0.439615736505032, 0.44361073215097774]\n",
      "[0.4377111962153638, 0.43380151968685243, 0.44173873463814295]\n",
      "[0.43838702410452807, 0.4356035064059339, 0.4382479114924362]\n",
      "[0.4283166109253066, 0.4384, 0.43176234085324994]\n",
      "[0.4168387244780913, 0.4425569959767546, 0.45001149161112386]\n",
      "[0.4284426414243859, 0.4369020501138952, 0.44601571268237933]\n",
      "[0.4325153374233129, 0.4385684978345111, 0.4285067873303167]\n",
      "[0.42962796952039445, 0.42953929539295393, 0.4217109671655126]\n",
      "[0.41524663677130047, 0.41480637813211846, 0.432154052843708]\n",
      "[0.4169790518191841, 0.41775574583145564, 0.4325969341749324]\n",
      "[0.40771288452964777, 0.42257920571173585, 0.4297315587638168]\n",
      "[0.421483942414175, 0.4269018743109151, 0.4310500225326724]\n",
      "[0.4217747289223279, 0.41209915851717077, 0.4203125]\n",
      "[0.4117913832199546, 0.4277456647398844, 0.42614525139664805]\n",
      "[0.4213175749616984, 0.4241695804195804, 0.41532618409294014]\n",
      "[0.418630017452007, 0.4091112103617687, 0.43273691186216034]\n",
      "[0.40238954012623984, 0.4162976085031001, 0.4125441696113074]\n"
     ]
    }
   ],
   "source": [
    "grad = np.zeros(weights.shape)\n",
    "m = x.shape[0]\n",
    "\n",
    "for i in range(50):\n",
    "    y_pred = []\n",
    "    \n",
    "    for x_, y_ in zip(x,y):\n",
    "        grad += gradient(x_, y_, weights)\n",
    "        y_pred.append(non_linearity(x_, weights, shots=10000)[0])\n",
    "    \n",
    "    grad = grad/m \n",
    "    \n",
    "    weights += -0.1*grad\n",
    "    print(y_pred)"
   ]
  },
  {
   "cell_type": "code",
   "execution_count": 5,
   "metadata": {},
   "outputs": [
    {
     "ename": "NameError",
     "evalue": "name 'circuit' is not defined",
     "output_type": "error",
     "traceback": [
      "\u001b[1;31m---------------------------------------------------------------------------\u001b[0m",
      "\u001b[1;31mNameError\u001b[0m                                 Traceback (most recent call last)",
      "\u001b[1;32m<ipython-input-5-4730289f0c1e>\u001b[0m in \u001b[0;36m<module>\u001b[1;34m\u001b[0m\n\u001b[1;32m----> 1\u001b[1;33m \u001b[0mprint\u001b[0m\u001b[1;33m(\u001b[0m\u001b[0mcircuit\u001b[0m\u001b[1;33m)\u001b[0m\u001b[1;33m\u001b[0m\u001b[1;33m\u001b[0m\u001b[0m\n\u001b[0m",
      "\u001b[1;31mNameError\u001b[0m: name 'circuit' is not defined"
     ]
    }
   ],
   "source": [
    "y_pred, y_anc, circuit = non_linearity(0.3, weights, shots=10000)\n",
    "print(y_pred, y_anc)\n",
    "print(circuit)"
   ]
  },
  {
   "cell_type": "code",
   "execution_count": null,
   "metadata": {},
   "outputs": [],
   "source": []
  }
 ],
 "metadata": {
  "kernelspec": {
   "display_name": "qiskit",
   "language": "python",
   "name": "qiskit"
  },
  "language_info": {
   "codemirror_mode": {
    "name": "ipython",
    "version": 3
   },
   "file_extension": ".py",
   "mimetype": "text/x-python",
   "name": "python",
   "nbconvert_exporter": "python",
   "pygments_lexer": "ipython3",
   "version": "3.8.5"
  }
 },
 "nbformat": 4,
 "nbformat_minor": 4
}
