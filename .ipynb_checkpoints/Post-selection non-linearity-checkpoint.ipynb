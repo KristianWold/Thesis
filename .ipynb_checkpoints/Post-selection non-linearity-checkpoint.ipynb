{
 "cells": [
  {
   "cell_type": "code",
   "execution_count": 20,
   "metadata": {},
   "outputs": [
    {
     "name": "stdout",
     "output_type": "stream",
     "text": [
      "The autoreload extension is already loaded. To reload it, use:\n",
      "  %reload_ext autoreload\n"
     ]
    }
   ],
   "source": [
    "import numpy as np\n",
    "import qiskit as qk\n",
    "import matplotlib.pyplot as plt\n",
    "from qiskit import Aer\n",
    "from utils.dnn import *\n",
    "from utils.data_encoders import *\n",
    "%matplotlib inline\n",
    "%load_ext autoreload\n",
    "%autoreload 2"
   ]
  },
  {
   "cell_type": "markdown",
   "metadata": {},
   "source": [
    "## Post selection non-linearity"
   ]
  },
  {
   "cell_type": "code",
   "execution_count": 21,
   "metadata": {},
   "outputs": [],
   "source": [
    "def non_linearity(x, weights, shots=1000):\n",
    "    n = weights.shape[0]\n",
    "    \n",
    "    storage = qk.QuantumRegister(n, name=\"storage\")\n",
    "    ancilla = qk.QuantumRegister(1, name=\"ancilla\")\n",
    "    clas_reg = qk.ClassicalRegister(2, name=\"clas_reg\")\n",
    "    registers = [storage, ancilla, clas_reg]\n",
    "    circuit = qk.QuantumCircuit(*registers)\n",
    "\n",
    "    circuit.ry(x, storage[0])\n",
    "    circuit.barrier()\n",
    "\n",
    "    for i in range(n - 1):\n",
    "        circuit.cx(storage[i], storage[i + 1])\n",
    "\n",
    "    circuit.barrier()\n",
    "\n",
    "    for i, w in enumerate(weights):\n",
    "        circuit.ry(2*w, storage[i])\n",
    "\n",
    "    circuit.barrier()    \n",
    "\n",
    "    for i in range(n - 1):\n",
    "        circuit.cx(storage[i], storage[i + 1])\n",
    "\n",
    "    circuit.barrier()\n",
    "    circuit.mcrx(np.pi, storage[:-1], ancilla[0])\n",
    "    circuit.barrier()\n",
    "\n",
    "    circuit.measure([storage[-1], ancilla[0]], clas_reg)\n",
    "    \n",
    "    job = qk.execute(circuit, backend, shots=1000)\n",
    "    result = job.result()\n",
    "    counts = result.get_counts(circuit)\n",
    "    \n",
    "    states = [\"00\", \"01\", \"10\", \"11\"]\n",
    "    \n",
    "    for state in states:\n",
    "        if state not in counts:\n",
    "            counts[state] = 0\n",
    "        \n",
    "    return np.sqrt((counts[\"10\"] + counts[\"11\"])/shots), np.sqrt((counts[\"11\"])/(counts[\"01\"] + counts[\"11\"]))"
   ]
  },
  {
   "cell_type": "code",
   "execution_count": 22,
   "metadata": {},
   "outputs": [],
   "source": [
    "np.random.seed(42)\n",
    "backend = Aer.get_backend('qasm_simulator')\n",
    "\n",
    "n = 3\n",
    "weights = np.random.uniform(0, np.pi, n)"
   ]
  },
  {
   "cell_type": "code",
   "execution_count": 23,
   "metadata": {},
   "outputs": [],
   "source": [
    "X = np.linspace(0, np.pi, 30)\n",
    "Y1 = []\n",
    "Y2 = []\n",
    "for x in X:\n",
    "    y1, y2 = non_linearity(x, weights, shots=10000)\n",
    "    Y1.append(y1)\n",
    "    Y2.append(y2)"
   ]
  },
  {
   "cell_type": "code",
   "execution_count": 19,
   "metadata": {},
   "outputs": [
    {
     "data": {
      "image/png": "[encoded data removed]",
      "text/plain": [
       "<Figure size 432x288 with 1 Axes>"
      ]
     },
     "metadata": {
      "needs_background": "light"
     },
     "output_type": "display_data"
    }
   ],
   "source": [
    "plt.plot(X,Y1)\n",
    "plt.plot(X,Y2)\n",
    "plt.show()"
   ]
  },
  {
   "cell_type": "code",
   "execution_count": null,
   "metadata": {},
   "outputs": [],
   "source": []
  }
 ],
 "metadata": {
  "kernelspec": {
   "display_name": "qiskit",
   "language": "python",
   "name": "qiskit"
  },
  "language_info": {
   "codemirror_mode": {
    "name": "ipython",
    "version": 3
   },
   "file_extension": ".py",
   "mimetype": "text/x-python",
   "name": "python",
   "nbconvert_exporter": "python",
   "pygments_lexer": "ipython3",
   "version": "3.8.5"
  }
 },
 "nbformat": 4,
 "nbformat_minor": 4
}
