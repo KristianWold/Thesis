{
 "cells": [
  {
   "cell_type": "code",
   "execution_count": 18,
   "metadata": {},
   "outputs": [
    {
     "name": "stdout",
     "output_type": "stream",
     "text": [
      "The autoreload extension is already loaded. To reload it, use:\n",
      "  %reload_ext autoreload\n"
     ]
    }
   ],
   "source": [
    "import numpy as np\n",
    "import torch\n",
    "import torch.nn as nn\n",
    "import qiskit as qk\n",
    "import matplotlib.pyplot as plt\n",
    "from qiskit import Aer\n",
    "from src.dnn import *\n",
    "from tqdm.notebook import tqdm\n",
    "#%matplotlib notebook\n",
    "%matplotlib inline\n",
    "%load_ext autoreload\n",
    "%autoreload 2"
   ]
  },
  {
   "cell_type": "code",
   "execution_count": null,
   "metadata": {},
   "outputs": [],
   "source": [
    "n = 100\n",
    "backend = Aer.get_backend('qasm_simulator')\n",
    "np.random.seed(42)\n",
    "\n",
    "grad1_list_width = []\n",
    "grad2_list_width = []\n",
    "for i in tqdm(range(3, 20)):\n",
    "    grad1 = 0\n",
    "    grad2 = 0\n",
    "    for j in tqdm(range(n), leave=False):    \n",
    "        network = sequential([3, i, 1], backend)\n",
    "        network.backward(x, y)\n",
    "\n",
    "        grad1 += np.mean(np.abs(network.weight_gradient_list[0][0]))\n",
    "        grad2 += np.mean(np.abs(network.weight_gradient_list[0][-1]))\n",
    "    \n",
    "    grad1 /= n\n",
    "    grad2 /= n\n",
    "    grad1_list_width.append(grad1)\n",
    "    grad2_list_width.append(grad2)"
   ]
  },
  {
   "cell_type": "code",
   "execution_count": null,
   "metadata": {},
   "outputs": [],
   "source": [
    "plt.plot(np.log(np.array(grad1_list_width)))\n",
    "plt.plot(np.log(np.array(grad2_list_width)))\n",
    "plt.show()"
   ]
  },
  {
   "cell_type": "code",
   "execution_count": null,
   "metadata": {},
   "outputs": [],
   "source": [
    "n = 100\n",
    "backend = Aer.get_backend('qasm_simulator')\n",
    "np.random.seed(42)\n",
    "\n",
    "\n",
    "grad_list_depth = []\n",
    "for i in tqdm(range(1, 20)):\n",
    "    grad = 0\n",
    "    dim = [3] + i*[3] + [1]\n",
    "    for j in tqdm(range(n), leave=False):\n",
    "        \n",
    "        network = sequential(dim, backend, shots=1000)\n",
    "        network.backward(x, y)\n",
    "\n",
    "        grad += np.abs(network.weight_gradient_list[0][0])\n",
    "    \n",
    "    grad /= n\n",
    "    grad_list_depth.append(grad)"
   ]
  },
  {
   "cell_type": "code",
   "execution_count": null,
   "metadata": {},
   "outputs": [],
   "source": [
    "plt.plot(grad_list_depth)\n",
    "plt.show()"
   ]
  },
  {
   "cell_type": "code",
   "execution_count": null,
   "metadata": {},
   "outputs": [
    {
     "data": {
      "application/vnd.jupyter.widget-view+json": {
       "model_id": "0226601eb769403c8adce3c951e9f486",
       "version_major": 2,
       "version_minor": 0
      },
      "text/plain": [
       "HBox(children=(HTML(value=''), FloatProgress(value=0.0, max=7.0), HTML(value='')))"
      ]
     },
     "metadata": {},
     "output_type": "display_data"
    },
    {
     "data": {
      "application/vnd.jupyter.widget-view+json": {
       "model_id": "",
       "version_major": 2,
       "version_minor": 0
      },
      "text/plain": [
       "HBox(children=(HTML(value=''), FloatProgress(value=0.0, max=10.0), HTML(value='')))"
      ]
     },
     "metadata": {},
     "output_type": "display_data"
    },
    {
     "data": {
      "application/vnd.jupyter.widget-view+json": {
       "model_id": "13044e86ac3743baa9a3e001c4beedf8",
       "version_major": 2,
       "version_minor": 0
      },
      "text/plain": [
       "HBox(children=(HTML(value=''), FloatProgress(value=0.0, max=10.0), HTML(value='')))"
      ]
     },
     "metadata": {},
     "output_type": "display_data"
    }
   ],
   "source": [
    "n = 10\n",
    "backend = Aer.get_backend('qasm_simulator')\n",
    "np.random.seed(42)\n",
    "\n",
    "y = np.array([[0]])\n",
    "grad_list_reps = []\n",
    "\n",
    "for i in tqdm(range(3, 10)):\n",
    "    x = np.array([i*[np.pi/8]])\n",
    "    grad = 0\n",
    "    for j in tqdm(range(n), leave=False):    \n",
    "        network = sequential([i, 1], backend, reps = 3, shots = 10000)\n",
    "        network.backward(x, y)\n",
    "        grad += np.abs(network.weight_gradient_list[0])\n",
    "    \n",
    "    grad /= n\n",
    "    grad_list_reps.append(grad)"
   ]
  },
  {
   "cell_type": "code",
   "execution_count": 40,
   "metadata": {},
   "outputs": [],
   "source": [
    "grad_list_reps_sub = []\n",
    "for i, j in enumerate(range(3, 10)):\n",
    "    grad_list_reps_sub.append([grad_list_reps[i][0][0][0], grad_list_reps[i][0][j][0], grad_list_reps[i][0][2*j][0]])"
   ]
  },
  {
   "cell_type": "code",
   "execution_count": 42,
   "metadata": {},
   "outputs": [
    {
     "data": {
      "image/png": "[encoded data removed]",
      "text/plain": [
       "<Figure size 432x288 with 1 Axes>"
      ]
     },
     "metadata": {
      "needs_background": "light"
     },
     "output_type": "display_data"
    }
   ],
   "source": [
    "plt.plot(grad_list_reps_sub)\n",
    "plt.show()"
   ]
  },
  {
   "cell_type": "code",
   "execution_count": null,
   "metadata": {},
   "outputs": [],
   "source": []
  }
 ],
 "metadata": {
  "kernelspec": {
   "display_name": "qiskit",
   "language": "python",
   "name": "qiskit"
  },
  "language_info": {
   "codemirror_mode": {
    "name": "ipython",
    "version": 3
   },
   "file_extension": ".py",
   "mimetype": "text/x-python",
   "name": "python",
   "nbconvert_exporter": "python",
   "pygments_lexer": "ipython3",
   "version": "3.8.5"
  }
 },
 "nbformat": 4,
 "nbformat_minor": 4
}
