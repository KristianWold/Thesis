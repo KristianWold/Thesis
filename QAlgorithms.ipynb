{
 "cells": [
  {
   "cell_type": "code",
   "execution_count": 8,
   "metadata": {},
   "outputs": [],
   "source": [
    "import numpy as np\n",
    "import qiskit as qk\n",
    "from qiskit import Aer\n",
    "from math import ceil\n",
    "%matplotlib inline"
   ]
  },
  {
   "cell_type": "code",
   "execution_count": 34,
   "metadata": {},
   "outputs": [],
   "source": [
    "def amplitude_encoding(x):\n",
    "    M, N = x.shape\n",
    "    x = x.reshape(-1,)\n",
    "    x = x/np.sqrt(np.sum(np.abs(x)**2))\n",
    "    \n",
    "    reg = qk.QuantumRegister(np.log2(M*N))\n",
    "    circuit = qk.QuantumCircuit(reg)\n",
    "    \n",
    "    circuit.ry()\n",
    "    \n",
    "    "
   ]
  },
  {
   "cell_type": "code",
   "execution_count": 35,
   "metadata": {},
   "outputs": [
    {
     "name": "stdout",
     "output_type": "stream",
     "text": [
      "[0.61780206 0.24712083 0.67958227 0.30890103]\n"
     ]
    }
   ],
   "source": [
    "x = np.array([[10,4],[11,5]])\n",
    "amplitude_encoding(x)"
   ]
  },
  {
   "cell_type": "code",
   "execution_count": 2,
   "metadata": {},
   "outputs": [],
   "source": [
    "def basis_encoding(x):\n",
    "    M,N = x.shape\n",
    "    clas_reg = qk.ClassicalRegister(N)\n",
    "    loading_reg = qk.QuantumRegister(N, name = \"loading\")\n",
    "    storage_reg = qk.QuantumRegister(N, name = \"storage\")\n",
    "    ancillas = qk.QuantumRegister(N, name = \"ancillas\")\n",
    "    branches = qk.QuantumRegister(2, name = \"branches\")\n",
    "    \n",
    "    \n",
    "    circuit = qk.QuantumCircuit(clas_reg, loading_reg, storage_reg, ancillas, branches)\n",
    "    circuit.x(branches[1])\n",
    "\n",
    "    \n",
    "    for i in range(M):\n",
    "        for j in range(N):\n",
    "            if x[i,j] == 1:\n",
    "                circuit.x(loading_reg[j])\n",
    "                circuit.cx(branches[1], storage_reg[j])\n",
    "        \n",
    "        \n",
    "        circuit.cx(branches[1], branches[0])\n",
    "        theta = -1/np.sqrt(M-i)\n",
    "        circuit.cry(2*np.arcsin(theta), branches[0], branches[1])\n",
    "        \n",
    "        circuit.toffoli(loading_reg, storage_reg, ancillas)\n",
    "        circuit.x(loading_reg)\n",
    "        circuit.x(storage_reg)\n",
    "        circuit.toffoli(loading_reg, storage_reg, ancillas)\n",
    "        \n",
    "        circuit.mcx(ancillas, branches[0])\n",
    "        \n",
    "        circuit.toffoli(loading_reg, storage_reg, ancillas)\n",
    "        circuit.x(loading_reg)\n",
    "        circuit.x(storage_reg)\n",
    "        circuit.toffoli(loading_reg, storage_reg, ancillas)\n",
    "\n",
    "        \n",
    "        for j in range(N):\n",
    "            if x[i,j] == 1:\n",
    "                circuit.x(loading_reg[j])\n",
    "                circuit.cx(branches[1], storage_reg[j])\n",
    "\n",
    "    circuit.measure(storage_reg, clas_reg)\n",
    "    return circuit"
   ]
  },
  {
   "cell_type": "code",
   "execution_count": 4,
   "metadata": {
    "scrolled": true
   },
   "outputs": [
    {
     "name": "stdout",
     "output_type": "stream",
     "text": [
      "{'001': 159, '010': 182, '011': 157, '100': 170, '110': 171, '111': 185}\n"
     ]
    }
   ],
   "source": [
    "backend = Aer.get_backend('qasm_simulator')\n",
    "#backend = Aer.get_backend('statevector_simulator')\n",
    "\n",
    "x = np.array([[1,0,0], [0,1,0], [0,0,1], [1,1,0], [0,1,1], [1,1,1]])\n",
    "\n",
    "circuit = basis_encoding(x)\n",
    "circuit.draw()\n",
    "\n",
    "job = qk.execute(circuit, backend)\n",
    "result = job.result()\n",
    "print(result.get_counts(circuit))"
   ]
  },
  {
   "cell_type": "code",
   "execution_count": null,
   "metadata": {},
   "outputs": [],
   "source": []
  }
 ],
 "metadata": {
  "kernelspec": {
   "display_name": "env_qiskit",
   "language": "python",
   "name": "env_qiskit"
  },
  "language_info": {
   "codemirror_mode": {
    "name": "ipython",
    "version": 3
   },
   "file_extension": ".py",
   "mimetype": "text/x-python",
   "name": "python",
   "nbconvert_exporter": "python",
   "pygments_lexer": "ipython3",
   "version": "3.8.5"
  }
 },
 "nbformat": 4,
 "nbformat_minor": 4
}
