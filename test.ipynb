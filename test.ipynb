{
 "cells": [
  {
   "cell_type": "code",
   "execution_count": 1,
   "metadata": {},
   "outputs": [],
   "source": [
    "import numpy as np\n",
    "import qiskit as qk\n",
    "from qiskit import Aer\n",
    "%matplotlib inline"
   ]
  },
  {
   "cell_type": "code",
   "execution_count": 2,
   "metadata": {},
   "outputs": [],
   "source": [
    "x = np.array([[1,0,1,0]])"
   ]
  },
  {
   "cell_type": "code",
   "execution_count": null,
   "metadata": {},
   "outputs": [],
   "source": [
    "backend = Aer.get_backend(\"statevector_simulator\")\n",
    "\n",
    "def basis_encoding(x):\n",
    "    M,N = x.shape\n",
    "    clas_reg = qk.QuantumRegister(N)\n",
    "    loading_reg = qk.QuantumRegister(N)\n",
    "    storage_reg = qk.QuantumRegister(N)\n",
    "    ancillae = qk.QuantumRegister(2)\n",
    "    \n",
    "    circuit = qk.QuantumCircuit(classical_reg, loading_reg, storage_reg, ancillae)\n",
    "    \n",
    "    for i in range(M):\n",
    "        circuit.cx(x[i], loading_reg)"
   ]
  },
  {
   "cell_type": "code",
   "execution_count": null,
   "metadata": {},
   "outputs": [],
   "source": [
    "basis_encoding(x)"
   ]
  },
  {
   "cell_type": "code",
   "execution_count": 6,
   "metadata": {},
   "outputs": [
    {
     "name": "stdout",
     "output_type": "stream",
     "text": [
      "QuantumRegister(3, 'q3')\n"
     ]
    }
   ],
   "source": [
    "reg1 = qk.QuantumRegister(3)\n",
    "circuit2 = qk.QuantumCircuit(reg1)\n",
    "circuit2.h(reg1)\n",
    "print(reg1)"
   ]
  }
 ],
 "metadata": {
  "kernelspec": {
   "display_name": "env_qiskit",
   "language": "python",
   "name": "env_qiskit"
  },
  "language_info": {
   "codemirror_mode": {
    "name": "ipython",
    "version": 3
   },
   "file_extension": ".py",
   "mimetype": "text/x-python",
   "name": "python",
   "nbconvert_exporter": "python",
   "pygments_lexer": "ipython3",
   "version": "3.8.5"
  }
 },
 "nbformat": 4,
 "nbformat_minor": 4
}
