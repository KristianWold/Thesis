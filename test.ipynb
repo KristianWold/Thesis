{
 "cells": [
  {
   "cell_type": "code",
   "execution_count": 7,
   "metadata": {},
   "outputs": [],
   "source": [
    "import numpy as np\n",
    "import qiskit as qk\n",
    "from qiskit import Aer\n",
    "%matplotlib inline"
   ]
  },
  {
   "cell_type": "code",
   "execution_count": 8,
   "metadata": {},
   "outputs": [],
   "source": [
    "def basis_encoding(x):\n",
    "    M,N = x.shape\n",
    "    clas_reg = qk.ClassicalRegister(N)\n",
    "    loading_reg = qk.QuantumRegister(N, name = \"loading\")\n",
    "    storage_reg = qk.QuantumRegister(N, name = \"storage\")\n",
    "    ancillas = qk.QuantumRegister(N, name = \"ancillas\")\n",
    "    branches = qk.QuantumRegister(2, name = \"branches\")\n",
    "    \n",
    "    \n",
    "    circuit = qk.QuantumCircuit(clas_reg, loading_reg, storage_reg, ancillas, branches)\n",
    "    circuit.x(branches[1])\n",
    "    circuit.barrier()\n",
    "    for i in range(M):\n",
    "        for j in range(N):\n",
    "            if x[i,j] == 1:\n",
    "                circuit.x(loading_reg[j])\n",
    "                circuit.cx(branches[1], storage_reg[j])\n",
    "        \n",
    "        circuit.barrier()\n",
    "        \n",
    "        circuit.cx(branches[1], branches[0])\n",
    "        theta = 1/np.sqrt(M-i)\n",
    "        circuit.cry(2*np.arcsin(theta), branches[0], branches[1])\n",
    "        \n",
    "        circuit.barrier()\n",
    "        circuit.toffoli(loading_reg, storage_reg, ancillas)\n",
    "        circuit.mcx(ancillas,branches[0])\n",
    "        circuit.toffoli(loading_reg, storage_reg, ancillas)\n",
    "        circuit.barrier()\n",
    "        \n",
    "        for j in range(N):\n",
    "            if x[i,j] == 1:\n",
    "                circuit.x(loading_reg[j])\n",
    "                circuit.cx(branches[1], storage_reg[j])\n",
    "        \n",
    "        circuit.barrier()\n",
    "\n",
    "    circuit.measure(storage_reg, clas_reg)\n",
    "    return circuit"
   ]
  },
  {
   "cell_type": "code",
   "execution_count": 9,
   "metadata": {
    "scrolled": true
   },
   "outputs": [
    {
     "name": "stdout",
     "output_type": "stream",
     "text": [
      "{'01': 1000}\n"
     ]
    }
   ],
   "source": [
    "x = np.array([[1,0]])\n",
    "backend = Aer.get_backend('qasm_simulator')\n",
    "\n",
    "circuit = basis_encoding(x)\n",
    "circuit.draw()\n",
    "\n",
    "job = qk.execute(circuit, backend, shots=1000)\n",
    "result = job.result()\n",
    "print(result.get_counts(circuit))"
   ]
  },
  {
   "cell_type": "code",
   "execution_count": null,
   "metadata": {},
   "outputs": [],
   "source": []
  }
 ],
 "metadata": {
  "kernelspec": {
   "display_name": "qiskit",
   "language": "python",
   "name": "qiskit"
  },
  "language_info": {
   "codemirror_mode": {
    "name": "ipython",
    "version": 3
   },
   "file_extension": ".py",
   "mimetype": "text/x-python",
   "name": "python",
   "nbconvert_exporter": "python",
   "pygments_lexer": "ipython3",
   "version": "3.8.5"
  }
 },
 "nbformat": 4,
 "nbformat_minor": 4
}
