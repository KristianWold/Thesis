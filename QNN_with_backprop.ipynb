{
 "cells": [
  {
   "cell_type": "code",
   "execution_count": 86,
   "metadata": {},
   "outputs": [
    {
     "name": "stdout",
     "output_type": "stream",
     "text": [
      "The autoreload extension is already loaded. To reload it, use:\n",
      "  %reload_ext autoreload\n"
     ]
    }
   ],
   "source": [
    "import numpy as np\n",
    "import qiskit as qk\n",
    "import matplotlib.pyplot as plt\n",
    "from qiskit import Aer\n",
    "from utils.dnn import *\n",
    "from utils.data_encoders import *\n",
    "%matplotlib inline\n",
    "%load_ext autoreload\n",
    "%autoreload 2"
   ]
  },
  {
   "cell_type": "markdown",
   "metadata": {},
   "source": [
    "## QNN"
   ]
  },
  {
   "cell_type": "code",
   "execution_count": 88,
   "metadata": {},
   "outputs": [],
   "source": [
    "np.random.seed(42)\n",
    "backend = Aer.get_backend('qasm_simulator')\n",
    "\n",
    "layer1 = Layer(n_inputs=1, n_outputs=1, ansatz=Ansatz(), backend=backend, shots=3000)\n",
    "layers = [layer1]\n",
    "network = QNN(layers)"
   ]
  },
  {
   "cell_type": "code",
   "execution_count": 93,
   "metadata": {},
   "outputs": [
    {
     "name": "stdout",
     "output_type": "stream",
     "text": [
      "[0.30166667]\n",
      "[0.29933333]\n",
      "[0.28566667]\n",
      "[0.31133333]\n",
      "[0.306]\n"
     ]
    }
   ],
   "source": [
    "network = QNN(layers)\n",
    "for i in range(5):\n",
    "    weight_gradients = network.backprop(np.array([0]), 0.3)\n",
    "    y1 = network.a[-1]\n",
    "    #weight_gradients2 = network.backprop(np.array([0.5]), 0.7)\n",
    "    #y2 = network.a[-1]\n",
    "    \n",
    "    #weight_gradients = [(w1+w2)/2 for w1, w2 in zip(weight_gradients1, weight_gradients2)]\n",
    "\n",
    "    print(y1)\n",
    "    network.update(weight_gradients, 0.5)"
   ]
  },
  {
   "cell_type": "code",
   "execution_count": 94,
   "metadata": {},
   "outputs": [
    {
     "name": "stdout",
     "output_type": "stream",
     "text": [
      "[[0.99327247]\n",
      " [2.98735463]]\n"
     ]
    }
   ],
   "source": [
    "print(layer1.weights)"
   ]
  },
  {
   "cell_type": "code",
   "execution_count": null,
   "metadata": {},
   "outputs": [],
   "source": []
  }
 ],
 "metadata": {
  "kernelspec": {
   "display_name": "qiskit",
   "language": "python",
   "name": "qiskit"
  },
  "language_info": {
   "codemirror_mode": {
    "name": "ipython",
    "version": 3
   },
   "file_extension": ".py",
   "mimetype": "text/x-python",
   "name": "python",
   "nbconvert_exporter": "python",
   "pygments_lexer": "ipython3",
   "version": "3.8.5"
  }
 },
 "nbformat": 4,
 "nbformat_minor": 4
}
