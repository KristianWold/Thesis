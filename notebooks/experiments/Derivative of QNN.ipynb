{
 "cells": [
  {
   "cell_type": "code",
   "execution_count": 2,
   "metadata": {},
   "outputs": [],
   "source": [
    "import numpy as np\n",
    "import qiskit as qk\n",
    "import matplotlib.pyplot as plt\n",
    "from qiskit import Aer\n",
    "from tqdm.notebook import tqdm\n",
    "\n",
    "import sys\n",
    "sys.path.insert(0, '../../src/')\n",
    "from neuralnetwork import *\n",
    "from samplers import *\n",
    "\n",
    "#%matplotlib notebook\n",
    "%matplotlib inline\n",
    "%load_ext autoreload\n",
    "%autoreload 2"
   ]
  },
  {
   "cell_type": "markdown",
   "metadata": {},
   "source": [
    "## QNN"
   ]
  },
  {
   "cell_type": "code",
   "execution_count": 10,
   "metadata": {},
   "outputs": [],
   "source": [
    "backend = Aer.get_backend('qasm_simulator')"
   ]
  },
  {
   "cell_type": "code",
   "execution_count": 13,
   "metadata": {},
   "outputs": [
    {
     "name": "stdout",
     "output_type": "stream",
     "text": [
      "(30, 1)\n"
     ]
    }
   ],
   "source": [
    "n = 30\n",
    "x = np.linspace(0, 1, n).reshape(-1,1)\n",
    "y = gaussian(x, 0.3, 0.02) - gaussian(x, 0.7, 0.02) \n",
    "\n",
    "x = scaler(x, a=0, b=np.pi)\n",
    "y = scaler(y, a=0.1, b=0.9)\n",
    "print(y.shape)"
   ]
  },
  {
   "cell_type": "code",
   "execution_count": 14,
   "metadata": {},
   "outputs": [
    {
     "data": {
      "image/png": "[encoded data removed]",
      "text/plain": [
       "<Figure size 432x288 with 1 Axes>"
      ]
     },
     "metadata": {
      "needs_background": "light"
     },
     "output_type": "display_data"
    }
   ],
   "source": [
    "plt.plot(x, y, 'o')\n",
    "plt.show()"
   ]
  },
  {
   "cell_type": "code",
   "execution_count": null,
   "metadata": {},
   "outputs": [
    {
     "data": {
      "application/vnd.jupyter.widget-view+json": {
       "model_id": "64477069427c45e18c28926270134347",
       "version_major": 2,
       "version_minor": 0
      },
      "text/plain": [
       "  0%|          | 0/200 [00:00<?, ?it/s]"
      ]
     },
     "metadata": {},
     "output_type": "display_data"
    },
    {
     "name": "stdout",
     "output_type": "stream",
     "text": [
      "epoch: 0, loss: 0.17672146761023172\n",
      "epoch: 1, loss: 0.06938098919256903\n",
      "epoch: 2, loss: 0.050141437807971444\n",
      "epoch: 3, loss: 0.053972714413556624\n",
      "epoch: 4, loss: 0.01952988390746043\n",
      "epoch: 5, loss: 0.018243401774145553\n",
      "epoch: 6, loss: 0.023083998329624697\n",
      "epoch: 7, loss: 0.027209086545243892\n",
      "epoch: 8, loss: 0.031141632990104882\n",
      "epoch: 9, loss: 0.02792195344379581\n",
      "epoch: 10, loss: 0.02617737847762187\n",
      "epoch: 11, loss: 0.023861127063467307\n",
      "epoch: 12, loss: 0.02615915771891558\n",
      "epoch: 13, loss: 0.02529865236486449\n",
      "epoch: 14, loss: 0.024195200708715038\n",
      "epoch: 15, loss: 0.017031110351854527\n",
      "epoch: 16, loss: 0.016120746438913366\n",
      "epoch: 17, loss: 0.016115374028172015\n",
      "epoch: 18, loss: 0.011758683518591063\n",
      "epoch: 19, loss: 0.008957433810418238\n",
      "epoch: 20, loss: 0.006775527551457356\n",
      "epoch: 21, loss: 0.006681032062717192\n",
      "epoch: 22, loss: 0.006724478588039636\n",
      "epoch: 23, loss: 0.0059348265781449605\n",
      "epoch: 24, loss: 0.0051540444062545135\n",
      "epoch: 25, loss: 0.004623019687151169\n"
     ]
    }
   ],
   "source": [
    "np.random.seed(42)\n",
    "\n",
    "qnn = sequential_qnn(q_bits = [1, 3, 3],\n",
    "                     dim = [1, 3, 3, 1],\n",
    "                     reps = 2,\n",
    "                     backend=backend,\n",
    "                     shots=10000,\n",
    "                     lr = 0.1)\n",
    "\n",
    "qnn.train(x, y, epochs=200, verbose=True)\n",
    "    \n",
    "\n",
    "saver(qnn, data_path(\"qnn_deriv\"))"
   ]
  },
  {
   "cell_type": "code",
   "execution_count": null,
   "metadata": {},
   "outputs": [],
   "source": []
  }
 ],
 "metadata": {
  "kernelspec": {
   "display_name": "env_qiskit",
   "language": "python",
   "name": "env_qiskit"
  },
  "language_info": {
   "codemirror_mode": {
    "name": "ipython",
    "version": 3
   },
   "file_extension": ".py",
   "mimetype": "text/x-python",
   "name": "python",
   "nbconvert_exporter": "python",
   "pygments_lexer": "ipython3",
   "version": "3.9.1"
  }
 },
 "nbformat": 4,
 "nbformat_minor": 4
}
