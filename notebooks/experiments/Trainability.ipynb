{
 "cells": [
  {
   "cell_type": "code",
   "execution_count": 1,
   "metadata": {},
   "outputs": [],
   "source": [
    "import numpy as np\n",
    "import qiskit as qk\n",
    "import matplotlib.pyplot as plt\n",
    "from qiskit import Aer\n",
    "from sklearn.decomposition import PCA\n",
    "from tqdm.notebook import tqdm\n",
    "\n",
    "import sys\n",
    "sys.path.insert(0, '../../src/')\n",
    "from neuralnetwork import *\n",
    "from analysis import *\n",
    "from utils import *\n",
    "\n",
    "#%matplotlib notebook\n",
    "%matplotlib inline\n",
    "%load_ext autoreload\n",
    "%autoreload 2"
   ]
  },
  {
   "cell_type": "markdown",
   "metadata": {},
   "source": [
    "# Trainability"
   ]
  },
  {
   "cell_type": "markdown",
   "metadata": {},
   "source": [
    "## 1D function"
   ]
  },
  {
   "cell_type": "markdown",
   "metadata": {},
   "source": [
    "### Generate Data"
   ]
  },
  {
   "cell_type": "code",
   "execution_count": null,
   "metadata": {},
   "outputs": [],
   "source": [
    "np.random.seed(42)\n",
    "n = 100\n",
    "x = np.linspace(0, 1, n).reshape(-1,1)\n",
    "y = gaussian(x, 0.3, 0.01) + gaussian(x, 0.7, 0.01) \n",
    "\n",
    "x = scaler(x, a=0, b=np.pi)\n",
    "y = scaler(y, a=0.1, b=0.9)\n",
    "print(y.shape)"
   ]
  },
  {
   "cell_type": "code",
   "execution_count": null,
   "metadata": {},
   "outputs": [],
   "source": [
    "plt.plot(x, y, 'o')\n",
    "plt.show()"
   ]
  },
  {
   "cell_type": "markdown",
   "metadata": {},
   "source": [
    "### Training Models"
   ]
  },
  {
   "cell_type": "code",
   "execution_count": 2,
   "metadata": {},
   "outputs": [],
   "source": [
    "backend = Aer.get_backend('qasm_simulator')"
   ]
  },
  {
   "cell_type": "code",
   "execution_count": null,
   "metadata": {},
   "outputs": [],
   "source": [
    "np.random.seed(42)\n",
    "\n",
    "qnn_list = []\n",
    "for i in range(1):\n",
    "    qnn = sequential_qnn(q_bits = [1, 3],\n",
    "                         dim = [1, 3, 1],\n",
    "                         reps = 1,\n",
    "                         backend=backend,\n",
    "                         shots=10000,\n",
    "                         lr = 0.1)\n",
    "    qnn.train(x, y, epochs=50)\n",
    "    qnn_list.append(qnn)\n",
    "\n",
    "saver(qnn_list, data_path(\"trainability_qnn_1D\"))"
   ]
  },
  {
   "cell_type": "code",
   "execution_count": null,
   "metadata": {},
   "outputs": [],
   "source": [
    "np.random.seed(42)\n",
    "dnn_list = []\n",
    "for i in range(1):\n",
    "    dnn = sequential_dnn(dim = [1, 3, 1],\n",
    "                     lr = 0.1)\n",
    "    \n",
    "    dnn.train(x, y, epochs=5000)\n",
    "    dnn_list.append(dnn)\n",
    "\n",
    "saver(dnn_list, data_path(\"trainability_dnn_1D\"))"
   ]
  },
  {
   "cell_type": "markdown",
   "metadata": {},
   "source": [
    "## 2D function"
   ]
  },
  {
   "cell_type": "markdown",
   "metadata": {},
   "source": [
    "### Generate Data"
   ]
  },
  {
   "cell_type": "code",
   "execution_count": 15,
   "metadata": {},
   "outputs": [],
   "source": [
    "np.random.seed(42)\n",
    "n = 20\n",
    "x1 = np.linspace(0, 1, n)\n",
    "x2 = np.linspace(0, 1, n)\n",
    "\n",
    "x1, x2 = np.meshgrid(x1,x2)\n",
    "\n",
    "x1, x2 = np.ravel(x1).reshape(-1,1), np.ravel(x2).reshape(-1,1) \n",
    "\n",
    "x = np.hstack((x1, x2))\n",
    "\n",
    "mean1 = np.array([[0.3, 0.7]])\n",
    "var1 = np.array([[0.01, 0], [0, 0.01]])\n",
    "\n",
    "mean2 = np.array([[0.7, 0.3]])\n",
    "var2 = np.array([[0.01, 0], [0, 0.01]])\n",
    "\n",
    "mean3 = np.array([[0.3, 0.3]])\n",
    "var3 = np.array([[0.01, 0], [0, 0.01]])\n",
    "\n",
    "mean4 = np.array([[0.7, 0.7]])\n",
    "var4 = np.array([[0.01, 0], [0, 0.01]])\n",
    "\n",
    "y = gaussian(x, mean1, var1) + gaussian(x, mean2, var2) - gaussian(x, mean3, var3) - gaussian(x, mean4, var4)\n",
    "\n",
    "x = scaler(x, a=0, b=np.pi)\n",
    "y = scaler(y, a=0.1, b=0.9)"
   ]
  },
  {
   "cell_type": "code",
   "execution_count": 17,
   "metadata": {},
   "outputs": [
    {
     "data": {
      "image/png": "[encoded data removed]",
      "text/plain": [
       "<Figure size 432x288 with 1 Axes>"
      ]
     },
     "metadata": {
      "needs_background": "light"
     },
     "output_type": "display_data"
    }
   ],
   "source": [
    "plt.imshow(y.reshape(20,20))\n",
    "plt.show()"
   ]
  },
  {
   "cell_type": "markdown",
   "metadata": {},
   "source": [
    "### Training Models"
   ]
  },
  {
   "cell_type": "code",
   "execution_count": 18,
   "metadata": {},
   "outputs": [
    {
     "data": {
      "application/vnd.jupyter.widget-view+json": {
       "model_id": "abe7ddbdbfea40499f938927dd3dfc00",
       "version_major": 2,
       "version_minor": 0
      },
      "text/plain": [
       "  0%|          | 0/50 [00:00<?, ?it/s]"
      ]
     },
     "metadata": {},
     "output_type": "display_data"
    },
    {
     "name": "stdout",
     "output_type": "stream",
     "text": [
      "epoch: 0, loss: 0.03715635682648045\n",
      "epoch: 1, loss: 0.027770038135022136\n",
      "epoch: 2, loss: 0.024014697738304305\n",
      "epoch: 3, loss: 0.02185194146704654\n",
      "epoch: 4, loss: 0.020487374069636494\n",
      "epoch: 5, loss: 0.01912569853849363\n",
      "epoch: 6, loss: 0.0182355972805561\n",
      "epoch: 7, loss: 0.01773507004961577\n",
      "epoch: 8, loss: 0.017821960744346152\n",
      "epoch: 9, loss: 0.018095120493033242\n",
      "epoch: 10, loss: 0.01856508751835931\n",
      "epoch: 11, loss: 0.018756900115060694\n",
      "epoch: 12, loss: 0.018477967059730437\n",
      "epoch: 13, loss: 0.017950039710999847\n",
      "epoch: 14, loss: 0.017146102049325172\n",
      "epoch: 15, loss: 0.016268266075732448\n",
      "epoch: 16, loss: 0.015627743136663073\n",
      "epoch: 17, loss: 0.014920207073165537\n",
      "epoch: 18, loss: 0.014432692961698069\n",
      "epoch: 19, loss: 0.013844549441148267\n",
      "epoch: 20, loss: 0.013281077136663069\n",
      "epoch: 21, loss: 0.0129120540174869\n",
      "epoch: 22, loss: 0.012725988742846934\n",
      "epoch: 23, loss: 0.012655000714050844\n",
      "epoch: 24, loss: 0.012741475286354095\n",
      "epoch: 25, loss: 0.01256044994696309\n",
      "epoch: 26, loss: 0.011931956587964785\n",
      "epoch: 27, loss: 0.01166499598973514\n",
      "epoch: 28, loss: 0.011309576618519562\n",
      "epoch: 29, loss: 0.011390077193918538\n",
      "epoch: 30, loss: 0.011125072933194915\n",
      "epoch: 31, loss: 0.010685460235729805\n",
      "epoch: 32, loss: 0.009960982110981523\n",
      "epoch: 33, loss: 0.009445042030706056\n",
      "epoch: 34, loss: 0.009119958926342571\n",
      "epoch: 35, loss: 0.009116203141990794\n",
      "epoch: 36, loss: 0.00916614295710262\n",
      "epoch: 37, loss: 0.009078138238667677\n",
      "epoch: 38, loss: 0.00889006162039076\n",
      "epoch: 39, loss: 0.008601556261561664\n",
      "epoch: 40, loss: 0.008296280973673534\n",
      "epoch: 41, loss: 0.008002923814142759\n",
      "epoch: 42, loss: 0.007580967987714138\n",
      "epoch: 43, loss: 0.007141024616545106\n",
      "epoch: 44, loss: 0.00668772909835087\n",
      "epoch: 45, loss: 0.006179104418281758\n",
      "epoch: 46, loss: 0.005636056022994756\n",
      "epoch: 47, loss: 0.00506748241842851\n",
      "epoch: 48, loss: 0.004573154348084804\n",
      "epoch: 49, loss: 0.00431298322950818\n"
     ]
    }
   ],
   "source": [
    "np.random.seed(42)\n",
    "\n",
    "qnn_list = []\n",
    "for i in range(1):\n",
    "    qnn = sequential_qnn(q_bits = [2, 3],\n",
    "                         dim = [2, 3, 1],\n",
    "                         reps = 1,\n",
    "                         backend=backend,\n",
    "                         shots=10000,\n",
    "                         lr = 0.1)\n",
    "    qnn.train(x, y, epochs=50, verbose=True)\n",
    "    qnn_list.append(qnn)\n",
    "\n",
    "saver(qnn_list, data_path(\"trainability_qnn_2D\"))"
   ]
  },
  {
   "cell_type": "code",
   "execution_count": 23,
   "metadata": {},
   "outputs": [],
   "source": [
    "np.random.seed(42)\n",
    "dnn_list = []\n",
    "for i in range(1):\n",
    "    dnn = sequential_dnn(dim = [2, 3, 1],\n",
    "                     lr = 0.1)\n",
    "    \n",
    "    dnn.train(x, y, epochs=5000)\n",
    "    dnn_list.append(dnn)\n",
    "\n",
    "saver(dnn_list, data_path(\"trainability_dnn_2D\"))"
   ]
  },
  {
   "cell_type": "code",
   "execution_count": null,
   "metadata": {},
   "outputs": [],
   "source": []
  }
 ],
 "metadata": {
  "kernelspec": {
   "display_name": "env_qiskit",
   "language": "python",
   "name": "env_qiskit"
  },
  "language_info": {
   "codemirror_mode": {
    "name": "ipython",
    "version": 3
   },
   "file_extension": ".py",
   "mimetype": "text/x-python",
   "name": "python",
   "nbconvert_exporter": "python",
   "pygments_lexer": "ipython3",
   "version": "3.9.1"
  }
 },
 "nbformat": 4,
 "nbformat_minor": 4
}
