{
 "cells": [
  {
   "cell_type": "code",
   "execution_count": 148,
   "metadata": {},
   "outputs": [
    {
     "name": "stdout",
     "output_type": "stream",
     "text": [
      "The autoreload extension is already loaded. To reload it, use:\n",
      "  %reload_ext autoreload\n"
     ]
    }
   ],
   "source": [
    "import numpy as np\n",
    "import qiskit as qk\n",
    "import matplotlib.pyplot as plt\n",
    "\n",
    "from qiskit import Aer\n",
    "from tqdm.notebook import tqdm\n",
    "from sklearn.datasets import load_iris\n",
    "\n",
    "import sys\n",
    "sys.path.insert(0, '../../src/')\n",
    "from neuralnetwork import *\n",
    "from analysis import *\n",
    "\n",
    "#%matplotlib notebook\n",
    "%matplotlib inline\n",
    "%load_ext autoreload\n",
    "%autoreload 2"
   ]
  },
  {
   "cell_type": "markdown",
   "metadata": {},
   "source": [
    "# Iris Data"
   ]
  },
  {
   "cell_type": "markdown",
   "metadata": {},
   "source": [
    "## Data Preparation"
   ]
  },
  {
   "cell_type": "code",
   "execution_count": 149,
   "metadata": {},
   "outputs": [],
   "source": [
    "iris = load_iris()"
   ]
  },
  {
   "cell_type": "code",
   "execution_count": 154,
   "metadata": {},
   "outputs": [],
   "source": [
    "x = iris.data\n",
    "y = iris.target"
   ]
  },
  {
   "cell_type": "markdown",
   "metadata": {},
   "source": [
    "### Only first two classes"
   ]
  },
  {
   "cell_type": "code",
   "execution_count": 155,
   "metadata": {},
   "outputs": [
    {
     "name": "stdout",
     "output_type": "stream",
     "text": [
      "(100, 4) (100, 1)\n"
     ]
    }
   ],
   "source": [
    "x = x[y != 2]\n",
    "y = y[y != 2].reshape(-1,1)\n",
    "print(x.shape, y.shape)"
   ]
  },
  {
   "cell_type": "markdown",
   "metadata": {},
   "source": [
    "### Normalize Input Data"
   ]
  },
  {
   "cell_type": "code",
   "execution_count": 156,
   "metadata": {},
   "outputs": [],
   "source": [
    "x = x - np.amin(x, axis = 0)\n",
    "x = x/np.max(x, axis = 0)\n",
    "x = np.pi*x"
   ]
  },
  {
   "cell_type": "code",
   "execution_count": 157,
   "metadata": {},
   "outputs": [
    {
     "name": "stdout",
     "output_type": "stream",
     "text": [
      "[[0.93084227 1.96349541 0.30649684 0.18479957]\n",
      " [0.6981317  1.30899694 0.30649684 0.18479957]\n",
      " [0.46542113 1.57079633 0.22987263 0.18479957]\n",
      " [0.34906585 1.43989663 0.38312106 0.18479957]\n",
      " [0.81448698 2.0943951  0.30649684 0.18479957]\n",
      " [1.27990812 2.48709418 0.53636948 0.5543987 ]\n",
      " [0.34906585 1.83259571 0.30649684 0.36959914]\n",
      " [0.81448698 1.83259571 0.38312106 0.18479957]\n",
      " [0.11635528 1.17809725 0.30649684 0.18479957]\n",
      " [0.6981317  1.43989663 0.38312106 0.        ]\n",
      " [1.27990812 2.2252948  0.38312106 0.18479957]\n",
      " [0.58177642 1.83259571 0.45974527 0.18479957]\n",
      " [0.58177642 1.30899694 0.30649684 0.        ]\n",
      " [0.         1.30899694 0.07662421 0.        ]\n",
      " [1.74532925 2.61799388 0.15324842 0.18479957]\n",
      " [1.62897397 3.14159265 0.38312106 0.5543987 ]\n",
      " [1.27990812 2.48709418 0.22987263 0.5543987 ]\n",
      " [0.93084227 1.96349541 0.30649684 0.36959914]\n",
      " [1.62897397 2.35619449 0.53636948 0.36959914]\n",
      " [0.93084227 2.35619449 0.38312106 0.36959914]\n",
      " [1.27990812 1.83259571 0.53636948 0.18479957]\n",
      " [0.93084227 2.2252948  0.38312106 0.5543987 ]\n",
      " [0.34906585 2.0943951  0.         0.18479957]\n",
      " [0.93084227 1.70169602 0.53636948 0.73919827]\n",
      " [0.58177642 1.83259571 0.6896179  0.18479957]\n",
      " [0.81448698 1.30899694 0.45974527 0.18479957]\n",
      " [0.81448698 1.83259571 0.45974527 0.5543987 ]\n",
      " [1.04719755 1.96349541 0.38312106 0.18479957]\n",
      " [1.04719755 1.83259571 0.30649684 0.18479957]\n",
      " [0.46542113 1.57079633 0.45974527 0.18479957]\n",
      " [0.58177642 1.43989663 0.45974527 0.18479957]\n",
      " [1.27990812 1.83259571 0.38312106 0.5543987 ]\n",
      " [1.04719755 2.74889357 0.38312106 0.        ]\n",
      " [1.3962634  2.87979327 0.30649684 0.18479957]\n",
      " [0.6981317  1.43989663 0.38312106 0.18479957]\n",
      " [0.81448698 1.57079633 0.15324842 0.18479957]\n",
      " [1.3962634  1.96349541 0.22987263 0.18479957]\n",
      " [0.6981317  2.0943951  0.30649684 0.        ]\n",
      " [0.11635528 1.30899694 0.22987263 0.18479957]\n",
      " [0.93084227 1.83259571 0.38312106 0.18479957]\n",
      " [0.81448698 1.96349541 0.22987263 0.36959914]\n",
      " [0.23271057 0.39269908 0.22987263 0.36959914]\n",
      " [0.11635528 1.57079633 0.22987263 0.18479957]\n",
      " [0.81448698 1.96349541 0.45974527 0.92399784]\n",
      " [0.93084227 2.35619449 0.6896179  0.5543987 ]\n",
      " [0.58177642 1.30899694 0.30649684 0.36959914]\n",
      " [0.93084227 2.35619449 0.45974527 0.18479957]\n",
      " [0.34906585 1.57079633 0.30649684 0.18479957]\n",
      " [1.16355283 2.2252948  0.38312106 0.18479957]\n",
      " [0.81448698 1.70169602 0.30649684 0.18479957]\n",
      " [3.14159265 1.57079633 2.83509581 2.40239438]\n",
      " [2.44346095 1.57079633 2.68184739 2.58719395]\n",
      " [3.02523737 1.43989663 2.98834423 2.58719395]\n",
      " [1.3962634  0.39269908 2.29872633 2.21759481]\n",
      " [2.55981624 1.04719755 2.7584716  2.58719395]\n",
      " [1.62897397 1.04719755 2.68184739 2.21759481]\n",
      " [2.32710567 1.70169602 2.83509581 2.77199352]\n",
      " [0.6981317  0.52359878 1.76235685 1.66319611]\n",
      " [2.67617152 1.17809725 2.7584716  2.21759481]\n",
      " [1.04719755 0.91629786 2.22210212 2.40239438]\n",
      " [0.81448698 0.         1.91560528 1.66319611]\n",
      " [1.86168454 1.30899694 2.45197475 2.58719395]\n",
      " [1.97803982 0.26179939 2.29872633 1.66319611]\n",
      " [2.0943951  1.17809725 2.83509581 2.40239438]\n",
      " [1.51261869 1.17809725 1.99222949 2.21759481]\n",
      " [2.7925268  1.43989663 2.60522318 2.40239438]\n",
      " [1.51261869 1.30899694 2.68184739 2.58719395]\n",
      " [1.74532925 0.91629786 2.37535054 1.66319611]\n",
      " [2.21075039 0.26179939 2.68184739 2.58719395]\n",
      " [1.51261869 0.65449847 2.22210212 1.84799568]\n",
      " [1.86168454 1.57079633 2.91172002 3.14159265]\n",
      " [2.0943951  1.04719755 2.29872633 2.21759481]\n",
      " [2.32710567 0.65449847 2.98834423 2.58719395]\n",
      " [2.0943951  1.04719755 2.83509581 2.03279525]\n",
      " [2.44346095 1.17809725 2.52859897 2.21759481]\n",
      " [2.67617152 1.30899694 2.60522318 2.40239438]\n",
      " [2.90888209 1.04719755 2.91172002 2.40239438]\n",
      " [2.7925268  1.30899694 3.06496844 2.95679309]\n",
      " [1.97803982 1.17809725 2.68184739 2.58719395]\n",
      " [1.62897397 0.78539816 1.91560528 1.66319611]\n",
      " [1.3962634  0.52359878 2.14547791 1.84799568]\n",
      " [1.3962634  0.52359878 2.0688537  1.66319611]\n",
      " [1.74532925 0.91629786 2.22210212 2.03279525]\n",
      " [1.97803982 0.91629786 3.14159265 2.77199352]\n",
      " [1.27990812 1.30899694 2.68184739 2.58719395]\n",
      " [1.97803982 1.83259571 2.68184739 2.77199352]\n",
      " [2.7925268  1.43989663 2.83509581 2.58719395]\n",
      " [2.32710567 0.39269908 2.60522318 2.21759481]\n",
      " [1.51261869 1.30899694 2.37535054 2.21759481]\n",
      " [1.3962634  0.65449847 2.29872633 2.21759481]\n",
      " [1.3962634  0.78539816 2.60522318 2.03279525]\n",
      " [2.0943951  1.30899694 2.7584716  2.40239438]\n",
      " [1.74532925 0.78539816 2.29872633 2.03279525]\n",
      " [0.81448698 0.39269908 1.76235685 1.66319611]\n",
      " [1.51261869 0.91629786 2.45197475 2.21759481]\n",
      " [1.62897397 1.30899694 2.45197475 2.03279525]\n",
      " [1.62897397 1.17809725 2.45197475 2.21759481]\n",
      " [2.21075039 1.17809725 2.52859897 2.21759481]\n",
      " [0.93084227 0.65449847 1.53248422 1.84799568]\n",
      " [1.62897397 1.04719755 2.37535054 2.21759481]]\n"
     ]
    }
   ],
   "source": [
    "print(x)"
   ]
  },
  {
   "cell_type": "markdown",
   "metadata": {},
   "source": [
    "## Train Model"
   ]
  },
  {
   "cell_type": "code",
   "execution_count": 158,
   "metadata": {},
   "outputs": [],
   "source": [
    "backend = Aer.get_backend('qasm_simulator')"
   ]
  },
  {
   "cell_type": "code",
   "execution_count": 159,
   "metadata": {},
   "outputs": [],
   "source": [
    "np.random.seed(42)\n",
    "network1 = sequential_qnn(q_bits = [4, 4],\n",
    "                         dim = [4, 4, 1],\n",
    "                         reps = 1,\n",
    "                         backend = backend,\n",
    "                         shots = 10000,\n",
    "                         lr = 0.1)"
   ]
  },
  {
   "cell_type": "code",
   "execution_count": null,
   "metadata": {},
   "outputs": [
    {
     "data": {
      "application/vnd.jupyter.widget-view+json": {
       "model_id": "9e3ea62e811e47588f7938903c29f3f9",
       "version_major": 2,
       "version_minor": 0
      },
      "text/plain": [
       "  0%|          | 0/50 [00:00<?, ?it/s]"
      ]
     },
     "metadata": {},
     "output_type": "display_data"
    },
    {
     "name": "stdout",
     "output_type": "stream",
     "text": [
      "epoch: 0, loss: 0.2524393017\n",
      "epoch: 1, loss: 0.22672946730000004\n",
      "epoch: 2, loss: 0.2030848134\n",
      "epoch: 3, loss: 0.18048120129999998\n",
      "epoch: 4, loss: 0.16147624459999999\n",
      "epoch: 5, loss: 0.1420273233\n",
      "epoch: 6, loss: 0.12470912599999999\n",
      "epoch: 7, loss: 0.1070074084\n",
      "epoch: 8, loss: 0.09293562759999999\n"
     ]
    }
   ],
   "source": [
    "network1.train(x,y, epochs = 50, verbose = True)"
   ]
  },
  {
   "cell_type": "code",
   "execution_count": 130,
   "metadata": {},
   "outputs": [
    {
     "data": {
      "text/plain": [
       "[<matplotlib.lines.Line2D at 0x7f20a22c4250>]"
      ]
     },
     "execution_count": 130,
     "metadata": {},
     "output_type": "execute_result"
    },
    {
     "data": {
      "image/png": "[encoded data removed]",
      "text/plain": [
       "<Figure size 432x288 with 1 Axes>"
      ]
     },
     "metadata": {
      "needs_background": "light"
     },
     "output_type": "display_data"
    }
   ],
   "source": [
    "plt.plot(network1.loss)"
   ]
  },
  {
   "cell_type": "code",
   "execution_count": 108,
   "metadata": {},
   "outputs": [],
   "source": [
    "saver(network1, data_path(\"Iris_qnn1\"))"
   ]
  },
  {
   "cell_type": "code",
   "execution_count": 137,
   "metadata": {},
   "outputs": [],
   "source": [
    "np.random.seed(40)\n",
    "network2 = sequential_dnn(dim=[4, 1], lr=0.1)"
   ]
  },
  {
   "cell_type": "code",
   "execution_count": 138,
   "metadata": {},
   "outputs": [
    {
     "data": {
      "application/vnd.jupyter.widget-view+json": {
       "model_id": "06cf6f1383f04bc1a4a7c998738033dd",
       "version_major": 2,
       "version_minor": 0
      },
      "text/plain": [
       "  0%|          | 0/100 [00:00<?, ?it/s]"
      ]
     },
     "metadata": {},
     "output_type": "display_data"
    },
    {
     "name": "stdout",
     "output_type": "stream",
     "text": [
      "epoch: 0, loss: 0.3775358823211864\n",
      "epoch: 1, loss: 0.28129638188806316\n",
      "epoch: 2, loss: 0.17548288047228625\n",
      "epoch: 3, loss: 0.10896956032481572\n",
      "epoch: 4, loss: 0.09490347181302317\n",
      "epoch: 5, loss: 0.09896988961224515\n",
      "epoch: 6, loss: 0.10128108602903954\n",
      "epoch: 7, loss: 0.0977885099798093\n",
      "epoch: 8, loss: 0.08921561010850576\n",
      "epoch: 9, loss: 0.0773780984232405\n",
      "epoch: 10, loss: 0.06417900237668123\n",
      "epoch: 11, loss: 0.05124637831293874\n",
      "epoch: 12, loss: 0.039733297001367095\n",
      "epoch: 13, loss: 0.03023968672950959\n",
      "epoch: 14, loss: 0.022876335462861896\n",
      "epoch: 15, loss: 0.01742993766263173\n",
      "epoch: 16, loss: 0.013542827332110747\n",
      "epoch: 17, loss: 0.010842494145424788\n",
      "epoch: 18, loss: 0.009006625722541075\n",
      "epoch: 19, loss: 0.007781526947283517\n",
      "epoch: 20, loss: 0.006977033495339147\n",
      "epoch: 21, loss: 0.006453756473944822\n",
      "epoch: 22, loss: 0.006110410712600076\n",
      "epoch: 23, loss: 0.005873863234350313\n",
      "epoch: 24, loss: 0.005692093427925673\n",
      "epoch: 25, loss: 0.005529373530125847\n",
      "epoch: 26, loss: 0.005362842351577139\n",
      "epoch: 27, loss: 0.005179815133331621\n",
      "epoch: 28, loss: 0.004975430780602095\n",
      "epoch: 29, loss: 0.004750476040587408\n",
      "epoch: 30, loss: 0.004509391811467422\n",
      "epoch: 31, loss: 0.004258544584246833\n",
      "epoch: 32, loss: 0.004004849086590733\n",
      "epoch: 33, loss: 0.003754785876345075\n",
      "epoch: 34, loss: 0.003513801780372659\n",
      "epoch: 35, loss: 0.0032860353076125974\n",
      "epoch: 36, loss: 0.0030742845137912964\n",
      "epoch: 37, loss: 0.0028801313265766014\n",
      "epoch: 38, loss: 0.002704147842084838\n",
      "epoch: 39, loss: 0.0025461287862144433\n",
      "epoch: 40, loss: 0.0024053138469620275\n",
      "epoch: 41, loss: 0.002280580118223064\n",
      "epoch: 42, loss: 0.0021705969733358784\n",
      "epoch: 43, loss: 0.0020739433911164122\n",
      "epoch: 44, loss: 0.0019891919428269827\n",
      "epoch: 45, loss: 0.0019149653713979955\n",
      "epoch: 46, loss: 0.0018499718978118545\n",
      "epoch: 47, loss: 0.0017930247853475978\n",
      "epoch: 48, loss: 0.0017430507541795351\n",
      "epoch: 49, loss: 0.0016990908476181338\n",
      "epoch: 50, loss: 0.0016602964519191745\n",
      "epoch: 51, loss: 0.0016259224226511458\n",
      "epoch: 52, loss: 0.0015953186815582424\n",
      "epoch: 53, loss: 0.0015679212037072513\n",
      "epoch: 54, loss: 0.0015432429909771961\n",
      "epoch: 55, loss: 0.0015208653988275098\n",
      "epoch: 56, loss: 0.0015004300255361844\n",
      "epoch: 57, loss: 0.00148163126753399\n",
      "epoch: 58, loss: 0.0014642095760417633\n",
      "epoch: 59, loss: 0.001447945407619578\n",
      "epoch: 60, loss: 0.0014326538361755753\n",
      "epoch: 61, loss: 0.0014181797805451635\n",
      "epoch: 62, loss: 0.0014043937958066915\n",
      "epoch: 63, loss: 0.0013911883752190219\n",
      "epoch: 64, loss: 0.0013784747111523507\n",
      "epoch: 65, loss: 0.0013661798663923961\n",
      "epoch: 66, loss: 0.0013542443109350701\n",
      "epoch: 67, loss: 0.0013426197833642372\n",
      "epoch: 68, loss: 0.0013312674398301561\n",
      "epoch: 69, loss: 0.0013201562573632148\n",
      "epoch: 70, loss: 0.0013092616616910352\n",
      "epoch: 71, loss: 0.0012985643528516558\n",
      "epoch: 72, loss: 0.001288049304714963\n",
      "epoch: 73, loss: 0.001277704917057585\n",
      "epoch: 74, loss: 0.0012675223011087528\n",
      "epoch: 75, loss: 0.001257494681523706\n",
      "epoch: 76, loss: 0.001247616899573374\n",
      "epoch: 77, loss: 0.001237885003988428\n",
      "epoch: 78, loss: 0.0012282959173833673\n",
      "epoch: 79, loss: 0.0012188471675302925\n",
      "epoch: 80, loss: 0.0012095366739676909\n",
      "epoch: 81, loss: 0.0012003625815300947\n",
      "epoch: 82, loss: 0.0011913231333807984\n",
      "epoch: 83, loss: 0.0011824165770314905\n",
      "epoch: 84, loss: 0.0011736410976477265\n",
      "epoch: 85, loss: 0.0011649947736749383\n",
      "epoch: 86, loss: 0.001156475550482371\n",
      "epoch: 87, loss: 0.0011480812283178364\n",
      "epoch: 88, loss: 0.0011398094613996174\n",
      "epoch: 89, loss: 0.0011316577654482212\n",
      "epoch: 90, loss: 0.0011236235313843736\n",
      "epoch: 91, loss: 0.0011157040432950138\n",
      "epoch: 92, loss: 0.0011078964990999948\n",
      "epoch: 93, loss: 0.0011001980326425667\n",
      "epoch: 94, loss: 0.0010926057361799607\n",
      "epoch: 95, loss: 0.0010851166824699747\n",
      "epoch: 96, loss: 0.0010777279458383934\n",
      "epoch: 97, loss: 0.0010704366217734462\n",
      "epoch: 98, loss: 0.0010632398447300306\n",
      "epoch: 99, loss: 0.001056134803940699\n"
     ]
    }
   ],
   "source": [
    "network2.train(x,y, epochs = 100, verbose = True)"
   ]
  },
  {
   "cell_type": "code",
   "execution_count": 139,
   "metadata": {},
   "outputs": [
    {
     "data": {
      "image/png": "[encoded data removed]",
      "text/plain": [
       "<Figure size 432x288 with 1 Axes>"
      ]
     },
     "metadata": {
      "needs_background": "light"
     },
     "output_type": "display_data"
    }
   ],
   "source": [
    "network1 = loader(data_path(\"Iris_qnn1\"))\n",
    "plt.plot(network1.loss)\n",
    "plt.plot(network2.loss)\n",
    "plt.show()"
   ]
  },
  {
   "cell_type": "code",
   "execution_count": null,
   "metadata": {},
   "outputs": [],
   "source": []
  }
 ],
 "metadata": {
  "kernelspec": {
   "display_name": "env_qiskit",
   "language": "python",
   "name": "env_qiskit"
  },
  "language_info": {
   "codemirror_mode": {
    "name": "ipython",
    "version": 3
   },
   "file_extension": ".py",
   "mimetype": "text/x-python",
   "name": "python",
   "nbconvert_exporter": "python",
   "pygments_lexer": "ipython3",
   "version": "3.9.1"
  }
 },
 "nbformat": 4,
 "nbformat_minor": 4
}
