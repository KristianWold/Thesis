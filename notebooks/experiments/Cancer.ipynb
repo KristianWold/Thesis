{
 "cells": [
  {
   "cell_type": "code",
   "execution_count": 1,
   "metadata": {},
   "outputs": [],
   "source": [
    "import numpy as np\n",
    "import qiskit as qk\n",
    "import matplotlib.pyplot as plt\n",
    "\n",
    "from qiskit import Aer\n",
    "from tqdm.notebook import tqdm\n",
    "from sklearn.datasets import load_breast_cancer\n",
    "from sklearn.model_selection import train_test_split\n",
    "from sklearn.decomposition import PCA\n",
    "\n",
    "import sys\n",
    "sys.path.insert(0, '../../src/')\n",
    "from neuralnetwork import *\n",
    "from analysis import *\n",
    "\n",
    "#%matplotlib notebook\n",
    "%matplotlib inline\n",
    "%load_ext autoreload\n",
    "%autoreload 2\n",
    "\n",
    "np.set_printoptions(precision=4, suppress=None)"
   ]
  },
  {
   "cell_type": "code",
   "execution_count": 2,
   "metadata": {},
   "outputs": [],
   "source": [
    "backend = Aer.get_backend('qasm_simulator')"
   ]
  },
  {
   "cell_type": "markdown",
   "metadata": {},
   "source": [
    "# Breast Cancer Data"
   ]
  },
  {
   "cell_type": "markdown",
   "metadata": {},
   "source": [
    "### Load Data"
   ]
  },
  {
   "cell_type": "code",
   "execution_count": 3,
   "metadata": {},
   "outputs": [],
   "source": [
    "data = load_breast_cancer()\n",
    "x = data.data\n",
    "y = data.target.reshape(-1, 1)\n",
    "\n",
    "np.random.seed(42)\n",
    "x, _, y, _ = train_test_split(x, y, train_size=100)"
   ]
  },
  {
   "cell_type": "markdown",
   "metadata": {},
   "source": [
    "## Three First Variables"
   ]
  },
  {
   "cell_type": "code",
   "execution_count": 4,
   "metadata": {},
   "outputs": [],
   "source": [
    "x_three_first = x[:,:3]"
   ]
  },
  {
   "cell_type": "code",
   "execution_count": 5,
   "metadata": {},
   "outputs": [],
   "source": [
    "y_dnn = y\n",
    "y_qnn = y\n",
    "\n",
    "x_qnn = scaler(x_three_first, mode=\"uniform\", a=0, b=np.pi)\n",
    "x_dnn = scaler(x_three_first, mode=\"standard\")"
   ]
  },
  {
   "cell_type": "code",
   "execution_count": 6,
   "metadata": {},
   "outputs": [
    {
     "data": {
      "application/vnd.jupyter.widget-view+json": {
       "model_id": "cb7aabc118dc4f2da94985d624abdcf6",
       "version_major": 2,
       "version_minor": 0
      },
      "text/plain": [
       "  0%|          | 0/10 [00:00<?, ?it/s]"
      ]
     },
     "metadata": {},
     "output_type": "display_data"
    }
   ],
   "source": [
    "np.random.seed(42)\n",
    "\n",
    "dnn_list = []\n",
    "for i in tqdm(range(10)):\n",
    "    dnn = sequential_dnn(dim = [3, 5, 1], lr = 0.1)\n",
    "    dnn.train(x_dnn, y_dnn, epochs = 100)\n",
    "    dnn_list.append(dnn)\n",
    "    \n",
    "saver(dnn_list, data_path(\"cancer_dnn_three_first\"))"
   ]
  },
  {
   "cell_type": "code",
   "execution_count": null,
   "metadata": {},
   "outputs": [
    {
     "data": {
      "application/vnd.jupyter.widget-view+json": {
       "model_id": "b2125ffca2fd438f850824ff00461eac",
       "version_major": 2,
       "version_minor": 0
      },
      "text/plain": [
       "  0%|          | 0/1 [00:00<?, ?it/s]"
      ]
     },
     "metadata": {},
     "output_type": "display_data"
    },
    {
     "data": {
      "application/vnd.jupyter.widget-view+json": {
       "model_id": "b278e14dfe60476fa36f719bb8621ace",
       "version_major": 2,
       "version_minor": 0
      },
      "text/plain": [
       "  0%|          | 0/100 [00:00<?, ?it/s]"
      ]
     },
     "metadata": {},
     "output_type": "display_data"
    },
    {
     "name": "stdout",
     "output_type": "stream",
     "text": [
      "epoch: 0, loss: 0.26502782750000003\n",
      "epoch: 1, loss: 0.2070092328125\n",
      "epoch: 2, loss: 0.20012655734374996\n",
      "epoch: 3, loss: 0.18495334703125\n",
      "epoch: 4, loss: 0.15322419281250002\n",
      "epoch: 5, loss: 0.16881867875\n",
      "epoch: 6, loss: 0.1515238440625\n",
      "epoch: 7, loss: 0.13026224453125\n",
      "epoch: 8, loss: 0.11955222999999997\n",
      "epoch: 9, loss: 0.11837929171875\n",
      "epoch: 10, loss: 0.113347259375\n",
      "epoch: 11, loss: 0.10739264921875001\n",
      "epoch: 12, loss: 0.10809893015625002\n",
      "epoch: 13, loss: 0.105259896875\n",
      "epoch: 14, loss: 0.10158558812500001\n",
      "epoch: 15, loss: 0.09745477359375002\n",
      "epoch: 16, loss: 0.09503926281250001\n",
      "epoch: 17, loss: 0.09591349093749998\n",
      "epoch: 18, loss: 0.096543273125\n",
      "epoch: 19, loss: 0.09399468843749999\n",
      "epoch: 20, loss: 0.09499942749999998\n",
      "epoch: 21, loss: 0.0924414909375\n",
      "epoch: 22, loss: 0.0909906565625\n",
      "epoch: 23, loss: 0.08952948124999999\n",
      "epoch: 24, loss: 0.08944457734374998\n",
      "epoch: 25, loss: 0.08889657062499999\n",
      "epoch: 26, loss: 0.086397039375\n",
      "epoch: 27, loss: 0.08236825249999999\n",
      "epoch: 28, loss: 0.08045805515625\n",
      "epoch: 29, loss: 0.07967353296874999\n",
      "epoch: 30, loss: 0.07920832046875\n",
      "epoch: 31, loss: 0.07933676703125\n",
      "epoch: 32, loss: 0.0783469925\n",
      "epoch: 33, loss: 0.07573704671874998\n",
      "epoch: 34, loss: 0.07734371296874999\n",
      "epoch: 35, loss: 0.07509241187499999\n",
      "epoch: 36, loss: 0.07430958484375\n",
      "epoch: 37, loss: 0.07560475203125\n",
      "epoch: 38, loss: 0.07509254734375\n",
      "epoch: 39, loss: 0.07548875515625\n",
      "epoch: 40, loss: 0.07596042234375\n",
      "epoch: 41, loss: 0.07713197140625\n",
      "epoch: 42, loss: 0.07551489421875\n",
      "epoch: 43, loss: 0.07581467250000001\n",
      "epoch: 44, loss: 0.07579441609375\n",
      "epoch: 45, loss: 0.07525625109374999\n",
      "epoch: 46, loss: 0.07376933375\n",
      "epoch: 47, loss: 0.0736230309375\n",
      "epoch: 48, loss: 0.0727256946875\n",
      "epoch: 49, loss: 0.0775307365625\n",
      "epoch: 50, loss: 0.07454217937499999\n",
      "epoch: 51, loss: 0.07533971234374999\n",
      "epoch: 52, loss: 0.07531113703125\n",
      "epoch: 53, loss: 0.07436804343750002\n",
      "epoch: 54, loss: 0.07444401656249999\n",
      "epoch: 55, loss: 0.07581566390624998\n",
      "epoch: 56, loss: 0.07345265859375\n",
      "epoch: 57, loss: 0.07454665453125\n",
      "epoch: 58, loss: 0.07470976484374998\n",
      "epoch: 59, loss: 0.0716915371875\n",
      "epoch: 60, loss: 0.074150008125\n",
      "epoch: 61, loss: 0.07378398499999998\n",
      "epoch: 62, loss: 0.07410630203125\n",
      "epoch: 63, loss: 0.07455014109375001\n",
      "epoch: 64, loss: 0.0730853009375\n"
     ]
    }
   ],
   "source": [
    "np.random.seed(42)\n",
    "\n",
    "qnn_list = []\n",
    "for i in tqdm(range(5)):\n",
    "    qnn = sequential_qnn(q_bits = [3, 3],\n",
    "                         dim = [3, 3, 1],\n",
    "                         reps = 2,\n",
    "                         backend=backend,\n",
    "                         shots=10000,\n",
    "                         lr = 0.1)\n",
    "    qnn.train(x_qnn, y_qnn, epochs=100, verbose=True)\n",
    "    qnn_list.append(qnn)\n",
    "\n",
    "saver(qnn_list, data_path(\"cancer_qnn_three_first\"))"
   ]
  },
  {
   "cell_type": "markdown",
   "metadata": {},
   "source": [
    "## PCA"
   ]
  },
  {
   "cell_type": "code",
   "execution_count": null,
   "metadata": {},
   "outputs": [],
   "source": [
    "x_scaled = scaler(x, mode=\"standard\")\n",
    "pca = PCA(n_components=3)\n",
    "x_pca = pca.fit_transform(x_scaled)"
   ]
  },
  {
   "cell_type": "code",
   "execution_count": null,
   "metadata": {},
   "outputs": [],
   "source": [
    "y_dnn = y\n",
    "y_qnn = y\n",
    "\n",
    "x_qnn = scaler(x_pca, mode=\"uniform\", a=0, b=np.pi)\n",
    "x_dnn = scaler(x_pca, mode=\"standard\")"
   ]
  },
  {
   "cell_type": "code",
   "execution_count": null,
   "metadata": {},
   "outputs": [],
   "source": [
    "plt.plot(x_qnn[:,1], y_dnn,\"o\")"
   ]
  },
  {
   "cell_type": "code",
   "execution_count": null,
   "metadata": {},
   "outputs": [],
   "source": [
    "np.random.seed(42)\n",
    "\n",
    "dnn_list = []\n",
    "for i in tqdm(range(10)):\n",
    "    dnn = sequential_dnn(dim = [3, 5, 1], lr = 0.1)\n",
    "    dnn.train(x_dnn, y_dnn, epochs = 100)\n",
    "    dnn_list.append(dnn)\n",
    "    \n",
    "saver(dnn_list, data_path(\"cancer_dnn_pca\"))"
   ]
  },
  {
   "cell_type": "code",
   "execution_count": null,
   "metadata": {},
   "outputs": [],
   "source": [
    "np.random.seed(42)\n",
    "\n",
    "qnn_list = []\n",
    "for i in tqdm(range(5)):\n",
    "    qnn = sequential_qnn(q_bits = [3, 3],\n",
    "                         dim = [3, 3, 1],\n",
    "                         reps = 2,\n",
    "                         backend=backend,\n",
    "                         shots=10000,\n",
    "                         lr = 0.1)\n",
    "    qnn.train(x_qnn, y_qnn, epochs=100, verbose=True)\n",
    "    qnn_list.append(qnn)\n",
    "\n",
    "saver(qnn_list, data_path(\"cancer_qnn_pca\"))"
   ]
  },
  {
   "cell_type": "markdown",
   "metadata": {},
   "source": [
    "## Most Correlated"
   ]
  },
  {
   "cell_type": "code",
   "execution_count": null,
   "metadata": {},
   "outputs": [],
   "source": [
    "corr = np.corrcoef(x, y, rowvar=False)[-1,:-1]\n",
    "idx = (corr).argsort()[:3]\n",
    "x_corr = x[:, idx]"
   ]
  },
  {
   "cell_type": "code",
   "execution_count": null,
   "metadata": {},
   "outputs": [],
   "source": [
    "y_dnn = y\n",
    "y_qnn = y\n",
    "\n",
    "x_qnn = scaler(x_corr, mode=\"uniform\", a=0, b=np.pi)\n",
    "x_dnn = scaler(x_corr, mode=\"standard\")"
   ]
  },
  {
   "cell_type": "code",
   "execution_count": null,
   "metadata": {},
   "outputs": [],
   "source": [
    "plt.plot(x_qnn[:,2], y_dnn,\"o\")"
   ]
  },
  {
   "cell_type": "code",
   "execution_count": null,
   "metadata": {},
   "outputs": [],
   "source": [
    "np.random.seed(42)\n",
    "\n",
    "dnn_list = []\n",
    "for i in tqdm(range(10)):\n",
    "    dnn = sequential_dnn(dim = [3, 5, 1], lr = 0.1)\n",
    "    dnn.train(x_dnn, y_dnn, epochs = 100)\n",
    "    dnn_list.append(dnn)\n",
    "    \n",
    "saver(dnn_list, data_path(\"cancer_dnn_most_correlated\"))"
   ]
  },
  {
   "cell_type": "code",
   "execution_count": null,
   "metadata": {},
   "outputs": [],
   "source": [
    "np.random.seed(42)\n",
    "\n",
    "qnn_list = []\n",
    "for i in tqdm(range(5)):\n",
    "    qnn = sequential_qnn(q_bits = [3, 3],\n",
    "                         dim = [3, 3, 1],\n",
    "                         reps = 2,\n",
    "                         backend=backend,\n",
    "                         shots=10000,\n",
    "                         lr = 0.1)\n",
    "    qnn.train(x_qnn, y_qnn, epochs=100, verbose=True)\n",
    "    qnn_list.append(qnn)\n",
    "\n",
    "saver(qnn_list, data_path(\"cancer_qnn\"))"
   ]
  },
  {
   "cell_type": "markdown",
   "metadata": {},
   "source": [
    "### Hybrid Network"
   ]
  },
  {
   "cell_type": "markdown",
   "metadata": {},
   "source": [
    "### Two Layers"
   ]
  },
  {
   "cell_type": "code",
   "execution_count": null,
   "metadata": {},
   "outputs": [],
   "source": [
    "np.random.seed(42)\n",
    "\n",
    "network_list = []\n",
    "for i in tqdm(range(5)):\n",
    "    layer1 = QLayer(n_qubits=3, n_features=3, n_targets=3, encoder=Encoder(), ansatz=Ansatz(), sampler=Parity(), reps=2, scale=1, backend=backend, shots=10000)\n",
    "    layer2 = Dense(n_features=3, n_targets=1, activation=Sigmoid())\n",
    "    layers = [layer1, layer2]\n",
    "\n",
    "    network = NeuralNetwork(layers=layers, optimizer = Adam(lr=0.1))\n",
    "    network.train(x_qnn, y_qnn, epochs=100, verbose=True)\n",
    "    network_list.append(network)\n",
    "\n",
    "saver(network, data_path(\"cancer_hybrid_2_layer\"))"
   ]
  },
  {
   "cell_type": "markdown",
   "metadata": {},
   "source": [
    "### Three Layers"
   ]
  },
  {
   "cell_type": "code",
   "execution_count": null,
   "metadata": {},
   "outputs": [],
   "source": [
    "np.random.seed(42)\n",
    "\n",
    "network_list = []\n",
    "for i in tqdm(range(5)):\n",
    "    layer1 = QLayer(n_qubits=3, n_features=3, n_targets=3, encoder=Encoder(), ansatz=Ansatz(), sampler=Parity(), reps=2, scale=1, backend=backend, shots=10000)\n",
    "    layer2 = QLayer(n_qubits=3, n_features=3, n_targets=3, encoder=Encoder(), ansatz=Ansatz(), sampler=Parity(), reps=2, scale=1, backend=backend, shots=10000)\n",
    "    layer3 = Dense(n_features=3, n_targets=1, activation=Sigmoid())\n",
    "    layers = [layer1, layer2, layer3]\n",
    "\n",
    "    network = NeuralNetwork(layers=layers, optimizer = Adam(lr=0.1))\n",
    "    network.train(x_qnn, y_qnn, epochs=100, verbose=True)\n",
    "    network_list.append(network)\n",
    "\n",
    "saver(network, data_path(\"cancer_hybrid_3_layer\"))"
   ]
  }
 ],
 "metadata": {
  "kernelspec": {
   "display_name": "env_qiskit",
   "language": "python",
   "name": "env_qiskit"
  },
  "language_info": {
   "codemirror_mode": {
    "name": "ipython",
    "version": 3
   },
   "file_extension": ".py",
   "mimetype": "text/x-python",
   "name": "python",
   "nbconvert_exporter": "python",
   "pygments_lexer": "ipython3",
   "version": "3.9.1"
  }
 },
 "nbformat": 4,
 "nbformat_minor": 4
}
