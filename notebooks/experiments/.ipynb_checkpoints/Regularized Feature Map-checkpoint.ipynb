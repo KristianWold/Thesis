{
 "cells": [
  {
   "cell_type": "code",
   "execution_count": 1,
   "metadata": {},
   "outputs": [],
   "source": [
    "import numpy as np\n",
    "import qiskit as qk\n",
    "import matplotlib.pyplot as plt\n",
    "from qiskit import Aer\n",
    "from sklearn.decomposition import PCA\n",
    "from tqdm.notebook import tqdm\n",
    "\n",
    "import sys\n",
    "sys.path.insert(0, '../../src/')\n",
    "from neuralnetwork import *\n",
    "from analysis import *\n",
    "from utils import *\n",
    "\n",
    "#%matplotlib notebook\n",
    "%matplotlib inline\n",
    "%load_ext autoreload\n",
    "%autoreload 2"
   ]
  },
  {
   "cell_type": "code",
   "execution_count": 2,
   "metadata": {},
   "outputs": [],
   "source": [
    "backend = Aer.get_backend('qasm_simulator')"
   ]
  },
  {
   "cell_type": "markdown",
   "metadata": {},
   "source": [
    "# Regularized Feature Map"
   ]
  },
  {
   "cell_type": "markdown",
   "metadata": {},
   "source": [
    "## Regularization"
   ]
  },
  {
   "cell_type": "code",
   "execution_count": 3,
   "metadata": {},
   "outputs": [],
   "source": [
    "np.random.seed(42)\n",
    "\n",
    "n = 200\n",
    "n_features = 4\n",
    "epochs = 100\n",
    "x = np.random.uniform(0, np.pi, (n, n_features))\n",
    "\n",
    "std = 0.2\n",
    "y = np.sin(2*x[:,2])\n",
    "y = scaler(y, a=0.1, b=0.9).reshape(-1, 1)\n",
    "\n",
    "x_train, y_train = x[:100,:], y[:100,:]"
   ]
  },
  {
   "cell_type": "code",
   "execution_count": 4,
   "metadata": {},
   "outputs": [
    {
     "data": {
      "image/png": "[encoded data removed]",
      "text/plain": [
       "<Figure size 432x288 with 1 Axes>"
      ]
     },
     "metadata": {
      "needs_background": "light"
     },
     "output_type": "display_data"
    }
   ],
   "source": [
    "plt.plot(x_train[:,2], y_train,\"o\")\n",
    "plt.show()"
   ]
  },
  {
   "cell_type": "markdown",
   "metadata": {},
   "source": [
    "### No Penalty"
   ]
  },
  {
   "cell_type": "code",
   "execution_count": null,
   "metadata": {},
   "outputs": [],
   "source": [
    "np.random.seed(42)\n",
    "model_list = []\n",
    "for i in tqdm(range(1)):\n",
    "    optimizer = Adam(lr=0.1)\n",
    "    model = RegularizedModel(n_features=n_features, \n",
    "                             n_targets=1, \n",
    "                             reps=2,\n",
    "                             alpha=0.00,\n",
    "                             backend=backend, \n",
    "                             shots=10000, \n",
    "                             optimizer=optimizer)\n",
    "    \n",
    "    model.train(x_train, y_train, epochs=epochs, verbose=True) \n",
    "    model_list.append(model)\n",
    "    print(model.loss[-1])\n",
    "\n",
    "saver(model_list, data_path(\"sparse_regularisation_model_no_penalty\"))"
   ]
  },
  {
   "cell_type": "markdown",
   "metadata": {},
   "source": [
    "### Low Penalty"
   ]
  },
  {
   "cell_type": "code",
   "execution_count": null,
   "metadata": {},
   "outputs": [],
   "source": [
    "np.random.seed(42)\n",
    "model_list = []\n",
    "for i in tqdm(range(1)):\n",
    "    optimizer = Adam(lr=0.1)\n",
    "    model = RegularizedModel(n_features=n_features, \n",
    "                             n_targets=1, \n",
    "                             reps=2,\n",
    "                             alpha=0.001,\n",
    "                             backend=backend, \n",
    "                             shots=10000, \n",
    "                             optimizer=optimizer)\n",
    "    \n",
    "    model.train(x_train, y_train, epochs=epochs, verbose=True) \n",
    "    model_list.append(model)\n",
    "    print(model.loss[-1])\n",
    "\n",
    "saver(model_list, data_path(\"sparse_regularisation_model_low_penalty\"))"
   ]
  },
  {
   "cell_type": "markdown",
   "metadata": {},
   "source": [
    "### High Penalty"
   ]
  },
  {
   "cell_type": "code",
   "execution_count": null,
   "metadata": {},
   "outputs": [],
   "source": [
    "np.random.seed(42)\n",
    "model_list = []\n",
    "for i in tqdm(range(10)):\n",
    "    optimizer = Adam(lr=0.1)\n",
    "    model = RegularizedModel(n_features=n_features, \n",
    "                             n_targets=1, \n",
    "                             reps=2,\n",
    "                             alpha=0.01,\n",
    "                             backend=backend, \n",
    "                             shots=10000, \n",
    "                             optimizer=optimizer)\n",
    "    \n",
    "    model.train(x_train, y_train, epochs=epochs) \n",
    "    model_list.append(model)\n",
    "    print(model.loss[-1])\n",
    "\n",
    "saver(model_list, data_path(\"sparse_regularisation_model_high_penalty\"))"
   ]
  },
  {
   "cell_type": "markdown",
   "metadata": {},
   "source": [
    "### No-Train Model"
   ]
  },
  {
   "cell_type": "code",
   "execution_count": 7,
   "metadata": {},
   "outputs": [
    {
     "data": {
      "application/vnd.jupyter.widget-view+json": {
       "model_id": "f57eeb8d5a324f34ac45d3e24680c69a",
       "version_major": 2,
       "version_minor": 0
      },
      "text/plain": [
       "  0%|          | 0/1 [00:00<?, ?it/s]"
      ]
     },
     "metadata": {},
     "output_type": "display_data"
    },
    {
     "data": {
      "application/vnd.jupyter.widget-view+json": {
       "model_id": "2bae4e8f3019426480ff8596d06e8cf4",
       "version_major": 2,
       "version_minor": 0
      },
      "text/plain": [
       "  0%|          | 0/100 [00:00<?, ?it/s]"
      ]
     },
     "metadata": {},
     "output_type": "display_data"
    },
    {
     "name": "stdout",
     "output_type": "stream",
     "text": [
      "epoch: 0, loss: 0.09540377693389311\n",
      "epoch: 1, loss: 0.08655249897653122\n",
      "epoch: 2, loss: 0.08071164666368214\n",
      "epoch: 3, loss: 0.07733873199835768\n",
      "epoch: 4, loss: 0.07544537550716685\n",
      "epoch: 5, loss: 0.07413508606073223\n",
      "epoch: 6, loss: 0.07311546903079132\n",
      "epoch: 7, loss: 0.07382943587590686\n",
      "epoch: 8, loss: 0.07405047566276152\n",
      "epoch: 9, loss: 0.07434909628222325\n",
      "epoch: 10, loss: 0.07389628319000231\n",
      "epoch: 11, loss: 0.07196836447795661\n",
      "epoch: 12, loss: 0.0704469161521474\n",
      "epoch: 13, loss: 0.06923512783459362\n",
      "epoch: 14, loss: 0.06768297282071906\n",
      "epoch: 15, loss: 0.06538818498012042\n",
      "epoch: 16, loss: 0.06346088500420671\n",
      "epoch: 17, loss: 0.059911588759018225\n",
      "epoch: 18, loss: 0.05610185763917495\n",
      "epoch: 19, loss: 0.050317314989799605\n",
      "epoch: 20, loss: 0.043185969866099044\n",
      "epoch: 21, loss: 0.033953124512115865\n",
      "epoch: 22, loss: 0.023582410350215365\n",
      "epoch: 23, loss: 0.013181498012163739\n",
      "epoch: 24, loss: 0.005980184452009845\n",
      "epoch: 25, loss: 0.0026348239559637614\n",
      "epoch: 26, loss: 0.0017302449920312507\n",
      "epoch: 27, loss: 0.001540777995497012\n",
      "epoch: 28, loss: 0.0016318046441203293\n",
      "epoch: 29, loss: 0.0023873766515363996\n",
      "epoch: 30, loss: 0.003985246712537417\n",
      "epoch: 31, loss: 0.005382080111350046\n",
      "epoch: 32, loss: 0.005651220655387966\n",
      "epoch: 33, loss: 0.005141193173777414\n",
      "epoch: 34, loss: 0.004015610815813192\n",
      "epoch: 35, loss: 0.0032344327084835966\n",
      "epoch: 36, loss: 0.0027048387587329725\n",
      "epoch: 37, loss: 0.0021012988906562897\n",
      "epoch: 38, loss: 0.0016539007166821759\n",
      "epoch: 39, loss: 0.001403481900015786\n",
      "epoch: 40, loss: 0.0011822000764488854\n",
      "epoch: 41, loss: 0.0010797643259161736\n",
      "epoch: 42, loss: 0.0011145099571380295\n",
      "epoch: 43, loss: 0.001102262347446571\n",
      "epoch: 44, loss: 0.001053953418037393\n",
      "epoch: 45, loss: 0.0010009503373888983\n",
      "epoch: 46, loss: 0.0009028151911284972\n",
      "epoch: 47, loss: 0.000803455072877282\n",
      "epoch: 48, loss: 0.0007500807846938945\n",
      "epoch: 49, loss: 0.0006961395843508785\n",
      "epoch: 50, loss: 0.0006605904507782842\n",
      "epoch: 51, loss: 0.0005764475172790523\n",
      "epoch: 52, loss: 0.0005259685547861235\n",
      "epoch: 53, loss: 0.0004913660082365105\n",
      "epoch: 54, loss: 0.0004473790598075564\n",
      "epoch: 55, loss: 0.00041536571077935703\n",
      "epoch: 56, loss: 0.0004284120973245708\n",
      "epoch: 57, loss: 0.0003775602721741386\n",
      "epoch: 58, loss: 0.0003356816148460687\n",
      "epoch: 59, loss: 0.00030360993325340043\n",
      "epoch: 60, loss: 0.00026656574224164496\n",
      "epoch: 61, loss: 0.00023802556304486415\n",
      "epoch: 62, loss: 0.00020853962867584233\n",
      "epoch: 63, loss: 0.00019089701491964797\n",
      "epoch: 64, loss: 0.00018348501996291277\n",
      "epoch: 65, loss: 0.00018709082945359893\n",
      "epoch: 66, loss: 0.00016863771077408232\n",
      "epoch: 67, loss: 0.00015350339363683213\n",
      "epoch: 68, loss: 0.00011173171331685286\n",
      "epoch: 69, loss: 0.00012285003735035898\n",
      "epoch: 70, loss: 0.00011802555434124146\n",
      "epoch: 71, loss: 9.506828830853405e-05\n",
      "epoch: 72, loss: 7.459855015956333e-05\n",
      "epoch: 73, loss: 8.211263776879946e-05\n",
      "epoch: 74, loss: 8.638145486202463e-05\n",
      "epoch: 75, loss: 7.206131394913405e-05\n",
      "epoch: 76, loss: 6.05528834033062e-05\n",
      "epoch: 77, loss: 5.354426842566075e-05\n",
      "epoch: 78, loss: 4.0575228659570564e-05\n",
      "epoch: 79, loss: 3.3578958775013385e-05\n",
      "epoch: 80, loss: 2.625917353926041e-05\n",
      "epoch: 81, loss: 2.35331280482093e-05\n",
      "epoch: 82, loss: 2.7090044919300494e-05\n",
      "epoch: 83, loss: 2.577799873935755e-05\n",
      "epoch: 84, loss: 2.6249991170832742e-05\n",
      "epoch: 85, loss: 3.191840333162297e-05\n",
      "epoch: 86, loss: 2.7373664926011468e-05\n",
      "epoch: 87, loss: 3.29695782793187e-05\n",
      "epoch: 88, loss: 2.815323198086276e-05\n",
      "epoch: 89, loss: 2.8916701418726096e-05\n",
      "epoch: 90, loss: 2.9396321570144852e-05\n",
      "epoch: 91, loss: 2.7338034936029294e-05\n",
      "epoch: 92, loss: 2.4518153824112757e-05\n",
      "epoch: 93, loss: 2.753086405057547e-05\n",
      "epoch: 94, loss: 2.7343647888629945e-05\n",
      "epoch: 95, loss: 2.3781297935502114e-05\n",
      "epoch: 96, loss: 2.470475826090762e-05\n",
      "epoch: 97, loss: 1.8349449542060196e-05\n",
      "epoch: 98, loss: 2.161727713595218e-05\n",
      "epoch: 99, loss: 1.9790614698154477e-05\n",
      "1.9301195874876794e-05\n"
     ]
    }
   ],
   "source": [
    "np.random.seed(42)\n",
    "model_list = []\n",
    "for i in tqdm(range(1)):\n",
    "    optimizer = Adam(lr=0.1)\n",
    "    model = RegularizedModel(n_features=n_features, \n",
    "                             n_targets=1, \n",
    "                             reps=3,\n",
    "                             alpha=0,\n",
    "                             train_map=False,\n",
    "                             backend=backend, \n",
    "                             shots=10000, \n",
    "                             optimizer=optimizer)\n",
    "    \n",
    "    model.train(x_train, y_train, epochs=epochs, verbose=True) \n",
    "    model_list.append(model)\n",
    "    print(model.loss[-1])\n",
    "\n",
    "saver(model_list, data_path(\"sparse_no_train_model\"))"
   ]
  },
  {
   "cell_type": "markdown",
   "metadata": {},
   "source": [
    "## Standard Single Circuit"
   ]
  },
  {
   "cell_type": "markdown",
   "metadata": {},
   "source": [
    "### Sparse Input"
   ]
  },
  {
   "cell_type": "code",
   "execution_count": null,
   "metadata": {},
   "outputs": [],
   "source": [
    "np.random.seed(42)\n",
    "model_list = []\n",
    "for i in tqdm(range(1)):\n",
    "    model = sequential_qnn(q_bits = [n_features+1],\n",
    "                     dim = [n_features, 1],\n",
    "                     reps = 3,\n",
    "                     backend=backend,\n",
    "                     shots=10000,\n",
    "                     lr = 0.1)\n",
    "    \n",
    "    model.train(x_train, y_train, epochs=epochs, verbose=True) \n",
    "    model_list.append(model)\n",
    "    print(model.loss[-1])\n",
    "\n",
    "saver(model_list, data_path(\"sparse_standard_model\"))"
   ]
  }
 ],
 "metadata": {
  "kernelspec": {
   "display_name": "env_qiskit",
   "language": "python",
   "name": "env_qiskit"
  },
  "language_info": {
   "codemirror_mode": {
    "name": "ipython",
    "version": 3
   },
   "file_extension": ".py",
   "mimetype": "text/x-python",
   "name": "python",
   "nbconvert_exporter": "python",
   "pygments_lexer": "ipython3",
   "version": "3.9.1"
  }
 },
 "nbformat": 4,
 "nbformat_minor": 4
}
