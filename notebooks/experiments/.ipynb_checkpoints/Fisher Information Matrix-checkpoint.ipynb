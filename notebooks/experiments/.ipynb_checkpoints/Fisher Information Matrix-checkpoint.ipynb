{
 "cells": [
  {
   "cell_type": "code",
   "execution_count": null,
   "metadata": {},
   "outputs": [],
   "source": [
    "import numpy as np\n",
    "import qiskit as qk\n",
    "import matplotlib.pyplot as plt\n",
    "from qiskit import Aer\n",
    "from tqdm.notebook import tqdm\n",
    "\n",
    "import sys\n",
    "sys.path.insert(0, '../../src/')\n",
    "from neuralnetwork import *\n",
    "from analysis import *\n",
    "\n",
    "#%matplotlib notebook\n",
    "%matplotlib inline\n",
    "%load_ext autoreload\n",
    "%autoreload 2"
   ]
  },
  {
   "cell_type": "markdown",
   "metadata": {},
   "source": [
    "# Fisher Information Matrix"
   ]
  },
  {
   "cell_type": "code",
   "execution_count": null,
   "metadata": {},
   "outputs": [],
   "source": [
    "backend = Aer.get_backend('qasm_simulator')\n",
    "\n",
    "np.random.seed(42)\n",
    "x = np.random.uniform(0, np.pi, (100, 10))"
   ]
  },
  {
   "cell_type": "markdown",
   "metadata": {},
   "source": [
    "## Quantum Neural Network\n",
    "\n",
    "### Increasing depth"
   ]
  },
  {
   "cell_type": "code",
   "execution_count": null,
   "metadata": {},
   "outputs": [],
   "source": [
    "np.random.seed(42)\n",
    "\n",
    "network = sequential_qnn(q_bits = [5, 5],\n",
    "                         dim = [5, 5, 1],\n",
    "                         reps = 1,\n",
    "                         backend=backend,\n",
    "                         shots=100000)\n",
    "\n",
    "fim = FIM(network)\n",
    "fim.fit(x[:,:5])\n",
    "saver(fim, data_path(\"fim_QNN_depth_2_width_5_reps_1_shots_100k\"))"
   ]
  },
  {
   "cell_type": "code",
   "execution_count": null,
   "metadata": {},
   "outputs": [],
   "source": [
    "np.random.seed(42)\n",
    "\n",
    "network = sequential_qnn(q_bits = [5, 5, 5],\n",
    "                         dim = [5, 5, 5, 1],\n",
    "                         reps = 1,\n",
    "                         backend=backend,\n",
    "                         shots=100000)\n",
    "\n",
    "fim = FIM(network)\n",
    "fim.fit(x[:,:5])\n",
    "saver(fim, data_path(\"fim_QNN_depth_3_width_5_reps_1_shots_100k\"))"
   ]
  },
  {
   "cell_type": "code",
   "execution_count": null,
   "metadata": {},
   "outputs": [],
   "source": [
    "np.random.seed(42)\n",
    "\n",
    "network = sequential_qnn(q_bits = [5, 5, 5, 5],\n",
    "                         dim = [5, 5, 5, 5, 1],\n",
    "                         reps = 1,\n",
    "                         backend=backend,\n",
    "                         shots=100000)\n",
    "\n",
    "fim = FIM(network)\n",
    "fim.fit(x[:,:5])\n",
    "saver(fim, data_path(\"fim_QNN_depth_4_width_5_reps_1_shots_100k\"))"
   ]
  },
  {
   "cell_type": "code",
   "execution_count": null,
   "metadata": {},
   "outputs": [],
   "source": [
    "np.random.seed(42)\n",
    "\n",
    "network = sequential_qnn(q_bits = [5, 5, 5, 5, 5],\n",
    "                         dim = [5, 5, 5, 5, 5, 1],\n",
    "                         reps = 1,\n",
    "                         backend=backend,\n",
    "                         shots=100000)\n",
    "\n",
    "fim = FIM(network)\n",
    "fim.fit(x[:,:5])\n",
    "saver(fim, data_path(\"fim_QNN_depth_5_width_5_reps_1_shots_100k\"))"
   ]
  },
  {
   "cell_type": "code",
   "execution_count": null,
   "metadata": {},
   "outputs": [],
   "source": [
    "np.random.seed(42)\n",
    "\n",
    "network = sequential_qnn(q_bits = [5, 5, 5, 5, 5, 5],\n",
    "                         dim = [5, 5, 5, 5, 5, 5, 1],\n",
    "                         reps = 1,\n",
    "                         backend=backend,\n",
    "                         shots=100000)\n",
    "\n",
    "fim = FIM(network)\n",
    "fim.fit(x[:,:5])\n",
    "saver(fim, data_path(\"fim_QNN_depth_6_width_5_reps_1_shots_100k\"))"
   ]
  },
  {
   "cell_type": "markdown",
   "metadata": {},
   "source": [
    "### Increasing width"
   ]
  },
  {
   "cell_type": "code",
   "execution_count": null,
   "metadata": {},
   "outputs": [],
   "source": [
    "np.random.seed(42)\n",
    "\n",
    "network = sequential_qnn(q_bits = [3, 3, 3],\n",
    "                         dim = [3, 3, 3, 1],\n",
    "                         reps = 1,\n",
    "                         backend=backend,\n",
    "                         shots=100000)\n",
    "\n",
    "fim = FIM(network)\n",
    "fim.fit(x[:,:3])\n",
    "saver(fim, data_path(\"fim_QNN_depth_3_width_3_reps_1_shots_100k\"))"
   ]
  },
  {
   "cell_type": "code",
   "execution_count": null,
   "metadata": {},
   "outputs": [],
   "source": [
    "np.random.seed(42)\n",
    "\n",
    "network = sequential_qnn(q_bits = [4, 4, 4],\n",
    "                         dim = [4, 4, 4, 1],\n",
    "                         reps = 1,\n",
    "                         backend=backend,\n",
    "                         shots=100000)\n",
    "\n",
    "fim = FIM(network)\n",
    "fim.fit(x[:,:4])\n",
    "saver(fim, data_path(\"fim_QNN_depth_3_width_4_reps_1_shots_100k\"))"
   ]
  },
  {
   "cell_type": "code",
   "execution_count": null,
   "metadata": {},
   "outputs": [],
   "source": [
    "np.random.seed(42)\n",
    "\n",
    "network = sequential_qnn(q_bits = [6, 6, 6],\n",
    "                         dim = [6, 6, 6, 1],\n",
    "                         reps = 1,\n",
    "                         backend=backend,\n",
    "                         shots=100000)\n",
    "\n",
    "fim = FIM(network)\n",
    "fim.fit(x[:,:6])\n",
    "saver(fim, data_path(\"fim_QNN_depth_3_width_6_reps_1_shots_100k\"))"
   ]
  },
  {
   "cell_type": "code",
   "execution_count": null,
   "metadata": {},
   "outputs": [],
   "source": [
    "np.random.seed(42)\n",
    "\n",
    "network = sequential_qnn(q_bits = [7, 7, 7],\n",
    "                         dim = [7, 7, 7, 1],\n",
    "                         reps = 1,\n",
    "                         backend=backend,\n",
    "                         shots=100000)\n",
    "\n",
    "fim = FIM(network)\n",
    "fim.fit(x[:,:7])\n",
    "saver(fim, data_path(\"fim_QNN_depth_3_width_7_reps_1_shots_100k\"))"
   ]
  },
  {
   "cell_type": "code",
   "execution_count": null,
   "metadata": {},
   "outputs": [],
   "source": [
    "np.random.seed(42)\n",
    "\n",
    "network = sequential_qnn(q_bits = [8, 8, 8],\n",
    "                         dim = [8, 8, 8, 1],\n",
    "                         reps = 1,\n",
    "                         backend=backend,\n",
    "                         shots=100000)\n",
    "\n",
    "fim = FIM(network)\n",
    "fim.fit(x[:,:8])\n",
    "saver(fim, data_path(\"fim_QNN_depth_3_width_8_reps_1_shots_100k\"))"
   ]
  },
  {
   "cell_type": "markdown",
   "metadata": {},
   "source": [
    "### Increasing reps"
   ]
  },
  {
   "cell_type": "code",
   "execution_count": null,
   "metadata": {},
   "outputs": [],
   "source": [
    "np.random.seed(42)\n",
    "\n",
    "network = sequential_qnn(q_bits = [5, 5, 5],\n",
    "                         dim = [5, 5, 5, 1],\n",
    "                         reps = 2,\n",
    "                         backend=backend,\n",
    "                         shots=100000)\n",
    "\n",
    "fim = FIM(network)\n",
    "fim.fit(x[:,:5])\n",
    "saver(fim, data_path(\"fim_QNN_depth_3_width_5_reps_2_shots_100k\"))"
   ]
  },
  {
   "cell_type": "code",
   "execution_count": null,
   "metadata": {},
   "outputs": [],
   "source": [
    "np.random.seed(42)\n",
    "\n",
    "network = sequential_qnn(q_bits = [5, 5, 5],\n",
    "                         dim = [5, 5, 5, 1],\n",
    "                         reps = 3,\n",
    "                         backend=backend,\n",
    "                         shots=100000)\n",
    "\n",
    "fim = FIM(network)\n",
    "fim.fit(x[:,:5])\n",
    "saver(fim, data_path(\"fim_QNN_depth_3_width_5_reps_3_shots_100k\"))"
   ]
  },
  {
   "cell_type": "code",
   "execution_count": null,
   "metadata": {},
   "outputs": [],
   "source": [
    "np.random.seed(42)\n",
    "\n",
    "network = sequential_qnn(q_bits = [5, 5, 5],\n",
    "                         dim = [5, 5, 5, 1],\n",
    "                         reps = 4,\n",
    "                         backend=backend,\n",
    "                         shots=100000)\n",
    "\n",
    "fim = FIM(network)\n",
    "fim.fit(x[:,:5])\n",
    "saver(fim, data_path(\"fim_QNN_depth_3_width_5_reps_4_shots_100k\"))"
   ]
  },
  {
   "cell_type": "markdown",
   "metadata": {},
   "source": [
    "## Classical Network"
   ]
  }
 ],
 "metadata": {
  "kernelspec": {
   "display_name": "env_qiskit",
   "language": "python",
   "name": "env_qiskit"
  },
  "language_info": {
   "codemirror_mode": {
    "name": "ipython",
    "version": 3
   },
   "file_extension": ".py",
   "mimetype": "text/x-python",
   "name": "python",
   "nbconvert_exporter": "python",
   "pygments_lexer": "ipython3",
   "version": "3.9.1"
  }
 },
 "nbformat": 4,
 "nbformat_minor": 4
}
