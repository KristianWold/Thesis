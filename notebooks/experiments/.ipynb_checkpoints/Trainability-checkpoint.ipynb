{
 "cells": [
  {
   "cell_type": "code",
   "execution_count": 1,
   "metadata": {},
   "outputs": [],
   "source": [
    "import numpy as np\n",
    "import qiskit as qk\n",
    "import matplotlib.pyplot as plt\n",
    "from qiskit import Aer\n",
    "from sklearn.decomposition import PCA\n",
    "from tqdm.notebook import tqdm\n",
    "\n",
    "import sys\n",
    "sys.path.insert(0, '../../src/')\n",
    "from neuralnetwork import *\n",
    "from analysis import *\n",
    "from utils import *\n",
    "\n",
    "#%matplotlib notebook\n",
    "%matplotlib inline\n",
    "%load_ext autoreload\n",
    "%autoreload 2"
   ]
  },
  {
   "cell_type": "code",
   "execution_count": 2,
   "metadata": {},
   "outputs": [],
   "source": [
    "backend = Aer.get_backend('qasm_simulator')"
   ]
  },
  {
   "cell_type": "markdown",
   "metadata": {},
   "source": [
    "# Trainability"
   ]
  },
  {
   "cell_type": "markdown",
   "metadata": {},
   "source": [
    "## 1D, Constant Function"
   ]
  },
  {
   "cell_type": "markdown",
   "metadata": {},
   "source": [
    "### Generate Data"
   ]
  },
  {
   "cell_type": "code",
   "execution_count": 13,
   "metadata": {},
   "outputs": [],
   "source": [
    "n = 100\n",
    "x = np.linspace(0, 1, n).reshape(-1,1)\n",
    "y = 0.5*np.ones((n,1))\n",
    "\n",
    "x = scaler(x, a=0, b=np.pi)"
   ]
  },
  {
   "cell_type": "code",
   "execution_count": 14,
   "metadata": {},
   "outputs": [
    {
     "data": {
      "image/png": "[encoded data removed]",
      "text/plain": [
       "<Figure size 432x288 with 1 Axes>"
      ]
     },
     "metadata": {
      "needs_background": "light"
     },
     "output_type": "display_data"
    }
   ],
   "source": [
    "plt.plot(x, y, 'o')\n",
    "plt.show()"
   ]
  },
  {
   "cell_type": "markdown",
   "metadata": {},
   "source": [
    "### Training Models"
   ]
  },
  {
   "cell_type": "code",
   "execution_count": null,
   "metadata": {},
   "outputs": [],
   "source": [
    "np.random.seed(42)\n",
    "\n",
    "qnn_list = []\n",
    "for i in range(10):\n",
    "    qnn = sequential_qnn(q_bits = [1, 4],\n",
    "                         dim = [1, 4, 1],\n",
    "                         reps = 1,\n",
    "                         backend=backend,\n",
    "                         shots=10000,\n",
    "                         lr = 0.1)\n",
    "    qnn.train(x, y, epochs=100, verbose=True)\n",
    "    qnn_list.append(qnn)\n"
   ]
  },
  {
   "cell_type": "code",
   "execution_count": null,
   "metadata": {},
   "outputs": [],
   "source": [
    "saver(qnn_list, data_path(\"trainability_qnn_1D_reps_1_constant\"))"
   ]
  },
  {
   "cell_type": "code",
   "execution_count": null,
   "metadata": {},
   "outputs": [],
   "source": [
    "np.random.seed(42)\n",
    "\n",
    "qnn_list = []\n",
    "for i in range(10):\n",
    "    qnn = sequential_qnn(q_bits = [1, 4],\n",
    "                         dim = [1, 4, 1],\n",
    "                         reps = 2,\n",
    "                         backend=backend,\n",
    "                         shots=10000,\n",
    "                         lr = 0.1)\n",
    "    qnn.train(x, y, epochs=100)\n",
    "    qnn_list.append(qnn)\n",
    "\n",
    "saver(qnn_list, data_path(\"trainability_qnn_1D_reps_2_constant\"))"
   ]
  },
  {
   "cell_type": "code",
   "execution_count": null,
   "metadata": {},
   "outputs": [],
   "source": [
    "np.random.seed(42)\n",
    "\n",
    "dnn_list = []\n",
    "for i in range(10):\n",
    "    dnn = sequential_dnn(dim = [1, 3, 1],\n",
    "                         lr = 0.1)\n",
    "    \n",
    "    dnn.train(x, y, epochs=1000)\n",
    "    dnn_list.append(dnn)\n",
    "\n",
    "saver(dnn_list, data_path(\"trainability_dnn_1D_constant\"))"
   ]
  },
  {
   "cell_type": "markdown",
   "metadata": {},
   "source": [
    "## 1D, Gaussian Function"
   ]
  },
  {
   "cell_type": "markdown",
   "metadata": {},
   "source": [
    "### Generate Data"
   ]
  },
  {
   "cell_type": "code",
   "execution_count": 15,
   "metadata": {},
   "outputs": [
    {
     "name": "stdout",
     "output_type": "stream",
     "text": [
      "(100, 1)\n"
     ]
    }
   ],
   "source": [
    "n = 100\n",
    "x = np.linspace(0, 1, n).reshape(-1,1)\n",
    "y = gaussian(x, 0.3, 0.02) - gaussian(x, 0.7, 0.02) \n",
    "\n",
    "x = scaler(x, a=0, b=np.pi)\n",
    "y = scaler(y, a=0.1, b=0.9)\n",
    "print(y.shape)"
   ]
  },
  {
   "cell_type": "code",
   "execution_count": 16,
   "metadata": {
    "scrolled": true
   },
   "outputs": [
    {
     "data": {
      "image/png": "[encoded data removed]",
      "text/plain": [
       "<Figure size 432x288 with 1 Axes>"
      ]
     },
     "metadata": {
      "needs_background": "light"
     },
     "output_type": "display_data"
    }
   ],
   "source": [
    "plt.plot(x, y, 'o')\n",
    "plt.show()"
   ]
  },
  {
   "cell_type": "markdown",
   "metadata": {},
   "source": [
    "### Training Models"
   ]
  },
  {
   "cell_type": "code",
   "execution_count": null,
   "metadata": {},
   "outputs": [],
   "source": [
    "np.random.seed(42)\n",
    "\n",
    "qnn_list = []\n",
    "for i in range(10):\n",
    "    qnn = sequential_qnn(q_bits = [1, 4],\n",
    "                         dim = [1, 4, 1],\n",
    "                         reps = 1,\n",
    "                         backend=backend,\n",
    "                         shots=10000,\n",
    "                         lr = 0.1)\n",
    "    qnn.train(x, y, epochs=100)\n",
    "    qnn_list.append(qnn)\n",
    "\n",
    "saver(qnn_list, data_path(\"trainability_qnn_1D_reps_1\"))"
   ]
  },
  {
   "cell_type": "code",
   "execution_count": null,
   "metadata": {},
   "outputs": [],
   "source": [
    "np.random.seed(42)\n",
    "\n",
    "qnn_list = []\n",
    "for i in range(10):\n",
    "    qnn = sequential_qnn(q_bits = [1, 4],\n",
    "                         dim = [1, 4, 1],\n",
    "                         reps = 2,\n",
    "                         backend=backend,\n",
    "                         shots=10000,\n",
    "                         lr = 0.1)\n",
    "    qnn.train(x, y, epochs=100)\n",
    "    qnn_list.append(qnn)\n",
    "\n",
    "saver(qnn_list, data_path(\"trainability_qnn_1D_reps_2\"))"
   ]
  },
  {
   "cell_type": "code",
   "execution_count": 17,
   "metadata": {},
   "outputs": [],
   "source": [
    "np.random.seed(42)\n",
    "dnn_list = []\n",
    "for i in range(10):\n",
    "    dnn = sequential_dnn(dim = [1, 5, 1],\n",
    "                         lr = 0.1)\n",
    "    \n",
    "    dnn.train(x, y, epochs=1000)\n",
    "    dnn_list.append(dnn)\n",
    "\n",
    "saver(dnn_list, data_path(\"trainability_dnn_1D\"))"
   ]
  },
  {
   "cell_type": "markdown",
   "metadata": {},
   "source": [
    "## 2D function"
   ]
  },
  {
   "cell_type": "markdown",
   "metadata": {},
   "source": [
    "### Generate Data"
   ]
  },
  {
   "cell_type": "code",
   "execution_count": 21,
   "metadata": {},
   "outputs": [],
   "source": [
    "np.random.seed(42)\n",
    "\n",
    "n = 10\n",
    "x = np.linspace(0, 1, n)\n",
    "x = generate_meshgrid([x,x])\n",
    "\n",
    "mean1 = np.array([[0.25, 0.75]])\n",
    "var1 = np.array([[0.02, 0], [0, 0.02]])\n",
    "\n",
    "mean2 = np.array([[0.75, 0.25]])\n",
    "var2 = np.array([[0.02, 0], [0, 0.02]])\n",
    "\n",
    "mean3 = np.array([[0.25, 0.25]])\n",
    "var3 = np.array([[0.02, 0], [0, 0.02]])\n",
    "\n",
    "mean4 = np.array([[0.75, 0.75]])\n",
    "var4 = np.array([[0.02, 0], [0, 0.02]])\n",
    "\n",
    "y = gaussian(x, mean1, var1) + gaussian(x, mean2, var2) - gaussian(x, mean3, var3) - gaussian(x, mean4, var4)\n",
    "\n",
    "\n",
    "x_qnn = scaler(x, a=0, b=np.pi)\n",
    "x_dnn = (x - np.mean(x, axis=0))/np.std(x, axis=0)\n",
    "y = scaler(y, a=0, b=1)"
   ]
  },
  {
   "cell_type": "code",
   "execution_count": 22,
   "metadata": {},
   "outputs": [
    {
     "data": {
      "image/png": "[encoded data removed]",
      "text/plain": [
       "<Figure size 432x288 with 1 Axes>"
      ]
     },
     "metadata": {
      "needs_background": "light"
     },
     "output_type": "display_data"
    }
   ],
   "source": [
    "plt.imshow(y.reshape(n,n))\n",
    "plt.show()"
   ]
  },
  {
   "cell_type": "markdown",
   "metadata": {},
   "source": [
    "### Training Models"
   ]
  },
  {
   "cell_type": "code",
   "execution_count": 13,
   "metadata": {},
   "outputs": [
    {
     "data": {
      "application/vnd.jupyter.widget-view+json": {
       "model_id": "7ef781e2d4364b4797e7ad9822f11819",
       "version_major": 2,
       "version_minor": 0
      },
      "text/plain": [
       "  0%|          | 0/10 [00:00<?, ?it/s]"
      ]
     },
     "metadata": {},
     "output_type": "display_data"
    },
    {
     "data": {
      "application/vnd.jupyter.widget-view+json": {
       "model_id": "a8d8147c97bf4aaaaebdc959a2a96d52",
       "version_major": 2,
       "version_minor": 0
      },
      "text/plain": [
       "  0%|          | 0/100 [00:00<?, ?it/s]"
      ]
     },
     "metadata": {},
     "output_type": "display_data"
    },
    {
     "name": "stdout",
     "output_type": "stream",
     "text": [
      "epoch: 0, loss: 0.09586317905625538\n",
      "epoch: 1, loss: 0.05656953260454042\n",
      "epoch: 2, loss: 0.04688701516006895\n",
      "epoch: 3, loss: 0.047755678048540445\n",
      "epoch: 4, loss: 0.04486530111115115\n",
      "epoch: 5, loss: 0.04006747157302971\n",
      "epoch: 6, loss: 0.03826027767225782\n",
      "epoch: 7, loss: 0.0376505806456495\n",
      "epoch: 8, loss: 0.03571657504752377\n",
      "epoch: 9, loss: 0.03291808645465852\n",
      "epoch: 10, loss: 0.030872570259788987\n",
      "epoch: 11, loss: 0.030649154219042796\n",
      "epoch: 12, loss: 0.03099287564660433\n",
      "epoch: 13, loss: 0.03200529030464381\n",
      "epoch: 14, loss: 0.032599922986091566\n",
      "epoch: 15, loss: 0.03205172957951995\n",
      "epoch: 16, loss: 0.03224787692950825\n",
      "epoch: 17, loss: 0.032039289352025026\n",
      "epoch: 18, loss: 0.030771870706771433\n",
      "epoch: 19, loss: 0.02978678201759317\n",
      "epoch: 20, loss: 0.028892952793944337\n",
      "epoch: 21, loss: 0.02790872384679704\n",
      "epoch: 22, loss: 0.027511141575472825\n",
      "epoch: 23, loss: 0.02686722557794921\n",
      "epoch: 24, loss: 0.02730517500190881\n",
      "epoch: 25, loss: 0.02752113103794897\n",
      "epoch: 26, loss: 0.026548040017878832\n",
      "epoch: 27, loss: 0.027343209379710003\n",
      "epoch: 28, loss: 0.026725032315667877\n",
      "epoch: 29, loss: 0.026860871398666795\n",
      "epoch: 30, loss: 0.027176858602648835\n",
      "epoch: 31, loss: 0.026993664523413497\n",
      "epoch: 32, loss: 0.02661068121808891\n",
      "epoch: 33, loss: 0.026234775013686665\n",
      "epoch: 34, loss: 0.02729708607795781\n",
      "epoch: 35, loss: 0.026891566937798782\n",
      "epoch: 36, loss: 0.026922862109723045\n",
      "epoch: 37, loss: 0.026716326567179583\n",
      "epoch: 38, loss: 0.02657063018801996\n",
      "epoch: 39, loss: 0.026120950305544146\n",
      "epoch: 40, loss: 0.02615322921439229\n",
      "epoch: 41, loss: 0.02587012935395294\n",
      "epoch: 42, loss: 0.02566033749972886\n",
      "epoch: 43, loss: 0.025948178533324616\n",
      "epoch: 44, loss: 0.02557143249895308\n",
      "epoch: 45, loss: 0.026196471174420748\n",
      "epoch: 46, loss: 0.026084625937833512\n",
      "epoch: 47, loss: 0.025972117176988364\n",
      "epoch: 48, loss: 0.02562188474089884\n",
      "epoch: 49, loss: 0.02619829673278915\n",
      "epoch: 50, loss: 0.02655214054168701\n",
      "epoch: 51, loss: 0.026128655322807143\n",
      "epoch: 52, loss: 0.025484933103768447\n",
      "epoch: 53, loss: 0.025918584217642593\n",
      "epoch: 54, loss: 0.026156916654737142\n",
      "epoch: 55, loss: 0.0255613165902755\n",
      "epoch: 56, loss: 0.02576330753775867\n",
      "epoch: 57, loss: 0.026046685616677338\n",
      "epoch: 58, loss: 0.026090216604343595\n",
      "epoch: 59, loss: 0.025699379824016898\n",
      "epoch: 60, loss: 0.02550944264695933\n",
      "epoch: 61, loss: 0.025862547407864988\n",
      "epoch: 62, loss: 0.026323245402553628\n",
      "epoch: 63, loss: 0.026273574225272975\n",
      "epoch: 64, loss: 0.025892309681076316\n",
      "epoch: 65, loss: 0.02569593123491021\n",
      "epoch: 66, loss: 0.025710958274139162\n",
      "epoch: 67, loss: 0.02576307839581844\n",
      "epoch: 68, loss: 0.02569152645744085\n",
      "epoch: 69, loss: 0.02562720945012839\n",
      "epoch: 70, loss: 0.02511342956444229\n",
      "epoch: 71, loss: 0.025587543415866425\n",
      "epoch: 72, loss: 0.026109147286582868\n",
      "epoch: 73, loss: 0.025661719820102\n",
      "epoch: 74, loss: 0.025214228849422732\n",
      "epoch: 75, loss: 0.025632283299767935\n",
      "epoch: 76, loss: 0.025649324781928648\n",
      "epoch: 77, loss: 0.025991601186702313\n",
      "epoch: 78, loss: 0.02601089661491583\n",
      "epoch: 79, loss: 0.02548596663267866\n",
      "epoch: 80, loss: 0.02553702121256121\n",
      "epoch: 81, loss: 0.02535055554863318\n",
      "epoch: 82, loss: 0.025771331133281637\n",
      "epoch: 83, loss: 0.025676770793486133\n",
      "epoch: 84, loss: 0.02579401741458592\n",
      "epoch: 85, loss: 0.02548177704491777\n",
      "epoch: 86, loss: 0.025870700721886145\n",
      "epoch: 87, loss: 0.025588236627712622\n",
      "epoch: 88, loss: 0.02529708526884823\n",
      "epoch: 89, loss: 0.025712578630927508\n",
      "epoch: 90, loss: 0.025276921284095314\n",
      "epoch: 91, loss: 0.02598225401779906\n",
      "epoch: 92, loss: 0.025962112314010778\n",
      "epoch: 93, loss: 0.025569282723009526\n",
      "epoch: 94, loss: 0.025341585803092162\n",
      "epoch: 95, loss: 0.025973844403929247\n",
      "epoch: 96, loss: 0.025639202995873425\n",
      "epoch: 97, loss: 0.025527937842205025\n",
      "epoch: 98, loss: 0.025313099561648702\n",
      "epoch: 99, loss: 0.025790351028429415\n"
     ]
    },
    {
     "data": {
      "application/vnd.jupyter.widget-view+json": {
       "model_id": "c369bf5910404c7dbc9e9fd8eac15a32",
       "version_major": 2,
       "version_minor": 0
      },
      "text/plain": [
       "  0%|          | 0/100 [00:00<?, ?it/s]"
      ]
     },
     "metadata": {},
     "output_type": "display_data"
    },
    {
     "name": "stdout",
     "output_type": "stream",
     "text": [
      "epoch: 0, loss: 0.11496378135429416\n",
      "epoch: 1, loss: 0.08676129215490713\n",
      "epoch: 2, loss: 0.07078895680209361\n",
      "epoch: 3, loss: 0.064143562975283\n",
      "epoch: 4, loss: 0.0585000834935635\n",
      "epoch: 5, loss: 0.052724836185928395\n",
      "epoch: 6, loss: 0.04726012313256143\n",
      "epoch: 7, loss: 0.04276074582689757\n",
      "epoch: 8, loss: 0.037170361105434584\n",
      "epoch: 9, loss: 0.03281220315870293\n",
      "epoch: 10, loss: 0.028397679677904897\n",
      "epoch: 11, loss: 0.02548812697240532\n",
      "epoch: 12, loss: 0.02253752315047881\n",
      "epoch: 13, loss: 0.019312499929008436\n",
      "epoch: 14, loss: 0.017529882461043048\n",
      "epoch: 15, loss: 0.018893817722567045\n",
      "epoch: 16, loss: 0.020016697694964673\n",
      "epoch: 17, loss: 0.01975636518506897\n",
      "epoch: 18, loss: 0.01860475051590328\n",
      "epoch: 19, loss: 0.015937230315332514\n",
      "epoch: 20, loss: 0.014165942240119498\n",
      "epoch: 21, loss: 0.013259879313951693\n",
      "epoch: 22, loss: 0.012849919537023094\n",
      "epoch: 23, loss: 0.01192141693569994\n",
      "epoch: 24, loss: 0.011955728223593974\n",
      "epoch: 25, loss: 0.01168508844488265\n",
      "epoch: 26, loss: 0.012994203886010514\n",
      "epoch: 27, loss: 0.013478625321543689\n",
      "epoch: 28, loss: 0.013806358241330944\n",
      "epoch: 29, loss: 0.013441476169594456\n",
      "epoch: 30, loss: 0.012763055045133998\n",
      "epoch: 31, loss: 0.011890677546092883\n",
      "epoch: 32, loss: 0.011659842808266294\n",
      "epoch: 33, loss: 0.01154393139164529\n",
      "epoch: 34, loss: 0.01172316534962243\n",
      "epoch: 35, loss: 0.011953173210404558\n",
      "epoch: 36, loss: 0.011751272440175011\n",
      "epoch: 37, loss: 0.011746330814955838\n",
      "epoch: 38, loss: 0.011758339120927967\n",
      "epoch: 39, loss: 0.012054844178210178\n",
      "epoch: 40, loss: 0.011777224128519172\n",
      "epoch: 41, loss: 0.011146905503729113\n",
      "epoch: 42, loss: 0.011146058209532789\n",
      "epoch: 43, loss: 0.010673071188988137\n",
      "epoch: 44, loss: 0.010816259764420515\n",
      "epoch: 45, loss: 0.011043390806921112\n",
      "epoch: 46, loss: 0.010947635593324819\n",
      "epoch: 47, loss: 0.0114695937522472\n",
      "epoch: 48, loss: 0.01105266025772204\n",
      "epoch: 49, loss: 0.011138802631144003\n",
      "epoch: 50, loss: 0.011193116557164555\n",
      "epoch: 51, loss: 0.010948399578463032\n",
      "epoch: 52, loss: 0.010950662170567662\n",
      "epoch: 53, loss: 0.010846930701952529\n",
      "epoch: 54, loss: 0.010786329178886007\n",
      "epoch: 55, loss: 0.010431354016283353\n",
      "epoch: 56, loss: 0.010800885315703597\n",
      "epoch: 57, loss: 0.011072536870187525\n",
      "epoch: 58, loss: 0.01093457093990231\n",
      "epoch: 59, loss: 0.010748704577141457\n",
      "epoch: 60, loss: 0.010718936080488729\n",
      "epoch: 61, loss: 0.01101319670603484\n",
      "epoch: 62, loss: 0.010825198701236126\n",
      "epoch: 63, loss: 0.010656233459321788\n",
      "epoch: 64, loss: 0.010349931409049402\n",
      "epoch: 65, loss: 0.010781123287938904\n",
      "epoch: 66, loss: 0.010689782787991342\n",
      "epoch: 67, loss: 0.01086009217625125\n",
      "epoch: 68, loss: 0.010500254118143384\n",
      "epoch: 69, loss: 0.010695235840266848\n",
      "epoch: 70, loss: 0.010450141228473724\n",
      "epoch: 71, loss: 0.010646653600524596\n",
      "epoch: 72, loss: 0.01039641205838267\n",
      "epoch: 73, loss: 0.010211962246951116\n",
      "epoch: 74, loss: 0.010974617859129406\n",
      "epoch: 75, loss: 0.010391885942311512\n",
      "epoch: 76, loss: 0.010503229120676664\n",
      "epoch: 77, loss: 0.010865646159409563\n",
      "epoch: 78, loss: 0.010858328349701072\n",
      "epoch: 79, loss: 0.010272821494019013\n",
      "epoch: 80, loss: 0.010300230687754408\n",
      "epoch: 81, loss: 0.010920193310209747\n",
      "epoch: 82, loss: 0.010509315470386247\n",
      "epoch: 83, loss: 0.010482357733576239\n",
      "epoch: 84, loss: 0.010794512685572582\n",
      "epoch: 85, loss: 0.01077062984050473\n",
      "epoch: 86, loss: 0.010581956133672616\n",
      "epoch: 87, loss: 0.010705953581342225\n",
      "epoch: 88, loss: 0.010537743839316526\n",
      "epoch: 89, loss: 0.010602363025040524\n",
      "epoch: 90, loss: 0.010245801535358843\n",
      "epoch: 91, loss: 0.010334474940698118\n",
      "epoch: 92, loss: 0.010564605559831367\n",
      "epoch: 93, loss: 0.010592475367351372\n",
      "epoch: 94, loss: 0.010226159146829424\n",
      "epoch: 95, loss: 0.010577739576643243\n",
      "epoch: 96, loss: 0.010521821473525792\n",
      "epoch: 97, loss: 0.010806813437425426\n",
      "epoch: 98, loss: 0.010786176924841453\n",
      "epoch: 99, loss: 0.010327664076505679\n"
     ]
    },
    {
     "data": {
      "application/vnd.jupyter.widget-view+json": {
       "model_id": "6a9ef220a9db4a35a96c7415f1a386fd",
       "version_major": 2,
       "version_minor": 0
      },
      "text/plain": [
       "  0%|          | 0/100 [00:00<?, ?it/s]"
      ]
     },
     "metadata": {},
     "output_type": "display_data"
    },
    {
     "name": "stdout",
     "output_type": "stream",
     "text": [
      "epoch: 0, loss: 0.04424906671827487\n",
      "epoch: 1, loss: 0.032145249900173846\n",
      "epoch: 2, loss: 0.027615176752381967\n",
      "epoch: 3, loss: 0.024727990432720833\n",
      "epoch: 4, loss: 0.021175541138795283\n",
      "epoch: 5, loss: 0.02021503517725923\n",
      "epoch: 6, loss: 0.020426212609595446\n",
      "epoch: 7, loss: 0.01938251337259296\n",
      "epoch: 8, loss: 0.019263508587704353\n",
      "epoch: 9, loss: 0.019567564916929805\n",
      "epoch: 10, loss: 0.019362771637605445\n",
      "epoch: 11, loss: 0.019438122256854894\n",
      "epoch: 12, loss: 0.019726359216410874\n",
      "epoch: 13, loss: 0.0198504194849329\n",
      "epoch: 14, loss: 0.01955037028120325\n",
      "epoch: 15, loss: 0.019116428314692104\n",
      "epoch: 16, loss: 0.0188295848986712\n",
      "epoch: 17, loss: 0.018456879027607915\n",
      "epoch: 18, loss: 0.01778175623496988\n",
      "epoch: 19, loss: 0.01754909062760922\n",
      "epoch: 20, loss: 0.01706309469388007\n",
      "epoch: 21, loss: 0.016426239100312875\n",
      "epoch: 22, loss: 0.01596478817933225\n",
      "epoch: 23, loss: 0.015430084792874737\n",
      "epoch: 24, loss: 0.014821925609331122\n",
      "epoch: 25, loss: 0.014466839527624776\n",
      "epoch: 26, loss: 0.013653827835777685\n",
      "epoch: 27, loss: 0.01319804365257646\n",
      "epoch: 28, loss: 0.013175279220345696\n",
      "epoch: 29, loss: 0.012749097779893281\n",
      "epoch: 30, loss: 0.012528396975120032\n",
      "epoch: 31, loss: 0.012173616978332977\n",
      "epoch: 32, loss: 0.012394619578132163\n",
      "epoch: 33, loss: 0.012118540118283606\n",
      "epoch: 34, loss: 0.012185596594692817\n",
      "epoch: 35, loss: 0.012016497431856128\n",
      "epoch: 36, loss: 0.011829337225246584\n",
      "epoch: 37, loss: 0.011887437297032968\n",
      "epoch: 38, loss: 0.01166822567535854\n",
      "epoch: 39, loss: 0.01122034980631352\n",
      "epoch: 40, loss: 0.011548519364233062\n",
      "epoch: 41, loss: 0.011213363464001149\n",
      "epoch: 42, loss: 0.01128061843451828\n",
      "epoch: 43, loss: 0.011229625096539764\n",
      "epoch: 44, loss: 0.010661606887433245\n",
      "epoch: 45, loss: 0.010966732311233528\n",
      "epoch: 46, loss: 0.010499894695716511\n",
      "epoch: 47, loss: 0.010551585384736297\n",
      "epoch: 48, loss: 0.010393550042606921\n",
      "epoch: 49, loss: 0.010391281401823469\n",
      "epoch: 50, loss: 0.010291640584410464\n",
      "epoch: 51, loss: 0.009716910219375392\n",
      "epoch: 52, loss: 0.010015439442623897\n",
      "epoch: 53, loss: 0.009732644398468054\n",
      "epoch: 54, loss: 0.009541016360402974\n",
      "epoch: 55, loss: 0.009584074559219063\n",
      "epoch: 56, loss: 0.009709822732743303\n",
      "epoch: 57, loss: 0.009717957523433235\n",
      "epoch: 58, loss: 0.0091955766678829\n",
      "epoch: 59, loss: 0.009452580509304032\n",
      "epoch: 60, loss: 0.009741885103025455\n",
      "epoch: 61, loss: 0.009766911280129463\n",
      "epoch: 62, loss: 0.009442364616895646\n",
      "epoch: 63, loss: 0.009264046539965628\n",
      "epoch: 64, loss: 0.009585638303981353\n",
      "epoch: 65, loss: 0.009598304488416287\n",
      "epoch: 66, loss: 0.009628039033930346\n",
      "epoch: 67, loss: 0.009573346612860842\n",
      "epoch: 68, loss: 0.009556703105667504\n",
      "epoch: 69, loss: 0.00918384683143143\n",
      "epoch: 70, loss: 0.009690026349028068\n",
      "epoch: 71, loss: 0.009503429795150401\n",
      "epoch: 72, loss: 0.00928844067248501\n",
      "epoch: 73, loss: 0.009265421413440451\n",
      "epoch: 74, loss: 0.009362639276710931\n",
      "epoch: 75, loss: 0.009463106134384865\n",
      "epoch: 76, loss: 0.009468489474828135\n",
      "epoch: 77, loss: 0.00934005843228727\n",
      "epoch: 78, loss: 0.00938889176855856\n",
      "epoch: 79, loss: 0.009024712303181477\n",
      "epoch: 80, loss: 0.009490752810058461\n",
      "epoch: 81, loss: 0.009275939149030587\n",
      "epoch: 82, loss: 0.009119263684586112\n",
      "epoch: 83, loss: 0.009485891655655563\n",
      "epoch: 84, loss: 0.009501594404100606\n",
      "epoch: 85, loss: 0.009291646468050562\n",
      "epoch: 86, loss: 0.009372911904299846\n",
      "epoch: 87, loss: 0.009175190525256826\n",
      "epoch: 88, loss: 0.009280101839902051\n",
      "epoch: 89, loss: 0.009116977340781667\n",
      "epoch: 90, loss: 0.009289909546389917\n",
      "epoch: 91, loss: 0.009597648362917158\n",
      "epoch: 92, loss: 0.009372789190602769\n",
      "epoch: 93, loss: 0.00922211690015525\n",
      "epoch: 94, loss: 0.009163946009782719\n",
      "epoch: 95, loss: 0.009671905840468792\n",
      "epoch: 96, loss: 0.009493471693104386\n",
      "epoch: 97, loss: 0.009575338080595991\n",
      "epoch: 98, loss: 0.009396122978607306\n",
      "epoch: 99, loss: 0.00953105762054572\n"
     ]
    },
    {
     "data": {
      "application/vnd.jupyter.widget-view+json": {
       "model_id": "789fc2e99eac4029ac470e334a0e2b8b",
       "version_major": 2,
       "version_minor": 0
      },
      "text/plain": [
       "  0%|          | 0/100 [00:00<?, ?it/s]"
      ]
     },
     "metadata": {},
     "output_type": "display_data"
    },
    {
     "name": "stdout",
     "output_type": "stream",
     "text": [
      "epoch: 0, loss: 0.05414902996591184\n",
      "epoch: 1, loss: 0.048769311963035994\n",
      "epoch: 2, loss: 0.04621691637470064\n",
      "epoch: 3, loss: 0.04420806733064701\n",
      "epoch: 4, loss: 0.041313180110018485\n",
      "epoch: 5, loss: 0.038780804639037464\n",
      "epoch: 6, loss: 0.035655361741684974\n",
      "epoch: 7, loss: 0.032819863448892816\n",
      "epoch: 8, loss: 0.029334499597718132\n",
      "epoch: 9, loss: 0.025582412797931754\n",
      "epoch: 10, loss: 0.021295469335984266\n",
      "epoch: 11, loss: 0.018284256603641583\n",
      "epoch: 12, loss: 0.01585186317589909\n",
      "epoch: 13, loss: 0.014769994095521866\n",
      "epoch: 14, loss: 0.014049292510062346\n",
      "epoch: 15, loss: 0.0138377766865014\n",
      "epoch: 16, loss: 0.012852853153430868\n",
      "epoch: 17, loss: 0.011626084924072952\n",
      "epoch: 18, loss: 0.010780375009644426\n",
      "epoch: 19, loss: 0.010852580668404667\n",
      "epoch: 20, loss: 0.010521190857684857\n",
      "epoch: 21, loss: 0.010616659647044413\n",
      "epoch: 22, loss: 0.010714166394280886\n",
      "epoch: 23, loss: 0.011246785332157495\n",
      "epoch: 24, loss: 0.01113854865447696\n",
      "epoch: 25, loss: 0.01136280759464148\n",
      "epoch: 26, loss: 0.011356348256678538\n",
      "epoch: 27, loss: 0.011199158544058922\n",
      "epoch: 28, loss: 0.011596520998835484\n",
      "epoch: 29, loss: 0.010800893368732524\n",
      "epoch: 30, loss: 0.011182674244896993\n",
      "epoch: 31, loss: 0.010761071485412015\n",
      "epoch: 32, loss: 0.010344399535160576\n",
      "epoch: 33, loss: 0.010482453878841702\n",
      "epoch: 34, loss: 0.010235619683189813\n",
      "epoch: 35, loss: 0.010186003748008392\n",
      "epoch: 36, loss: 0.010693632163887745\n",
      "epoch: 37, loss: 0.010301105944817536\n",
      "epoch: 38, loss: 0.010191927973462887\n",
      "epoch: 39, loss: 0.010247280752993537\n",
      "epoch: 40, loss: 0.010222579132120128\n",
      "epoch: 41, loss: 0.010102445865934662\n",
      "epoch: 42, loss: 0.010075226161624914\n",
      "epoch: 43, loss: 0.009820453874104946\n",
      "epoch: 44, loss: 0.009880502045291199\n",
      "epoch: 45, loss: 0.010169953049322382\n",
      "epoch: 46, loss: 0.009749848817036168\n",
      "epoch: 47, loss: 0.009812002299831106\n",
      "epoch: 48, loss: 0.00998455054138644\n",
      "epoch: 49, loss: 0.01002618969573302\n",
      "epoch: 50, loss: 0.010081654878262463\n",
      "epoch: 51, loss: 0.010011346869857203\n",
      "epoch: 52, loss: 0.010128667732763313\n",
      "epoch: 53, loss: 0.009518674347469044\n",
      "epoch: 54, loss: 0.010017892010229717\n",
      "epoch: 55, loss: 0.009609784804188094\n",
      "epoch: 56, loss: 0.009852276685884308\n",
      "epoch: 57, loss: 0.009800741024960565\n",
      "epoch: 58, loss: 0.009797177803125074\n",
      "epoch: 59, loss: 0.010078553749097871\n",
      "epoch: 60, loss: 0.009936540517257736\n",
      "epoch: 61, loss: 0.00978413343258921\n",
      "epoch: 62, loss: 0.009742715640030854\n",
      "epoch: 63, loss: 0.009679578293741659\n",
      "epoch: 64, loss: 0.009380929576577978\n",
      "epoch: 65, loss: 0.009611143118227014\n",
      "epoch: 66, loss: 0.009650185700551232\n",
      "epoch: 67, loss: 0.009909914356777181\n",
      "epoch: 68, loss: 0.009632630226936835\n",
      "epoch: 69, loss: 0.009862446604510355\n",
      "epoch: 70, loss: 0.009689599250953036\n",
      "epoch: 71, loss: 0.009644537813364884\n",
      "epoch: 72, loss: 0.009394098086826343\n",
      "epoch: 73, loss: 0.009872304873284565\n",
      "epoch: 74, loss: 0.0096818964420456\n",
      "epoch: 75, loss: 0.009846795640228388\n",
      "epoch: 76, loss: 0.009553396751303006\n",
      "epoch: 77, loss: 0.009684199681633676\n",
      "epoch: 78, loss: 0.00987378866644532\n",
      "epoch: 79, loss: 0.009583965948027313\n",
      "epoch: 80, loss: 0.009914919379709364\n",
      "epoch: 81, loss: 0.009855628856132514\n",
      "epoch: 82, loss: 0.010054474905945436\n",
      "epoch: 83, loss: 0.009954681354865129\n",
      "epoch: 84, loss: 0.00973957202335295\n",
      "epoch: 85, loss: 0.009685827196799682\n",
      "epoch: 86, loss: 0.009819505600645023\n",
      "epoch: 87, loss: 0.009654965988144023\n",
      "epoch: 88, loss: 0.010168886133453547\n",
      "epoch: 89, loss: 0.009721109348668908\n",
      "epoch: 90, loss: 0.009931761219463977\n",
      "epoch: 91, loss: 0.010038684812257866\n",
      "epoch: 92, loss: 0.009684352751338637\n",
      "epoch: 93, loss: 0.009617842882707723\n",
      "epoch: 94, loss: 0.009649898509657698\n",
      "epoch: 95, loss: 0.009868024353262235\n",
      "epoch: 96, loss: 0.009909063618352629\n",
      "epoch: 97, loss: 0.009644501856315045\n",
      "epoch: 98, loss: 0.009875659754572184\n",
      "epoch: 99, loss: 0.009423405583290832\n"
     ]
    },
    {
     "data": {
      "application/vnd.jupyter.widget-view+json": {
       "model_id": "be33a0631cf9438b9fffda070e1a9468",
       "version_major": 2,
       "version_minor": 0
      },
      "text/plain": [
       "  0%|          | 0/100 [00:00<?, ?it/s]"
      ]
     },
     "metadata": {},
     "output_type": "display_data"
    },
    {
     "name": "stdout",
     "output_type": "stream",
     "text": [
      "epoch: 0, loss: 0.050577647736053846\n",
      "epoch: 1, loss: 0.045103400629899995\n",
      "epoch: 2, loss: 0.04226283065804327\n",
      "epoch: 3, loss: 0.04115934603234886\n",
      "epoch: 4, loss: 0.04149856638407862\n",
      "epoch: 5, loss: 0.041062474563759534\n",
      "epoch: 6, loss: 0.04024989082995038\n",
      "epoch: 7, loss: 0.03844866603503502\n",
      "epoch: 8, loss: 0.036954835605458\n",
      "epoch: 9, loss: 0.034784147498139906\n",
      "epoch: 10, loss: 0.03198980121954754\n",
      "epoch: 11, loss: 0.030546216034454336\n",
      "epoch: 12, loss: 0.029592668710956126\n",
      "epoch: 13, loss: 0.029422963889400137\n",
      "epoch: 14, loss: 0.027996590533219883\n",
      "epoch: 15, loss: 0.027180071244952773\n",
      "epoch: 16, loss: 0.026398697988040953\n",
      "epoch: 17, loss: 0.026825154621508984\n",
      "epoch: 18, loss: 0.02685912468075981\n",
      "epoch: 19, loss: 0.02615928202917678\n",
      "epoch: 20, loss: 0.02522571792036104\n",
      "epoch: 21, loss: 0.02515701799121795\n",
      "epoch: 22, loss: 0.024481130799183137\n",
      "epoch: 23, loss: 0.0233840326555907\n",
      "epoch: 24, loss: 0.022781966346442747\n",
      "epoch: 25, loss: 0.02183406277830438\n",
      "epoch: 26, loss: 0.021497829626002725\n",
      "epoch: 27, loss: 0.019694794267897137\n",
      "epoch: 28, loss: 0.01865414888171055\n",
      "epoch: 29, loss: 0.01833549377331546\n",
      "epoch: 30, loss: 0.01779603185339558\n",
      "epoch: 31, loss: 0.01743120329181568\n",
      "epoch: 32, loss: 0.018050204566166652\n",
      "epoch: 33, loss: 0.01820455868626274\n",
      "epoch: 34, loss: 0.01719629406978504\n",
      "epoch: 35, loss: 0.017336354131896096\n",
      "epoch: 36, loss: 0.016644878641098003\n",
      "epoch: 37, loss: 0.016078582050557576\n",
      "epoch: 38, loss: 0.01671439731021612\n",
      "epoch: 39, loss: 0.01561656695635049\n",
      "epoch: 40, loss: 0.015411678291152961\n",
      "epoch: 41, loss: 0.015642882079519683\n",
      "epoch: 42, loss: 0.015709847539233622\n",
      "epoch: 43, loss: 0.01583217499390317\n",
      "epoch: 44, loss: 0.016379388653802885\n",
      "epoch: 45, loss: 0.016292545155091348\n",
      "epoch: 46, loss: 0.015603039113830333\n",
      "epoch: 47, loss: 0.01582302107199282\n",
      "epoch: 48, loss: 0.016014467156494867\n",
      "epoch: 49, loss: 0.01586468320523863\n",
      "epoch: 50, loss: 0.015419231391075998\n",
      "epoch: 51, loss: 0.015221637691382359\n",
      "epoch: 52, loss: 0.01523700463922547\n",
      "epoch: 53, loss: 0.015048291859916576\n",
      "epoch: 54, loss: 0.01537819595034569\n",
      "epoch: 55, loss: 0.015146564128174268\n",
      "epoch: 56, loss: 0.015201997897715914\n",
      "epoch: 57, loss: 0.014695917731841632\n",
      "epoch: 58, loss: 0.01498534064002783\n",
      "epoch: 59, loss: 0.014970705501013776\n",
      "epoch: 60, loss: 0.01476431869919232\n",
      "epoch: 61, loss: 0.01524978335556181\n",
      "epoch: 62, loss: 0.014690947362585884\n",
      "epoch: 63, loss: 0.014524497318668853\n",
      "epoch: 64, loss: 0.014753428103521015\n",
      "epoch: 65, loss: 0.015189736916697278\n",
      "epoch: 66, loss: 0.014130032973023208\n",
      "epoch: 67, loss: 0.014649649856845103\n",
      "epoch: 68, loss: 0.01453567116152739\n",
      "epoch: 69, loss: 0.014335041825549224\n",
      "epoch: 70, loss: 0.014633578519040551\n",
      "epoch: 71, loss: 0.014418475027722349\n",
      "epoch: 72, loss: 0.014338540554921788\n",
      "epoch: 73, loss: 0.01464614003769928\n",
      "epoch: 74, loss: 0.014380810314884142\n",
      "epoch: 75, loss: 0.014309909146900078\n",
      "epoch: 76, loss: 0.01403784942866185\n",
      "epoch: 77, loss: 0.014367518739805164\n",
      "epoch: 78, loss: 0.014417816077136133\n",
      "epoch: 79, loss: 0.013884221717627128\n",
      "epoch: 80, loss: 0.014434521154775781\n",
      "epoch: 81, loss: 0.014608278185019473\n",
      "epoch: 82, loss: 0.01416796207820944\n",
      "epoch: 83, loss: 0.014595239477688515\n",
      "epoch: 84, loss: 0.014433793894709309\n",
      "epoch: 85, loss: 0.014441513888618123\n",
      "epoch: 86, loss: 0.014119654638598296\n",
      "epoch: 87, loss: 0.014104068833460024\n",
      "epoch: 88, loss: 0.014222661987665164\n",
      "epoch: 89, loss: 0.014549079644738179\n",
      "epoch: 90, loss: 0.014287877689563622\n",
      "epoch: 91, loss: 0.014338674702832822\n",
      "epoch: 92, loss: 0.014058141309816263\n",
      "epoch: 93, loss: 0.014030665654903398\n",
      "epoch: 94, loss: 0.01405225715812676\n",
      "epoch: 95, loss: 0.014376224018096859\n",
      "epoch: 96, loss: 0.014403250191751102\n",
      "epoch: 97, loss: 0.014398063955663754\n",
      "epoch: 98, loss: 0.014453856846297996\n",
      "epoch: 99, loss: 0.014344653262764968\n"
     ]
    },
    {
     "data": {
      "application/vnd.jupyter.widget-view+json": {
       "model_id": "e2bc3295268444dd84586a27552d00bd",
       "version_major": 2,
       "version_minor": 0
      },
      "text/plain": [
       "  0%|          | 0/100 [00:00<?, ?it/s]"
      ]
     },
     "metadata": {},
     "output_type": "display_data"
    },
    {
     "name": "stdout",
     "output_type": "stream",
     "text": [
      "epoch: 0, loss: 0.15261603977051766\n",
      "epoch: 1, loss: 0.10881406213794018\n",
      "epoch: 2, loss: 0.0765448230536076\n",
      "epoch: 3, loss: 0.05996047451238563\n",
      "epoch: 4, loss: 0.05442296295506366\n",
      "epoch: 5, loss: 0.05643606071446896\n",
      "epoch: 6, loss: 0.055693581726594193\n",
      "epoch: 7, loss: 0.05441154885237258\n",
      "epoch: 8, loss: 0.052972893759022865\n",
      "epoch: 9, loss: 0.05223399137805698\n",
      "epoch: 10, loss: 0.05124088986521035\n",
      "epoch: 11, loss: 0.051058409668989536\n",
      "epoch: 12, loss: 0.05043551358611662\n",
      "epoch: 13, loss: 0.04999615120754913\n",
      "epoch: 14, loss: 0.048552287873629904\n",
      "epoch: 15, loss: 0.04873020002809548\n",
      "epoch: 16, loss: 0.048260481067752575\n",
      "epoch: 17, loss: 0.04729883792463121\n",
      "epoch: 18, loss: 0.046405644142147304\n",
      "epoch: 19, loss: 0.044282471886576164\n",
      "epoch: 20, loss: 0.04174432948107639\n",
      "epoch: 21, loss: 0.03917259802410545\n",
      "epoch: 22, loss: 0.03652099421039204\n",
      "epoch: 23, loss: 0.03443796059373379\n",
      "epoch: 24, loss: 0.0317857546151309\n",
      "epoch: 25, loss: 0.030203866038913948\n",
      "epoch: 26, loss: 0.029925478365237984\n",
      "epoch: 27, loss: 0.02916488842537691\n",
      "epoch: 28, loss: 0.027327204207192937\n",
      "epoch: 29, loss: 0.025052200643562016\n",
      "epoch: 30, loss: 0.022846531371932342\n",
      "epoch: 31, loss: 0.02139791944531189\n",
      "epoch: 32, loss: 0.020475428975651706\n",
      "epoch: 33, loss: 0.01946746404397595\n",
      "epoch: 34, loss: 0.01801455614972188\n",
      "epoch: 35, loss: 0.017616492098051585\n",
      "epoch: 36, loss: 0.01696148791825748\n",
      "epoch: 37, loss: 0.015652086012473098\n",
      "epoch: 38, loss: 0.015343110648388322\n",
      "epoch: 39, loss: 0.014465426449347542\n",
      "epoch: 40, loss: 0.014286335585127298\n",
      "epoch: 41, loss: 0.013698054008830604\n",
      "epoch: 42, loss: 0.013089431991439969\n",
      "epoch: 43, loss: 0.012930882657281918\n",
      "epoch: 44, loss: 0.012615795806806418\n",
      "epoch: 45, loss: 0.01300957969995052\n",
      "epoch: 46, loss: 0.01288594943381631\n",
      "epoch: 47, loss: 0.013020550439102633\n",
      "epoch: 48, loss: 0.013227515505727316\n",
      "epoch: 49, loss: 0.01270057601872858\n",
      "epoch: 50, loss: 0.012379148365690122\n",
      "epoch: 51, loss: 0.012961549047674999\n",
      "epoch: 52, loss: 0.012848199482306113\n",
      "epoch: 53, loss: 0.011878319287940817\n",
      "epoch: 54, loss: 0.011915065206207434\n",
      "epoch: 55, loss: 0.012026158639691652\n",
      "epoch: 56, loss: 0.011969616421283786\n",
      "epoch: 57, loss: 0.011563197671731385\n",
      "epoch: 58, loss: 0.011771309941479333\n",
      "epoch: 59, loss: 0.012178225328677666\n",
      "epoch: 60, loss: 0.012069200294481539\n",
      "epoch: 61, loss: 0.011773735963554306\n",
      "epoch: 62, loss: 0.011836187643984386\n",
      "epoch: 63, loss: 0.011763865995516298\n",
      "epoch: 64, loss: 0.011763754151229745\n",
      "epoch: 65, loss: 0.011791090129370312\n",
      "epoch: 66, loss: 0.011334965649175046\n",
      "epoch: 67, loss: 0.011558517051894425\n",
      "epoch: 68, loss: 0.01163811890567398\n",
      "epoch: 69, loss: 0.011238265248490602\n",
      "epoch: 70, loss: 0.01145153030981719\n",
      "epoch: 71, loss: 0.011790561368779418\n",
      "epoch: 72, loss: 0.011585304981693958\n",
      "epoch: 73, loss: 0.011451566939465675\n",
      "epoch: 74, loss: 0.011371982531222354\n",
      "epoch: 75, loss: 0.011694452392107335\n",
      "epoch: 76, loss: 0.011663908565804263\n",
      "epoch: 77, loss: 0.011700346901161156\n",
      "epoch: 78, loss: 0.011461122105972077\n",
      "epoch: 79, loss: 0.011719655471350857\n",
      "epoch: 80, loss: 0.011220631959598569\n",
      "epoch: 81, loss: 0.01175306240336224\n",
      "epoch: 82, loss: 0.011548557632225176\n",
      "epoch: 83, loss: 0.011796118286565254\n",
      "epoch: 84, loss: 0.011850840600953936\n",
      "epoch: 85, loss: 0.0113941052037727\n",
      "epoch: 86, loss: 0.011832998210312555\n",
      "epoch: 87, loss: 0.011337116350545476\n",
      "epoch: 88, loss: 0.011227346130251366\n",
      "epoch: 89, loss: 0.01129952267643203\n",
      "epoch: 90, loss: 0.011174256211839532\n",
      "epoch: 91, loss: 0.011350882404510874\n",
      "epoch: 92, loss: 0.011684749643494306\n",
      "epoch: 93, loss: 0.011199364319177396\n",
      "epoch: 94, loss: 0.011484130020570917\n",
      "epoch: 95, loss: 0.011541581229383098\n",
      "epoch: 96, loss: 0.011806024992913545\n",
      "epoch: 97, loss: 0.011816262396695497\n",
      "epoch: 98, loss: 0.011292814016934211\n",
      "epoch: 99, loss: 0.011467948023086188\n"
     ]
    },
    {
     "data": {
      "application/vnd.jupyter.widget-view+json": {
       "model_id": "d1ed342ab798461a8e53cb024cb022c4",
       "version_major": 2,
       "version_minor": 0
      },
      "text/plain": [
       "  0%|          | 0/100 [00:00<?, ?it/s]"
      ]
     },
     "metadata": {},
     "output_type": "display_data"
    },
    {
     "name": "stdout",
     "output_type": "stream",
     "text": [
      "epoch: 0, loss: 0.048242435758708374\n",
      "epoch: 1, loss: 0.03847100417484283\n",
      "epoch: 2, loss: 0.03185989780112217\n",
      "epoch: 3, loss: 0.028734808551530638\n",
      "epoch: 4, loss: 0.025444855289336935\n",
      "epoch: 5, loss: 0.02438683304893556\n",
      "epoch: 6, loss: 0.02365835765845169\n",
      "epoch: 7, loss: 0.022052393391116497\n",
      "epoch: 8, loss: 0.020771594640230737\n",
      "epoch: 9, loss: 0.018776608206189843\n",
      "epoch: 10, loss: 0.01799364281681346\n",
      "epoch: 11, loss: 0.018403970335778976\n",
      "epoch: 12, loss: 0.018301759106477876\n",
      "epoch: 13, loss: 0.018464507635453046\n",
      "epoch: 14, loss: 0.018621267766988428\n",
      "epoch: 15, loss: 0.017788676376208276\n",
      "epoch: 16, loss: 0.01734743164061343\n",
      "epoch: 17, loss: 0.016183473872609072\n",
      "epoch: 18, loss: 0.01541506342589279\n",
      "epoch: 19, loss: 0.014962181034422923\n",
      "epoch: 20, loss: 0.01527248193422288\n",
      "epoch: 21, loss: 0.015186127454681479\n",
      "epoch: 22, loss: 0.015577166819412973\n",
      "epoch: 23, loss: 0.015280862588545212\n",
      "epoch: 24, loss: 0.015154704641036661\n",
      "epoch: 25, loss: 0.014540604982897087\n",
      "epoch: 26, loss: 0.014041098005606014\n",
      "epoch: 27, loss: 0.014026761496327467\n",
      "epoch: 28, loss: 0.014169333657852879\n",
      "epoch: 29, loss: 0.014126728596913513\n",
      "epoch: 30, loss: 0.013804346119309118\n",
      "epoch: 31, loss: 0.01375134829334974\n",
      "epoch: 32, loss: 0.013925580889655792\n",
      "epoch: 33, loss: 0.013750631874115193\n",
      "epoch: 34, loss: 0.013929166227484954\n",
      "epoch: 35, loss: 0.01368813235487801\n",
      "epoch: 36, loss: 0.013741668131009499\n",
      "epoch: 37, loss: 0.013726436866415344\n",
      "epoch: 38, loss: 0.013757805006273684\n",
      "epoch: 39, loss: 0.01356579775767765\n",
      "epoch: 40, loss: 0.013614612251727077\n",
      "epoch: 41, loss: 0.013929995625775973\n",
      "epoch: 42, loss: 0.013519592547712787\n",
      "epoch: 43, loss: 0.01373259422465544\n",
      "epoch: 44, loss: 0.013535510192373743\n",
      "epoch: 45, loss: 0.013289626069404401\n",
      "epoch: 46, loss: 0.013513832305418945\n",
      "epoch: 47, loss: 0.013570968134802021\n",
      "epoch: 48, loss: 0.013635772968621167\n",
      "epoch: 49, loss: 0.013343141062927976\n",
      "epoch: 50, loss: 0.0135169744024605\n",
      "epoch: 51, loss: 0.013117321618668304\n",
      "epoch: 52, loss: 0.013420136932601133\n",
      "epoch: 53, loss: 0.013310430832743076\n",
      "epoch: 54, loss: 0.013097300449702469\n",
      "epoch: 55, loss: 0.012882816629993988\n",
      "epoch: 56, loss: 0.013018102709696807\n",
      "epoch: 57, loss: 0.012893636571686837\n",
      "epoch: 58, loss: 0.012775062228611585\n",
      "epoch: 59, loss: 0.012381509511680138\n",
      "epoch: 60, loss: 0.012027299904317652\n",
      "epoch: 61, loss: 0.010973428107247973\n",
      "epoch: 62, loss: 0.010291954980972686\n",
      "epoch: 63, loss: 0.010067041331356616\n",
      "epoch: 64, loss: 0.009250118556899431\n",
      "epoch: 65, loss: 0.009273324046408408\n",
      "epoch: 66, loss: 0.009305413627124772\n",
      "epoch: 67, loss: 0.009064943040024627\n",
      "epoch: 68, loss: 0.008976308682526022\n",
      "epoch: 69, loss: 0.008401167863333453\n",
      "epoch: 70, loss: 0.008203806831068293\n",
      "epoch: 71, loss: 0.008126488985616902\n",
      "epoch: 72, loss: 0.008706322287317748\n",
      "epoch: 73, loss: 0.008245125501792253\n",
      "epoch: 74, loss: 0.008127808664820982\n",
      "epoch: 75, loss: 0.008171222515425404\n",
      "epoch: 76, loss: 0.007939180548745928\n",
      "epoch: 77, loss: 0.008236073700691208\n",
      "epoch: 78, loss: 0.008008593855144488\n",
      "epoch: 79, loss: 0.007973937431682582\n",
      "epoch: 80, loss: 0.008063906262323702\n",
      "epoch: 81, loss: 0.007854552437889956\n",
      "epoch: 82, loss: 0.007790768624295003\n",
      "epoch: 83, loss: 0.007753866546528959\n",
      "epoch: 84, loss: 0.007972506661199972\n",
      "epoch: 85, loss: 0.007841654500597185\n",
      "epoch: 86, loss: 0.007829075013479845\n",
      "epoch: 87, loss: 0.007391959011487556\n",
      "epoch: 88, loss: 0.00764309663242633\n",
      "epoch: 89, loss: 0.007631124598888709\n",
      "epoch: 90, loss: 0.007588157292881565\n",
      "epoch: 91, loss: 0.007824376378462174\n",
      "epoch: 92, loss: 0.007628994358695691\n",
      "epoch: 93, loss: 0.0073430766332532125\n",
      "epoch: 94, loss: 0.007360872216266146\n",
      "epoch: 95, loss: 0.007272945331557506\n",
      "epoch: 96, loss: 0.007539848431556097\n",
      "epoch: 97, loss: 0.007412508010549348\n",
      "epoch: 98, loss: 0.007196321083107981\n",
      "epoch: 99, loss: 0.007503333607489507\n"
     ]
    },
    {
     "data": {
      "application/vnd.jupyter.widget-view+json": {
       "model_id": "5c5782f0c082494396cf791f14d3bc41",
       "version_major": 2,
       "version_minor": 0
      },
      "text/plain": [
       "  0%|          | 0/100 [00:00<?, ?it/s]"
      ]
     },
     "metadata": {},
     "output_type": "display_data"
    },
    {
     "name": "stdout",
     "output_type": "stream",
     "text": [
      "epoch: 0, loss: 0.05055699693001659\n",
      "epoch: 1, loss: 0.04758481535937042\n",
      "epoch: 2, loss: 0.04287936730673578\n",
      "epoch: 3, loss: 0.040374627819743346\n",
      "epoch: 4, loss: 0.03679394192914817\n",
      "epoch: 5, loss: 0.03165945509326674\n",
      "epoch: 6, loss: 0.025142715523569753\n",
      "epoch: 7, loss: 0.018822517507399782\n",
      "epoch: 8, loss: 0.015758867210029594\n",
      "epoch: 9, loss: 0.015287810119838518\n",
      "epoch: 10, loss: 0.014180091899034703\n",
      "epoch: 11, loss: 0.013096221180183094\n",
      "epoch: 12, loss: 0.012642193405923935\n",
      "epoch: 13, loss: 0.01220594235697074\n",
      "epoch: 14, loss: 0.012157560697868575\n",
      "epoch: 15, loss: 0.012232414626119792\n",
      "epoch: 16, loss: 0.01139606869661949\n",
      "epoch: 17, loss: 0.010982062348613651\n",
      "epoch: 18, loss: 0.010995058394233068\n",
      "epoch: 19, loss: 0.011007404680594843\n",
      "epoch: 20, loss: 0.011487461934941202\n",
      "epoch: 21, loss: 0.011628978362448745\n",
      "epoch: 22, loss: 0.012034863165932646\n",
      "epoch: 23, loss: 0.012110188901480044\n",
      "epoch: 24, loss: 0.011733786131716115\n",
      "epoch: 25, loss: 0.011498368346993713\n",
      "epoch: 26, loss: 0.011159945127866453\n",
      "epoch: 27, loss: 0.011289555396415183\n",
      "epoch: 28, loss: 0.011241310867932605\n",
      "epoch: 29, loss: 0.011041106174147261\n",
      "epoch: 30, loss: 0.011139095942398744\n",
      "epoch: 31, loss: 0.011044980318360618\n",
      "epoch: 32, loss: 0.010847946391171235\n",
      "epoch: 33, loss: 0.010847432564677753\n",
      "epoch: 34, loss: 0.010627289329816112\n",
      "epoch: 35, loss: 0.01065866475752236\n",
      "epoch: 36, loss: 0.010642948651817197\n",
      "epoch: 37, loss: 0.010178925852835873\n",
      "epoch: 38, loss: 0.01011861592397435\n",
      "epoch: 39, loss: 0.010548399993949681\n",
      "epoch: 40, loss: 0.010436129990357819\n",
      "epoch: 41, loss: 0.010402661631705978\n",
      "epoch: 42, loss: 0.010348771940818853\n",
      "epoch: 43, loss: 0.01025213822643514\n",
      "epoch: 44, loss: 0.010355570443972659\n",
      "epoch: 45, loss: 0.010409445483742653\n",
      "epoch: 46, loss: 0.01047816748939288\n",
      "epoch: 47, loss: 0.010175145894694794\n",
      "epoch: 48, loss: 0.01011334821280902\n",
      "epoch: 49, loss: 0.009906111445315939\n",
      "epoch: 50, loss: 0.00994858461229198\n",
      "epoch: 51, loss: 0.009907855724352934\n",
      "epoch: 52, loss: 0.010070398717114033\n",
      "epoch: 53, loss: 0.009714141349005069\n",
      "epoch: 54, loss: 0.009938877411682043\n",
      "epoch: 55, loss: 0.009423370460149986\n",
      "epoch: 56, loss: 0.00985327219914572\n",
      "epoch: 57, loss: 0.009803194695158095\n",
      "epoch: 58, loss: 0.00987007113050226\n",
      "epoch: 59, loss: 0.009642275320024244\n",
      "epoch: 60, loss: 0.009828056575167481\n",
      "epoch: 61, loss: 0.00946800856013573\n",
      "epoch: 62, loss: 0.009534211133395365\n",
      "epoch: 63, loss: 0.009938051103244812\n",
      "epoch: 64, loss: 0.009671665498756457\n",
      "epoch: 65, loss: 0.009959840410920717\n",
      "epoch: 66, loss: 0.009709227957525005\n",
      "epoch: 67, loss: 0.009778625261017243\n",
      "epoch: 68, loss: 0.009923800301022712\n",
      "epoch: 69, loss: 0.009982009278275486\n",
      "epoch: 70, loss: 0.009447660605097434\n",
      "epoch: 71, loss: 0.00998449856995492\n",
      "epoch: 72, loss: 0.009745135801379133\n",
      "epoch: 73, loss: 0.00939601747797319\n",
      "epoch: 74, loss: 0.009775842808821367\n",
      "epoch: 75, loss: 0.009678242662760314\n",
      "epoch: 76, loss: 0.0096082779329972\n",
      "epoch: 77, loss: 0.009652326432554103\n",
      "epoch: 78, loss: 0.009671990259023606\n",
      "epoch: 79, loss: 0.009655003364020663\n",
      "epoch: 80, loss: 0.009549521214476324\n",
      "epoch: 81, loss: 0.009622531148645573\n",
      "epoch: 82, loss: 0.009755941676561911\n",
      "epoch: 83, loss: 0.009628982204805457\n",
      "epoch: 84, loss: 0.009778797503099717\n",
      "epoch: 85, loss: 0.009865250213602423\n",
      "epoch: 86, loss: 0.009757399889513\n",
      "epoch: 87, loss: 0.009833904109971075\n",
      "epoch: 88, loss: 0.009735143949617647\n",
      "epoch: 89, loss: 0.009588059621667273\n",
      "epoch: 90, loss: 0.009690950361558585\n",
      "epoch: 91, loss: 0.009619644816412653\n",
      "epoch: 92, loss: 0.00950233968842218\n",
      "epoch: 93, loss: 0.009526873864387218\n",
      "epoch: 94, loss: 0.009366921924243448\n",
      "epoch: 95, loss: 0.01005117247751312\n",
      "epoch: 96, loss: 0.009560648401614998\n",
      "epoch: 97, loss: 0.009664424594044402\n",
      "epoch: 98, loss: 0.009775067648357871\n",
      "epoch: 99, loss: 0.010269169810792773\n"
     ]
    },
    {
     "data": {
      "application/vnd.jupyter.widget-view+json": {
       "model_id": "fff31983602f4820ba5fde576a445ab2",
       "version_major": 2,
       "version_minor": 0
      },
      "text/plain": [
       "  0%|          | 0/100 [00:00<?, ?it/s]"
      ]
     },
     "metadata": {},
     "output_type": "display_data"
    },
    {
     "name": "stdout",
     "output_type": "stream",
     "text": [
      "epoch: 0, loss: 0.07913462535899683\n",
      "epoch: 1, loss: 0.06970038367984653\n",
      "epoch: 2, loss: 0.06203565091064262\n",
      "epoch: 3, loss: 0.05561463764404713\n",
      "epoch: 4, loss: 0.0514227357260185\n",
      "epoch: 5, loss: 0.04865965783406236\n",
      "epoch: 6, loss: 0.04549191596958025\n",
      "epoch: 7, loss: 0.04383962758105271\n",
      "epoch: 8, loss: 0.04184548570729928\n",
      "epoch: 9, loss: 0.040409624512425184\n",
      "epoch: 10, loss: 0.03891860171440307\n",
      "epoch: 11, loss: 0.03703254917222251\n",
      "epoch: 12, loss: 0.03510885177910242\n",
      "epoch: 13, loss: 0.033635872936436065\n",
      "epoch: 14, loss: 0.03399571665000292\n",
      "epoch: 15, loss: 0.03283934848723048\n",
      "epoch: 16, loss: 0.03208334457218444\n",
      "epoch: 17, loss: 0.03199246714351365\n",
      "epoch: 18, loss: 0.031159360475831344\n",
      "epoch: 19, loss: 0.03104941438977519\n",
      "epoch: 20, loss: 0.02948819838473084\n",
      "epoch: 21, loss: 0.0281714583354771\n",
      "epoch: 22, loss: 0.027498999397787997\n",
      "epoch: 23, loss: 0.026845571955670923\n",
      "epoch: 24, loss: 0.026062789297795312\n",
      "epoch: 25, loss: 0.025452229204109823\n",
      "epoch: 26, loss: 0.0237280695815588\n",
      "epoch: 27, loss: 0.022419040994700986\n",
      "epoch: 28, loss: 0.02106681012831965\n",
      "epoch: 29, loss: 0.019120263979098776\n",
      "epoch: 30, loss: 0.019045536926991607\n",
      "epoch: 31, loss: 0.019087291481832382\n",
      "epoch: 32, loss: 0.018568517061034365\n",
      "epoch: 33, loss: 0.01671354883280246\n",
      "epoch: 34, loss: 0.015275649010023557\n",
      "epoch: 35, loss: 0.015946471099565256\n",
      "epoch: 36, loss: 0.016906771771437852\n",
      "epoch: 37, loss: 0.01664733791355974\n",
      "epoch: 38, loss: 0.01616837310982934\n",
      "epoch: 39, loss: 0.015750684425236527\n",
      "epoch: 40, loss: 0.015929054808645312\n",
      "epoch: 41, loss: 0.015367727926875891\n",
      "epoch: 42, loss: 0.01537305208184224\n",
      "epoch: 43, loss: 0.015470085331853536\n",
      "epoch: 44, loss: 0.014720991430895138\n",
      "epoch: 45, loss: 0.015093296289887622\n",
      "epoch: 46, loss: 0.015002509605632488\n",
      "epoch: 47, loss: 0.01444099434024395\n",
      "epoch: 48, loss: 0.014681065858423081\n",
      "epoch: 49, loss: 0.014482890297843562\n",
      "epoch: 50, loss: 0.013622579821942222\n",
      "epoch: 51, loss: 0.013664653324441535\n",
      "epoch: 52, loss: 0.013685957175220566\n",
      "epoch: 53, loss: 0.013333841631245307\n",
      "epoch: 54, loss: 0.013447437642388206\n",
      "epoch: 55, loss: 0.013340316459314782\n",
      "epoch: 56, loss: 0.013448845818674315\n",
      "epoch: 57, loss: 0.01304432314555804\n",
      "epoch: 58, loss: 0.012842234674773832\n",
      "epoch: 59, loss: 0.013078682881880252\n",
      "epoch: 60, loss: 0.01269198695748032\n",
      "epoch: 61, loss: 0.01305944845370336\n",
      "epoch: 62, loss: 0.013137855701033412\n",
      "epoch: 63, loss: 0.012901203165551472\n",
      "epoch: 64, loss: 0.01324986347289442\n",
      "epoch: 65, loss: 0.013019017123111896\n",
      "epoch: 66, loss: 0.013266521387545891\n",
      "epoch: 67, loss: 0.012730460570156744\n",
      "epoch: 68, loss: 0.012844703767252936\n",
      "epoch: 69, loss: 0.01233020195561343\n",
      "epoch: 70, loss: 0.01282084039448301\n",
      "epoch: 71, loss: 0.012624061224133159\n",
      "epoch: 72, loss: 0.01281370240429076\n",
      "epoch: 73, loss: 0.012029265725249205\n",
      "epoch: 74, loss: 0.012129756295423651\n",
      "epoch: 75, loss: 0.011754355799637737\n",
      "epoch: 76, loss: 0.011804457361351852\n",
      "epoch: 77, loss: 0.011671160664576612\n",
      "epoch: 78, loss: 0.011402306388309753\n",
      "epoch: 79, loss: 0.01125820161858546\n",
      "epoch: 80, loss: 0.010972081140379087\n",
      "epoch: 81, loss: 0.010390497722254241\n",
      "epoch: 82, loss: 0.010617787219362155\n",
      "epoch: 83, loss: 0.00990622646002732\n",
      "epoch: 84, loss: 0.009559079126147405\n",
      "epoch: 85, loss: 0.00893118064965393\n",
      "epoch: 86, loss: 0.008875548641751671\n",
      "epoch: 87, loss: 0.008388092352364627\n",
      "epoch: 88, loss: 0.008007503921601171\n",
      "epoch: 89, loss: 0.007819981128271933\n",
      "epoch: 90, loss: 0.007560628320065046\n",
      "epoch: 91, loss: 0.007722509187086925\n",
      "epoch: 92, loss: 0.0073943981046033416\n",
      "epoch: 93, loss: 0.007259277163162845\n",
      "epoch: 94, loss: 0.007033052366068198\n",
      "epoch: 95, loss: 0.007011813532723864\n",
      "epoch: 96, loss: 0.006970011809312663\n",
      "epoch: 97, loss: 0.006883312048760587\n",
      "epoch: 98, loss: 0.006928586429666829\n",
      "epoch: 99, loss: 0.0067743892804657535\n"
     ]
    },
    {
     "data": {
      "application/vnd.jupyter.widget-view+json": {
       "model_id": "36924bcf779841c486f8c96098295702",
       "version_major": 2,
       "version_minor": 0
      },
      "text/plain": [
       "  0%|          | 0/100 [00:00<?, ?it/s]"
      ]
     },
     "metadata": {},
     "output_type": "display_data"
    },
    {
     "name": "stdout",
     "output_type": "stream",
     "text": [
      "epoch: 0, loss: 0.06468202776278396\n",
      "epoch: 1, loss: 0.05066214307679656\n",
      "epoch: 2, loss: 0.04379546007023396\n",
      "epoch: 3, loss: 0.041193300699143724\n",
      "epoch: 4, loss: 0.03920663004581882\n",
      "epoch: 5, loss: 0.036836887973150496\n",
      "epoch: 6, loss: 0.03473549826127558\n",
      "epoch: 7, loss: 0.034463225600644354\n",
      "epoch: 8, loss: 0.033137588642782725\n",
      "epoch: 9, loss: 0.03205789435754377\n",
      "epoch: 10, loss: 0.03023111024916637\n",
      "epoch: 11, loss: 0.027998756563154474\n",
      "epoch: 12, loss: 0.024690526403888007\n",
      "epoch: 13, loss: 0.021789417895646115\n",
      "epoch: 14, loss: 0.020233544704097217\n",
      "epoch: 15, loss: 0.01958592465202487\n",
      "epoch: 16, loss: 0.019293779008954962\n",
      "epoch: 17, loss: 0.01921768192470174\n",
      "epoch: 18, loss: 0.018164395091325607\n",
      "epoch: 19, loss: 0.01730237863052498\n",
      "epoch: 20, loss: 0.016685570522168184\n",
      "epoch: 21, loss: 0.016078240426775647\n",
      "epoch: 22, loss: 0.016017479121549077\n",
      "epoch: 23, loss: 0.015905118432219346\n",
      "epoch: 24, loss: 0.016307988670706236\n",
      "epoch: 25, loss: 0.01624442522209056\n",
      "epoch: 26, loss: 0.01580337449349126\n",
      "epoch: 27, loss: 0.015110207058526426\n",
      "epoch: 28, loss: 0.01418993277826341\n",
      "epoch: 29, loss: 0.014433751793977746\n",
      "epoch: 30, loss: 0.014199759648160337\n",
      "epoch: 31, loss: 0.014182486474847907\n",
      "epoch: 32, loss: 0.014562011258469662\n",
      "epoch: 33, loss: 0.01448234337993215\n",
      "epoch: 34, loss: 0.014117052401799836\n",
      "epoch: 35, loss: 0.01370570186679013\n",
      "epoch: 36, loss: 0.013724069495274294\n",
      "epoch: 37, loss: 0.01313151814534217\n",
      "epoch: 38, loss: 0.013110363566121106\n",
      "epoch: 39, loss: 0.01305367297991898\n",
      "epoch: 40, loss: 0.013304700657445405\n",
      "epoch: 41, loss: 0.013364068427579591\n",
      "epoch: 42, loss: 0.013187923056550466\n",
      "epoch: 43, loss: 0.012967247787802179\n",
      "epoch: 44, loss: 0.012721065593068383\n",
      "epoch: 45, loss: 0.012435862866219094\n",
      "epoch: 46, loss: 0.01211869532550918\n",
      "epoch: 47, loss: 0.01250857706521177\n",
      "epoch: 48, loss: 0.012362982104619662\n",
      "epoch: 49, loss: 0.012255210466990336\n",
      "epoch: 50, loss: 0.011580553811008693\n",
      "epoch: 51, loss: 0.011918029591889513\n",
      "epoch: 52, loss: 0.01183198202457475\n",
      "epoch: 53, loss: 0.011525264946760937\n",
      "epoch: 54, loss: 0.012167573464613732\n",
      "epoch: 55, loss: 0.011825276425972616\n",
      "epoch: 56, loss: 0.012042068549973578\n",
      "epoch: 57, loss: 0.01169906969979098\n",
      "epoch: 58, loss: 0.011759302883161684\n",
      "epoch: 59, loss: 0.011651728338421947\n",
      "epoch: 60, loss: 0.012353732905828932\n",
      "epoch: 61, loss: 0.011596094082572497\n",
      "epoch: 62, loss: 0.011814144661087999\n",
      "epoch: 63, loss: 0.01179316411955732\n",
      "epoch: 64, loss: 0.011914903607900207\n",
      "epoch: 65, loss: 0.0116884366692405\n",
      "epoch: 66, loss: 0.011964085902997367\n",
      "epoch: 67, loss: 0.011898884722462064\n",
      "epoch: 68, loss: 0.011752053973572443\n",
      "epoch: 69, loss: 0.011539689995953586\n",
      "epoch: 70, loss: 0.011504231041829394\n",
      "epoch: 71, loss: 0.011469604330427334\n",
      "epoch: 72, loss: 0.011863321908790464\n",
      "epoch: 73, loss: 0.011353357539968086\n",
      "epoch: 74, loss: 0.011531003149477944\n",
      "epoch: 75, loss: 0.011832384293936547\n",
      "epoch: 76, loss: 0.011746904109644216\n",
      "epoch: 77, loss: 0.011789655823719835\n",
      "epoch: 78, loss: 0.011750545240459995\n",
      "epoch: 79, loss: 0.011451673672714914\n",
      "epoch: 80, loss: 0.01158897543742201\n",
      "epoch: 81, loss: 0.011842533306632761\n",
      "epoch: 82, loss: 0.011527490632297266\n",
      "epoch: 83, loss: 0.011743268907888847\n",
      "epoch: 84, loss: 0.011468851073852218\n",
      "epoch: 85, loss: 0.011928396571845143\n",
      "epoch: 86, loss: 0.011512503631096295\n",
      "epoch: 87, loss: 0.011933748101300599\n",
      "epoch: 88, loss: 0.011764811121891825\n",
      "epoch: 89, loss: 0.011724876619429508\n",
      "epoch: 90, loss: 0.011790859237057989\n",
      "epoch: 91, loss: 0.011730328603398793\n",
      "epoch: 92, loss: 0.011468900286791683\n",
      "epoch: 93, loss: 0.011465868919530857\n",
      "epoch: 94, loss: 0.0116830640997216\n",
      "epoch: 95, loss: 0.011848291771246322\n",
      "epoch: 96, loss: 0.011408598757480579\n",
      "epoch: 97, loss: 0.012007407606547848\n",
      "epoch: 98, loss: 0.011452293068493286\n",
      "epoch: 99, loss: 0.011585151573071818\n"
     ]
    }
   ],
   "source": [
    "np.random.seed(42)\n",
    "\n",
    "qnn_list = []\n",
    "for i in tqdm(range(10)):\n",
    "    qnn = sequential_qnn(q_bits = [2, 4],\n",
    "                         dim = [2, 4, 1],\n",
    "                         reps = 1,\n",
    "                         backend=backend,\n",
    "                         shots=10000,\n",
    "                         lr = 0.1)\n",
    "    qnn.train(x, y, epochs=100)\n",
    "    qnn_list.append(qnn)\n",
    "\n",
    "saver(qnn_list, data_path(\"trainability_qnn_2D_reps_1\"))"
   ]
  },
  {
   "cell_type": "code",
   "execution_count": 14,
   "metadata": {},
   "outputs": [
    {
     "data": {
      "application/vnd.jupyter.widget-view+json": {
       "model_id": "05e18645bf4f4ae0ad85e76debdcc4c4",
       "version_major": 2,
       "version_minor": 0
      },
      "text/plain": [
       "  0%|          | 0/10 [00:00<?, ?it/s]"
      ]
     },
     "metadata": {},
     "output_type": "display_data"
    }
   ],
   "source": [
    "np.random.seed(42)\n",
    "\n",
    "qnn_list = []\n",
    "for i in tqdm(range(10)):\n",
    "    qnn = sequential_qnn(q_bits = [2, 4],\n",
    "                         dim = [2, 4, 1],\n",
    "                         reps = 2,\n",
    "                         backend=backend,\n",
    "                         shots=10000,\n",
    "                         lr = 0.1)\n",
    "    qnn.train(x, y, epochs=100)\n",
    "    qnn_list.append(qnn)\n",
    "\n",
    "saver(qnn_list, data_path(\"trainability_qnn_2D_reps_2\"))"
   ]
  },
  {
   "cell_type": "code",
   "execution_count": null,
   "metadata": {},
   "outputs": [],
   "source": [
    "np.random.seed(42)\n",
    "\n",
    "qnn_list = []\n",
    "for i in tqdm(range(10)):\n",
    "    qnn = sequential_qnn(q_bits = [2, 4],\n",
    "                         dim = [2, 4, 1],\n",
    "                         reps = 3,\n",
    "                         backend=backend,\n",
    "                         shots=10000,\n",
    "                         lr = 0.1)\n",
    "    qnn.train(x, y, epochs=100)\n",
    "    qnn_list.append(qnn)\n",
    "\n",
    "saver(qnn_list, data_path(\"trainability_qnn_2D_reps_3\"))"
   ]
  },
  {
   "cell_type": "code",
   "execution_count": 23,
   "metadata": {},
   "outputs": [],
   "source": [
    "np.random.seed(42)\n",
    "dnn_list = []\n",
    "for i in range(10):\n",
    "    dnn = sequential_dnn(dim = [2, 6, 1],\n",
    "                     lr = 0.1)\n",
    "    \n",
    "    dnn.train(x_dnn, y, epochs=5000)\n",
    "    dnn_list.append(dnn)\n",
    "\n",
    "saver(dnn_list, data_path(\"trainability_dnn_2D\"))"
   ]
  },
  {
   "cell_type": "markdown",
   "metadata": {},
   "source": [
    "## 3D function"
   ]
  },
  {
   "cell_type": "markdown",
   "metadata": {},
   "source": [
    "### Constant Function"
   ]
  },
  {
   "cell_type": "code",
   "execution_count": 6,
   "metadata": {},
   "outputs": [],
   "source": [
    "np.random.seed(42)\n",
    "\n",
    "n = 5\n",
    "x = np.linspace(0, 1, n)\n",
    "x = generate_meshgrid([x, x, x])\n",
    "x = scaler(x, a=0, b=np.pi)\n",
    "\n",
    "y = 0.5*np.ones((n**3, 1))"
   ]
  },
  {
   "cell_type": "code",
   "execution_count": 7,
   "metadata": {},
   "outputs": [
    {
     "data": {
      "application/vnd.jupyter.widget-view+json": {
       "model_id": "e8b5a53957964d18b6c0eb3919b3a2f5",
       "version_major": 2,
       "version_minor": 0
      },
      "text/plain": [
       "  0%|          | 0/1 [00:00<?, ?it/s]"
      ]
     },
     "metadata": {},
     "output_type": "display_data"
    },
    {
     "data": {
      "application/vnd.jupyter.widget-view+json": {
       "model_id": "54f3e4b543e54e02b0d0b35ef0e51c4c",
       "version_major": 2,
       "version_minor": 0
      },
      "text/plain": [
       "  0%|          | 0/100 [00:00<?, ?it/s]"
      ]
     },
     "metadata": {},
     "output_type": "display_data"
    },
    {
     "name": "stdout",
     "output_type": "stream",
     "text": [
      "epoch: 0, loss: 0.07637416927999999\n",
      "epoch: 1, loss: 0.04596338136\n",
      "epoch: 2, loss: 0.0269161788\n",
      "epoch: 3, loss: 0.016128381440000002\n",
      "epoch: 4, loss: 0.00959953568\n",
      "epoch: 5, loss: 0.006762073280000001\n",
      "epoch: 6, loss: 0.00674408808\n",
      "epoch: 7, loss: 0.007145074959999999\n",
      "epoch: 8, loss: 0.00786299736\n",
      "epoch: 9, loss: 0.008058812559999998\n",
      "epoch: 10, loss: 0.0076425873600000005\n",
      "epoch: 11, loss: 0.006474841920000001\n",
      "epoch: 12, loss: 0.005154288960000001\n",
      "epoch: 13, loss: 0.003982988879999999\n",
      "epoch: 14, loss: 0.00305114512\n",
      "epoch: 15, loss: 0.002641683920000001\n",
      "epoch: 16, loss: 0.0026878768799999996\n",
      "epoch: 17, loss: 0.00274388944\n",
      "epoch: 18, loss: 0.0027324056\n",
      "epoch: 19, loss: 0.00216237352\n",
      "epoch: 20, loss: 0.0017016034400000005\n",
      "epoch: 21, loss: 0.0011195442399999998\n",
      "epoch: 22, loss: 0.0006073166400000004\n",
      "epoch: 23, loss: 0.00026980592\n",
      "epoch: 24, loss: 0.00015480496\n",
      "epoch: 25, loss: 0.00021477239999999998\n",
      "epoch: 26, loss: 0.00036320968000000007\n",
      "epoch: 27, loss: 0.0004927307999999998\n",
      "epoch: 28, loss: 0.0006153677600000001\n",
      "epoch: 29, loss: 0.00067015592\n",
      "epoch: 30, loss: 0.0006441373600000002\n",
      "epoch: 31, loss: 0.0005681008800000002\n",
      "epoch: 32, loss: 0.00047172031999999993\n",
      "epoch: 33, loss: 0.00039795632000000006\n",
      "epoch: 34, loss: 0.00040435496000000007\n",
      "epoch: 35, loss: 0.00034480639999999994\n",
      "epoch: 36, loss: 0.0003222496800000001\n",
      "epoch: 37, loss: 0.00035795479999999985\n",
      "epoch: 38, loss: 0.00032158943999999987\n",
      "epoch: 39, loss: 0.0002583315200000002\n",
      "epoch: 40, loss: 0.00018265071999999988\n",
      "epoch: 41, loss: 0.00013438960000000005\n",
      "epoch: 42, loss: 6.811263999999995e-05\n",
      "epoch: 43, loss: 3.884824e-05\n",
      "epoch: 44, loss: 2.9078639999999938e-05\n",
      "epoch: 45, loss: 4.7822800000000006e-05\n",
      "epoch: 46, loss: 6.926767999999995e-05\n",
      "epoch: 47, loss: 8.440584000000003e-05\n",
      "epoch: 48, loss: 8.338592e-05\n",
      "epoch: 49, loss: 9.329976000000003e-05\n",
      "epoch: 50, loss: 7.568287999999999e-05\n",
      "epoch: 51, loss: 5.830120000000002e-05\n",
      "epoch: 52, loss: 6.25284e-05\n",
      "epoch: 53, loss: 7.563255999999995e-05\n",
      "epoch: 54, loss: 6.823023999999999e-05\n",
      "epoch: 55, loss: 7.696919999999996e-05\n",
      "epoch: 56, loss: 9.112463999999993e-05\n",
      "epoch: 57, loss: 8.046647999999995e-05\n",
      "epoch: 58, loss: 5.758344000000004e-05\n",
      "epoch: 59, loss: 7.043912e-05\n",
      "epoch: 60, loss: 4.902167999999996e-05\n",
      "epoch: 61, loss: 3.4996879999999996e-05\n",
      "epoch: 62, loss: 4.080935999999998e-05\n",
      "epoch: 63, loss: 4.678471999999998e-05\n",
      "epoch: 64, loss: 4.343943999999999e-05\n",
      "epoch: 65, loss: 3.386415999999997e-05\n",
      "epoch: 66, loss: 2.9517279999999984e-05\n",
      "epoch: 67, loss: 4.556567999999999e-05\n",
      "epoch: 68, loss: 3.6701839999999984e-05\n",
      "epoch: 69, loss: 2.998079999999998e-05\n",
      "epoch: 70, loss: 2.893768000000001e-05\n",
      "epoch: 71, loss: 3.652367999999997e-05\n",
      "epoch: 72, loss: 3.1364239999999956e-05\n",
      "epoch: 73, loss: 3.156904000000001e-05\n",
      "epoch: 74, loss: 3.5675760000000026e-05\n",
      "epoch: 75, loss: 2.803439999999997e-05\n",
      "epoch: 76, loss: 2.8523519999999994e-05\n",
      "epoch: 77, loss: 2.6726239999999988e-05\n",
      "epoch: 78, loss: 2.7620480000000003e-05\n",
      "epoch: 79, loss: 2.9173039999999952e-05\n",
      "epoch: 80, loss: 2.6681519999999963e-05\n",
      "epoch: 81, loss: 2.7710400000000022e-05\n",
      "epoch: 82, loss: 2.7563839999999988e-05\n",
      "epoch: 83, loss: 2.8997280000000017e-05\n",
      "epoch: 84, loss: 3.373375999999998e-05\n",
      "epoch: 85, loss: 2.666016000000002e-05\n",
      "epoch: 86, loss: 2.6102080000000007e-05\n",
      "epoch: 87, loss: 2.622783999999994e-05\n",
      "epoch: 88, loss: 2.6439680000000016e-05\n",
      "epoch: 89, loss: 2.5173919999999984e-05\n",
      "epoch: 90, loss: 2.199079999999998e-05\n",
      "epoch: 91, loss: 2.5018000000000017e-05\n",
      "epoch: 92, loss: 2.2062000000000017e-05\n",
      "epoch: 93, loss: 2.368480000000001e-05\n",
      "epoch: 94, loss: 2.3750319999999986e-05\n",
      "epoch: 95, loss: 3.0166640000000023e-05\n",
      "epoch: 96, loss: 3.0513599999999955e-05\n",
      "epoch: 97, loss: 2.264575999999999e-05\n",
      "epoch: 98, loss: 3.256095999999997e-05\n",
      "epoch: 99, loss: 2.772e-05\n"
     ]
    }
   ],
   "source": [
    "np.random.seed(42)\n",
    "\n",
    "qnn_list = []\n",
    "for i in tqdm(range(1)):\n",
    "    qnn = sequential_qnn(q_bits = [3, 4],\n",
    "                         dim = [3, 4, 1],\n",
    "                         reps = 1,\n",
    "                         backend=backend,\n",
    "                         shots=10000,\n",
    "                         lr = 0.1)\n",
    "    qnn.train(x, y, epochs=100, verbose=True)\n",
    "    qnn_list.append(qnn)\n",
    "\n",
    "saver(qnn_list, data_path(\"trainability_qnn_3D_constant_reps_1\"))"
   ]
  },
  {
   "cell_type": "markdown",
   "metadata": {},
   "source": [
    "### Generate Data"
   ]
  },
  {
   "cell_type": "code",
   "execution_count": 24,
   "metadata": {},
   "outputs": [],
   "source": [
    "np.random.seed(42)\n",
    "\n",
    "n = 6\n",
    "x = np.linspace(0, 1, n)\n",
    "x = generate_meshgrid([x, x, x])\n",
    "\n",
    "mean1 = np.array([[0.25, 0.25, 0.25]])\n",
    "mean2 = np.array([[0.25, 0.25, 0.75]])\n",
    "mean3 = np.array([[0.25, 0.75, 0.75]])\n",
    "mean4 = np.array([[0.25, 0.75, 0.25]])\n",
    "\n",
    "mean5 = np.array([[0.75, 0.25, 0.25]])\n",
    "mean6 = np.array([[0.75, 0.25, 0.75]])\n",
    "mean7 = np.array([[0.75, 0.75, 0.75]])\n",
    "mean8 = np.array([[0.75, 0.75, 0.25]])\n",
    "\n",
    "var = np.array([[0.02, 0, 0], [0, 0.02, 0], [0, 0, 0.02]])\n",
    "\n",
    "y = gaussian(x, mean1, var) - gaussian(x, mean2, var) + gaussian(x, mean3, var) - gaussian(x, mean4, var) - gaussian(x, mean5, var) + gaussian(x, mean6, var) - gaussian(x, mean7, var) + gaussian(x, mean8, var)\n",
    "\n",
    "x_qnn = scaler(x, a=0, b=np.pi)\n",
    "x_dnn = (x - np.mean(x, axis=0))/np.std(x, axis=0)\n",
    "\n",
    "y = scaler(y, a=0.1, b=0.9)"
   ]
  },
  {
   "cell_type": "code",
   "execution_count": 25,
   "metadata": {},
   "outputs": [
    {
     "data": {
      "image/png": "[encoded data removed]",
      "text/plain": [
       "<Figure size 432x288 with 1 Axes>"
      ]
     },
     "metadata": {
      "needs_background": "light"
     },
     "output_type": "display_data"
    }
   ],
   "source": [
    "plt.imshow(y.reshape(n,n,n)[0])\n",
    "plt.show()"
   ]
  },
  {
   "cell_type": "code",
   "execution_count": null,
   "metadata": {},
   "outputs": [],
   "source": [
    "np.random.seed(42)\n",
    "\n",
    "qnn_list = []\n",
    "for i in tqdm(range(10)):\n",
    "    qnn = sequential_qnn(q_bits = [3],\n",
    "                         dim = [3, 1],\n",
    "                         reps = 5,\n",
    "                         backend=backend,\n",
    "                         shots=10000,\n",
    "                         lr = 0.1)\n",
    "    qnn.train(x, y, epochs=100, verbose=True)\n",
    "    qnn_list.append(qnn)\n",
    "\n",
    "saver(qnn_list, data_path(\"trainability_qnn_3D_single_circuit\"))"
   ]
  },
  {
   "cell_type": "code",
   "execution_count": 10,
   "metadata": {},
   "outputs": [
    {
     "data": {
      "application/vnd.jupyter.widget-view+json": {
       "model_id": "3e87df34b08740868dec66019693fb39",
       "version_major": 2,
       "version_minor": 0
      },
      "text/plain": [
       "  0%|          | 0/10 [00:00<?, ?it/s]"
      ]
     },
     "metadata": {},
     "output_type": "display_data"
    },
    {
     "data": {
      "application/vnd.jupyter.widget-view+json": {
       "model_id": "7fbe5326f05e4dfcb7dcdbf587f47b45",
       "version_major": 2,
       "version_minor": 0
      },
      "text/plain": [
       "  0%|          | 0/100 [00:00<?, ?it/s]"
      ]
     },
     "metadata": {},
     "output_type": "display_data"
    },
    {
     "name": "stdout",
     "output_type": "stream",
     "text": [
      "epoch: 0, loss: 0.0875115046055939\n"
     ]
    },
    {
     "ename": "KeyboardInterrupt",
     "evalue": "",
     "output_type": "error",
     "traceback": [
      "\u001b[0;31m---------------------------------------------------------------------------\u001b[0m",
      "\u001b[0;31mKeyboardInterrupt\u001b[0m                         Traceback (most recent call last)",
      "\u001b[0;32m<ipython-input-10-67c497f1cbaf>\u001b[0m in \u001b[0;36m<module>\u001b[0;34m\u001b[0m\n\u001b[1;32m      9\u001b[0m                          \u001b[0mshots\u001b[0m\u001b[0;34m=\u001b[0m\u001b[0;36m10000\u001b[0m\u001b[0;34m,\u001b[0m\u001b[0;34m\u001b[0m\u001b[0;34m\u001b[0m\u001b[0m\n\u001b[1;32m     10\u001b[0m                          lr = 0.1)\n\u001b[0;32m---> 11\u001b[0;31m     \u001b[0mqnn\u001b[0m\u001b[0;34m.\u001b[0m\u001b[0mtrain\u001b[0m\u001b[0;34m(\u001b[0m\u001b[0mx\u001b[0m\u001b[0;34m,\u001b[0m \u001b[0my\u001b[0m\u001b[0;34m,\u001b[0m \u001b[0mepochs\u001b[0m\u001b[0;34m=\u001b[0m\u001b[0;36m100\u001b[0m\u001b[0;34m,\u001b[0m \u001b[0mverbose\u001b[0m\u001b[0;34m=\u001b[0m\u001b[0;32mTrue\u001b[0m\u001b[0;34m)\u001b[0m\u001b[0;34m\u001b[0m\u001b[0;34m\u001b[0m\u001b[0m\n\u001b[0m\u001b[1;32m     12\u001b[0m     \u001b[0mqnn_list\u001b[0m\u001b[0;34m.\u001b[0m\u001b[0mappend\u001b[0m\u001b[0;34m(\u001b[0m\u001b[0mqnn\u001b[0m\u001b[0;34m)\u001b[0m\u001b[0;34m\u001b[0m\u001b[0;34m\u001b[0m\u001b[0m\n\u001b[1;32m     13\u001b[0m \u001b[0;34m\u001b[0m\u001b[0m\n",
      "\u001b[0;32m~/Documents/Thesis/src/neuralnetwork.py\u001b[0m in \u001b[0;36mtrain\u001b[0;34m(self, x, y, epochs, verbose)\u001b[0m\n\u001b[1;32m     78\u001b[0m         \u001b[0;32mfor\u001b[0m \u001b[0mi\u001b[0m \u001b[0;32min\u001b[0m \u001b[0mdec\u001b[0m\u001b[0;34m(\u001b[0m\u001b[0mrange\u001b[0m\u001b[0;34m(\u001b[0m\u001b[0mepochs\u001b[0m\u001b[0;34m)\u001b[0m\u001b[0;34m)\u001b[0m\u001b[0;34m:\u001b[0m\u001b[0;34m\u001b[0m\u001b[0;34m\u001b[0m\u001b[0m\n\u001b[1;32m     79\u001b[0m \u001b[0;34m\u001b[0m\u001b[0m\n\u001b[0;32m---> 80\u001b[0;31m             \u001b[0mself\u001b[0m\u001b[0;34m.\u001b[0m\u001b[0mbackward\u001b[0m\u001b[0;34m(\u001b[0m\u001b[0mx\u001b[0m\u001b[0;34m,\u001b[0m \u001b[0my\u001b[0m\u001b[0;34m)\u001b[0m\u001b[0;34m\u001b[0m\u001b[0;34m\u001b[0m\u001b[0m\n\u001b[0m\u001b[1;32m     81\u001b[0m             \u001b[0mself\u001b[0m\u001b[0;34m.\u001b[0m\u001b[0mstep\u001b[0m\u001b[0;34m(\u001b[0m\u001b[0;34m)\u001b[0m\u001b[0;34m\u001b[0m\u001b[0;34m\u001b[0m\u001b[0m\n\u001b[1;32m     82\u001b[0m \u001b[0;34m\u001b[0m\u001b[0m\n",
      "\u001b[0;32m~/Documents/Thesis/src/neuralnetwork.py\u001b[0m in \u001b[0;36mbackward\u001b[0;34m(self, x, y, samplewise, include_loss)\u001b[0m\n\u001b[1;32m     57\u001b[0m \u001b[0;34m\u001b[0m\u001b[0m\n\u001b[1;32m     58\u001b[0m         \u001b[0;32mfor\u001b[0m \u001b[0mi\u001b[0m\u001b[0;34m,\u001b[0m \u001b[0mlayer\u001b[0m \u001b[0;32min\u001b[0m \u001b[0mreversed\u001b[0m\u001b[0;34m(\u001b[0m\u001b[0mlist\u001b[0m\u001b[0;34m(\u001b[0m\u001b[0menumerate\u001b[0m\u001b[0;34m(\u001b[0m\u001b[0mself\u001b[0m\u001b[0;34m.\u001b[0m\u001b[0mlayers\u001b[0m\u001b[0;34m)\u001b[0m\u001b[0;34m)\u001b[0m\u001b[0;34m)\u001b[0m\u001b[0;34m:\u001b[0m\u001b[0;34m\u001b[0m\u001b[0;34m\u001b[0m\u001b[0m\n\u001b[0;32m---> 59\u001b[0;31m             weight_gradient, delta = layer.grad(\n\u001b[0m\u001b[1;32m     60\u001b[0m                 self.a[i], delta, samplewise=samplewise)\n\u001b[1;32m     61\u001b[0m             \u001b[0mself\u001b[0m\u001b[0;34m.\u001b[0m\u001b[0mweight_gradient_list\u001b[0m\u001b[0;34m.\u001b[0m\u001b[0mappend\u001b[0m\u001b[0;34m(\u001b[0m\u001b[0mweight_gradient\u001b[0m\u001b[0;34m)\u001b[0m\u001b[0;34m\u001b[0m\u001b[0;34m\u001b[0m\u001b[0m\n",
      "\u001b[0;32m~/Documents/Thesis/src/layers.py\u001b[0m in \u001b[0;36mgrad\u001b[0;34m(self, inputs, delta, samplewise)\u001b[0m\n\u001b[1;32m    123\u001b[0m             \u001b[0mweight_partial\u001b[0m\u001b[0;34m[\u001b[0m\u001b[0;34m:\u001b[0m\u001b[0;34m,\u001b[0m \u001b[0mi\u001b[0m\u001b[0;34m,\u001b[0m \u001b[0;34m:\u001b[0m\u001b[0;34m]\u001b[0m \u001b[0;34m=\u001b[0m \u001b[0;36m1\u001b[0m \u001b[0;34m/\u001b[0m \u001b[0;36m2\u001b[0m \u001b[0;34m*\u001b[0m \u001b[0mself\u001b[0m\u001b[0;34m(\u001b[0m\u001b[0minputs\u001b[0m\u001b[0;34m)\u001b[0m\u001b[0;34m\u001b[0m\u001b[0;34m\u001b[0m\u001b[0m\n\u001b[1;32m    124\u001b[0m             \u001b[0mself\u001b[0m\u001b[0;34m.\u001b[0m\u001b[0mweight\u001b[0m\u001b[0;34m[\u001b[0m\u001b[0mi\u001b[0m\u001b[0;34m,\u001b[0m \u001b[0;34m:\u001b[0m\u001b[0;34m]\u001b[0m \u001b[0;34m+=\u001b[0m \u001b[0;34m-\u001b[0m\u001b[0mnp\u001b[0m\u001b[0;34m.\u001b[0m\u001b[0mpi\u001b[0m\u001b[0;34m\u001b[0m\u001b[0;34m\u001b[0m\u001b[0m\n\u001b[0;32m--> 125\u001b[0;31m             \u001b[0mweight_partial\u001b[0m\u001b[0;34m[\u001b[0m\u001b[0;34m:\u001b[0m\u001b[0;34m,\u001b[0m \u001b[0mi\u001b[0m\u001b[0;34m,\u001b[0m \u001b[0;34m:\u001b[0m\u001b[0;34m]\u001b[0m \u001b[0;34m+=\u001b[0m \u001b[0;34m-\u001b[0m\u001b[0;36m1\u001b[0m \u001b[0;34m/\u001b[0m \u001b[0;36m2\u001b[0m \u001b[0;34m*\u001b[0m \u001b[0mself\u001b[0m\u001b[0;34m(\u001b[0m\u001b[0minputs\u001b[0m\u001b[0;34m)\u001b[0m\u001b[0;34m\u001b[0m\u001b[0;34m\u001b[0m\u001b[0m\n\u001b[0m\u001b[1;32m    126\u001b[0m             \u001b[0mself\u001b[0m\u001b[0;34m.\u001b[0m\u001b[0mweight\u001b[0m\u001b[0;34m[\u001b[0m\u001b[0mi\u001b[0m\u001b[0;34m,\u001b[0m \u001b[0;34m:\u001b[0m\u001b[0;34m]\u001b[0m \u001b[0;34m+=\u001b[0m \u001b[0mnp\u001b[0m\u001b[0;34m.\u001b[0m\u001b[0mpi\u001b[0m \u001b[0;34m/\u001b[0m \u001b[0;36m2\u001b[0m\u001b[0;34m\u001b[0m\u001b[0;34m\u001b[0m\u001b[0m\n\u001b[1;32m    127\u001b[0m \u001b[0;34m\u001b[0m\u001b[0m\n",
      "\u001b[0;32m~/Documents/Thesis/src/layers.py\u001b[0m in \u001b[0;36m__call__\u001b[0;34m(self, inputs)\u001b[0m\n\u001b[1;32m    106\u001b[0m \u001b[0;34m\u001b[0m\u001b[0m\n\u001b[1;32m    107\u001b[0m         \u001b[0;32mfor\u001b[0m \u001b[0mcircuit\u001b[0m \u001b[0;32min\u001b[0m \u001b[0mcircuit_list\u001b[0m\u001b[0;34m:\u001b[0m\u001b[0;34m\u001b[0m\u001b[0;34m\u001b[0m\u001b[0m\n\u001b[0;32m--> 108\u001b[0;31m             \u001b[0mcounts\u001b[0m \u001b[0;34m=\u001b[0m \u001b[0mjob\u001b[0m\u001b[0;34m.\u001b[0m\u001b[0mresult\u001b[0m\u001b[0;34m(\u001b[0m\u001b[0;34m)\u001b[0m\u001b[0;34m.\u001b[0m\u001b[0mget_counts\u001b[0m\u001b[0;34m(\u001b[0m\u001b[0mcircuit\u001b[0m\u001b[0;34m)\u001b[0m\u001b[0;34m\u001b[0m\u001b[0;34m\u001b[0m\u001b[0m\n\u001b[0m\u001b[1;32m    109\u001b[0m             \u001b[0moutputs\u001b[0m\u001b[0;34m.\u001b[0m\u001b[0mappend\u001b[0m\u001b[0;34m(\u001b[0m\u001b[0mself\u001b[0m\u001b[0;34m.\u001b[0m\u001b[0msampler\u001b[0m\u001b[0;34m(\u001b[0m\u001b[0mcounts\u001b[0m\u001b[0;34m)\u001b[0m\u001b[0;34m)\u001b[0m\u001b[0;34m\u001b[0m\u001b[0;34m\u001b[0m\u001b[0m\n\u001b[1;32m    110\u001b[0m \u001b[0;34m\u001b[0m\u001b[0m\n",
      "\u001b[0;32m~/anaconda3/envs/env_qiskit/lib/python3.9/site-packages/qiskit/providers/aer/aerjob.py\u001b[0m in \u001b[0;36m_wrapper\u001b[0;34m(self, *args, **kwargs)\u001b[0m\n\u001b[1;32m     40\u001b[0m         \u001b[0;32mif\u001b[0m \u001b[0mself\u001b[0m\u001b[0;34m.\u001b[0m\u001b[0m_future\u001b[0m \u001b[0;32mis\u001b[0m \u001b[0;32mNone\u001b[0m\u001b[0;34m:\u001b[0m\u001b[0;34m\u001b[0m\u001b[0;34m\u001b[0m\u001b[0m\n\u001b[1;32m     41\u001b[0m             \u001b[0;32mraise\u001b[0m \u001b[0mJobError\u001b[0m\u001b[0;34m(\u001b[0m\u001b[0;34m\"Job not submitted yet!. You have to .submit() first!\"\u001b[0m\u001b[0;34m)\u001b[0m\u001b[0;34m\u001b[0m\u001b[0;34m\u001b[0m\u001b[0m\n\u001b[0;32m---> 42\u001b[0;31m         \u001b[0;32mreturn\u001b[0m \u001b[0mfunc\u001b[0m\u001b[0;34m(\u001b[0m\u001b[0mself\u001b[0m\u001b[0;34m,\u001b[0m \u001b[0;34m*\u001b[0m\u001b[0margs\u001b[0m\u001b[0;34m,\u001b[0m \u001b[0;34m**\u001b[0m\u001b[0mkwargs\u001b[0m\u001b[0;34m)\u001b[0m\u001b[0;34m\u001b[0m\u001b[0;34m\u001b[0m\u001b[0m\n\u001b[0m\u001b[1;32m     43\u001b[0m     \u001b[0;32mreturn\u001b[0m \u001b[0m_wrapper\u001b[0m\u001b[0;34m\u001b[0m\u001b[0;34m\u001b[0m\u001b[0m\n\u001b[1;32m     44\u001b[0m \u001b[0;34m\u001b[0m\u001b[0m\n",
      "\u001b[0;32m~/anaconda3/envs/env_qiskit/lib/python3.9/site-packages/qiskit/providers/aer/aerjob.py\u001b[0m in \u001b[0;36mresult\u001b[0;34m(self, timeout)\u001b[0m\n\u001b[1;32m     99\u001b[0m             \u001b[0mconcurrent\u001b[0m\u001b[0;34m.\u001b[0m\u001b[0mfutures\u001b[0m\u001b[0;34m.\u001b[0m\u001b[0mCancelledError\u001b[0m\u001b[0;34m:\u001b[0m \u001b[0;32mif\u001b[0m \u001b[0mjob\u001b[0m \u001b[0mcancelled\u001b[0m \u001b[0mbefore\u001b[0m \u001b[0mcompleted\u001b[0m\u001b[0;34m.\u001b[0m\u001b[0;34m\u001b[0m\u001b[0;34m\u001b[0m\u001b[0m\n\u001b[1;32m    100\u001b[0m         \"\"\"\n\u001b[0;32m--> 101\u001b[0;31m         \u001b[0;32mreturn\u001b[0m \u001b[0mself\u001b[0m\u001b[0;34m.\u001b[0m\u001b[0m_future\u001b[0m\u001b[0;34m.\u001b[0m\u001b[0mresult\u001b[0m\u001b[0;34m(\u001b[0m\u001b[0mtimeout\u001b[0m\u001b[0;34m=\u001b[0m\u001b[0mtimeout\u001b[0m\u001b[0;34m)\u001b[0m\u001b[0;34m\u001b[0m\u001b[0;34m\u001b[0m\u001b[0m\n\u001b[0m\u001b[1;32m    102\u001b[0m \u001b[0;34m\u001b[0m\u001b[0m\n\u001b[1;32m    103\u001b[0m     \u001b[0;34m@\u001b[0m\u001b[0mrequires_submit\u001b[0m\u001b[0;34m\u001b[0m\u001b[0;34m\u001b[0m\u001b[0m\n",
      "\u001b[0;32m~/anaconda3/envs/env_qiskit/lib/python3.9/concurrent/futures/_base.py\u001b[0m in \u001b[0;36mresult\u001b[0;34m(self, timeout)\u001b[0m\n\u001b[1;32m    433\u001b[0m                 \u001b[0;32mreturn\u001b[0m \u001b[0mself\u001b[0m\u001b[0;34m.\u001b[0m\u001b[0m__get_result\u001b[0m\u001b[0;34m(\u001b[0m\u001b[0;34m)\u001b[0m\u001b[0;34m\u001b[0m\u001b[0;34m\u001b[0m\u001b[0m\n\u001b[1;32m    434\u001b[0m \u001b[0;34m\u001b[0m\u001b[0m\n\u001b[0;32m--> 435\u001b[0;31m             \u001b[0mself\u001b[0m\u001b[0;34m.\u001b[0m\u001b[0m_condition\u001b[0m\u001b[0;34m.\u001b[0m\u001b[0mwait\u001b[0m\u001b[0;34m(\u001b[0m\u001b[0mtimeout\u001b[0m\u001b[0;34m)\u001b[0m\u001b[0;34m\u001b[0m\u001b[0;34m\u001b[0m\u001b[0m\n\u001b[0m\u001b[1;32m    436\u001b[0m \u001b[0;34m\u001b[0m\u001b[0m\n\u001b[1;32m    437\u001b[0m             \u001b[0;32mif\u001b[0m \u001b[0mself\u001b[0m\u001b[0;34m.\u001b[0m\u001b[0m_state\u001b[0m \u001b[0;32min\u001b[0m \u001b[0;34m[\u001b[0m\u001b[0mCANCELLED\u001b[0m\u001b[0;34m,\u001b[0m \u001b[0mCANCELLED_AND_NOTIFIED\u001b[0m\u001b[0;34m]\u001b[0m\u001b[0;34m:\u001b[0m\u001b[0;34m\u001b[0m\u001b[0;34m\u001b[0m\u001b[0m\n",
      "\u001b[0;32m~/anaconda3/envs/env_qiskit/lib/python3.9/threading.py\u001b[0m in \u001b[0;36mwait\u001b[0;34m(self, timeout)\u001b[0m\n\u001b[1;32m    310\u001b[0m         \u001b[0;32mtry\u001b[0m\u001b[0;34m:\u001b[0m    \u001b[0;31m# restore state no matter what (e.g., KeyboardInterrupt)\u001b[0m\u001b[0;34m\u001b[0m\u001b[0;34m\u001b[0m\u001b[0m\n\u001b[1;32m    311\u001b[0m             \u001b[0;32mif\u001b[0m \u001b[0mtimeout\u001b[0m \u001b[0;32mis\u001b[0m \u001b[0;32mNone\u001b[0m\u001b[0;34m:\u001b[0m\u001b[0;34m\u001b[0m\u001b[0;34m\u001b[0m\u001b[0m\n\u001b[0;32m--> 312\u001b[0;31m                 \u001b[0mwaiter\u001b[0m\u001b[0;34m.\u001b[0m\u001b[0macquire\u001b[0m\u001b[0;34m(\u001b[0m\u001b[0;34m)\u001b[0m\u001b[0;34m\u001b[0m\u001b[0;34m\u001b[0m\u001b[0m\n\u001b[0m\u001b[1;32m    313\u001b[0m                 \u001b[0mgotit\u001b[0m \u001b[0;34m=\u001b[0m \u001b[0;32mTrue\u001b[0m\u001b[0;34m\u001b[0m\u001b[0;34m\u001b[0m\u001b[0m\n\u001b[1;32m    314\u001b[0m             \u001b[0;32melse\u001b[0m\u001b[0;34m:\u001b[0m\u001b[0;34m\u001b[0m\u001b[0;34m\u001b[0m\u001b[0m\n",
      "\u001b[0;31mKeyboardInterrupt\u001b[0m: "
     ]
    }
   ],
   "source": [
    "np.random.seed(42)\n",
    "\n",
    "qnn_list = []\n",
    "for i in tqdm(range(10)):\n",
    "    qnn = sequential_qnn(q_bits = [3, 4],\n",
    "                         dim = [3, 4, 1],\n",
    "                         reps = 1,\n",
    "                         backend=backend,\n",
    "                         shots=10000,\n",
    "                         lr = 0.1)\n",
    "    qnn.train(x, y, epochs=100, verbose=True)\n",
    "    qnn_list.append(qnn)\n",
    "\n",
    "saver(qnn_list, data_path(\"trainability_qnn_3D_reps_1\"))"
   ]
  },
  {
   "cell_type": "code",
   "execution_count": null,
   "metadata": {},
   "outputs": [],
   "source": [
    "np.random.seed(42)\n",
    "\n",
    "qnn_list = []\n",
    "for i in tqdm(range(10)):\n",
    "    qnn = sequential_qnn(q_bits = [3, 4],\n",
    "                         dim = [3, 4, 1],\n",
    "                         reps = 2,\n",
    "                         backend=backend,\n",
    "                         shots=10000,\n",
    "                         lr = 0.1)\n",
    "    qnn.train(x, y, epochs=100)\n",
    "    qnn_list.append(qnn)\n",
    "\n",
    "saver(qnn_list, data_path(\"trainability_qnn_3D_reps_2\"))"
   ]
  },
  {
   "cell_type": "code",
   "execution_count": null,
   "metadata": {},
   "outputs": [],
   "source": [
    "np.random.seed(42)\n",
    "\n",
    "qnn_list = []\n",
    "for i in range(10):\n",
    "    qnn = sequential_qnn(q_bits = [3, 4],\n",
    "                         dim = [3, 4, 1],\n",
    "                         reps = 3,\n",
    "                         backend=backend,\n",
    "                         shots=10000,\n",
    "                         lr = 0.1)\n",
    "    qnn.train(x, y, epochs=100, verbose=True)\n",
    "    qnn_list.append(qnn)\n",
    "\n",
    "saver(qnn_list, data_path(\"trainability_qnn_3D_reps_3\"))"
   ]
  },
  {
   "cell_type": "code",
   "execution_count": 26,
   "metadata": {},
   "outputs": [],
   "source": [
    "np.random.seed(42)\n",
    "dnn_list = []\n",
    "for i in range(10):\n",
    "    dnn = sequential_dnn(dim = [3, 6, 1],\n",
    "                     lr = 0.1)\n",
    "    \n",
    "    dnn.train(x_dnn, y, epochs=10000)\n",
    "    dnn_list.append(dnn)\n",
    "\n",
    "saver(dnn_list, data_path(\"trainability_dnn_3D\"))"
   ]
  },
  {
   "cell_type": "markdown",
   "metadata": {},
   "source": [
    "### Deep QNN"
   ]
  },
  {
   "cell_type": "code",
   "execution_count": 5,
   "metadata": {},
   "outputs": [],
   "source": [
    "np.random.seed(42)\n",
    "\n",
    "n = 8\n",
    "x = np.linspace(0, 1, n)\n",
    "x = generate_meshgrid([x, x, x])\n",
    "\n",
    "mean1 = np.array([[0.25, 0.25, 0.25]])\n",
    "mean2 = np.array([[0.25, 0.25, 0.75]])\n",
    "mean3 = np.array([[0.25, 0.75, 0.75]])\n",
    "mean4 = np.array([[0.25, 0.75, 0.25]])\n",
    "\n",
    "mean5 = np.array([[0.75, 0.25, 0.25]])\n",
    "mean6 = np.array([[0.75, 0.25, 0.75]])\n",
    "mean7 = np.array([[0.75, 0.75, 0.75]])\n",
    "mean8 = np.array([[0.75, 0.75, 0.25]])\n",
    "\n",
    "var = np.array([[0.02, 0, 0], [0, 0.02, 0], [0, 0, 0.02]])\n",
    "\n",
    "y = gaussian(x, mean1, var) - gaussian(x, mean2, var) + gaussian(x, mean3, var) - gaussian(x, mean4, var) - gaussian(x, mean5, var) + gaussian(x, mean6, var) - gaussian(x, mean7, var) + gaussian(x, mean8, var)\n",
    "\n",
    "x = scaler(x, a=0, b=np.pi)\n",
    "y = scaler(y, a=0, b=1)"
   ]
  },
  {
   "cell_type": "code",
   "execution_count": 6,
   "metadata": {},
   "outputs": [
    {
     "data": {
      "image/png": "[encoded data removed]",
      "text/plain": [
       "<Figure size 432x288 with 1 Axes>"
      ]
     },
     "metadata": {
      "needs_background": "light"
     },
     "output_type": "display_data"
    }
   ],
   "source": [
    "plt.imshow(y.reshape(n,n,n)[0])\n",
    "plt.show()"
   ]
  },
  {
   "cell_type": "code",
   "execution_count": 10,
   "metadata": {},
   "outputs": [
    {
     "data": {
      "application/vnd.jupyter.widget-view+json": {
       "model_id": "6266cfbd05c644769adb6f48aa104930",
       "version_major": 2,
       "version_minor": 0
      },
      "text/plain": [
       "  0%|          | 0/100 [00:00<?, ?it/s]"
      ]
     },
     "metadata": {},
     "output_type": "display_data"
    },
    {
     "name": "stdout",
     "output_type": "stream",
     "text": [
      "epoch: 0, loss: 0.07515626249013839\n"
     ]
    },
    {
     "ename": "KeyboardInterrupt",
     "evalue": "",
     "output_type": "error",
     "traceback": [
      "\u001b[0;31m---------------------------------------------------------------------------\u001b[0m",
      "\u001b[0;31mKeyboardInterrupt\u001b[0m                         Traceback (most recent call last)",
      "\u001b[0;32m<ipython-input-10-237807f8a3da>\u001b[0m in \u001b[0;36m<module>\u001b[0;34m\u001b[0m\n\u001b[1;32m      9\u001b[0m                      lr = 0.1)\n\u001b[1;32m     10\u001b[0m \u001b[0;34m\u001b[0m\u001b[0m\n\u001b[0;32m---> 11\u001b[0;31m \u001b[0mqnn\u001b[0m\u001b[0;34m.\u001b[0m\u001b[0mtrain\u001b[0m\u001b[0;34m(\u001b[0m\u001b[0mx\u001b[0m\u001b[0;34m,\u001b[0m \u001b[0my\u001b[0m\u001b[0;34m,\u001b[0m \u001b[0mepochs\u001b[0m\u001b[0;34m=\u001b[0m\u001b[0;36m100\u001b[0m\u001b[0;34m,\u001b[0m \u001b[0mverbose\u001b[0m\u001b[0;34m=\u001b[0m\u001b[0;32mTrue\u001b[0m\u001b[0;34m)\u001b[0m\u001b[0;34m\u001b[0m\u001b[0;34m\u001b[0m\u001b[0m\n\u001b[0m\u001b[1;32m     12\u001b[0m \u001b[0;34m\u001b[0m\u001b[0m\n\u001b[1;32m     13\u001b[0m \u001b[0msaver\u001b[0m\u001b[0;34m(\u001b[0m\u001b[0mqnn_list\u001b[0m\u001b[0;34m,\u001b[0m \u001b[0mdata_path\u001b[0m\u001b[0;34m(\u001b[0m\u001b[0;34m\"trainability_qnn_3D_deep\"\u001b[0m\u001b[0;34m)\u001b[0m\u001b[0;34m)\u001b[0m\u001b[0;34m\u001b[0m\u001b[0;34m\u001b[0m\u001b[0m\n",
      "\u001b[0;32m~/Documents/Thesis/src/neuralnetwork.py\u001b[0m in \u001b[0;36mtrain\u001b[0;34m(self, x, y, epochs, verbose)\u001b[0m\n\u001b[1;32m     78\u001b[0m         \u001b[0;32mfor\u001b[0m \u001b[0mi\u001b[0m \u001b[0;32min\u001b[0m \u001b[0mdec\u001b[0m\u001b[0;34m(\u001b[0m\u001b[0mrange\u001b[0m\u001b[0;34m(\u001b[0m\u001b[0mepochs\u001b[0m\u001b[0;34m)\u001b[0m\u001b[0;34m)\u001b[0m\u001b[0;34m:\u001b[0m\u001b[0;34m\u001b[0m\u001b[0;34m\u001b[0m\u001b[0m\n\u001b[1;32m     79\u001b[0m \u001b[0;34m\u001b[0m\u001b[0m\n\u001b[0;32m---> 80\u001b[0;31m             \u001b[0mself\u001b[0m\u001b[0;34m.\u001b[0m\u001b[0mbackward\u001b[0m\u001b[0;34m(\u001b[0m\u001b[0mx\u001b[0m\u001b[0;34m,\u001b[0m \u001b[0my\u001b[0m\u001b[0;34m)\u001b[0m\u001b[0;34m\u001b[0m\u001b[0;34m\u001b[0m\u001b[0m\n\u001b[0m\u001b[1;32m     81\u001b[0m             \u001b[0mself\u001b[0m\u001b[0;34m.\u001b[0m\u001b[0mstep\u001b[0m\u001b[0;34m(\u001b[0m\u001b[0;34m)\u001b[0m\u001b[0;34m\u001b[0m\u001b[0;34m\u001b[0m\u001b[0m\n\u001b[1;32m     82\u001b[0m \u001b[0;34m\u001b[0m\u001b[0m\n",
      "\u001b[0;32m~/Documents/Thesis/src/neuralnetwork.py\u001b[0m in \u001b[0;36mbackward\u001b[0;34m(self, x, y, samplewise, include_loss)\u001b[0m\n\u001b[1;32m     48\u001b[0m         \u001b[0mself\u001b[0m\u001b[0;34m.\u001b[0m\u001b[0mweight_gradient_list\u001b[0m \u001b[0;34m=\u001b[0m \u001b[0;34m[\u001b[0m\u001b[0;34m]\u001b[0m\u001b[0;34m\u001b[0m\u001b[0;34m\u001b[0m\u001b[0m\n\u001b[1;32m     49\u001b[0m \u001b[0;34m\u001b[0m\u001b[0m\n\u001b[0;32m---> 50\u001b[0;31m         \u001b[0mself\u001b[0m\u001b[0;34m(\u001b[0m\u001b[0mx\u001b[0m\u001b[0;34m)\u001b[0m\u001b[0;34m\u001b[0m\u001b[0;34m\u001b[0m\u001b[0m\n\u001b[0m\u001b[1;32m     51\u001b[0m         \u001b[0my_pred\u001b[0m \u001b[0;34m=\u001b[0m \u001b[0mself\u001b[0m\u001b[0;34m.\u001b[0m\u001b[0ma\u001b[0m\u001b[0;34m[\u001b[0m\u001b[0;34m-\u001b[0m\u001b[0;36m1\u001b[0m\u001b[0;34m]\u001b[0m\u001b[0;34m\u001b[0m\u001b[0;34m\u001b[0m\u001b[0m\n\u001b[1;32m     52\u001b[0m \u001b[0;34m\u001b[0m\u001b[0m\n",
      "\u001b[0;32m~/Documents/Thesis/src/neuralnetwork.py\u001b[0m in \u001b[0;36m__call__\u001b[0;34m(self, x, verbose)\u001b[0m\n\u001b[1;32m     37\u001b[0m         \u001b[0mself\u001b[0m\u001b[0;34m.\u001b[0m\u001b[0ma\u001b[0m\u001b[0;34m.\u001b[0m\u001b[0mappend\u001b[0m\u001b[0;34m(\u001b[0m\u001b[0mx\u001b[0m\u001b[0;34m)\u001b[0m\u001b[0;34m\u001b[0m\u001b[0;34m\u001b[0m\u001b[0m\n\u001b[1;32m     38\u001b[0m         \u001b[0;32mfor\u001b[0m \u001b[0mlayer\u001b[0m \u001b[0;32min\u001b[0m \u001b[0mdecerator\u001b[0m\u001b[0;34m(\u001b[0m\u001b[0mself\u001b[0m\u001b[0;34m.\u001b[0m\u001b[0mlayers\u001b[0m\u001b[0;34m)\u001b[0m\u001b[0;34m:\u001b[0m\u001b[0;34m\u001b[0m\u001b[0;34m\u001b[0m\u001b[0m\n\u001b[0;32m---> 39\u001b[0;31m             \u001b[0mx\u001b[0m \u001b[0;34m=\u001b[0m \u001b[0mlayer\u001b[0m\u001b[0;34m(\u001b[0m\u001b[0mx\u001b[0m\u001b[0;34m)\u001b[0m\u001b[0;34m\u001b[0m\u001b[0;34m\u001b[0m\u001b[0m\n\u001b[0m\u001b[1;32m     40\u001b[0m             \u001b[0mself\u001b[0m\u001b[0;34m.\u001b[0m\u001b[0ma\u001b[0m\u001b[0;34m.\u001b[0m\u001b[0mappend\u001b[0m\u001b[0;34m(\u001b[0m\u001b[0mx\u001b[0m\u001b[0;34m)\u001b[0m\u001b[0;34m\u001b[0m\u001b[0;34m\u001b[0m\u001b[0m\n\u001b[1;32m     41\u001b[0m \u001b[0;34m\u001b[0m\u001b[0m\n",
      "\u001b[0;32m~/Documents/Thesis/src/layers.py\u001b[0m in \u001b[0;36m__call__\u001b[0;34m(self, inputs)\u001b[0m\n\u001b[1;32m    106\u001b[0m \u001b[0;34m\u001b[0m\u001b[0m\n\u001b[1;32m    107\u001b[0m         \u001b[0;32mfor\u001b[0m \u001b[0mcircuit\u001b[0m \u001b[0;32min\u001b[0m \u001b[0mcircuit_list\u001b[0m\u001b[0;34m:\u001b[0m\u001b[0;34m\u001b[0m\u001b[0;34m\u001b[0m\u001b[0m\n\u001b[0;32m--> 108\u001b[0;31m             \u001b[0mcounts\u001b[0m \u001b[0;34m=\u001b[0m \u001b[0mjob\u001b[0m\u001b[0;34m.\u001b[0m\u001b[0mresult\u001b[0m\u001b[0;34m(\u001b[0m\u001b[0;34m)\u001b[0m\u001b[0;34m.\u001b[0m\u001b[0mget_counts\u001b[0m\u001b[0;34m(\u001b[0m\u001b[0mcircuit\u001b[0m\u001b[0;34m)\u001b[0m\u001b[0;34m\u001b[0m\u001b[0;34m\u001b[0m\u001b[0m\n\u001b[0m\u001b[1;32m    109\u001b[0m             \u001b[0moutputs\u001b[0m\u001b[0;34m.\u001b[0m\u001b[0mappend\u001b[0m\u001b[0;34m(\u001b[0m\u001b[0mself\u001b[0m\u001b[0;34m.\u001b[0m\u001b[0msampler\u001b[0m\u001b[0;34m(\u001b[0m\u001b[0mcounts\u001b[0m\u001b[0;34m)\u001b[0m\u001b[0;34m)\u001b[0m\u001b[0;34m\u001b[0m\u001b[0;34m\u001b[0m\u001b[0m\n\u001b[1;32m    110\u001b[0m \u001b[0;34m\u001b[0m\u001b[0m\n",
      "\u001b[0;32m~/anaconda3/envs/env_qiskit/lib/python3.9/site-packages/qiskit/providers/aer/aerjob.py\u001b[0m in \u001b[0;36m_wrapper\u001b[0;34m(self, *args, **kwargs)\u001b[0m\n\u001b[1;32m     40\u001b[0m         \u001b[0;32mif\u001b[0m \u001b[0mself\u001b[0m\u001b[0;34m.\u001b[0m\u001b[0m_future\u001b[0m \u001b[0;32mis\u001b[0m \u001b[0;32mNone\u001b[0m\u001b[0;34m:\u001b[0m\u001b[0;34m\u001b[0m\u001b[0;34m\u001b[0m\u001b[0m\n\u001b[1;32m     41\u001b[0m             \u001b[0;32mraise\u001b[0m \u001b[0mJobError\u001b[0m\u001b[0;34m(\u001b[0m\u001b[0;34m\"Job not submitted yet!. You have to .submit() first!\"\u001b[0m\u001b[0;34m)\u001b[0m\u001b[0;34m\u001b[0m\u001b[0;34m\u001b[0m\u001b[0m\n\u001b[0;32m---> 42\u001b[0;31m         \u001b[0;32mreturn\u001b[0m \u001b[0mfunc\u001b[0m\u001b[0;34m(\u001b[0m\u001b[0mself\u001b[0m\u001b[0;34m,\u001b[0m \u001b[0;34m*\u001b[0m\u001b[0margs\u001b[0m\u001b[0;34m,\u001b[0m \u001b[0;34m**\u001b[0m\u001b[0mkwargs\u001b[0m\u001b[0;34m)\u001b[0m\u001b[0;34m\u001b[0m\u001b[0;34m\u001b[0m\u001b[0m\n\u001b[0m\u001b[1;32m     43\u001b[0m     \u001b[0;32mreturn\u001b[0m \u001b[0m_wrapper\u001b[0m\u001b[0;34m\u001b[0m\u001b[0;34m\u001b[0m\u001b[0m\n\u001b[1;32m     44\u001b[0m \u001b[0;34m\u001b[0m\u001b[0m\n",
      "\u001b[0;32m~/anaconda3/envs/env_qiskit/lib/python3.9/site-packages/qiskit/providers/aer/aerjob.py\u001b[0m in \u001b[0;36mresult\u001b[0;34m(self, timeout)\u001b[0m\n\u001b[1;32m     99\u001b[0m             \u001b[0mconcurrent\u001b[0m\u001b[0;34m.\u001b[0m\u001b[0mfutures\u001b[0m\u001b[0;34m.\u001b[0m\u001b[0mCancelledError\u001b[0m\u001b[0;34m:\u001b[0m \u001b[0;32mif\u001b[0m \u001b[0mjob\u001b[0m \u001b[0mcancelled\u001b[0m \u001b[0mbefore\u001b[0m \u001b[0mcompleted\u001b[0m\u001b[0;34m.\u001b[0m\u001b[0;34m\u001b[0m\u001b[0;34m\u001b[0m\u001b[0m\n\u001b[1;32m    100\u001b[0m         \"\"\"\n\u001b[0;32m--> 101\u001b[0;31m         \u001b[0;32mreturn\u001b[0m \u001b[0mself\u001b[0m\u001b[0;34m.\u001b[0m\u001b[0m_future\u001b[0m\u001b[0;34m.\u001b[0m\u001b[0mresult\u001b[0m\u001b[0;34m(\u001b[0m\u001b[0mtimeout\u001b[0m\u001b[0;34m=\u001b[0m\u001b[0mtimeout\u001b[0m\u001b[0;34m)\u001b[0m\u001b[0;34m\u001b[0m\u001b[0;34m\u001b[0m\u001b[0m\n\u001b[0m\u001b[1;32m    102\u001b[0m \u001b[0;34m\u001b[0m\u001b[0m\n\u001b[1;32m    103\u001b[0m     \u001b[0;34m@\u001b[0m\u001b[0mrequires_submit\u001b[0m\u001b[0;34m\u001b[0m\u001b[0;34m\u001b[0m\u001b[0m\n",
      "\u001b[0;32m~/anaconda3/envs/env_qiskit/lib/python3.9/concurrent/futures/_base.py\u001b[0m in \u001b[0;36mresult\u001b[0;34m(self, timeout)\u001b[0m\n\u001b[1;32m    433\u001b[0m                 \u001b[0;32mreturn\u001b[0m \u001b[0mself\u001b[0m\u001b[0;34m.\u001b[0m\u001b[0m__get_result\u001b[0m\u001b[0;34m(\u001b[0m\u001b[0;34m)\u001b[0m\u001b[0;34m\u001b[0m\u001b[0;34m\u001b[0m\u001b[0m\n\u001b[1;32m    434\u001b[0m \u001b[0;34m\u001b[0m\u001b[0m\n\u001b[0;32m--> 435\u001b[0;31m             \u001b[0mself\u001b[0m\u001b[0;34m.\u001b[0m\u001b[0m_condition\u001b[0m\u001b[0;34m.\u001b[0m\u001b[0mwait\u001b[0m\u001b[0;34m(\u001b[0m\u001b[0mtimeout\u001b[0m\u001b[0;34m)\u001b[0m\u001b[0;34m\u001b[0m\u001b[0;34m\u001b[0m\u001b[0m\n\u001b[0m\u001b[1;32m    436\u001b[0m \u001b[0;34m\u001b[0m\u001b[0m\n\u001b[1;32m    437\u001b[0m             \u001b[0;32mif\u001b[0m \u001b[0mself\u001b[0m\u001b[0;34m.\u001b[0m\u001b[0m_state\u001b[0m \u001b[0;32min\u001b[0m \u001b[0;34m[\u001b[0m\u001b[0mCANCELLED\u001b[0m\u001b[0;34m,\u001b[0m \u001b[0mCANCELLED_AND_NOTIFIED\u001b[0m\u001b[0;34m]\u001b[0m\u001b[0;34m:\u001b[0m\u001b[0;34m\u001b[0m\u001b[0;34m\u001b[0m\u001b[0m\n",
      "\u001b[0;32m~/anaconda3/envs/env_qiskit/lib/python3.9/threading.py\u001b[0m in \u001b[0;36mwait\u001b[0;34m(self, timeout)\u001b[0m\n\u001b[1;32m    310\u001b[0m         \u001b[0;32mtry\u001b[0m\u001b[0;34m:\u001b[0m    \u001b[0;31m# restore state no matter what (e.g., KeyboardInterrupt)\u001b[0m\u001b[0;34m\u001b[0m\u001b[0;34m\u001b[0m\u001b[0m\n\u001b[1;32m    311\u001b[0m             \u001b[0;32mif\u001b[0m \u001b[0mtimeout\u001b[0m \u001b[0;32mis\u001b[0m \u001b[0;32mNone\u001b[0m\u001b[0;34m:\u001b[0m\u001b[0;34m\u001b[0m\u001b[0;34m\u001b[0m\u001b[0m\n\u001b[0;32m--> 312\u001b[0;31m                 \u001b[0mwaiter\u001b[0m\u001b[0;34m.\u001b[0m\u001b[0macquire\u001b[0m\u001b[0;34m(\u001b[0m\u001b[0;34m)\u001b[0m\u001b[0;34m\u001b[0m\u001b[0;34m\u001b[0m\u001b[0m\n\u001b[0m\u001b[1;32m    313\u001b[0m                 \u001b[0mgotit\u001b[0m \u001b[0;34m=\u001b[0m \u001b[0;32mTrue\u001b[0m\u001b[0;34m\u001b[0m\u001b[0;34m\u001b[0m\u001b[0m\n\u001b[1;32m    314\u001b[0m             \u001b[0;32melse\u001b[0m\u001b[0;34m:\u001b[0m\u001b[0;34m\u001b[0m\u001b[0;34m\u001b[0m\u001b[0m\n",
      "\u001b[0;31mKeyboardInterrupt\u001b[0m: "
     ]
    }
   ],
   "source": [
    "np.random.seed(42)\n",
    "\n",
    "\n",
    "qnn = sequential_qnn(q_bits = [3, 4, 4],\n",
    "                     dim = [3, 4, 4, 1],\n",
    "                     reps = 2,\n",
    "                     backend=backend,\n",
    "                     shots=10000,\n",
    "                     lr = 0.1)\n",
    "\n",
    "qnn.train(x, y, epochs=100, verbose=True)\n",
    "    \n",
    "saver(qnn_list, data_path(\"trainability_qnn_3D_deep\"))"
   ]
  },
  {
   "cell_type": "markdown",
   "metadata": {},
   "source": [
    "### Hybrid Neural Network"
   ]
  },
  {
   "cell_type": "code",
   "execution_count": 9,
   "metadata": {},
   "outputs": [],
   "source": [
    "np.random.seed(42)\n",
    "\n",
    "n = 6\n",
    "x = np.linspace(0, 1, n)\n",
    "x = generate_meshgrid([x, x, x])\n",
    "\n",
    "mean1 = np.array([[0.25, 0.25, 0.25]])\n",
    "mean2 = np.array([[0.25, 0.25, 0.75]])\n",
    "mean3 = np.array([[0.25, 0.75, 0.75]])\n",
    "mean4 = np.array([[0.25, 0.75, 0.25]])\n",
    "\n",
    "mean5 = np.array([[0.75, 0.25, 0.25]])\n",
    "mean6 = np.array([[0.75, 0.25, 0.75]])\n",
    "mean7 = np.array([[0.75, 0.75, 0.75]])\n",
    "mean8 = np.array([[0.75, 0.75, 0.25]])\n",
    "\n",
    "var = np.array([[0.02, 0, 0], [0, 0.02, 0], [0, 0, 0.02]])\n",
    "\n",
    "y = gaussian(x, mean1, var) - gaussian(x, mean2, var) + gaussian(x, mean3, var) - gaussian(x, mean4, var) - gaussian(x, mean5, var) + gaussian(x, mean6, var) - gaussian(x, mean7, var) + gaussian(x, mean8, var)\n",
    "\n",
    "x = scaler(x, a=0, b=np.pi)\n",
    "y = scaler(y, a=-2, b=2)"
   ]
  },
  {
   "cell_type": "code",
   "execution_count": 10,
   "metadata": {},
   "outputs": [],
   "source": [
    "np.random.seed(42)\n",
    "\n",
    "\n",
    "layer1 = QLayer(n_qubits=3, n_features=3, n_targets=3, encoder=Encoder(), ansatz=Ansatz(), sampler=Parity(), reps=2, scale=1, backend=backend, shots=10000)\n",
    "layer2 = Dense(n_features=3, n_targets=1, activation=Identity())\n",
    "layers = [layer1, layer2]\n",
    "network = NeuralNetwork(layers=layers, optimizer = Adam(lr=0.1))"
   ]
  },
  {
   "cell_type": "code",
   "execution_count": 11,
   "metadata": {},
   "outputs": [
    {
     "ename": "NameError",
     "evalue": "name 'x_qnn' is not defined",
     "output_type": "error",
     "traceback": [
      "\u001b[0;31m---------------------------------------------------------------------------\u001b[0m",
      "\u001b[0;31mNameError\u001b[0m                                 Traceback (most recent call last)",
      "\u001b[0;32m<ipython-input-11-d7edffc04600>\u001b[0m in \u001b[0;36m<module>\u001b[0;34m\u001b[0m\n\u001b[0;32m----> 1\u001b[0;31m \u001b[0mnetwork\u001b[0m\u001b[0;34m.\u001b[0m\u001b[0mtrain\u001b[0m\u001b[0;34m(\u001b[0m\u001b[0mx_qnn\u001b[0m\u001b[0;34m,\u001b[0m \u001b[0my_qnn\u001b[0m\u001b[0;34m,\u001b[0m \u001b[0mepochs\u001b[0m\u001b[0;34m=\u001b[0m\u001b[0;36m100\u001b[0m\u001b[0;34m,\u001b[0m \u001b[0mverbose\u001b[0m\u001b[0;34m=\u001b[0m\u001b[0;32mTrue\u001b[0m\u001b[0;34m)\u001b[0m\u001b[0;34m\u001b[0m\u001b[0;34m\u001b[0m\u001b[0m\n\u001b[0m\u001b[1;32m      2\u001b[0m \u001b[0msaver\u001b[0m\u001b[0;34m(\u001b[0m\u001b[0mnetwork\u001b[0m\u001b[0;34m,\u001b[0m \u001b[0mdata_path\u001b[0m\u001b[0;34m(\u001b[0m\u001b[0;34m\"trainability_hybrid_2_layer\"\u001b[0m\u001b[0;34m)\u001b[0m\u001b[0;34m)\u001b[0m\u001b[0;34m\u001b[0m\u001b[0;34m\u001b[0m\u001b[0m\n",
      "\u001b[0;31mNameError\u001b[0m: name 'x_qnn' is not defined"
     ]
    }
   ],
   "source": [
    "network.train(x, y, epochs=100, verbose=True)\n",
    "saver(network, data_path(\"trainability_hybrid_2_layer\"))"
   ]
  },
  {
   "cell_type": "code",
   "execution_count": null,
   "metadata": {},
   "outputs": [],
   "source": []
  }
 ],
 "metadata": {
  "kernelspec": {
   "display_name": "env_qiskit",
   "language": "python",
   "name": "env_qiskit"
  },
  "language_info": {
   "codemirror_mode": {
    "name": "ipython",
    "version": 3
   },
   "file_extension": ".py",
   "mimetype": "text/x-python",
   "name": "python",
   "nbconvert_exporter": "python",
   "pygments_lexer": "ipython3",
   "version": "3.8.5"
  }
 },
 "nbformat": 4,
 "nbformat_minor": 4
}
