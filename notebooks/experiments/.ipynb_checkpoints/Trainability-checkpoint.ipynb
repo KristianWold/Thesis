{
 "cells": [
  {
   "cell_type": "code",
   "execution_count": 1,
   "metadata": {},
   "outputs": [],
   "source": [
    "import numpy as np\n",
    "import qiskit as qk\n",
    "import matplotlib.pyplot as plt\n",
    "from qiskit import Aer\n",
    "from sklearn.decomposition import PCA\n",
    "from tqdm.notebook import tqdm\n",
    "\n",
    "import sys\n",
    "sys.path.insert(0, '../../src/')\n",
    "from neuralnetwork import *\n",
    "from analysis import *\n",
    "from utils import *\n",
    "\n",
    "#%matplotlib notebook\n",
    "%matplotlib inline\n",
    "%load_ext autoreload\n",
    "%autoreload 2"
   ]
  },
  {
   "cell_type": "markdown",
   "metadata": {},
   "source": [
    "# Trainability"
   ]
  },
  {
   "cell_type": "markdown",
   "metadata": {},
   "source": [
    "## 1D function"
   ]
  },
  {
   "cell_type": "markdown",
   "metadata": {},
   "source": [
    "### Generate Data"
   ]
  },
  {
   "cell_type": "code",
   "execution_count": null,
   "metadata": {},
   "outputs": [],
   "source": [
    "np.random.seed(42)\n",
    "n = 100\n",
    "x = np.linspace(0, 1, n).reshape(-1,1)\n",
    "y = gaussian(x, 0.3, 0.02) - gaussian(x, 0.7, 0.02) \n",
    "\n",
    "x = scaler(x, a=0, b=np.pi)\n",
    "y = scaler(y, a=0.1, b=0.9)\n",
    "print(y.shape)"
   ]
  },
  {
   "cell_type": "code",
   "execution_count": null,
   "metadata": {},
   "outputs": [],
   "source": [
    "plt.plot(x, y, 'o')\n",
    "plt.show()"
   ]
  },
  {
   "cell_type": "markdown",
   "metadata": {},
   "source": [
    "### Training Models"
   ]
  },
  {
   "cell_type": "code",
   "execution_count": 5,
   "metadata": {},
   "outputs": [],
   "source": [
    "backend = Aer.get_backend('qasm_simulator')"
   ]
  },
  {
   "cell_type": "code",
   "execution_count": null,
   "metadata": {},
   "outputs": [],
   "source": [
    "np.random.seed(42)\n",
    "\n",
    "qnn_list = []\n",
    "for i in range(1):\n",
    "    qnn = sequential_qnn(q_bits = [1, 5],\n",
    "                         dim = [1, 5, 1],\n",
    "                         reps = 1,\n",
    "                         backend=backend,\n",
    "                         shots=10000,\n",
    "                         lr = 0.1)\n",
    "    qnn.train(x, y, epochs=100, verbose=True)\n",
    "    qnn_list.append(qnn)\n",
    "\n",
    "saver(qnn_list, data_path(\"trainability_qnn_1D\"))"
   ]
  },
  {
   "cell_type": "code",
   "execution_count": null,
   "metadata": {},
   "outputs": [],
   "source": [
    "np.random.seed(42)\n",
    "dnn_list = []\n",
    "for i in range(1):\n",
    "    dnn = sequential_dnn(dim = [1, 3, 1],\n",
    "                         lr = 0.1)\n",
    "    \n",
    "    dnn.train(x, y, epochs=5000)\n",
    "    dnn_list.append(dnn)\n",
    "\n",
    "saver(dnn_list, data_path(\"trainability_dnn_1D\"))"
   ]
  },
  {
   "cell_type": "markdown",
   "metadata": {},
   "source": [
    "## 2D function"
   ]
  },
  {
   "cell_type": "markdown",
   "metadata": {},
   "source": [
    "### Generate Data"
   ]
  },
  {
   "cell_type": "code",
   "execution_count": 6,
   "metadata": {},
   "outputs": [
    {
     "name": "stdout",
     "output_type": "stream",
     "text": [
      "(400, 2)\n"
     ]
    }
   ],
   "source": [
    "np.random.seed(42)\n",
    "\n",
    "n = 20\n",
    "x = np.linspace(0, 1, n)\n",
    "x = generate_meshgrid([x,x])\n",
    "\n",
    "print(x.shape)\n",
    "\n",
    "mean1 = np.array([[0.25, 0.75]])\n",
    "var1 = np.array([[0.02, 0], [0, 0.02]])\n",
    "\n",
    "mean2 = np.array([[0.75, 0.25]])\n",
    "var2 = np.array([[0.02, 0], [0, 0.02]])\n",
    "\n",
    "mean3 = np.array([[0.25, 0.25]])\n",
    "var3 = np.array([[0.02, 0], [0, 0.02]])\n",
    "\n",
    "mean4 = np.array([[0.75, 0.75]])\n",
    "var4 = np.array([[0.02, 0], [0, 0.02]])\n",
    "\n",
    "y = gaussian(x, mean1, var1) + gaussian(x, mean2, var2) - gaussian(x, mean3, var3) - gaussian(x, mean4, var4)\n",
    "\n",
    "x = scaler(x, a=0, b=np.pi)\n",
    "y = scaler(y, a=0.1, b=0.9)"
   ]
  },
  {
   "cell_type": "code",
   "execution_count": 7,
   "metadata": {},
   "outputs": [
    {
     "data": {
      "image/png": "[encoded data removed]",
      "text/plain": [
       "<Figure size 432x288 with 1 Axes>"
      ]
     },
     "metadata": {
      "needs_background": "light"
     },
     "output_type": "display_data"
    }
   ],
   "source": [
    "plt.imshow(y.reshape(20,20))\n",
    "plt.show()"
   ]
  },
  {
   "cell_type": "markdown",
   "metadata": {},
   "source": [
    "### Training Models"
   ]
  },
  {
   "cell_type": "code",
   "execution_count": 10,
   "metadata": {},
   "outputs": [
    {
     "data": {
      "application/vnd.jupyter.widget-view+json": {
       "model_id": "c6b0ed5ba040411c8009964322c39104",
       "version_major": 2,
       "version_minor": 0
      },
      "text/plain": [
       "  0%|          | 0/100 [00:00<?, ?it/s]"
      ]
     },
     "metadata": {},
     "output_type": "display_data"
    },
    {
     "name": "stdout",
     "output_type": "stream",
     "text": [
      "epoch: 0, loss: 0.0807208125999853\n",
      "epoch: 1, loss: 0.0415609538225619\n",
      "epoch: 2, loss: 0.032675308644159254\n",
      "epoch: 3, loss: 0.03467712941058743\n",
      "epoch: 4, loss: 0.03256161544261437\n",
      "epoch: 5, loss: 0.02892306411735462\n",
      "epoch: 6, loss: 0.026842910683016634\n",
      "epoch: 7, loss: 0.02651371460888358\n",
      "epoch: 8, loss: 0.025599848387702673\n",
      "epoch: 9, loss: 0.023542761331886233\n",
      "epoch: 10, loss: 0.02122712927526158\n",
      "epoch: 11, loss: 0.019906561086065765\n",
      "epoch: 12, loss: 0.02033599770921519\n",
      "epoch: 13, loss: 0.02088624852936916\n",
      "epoch: 14, loss: 0.021651674541500753\n",
      "epoch: 15, loss: 0.02190331917482732\n",
      "epoch: 16, loss: 0.02154276048098818\n",
      "epoch: 17, loss: 0.021661815188542235\n",
      "epoch: 18, loss: 0.02109577660904325\n",
      "epoch: 19, loss: 0.02052062797489518\n",
      "epoch: 20, loss: 0.0195414788708711\n",
      "epoch: 21, loss: 0.019067285248946117\n",
      "epoch: 22, loss: 0.018436172833055327\n",
      "epoch: 23, loss: 0.01814726997335344\n",
      "epoch: 24, loss: 0.018168918619761536\n",
      "epoch: 25, loss: 0.017846105049971573\n",
      "epoch: 26, loss: 0.017614797320905196\n",
      "epoch: 27, loss: 0.01769856017275492\n",
      "epoch: 28, loss: 0.017895472504782215\n",
      "epoch: 29, loss: 0.017359703267599284\n",
      "epoch: 30, loss: 0.017329291330152014\n",
      "epoch: 31, loss: 0.01713139503251751\n",
      "epoch: 32, loss: 0.016710163133756225\n",
      "epoch: 33, loss: 0.016488240131937323\n",
      "epoch: 34, loss: 0.0163456027674666\n",
      "epoch: 35, loss: 0.016383899485003198\n",
      "epoch: 36, loss: 0.016180294002721515\n",
      "epoch: 37, loss: 0.016250872076558908\n",
      "epoch: 38, loss: 0.016232461819506577\n",
      "epoch: 39, loss: 0.016379606488956172\n",
      "epoch: 40, loss: 0.0163998767519969\n",
      "epoch: 41, loss: 0.016464573486989063\n",
      "epoch: 42, loss: 0.016405027738130334\n",
      "epoch: 43, loss: 0.016187999351588787\n",
      "epoch: 44, loss: 0.016130826826509376\n",
      "epoch: 45, loss: 0.016357105320736406\n",
      "epoch: 46, loss: 0.01619008094915941\n",
      "epoch: 47, loss: 0.016176687773256204\n",
      "epoch: 48, loss: 0.016365995087311062\n",
      "epoch: 49, loss: 0.01613316648161199\n",
      "epoch: 50, loss: 0.016328970729928872\n",
      "epoch: 51, loss: 0.015891623787626586\n",
      "epoch: 52, loss: 0.016119916359670878\n",
      "epoch: 53, loss: 0.01622908293936034\n",
      "epoch: 54, loss: 0.015904307365258982\n",
      "epoch: 55, loss: 0.01627356862701214\n",
      "epoch: 56, loss: 0.015994219503493955\n",
      "epoch: 57, loss: 0.016046682448981428\n",
      "epoch: 58, loss: 0.01603921784245826\n",
      "epoch: 59, loss: 0.016198882589611302\n",
      "epoch: 60, loss: 0.01596177369711672\n",
      "epoch: 61, loss: 0.01604211053757566\n",
      "epoch: 62, loss: 0.01603281396244744\n",
      "epoch: 63, loss: 0.01597717111836969\n",
      "epoch: 64, loss: 0.01583124737156925\n",
      "epoch: 65, loss: 0.015999418065991877\n",
      "epoch: 66, loss: 0.01600504466135861\n",
      "epoch: 67, loss: 0.01613121230319238\n",
      "epoch: 68, loss: 0.01592043861454287\n",
      "epoch: 69, loss: 0.015985246789261814\n",
      "epoch: 70, loss: 0.016051651191403876\n",
      "epoch: 71, loss: 0.01602512349125958\n",
      "epoch: 72, loss: 0.016033354675212497\n",
      "epoch: 73, loss: 0.016003587636131515\n",
      "epoch: 74, loss: 0.016038739041747033\n",
      "epoch: 75, loss: 0.015872236934333882\n",
      "epoch: 76, loss: 0.01597512016005188\n",
      "epoch: 77, loss: 0.015879915924384373\n",
      "epoch: 78, loss: 0.015890152884708488\n",
      "epoch: 79, loss: 0.0158885909185595\n",
      "epoch: 80, loss: 0.01598145971530074\n",
      "epoch: 81, loss: 0.01584983737685184\n",
      "epoch: 82, loss: 0.01595664024877042\n",
      "epoch: 83, loss: 0.015946240220474993\n",
      "epoch: 84, loss: 0.01598205057864824\n",
      "epoch: 85, loss: 0.015927485120555977\n",
      "epoch: 86, loss: 0.01609964669379218\n",
      "epoch: 87, loss: 0.01594783095576786\n",
      "epoch: 88, loss: 0.015979920232543472\n",
      "epoch: 89, loss: 0.015980265794974226\n",
      "epoch: 90, loss: 0.015993625643386154\n",
      "epoch: 91, loss: 0.016014451716790865\n",
      "epoch: 92, loss: 0.016140991389749153\n",
      "epoch: 93, loss: 0.01588862312649273\n",
      "epoch: 94, loss: 0.016100820870305753\n",
      "epoch: 95, loss: 0.016033031733389713\n",
      "epoch: 96, loss: 0.016136563683051844\n",
      "epoch: 97, loss: 0.01584027291991574\n",
      "epoch: 98, loss: 0.016000885562561854\n",
      "epoch: 99, loss: 0.015991717121358093\n"
     ]
    },
    {
     "ename": "PicklingError",
     "evalue": "Can't pickle <class 'layers.QLayer'>: it's not the same object as layers.QLayer",
     "output_type": "error",
     "traceback": [
      "\u001b[0;31m---------------------------------------------------------------------------\u001b[0m",
      "\u001b[0;31mPicklingError\u001b[0m                             Traceback (most recent call last)",
      "\u001b[0;32m<ipython-input-10-ee5d19846c17>\u001b[0m in \u001b[0;36m<module>\u001b[0;34m\u001b[0m\n\u001b[1;32m     12\u001b[0m     \u001b[0mqnn_list\u001b[0m\u001b[0;34m.\u001b[0m\u001b[0mappend\u001b[0m\u001b[0;34m(\u001b[0m\u001b[0mqnn\u001b[0m\u001b[0;34m)\u001b[0m\u001b[0;34m\u001b[0m\u001b[0;34m\u001b[0m\u001b[0m\n\u001b[1;32m     13\u001b[0m \u001b[0;34m\u001b[0m\u001b[0m\n\u001b[0;32m---> 14\u001b[0;31m \u001b[0msaver\u001b[0m\u001b[0;34m(\u001b[0m\u001b[0mqnn_list\u001b[0m\u001b[0;34m,\u001b[0m \u001b[0mdata_path\u001b[0m\u001b[0;34m(\u001b[0m\u001b[0;34m\"trainability_qnn_2D\"\u001b[0m\u001b[0;34m)\u001b[0m\u001b[0;34m)\u001b[0m\u001b[0;34m\u001b[0m\u001b[0;34m\u001b[0m\u001b[0m\n\u001b[0m",
      "\u001b[0;32m~/Documents/Thesis/src/utils.py\u001b[0m in \u001b[0;36msaver\u001b[0;34m(object, filename)\u001b[0m\n\u001b[1;32m     29\u001b[0m \u001b[0;34m\u001b[0m\u001b[0m\n\u001b[1;32m     30\u001b[0m \u001b[0;32mdef\u001b[0m \u001b[0msaver\u001b[0m\u001b[0;34m(\u001b[0m\u001b[0mobject\u001b[0m\u001b[0;34m,\u001b[0m \u001b[0mfilename\u001b[0m\u001b[0;34m)\u001b[0m\u001b[0;34m:\u001b[0m\u001b[0;34m\u001b[0m\u001b[0;34m\u001b[0m\u001b[0m\n\u001b[0;32m---> 31\u001b[0;31m     \u001b[0mpickle\u001b[0m\u001b[0;34m.\u001b[0m\u001b[0mdump\u001b[0m\u001b[0;34m(\u001b[0m\u001b[0mobject\u001b[0m\u001b[0;34m,\u001b[0m \u001b[0mopen\u001b[0m\u001b[0;34m(\u001b[0m\u001b[0mfilename\u001b[0m\u001b[0;34m,\u001b[0m \u001b[0;34m\"wb\"\u001b[0m\u001b[0;34m)\u001b[0m\u001b[0;34m)\u001b[0m\u001b[0;34m\u001b[0m\u001b[0;34m\u001b[0m\u001b[0m\n\u001b[0m\u001b[1;32m     32\u001b[0m \u001b[0;34m\u001b[0m\u001b[0m\n\u001b[1;32m     33\u001b[0m \u001b[0;34m\u001b[0m\u001b[0m\n",
      "\u001b[0;31mPicklingError\u001b[0m: Can't pickle <class 'layers.QLayer'>: it's not the same object as layers.QLayer"
     ]
    }
   ],
   "source": [
    "np.random.seed(42)\n",
    "\n",
    "qnn_list = []\n",
    "for i in range(1):\n",
    "    qnn = sequential_qnn(q_bits = [2, 4],\n",
    "                         dim = [2, 4, 1],\n",
    "                         reps = 1,\n",
    "                         backend=backend,\n",
    "                         shots=10000,\n",
    "                         lr = 0.1)\n",
    "    qnn.train(x, y, epochs=100, verbose=True)\n",
    "    qnn_list.append(qnn)\n",
    "\n",
    "saver(qnn_list, data_path(\"trainability_qnn_2D\"))"
   ]
  },
  {
   "cell_type": "code",
   "execution_count": 11,
   "metadata": {},
   "outputs": [],
   "source": []
  },
  {
   "cell_type": "code",
   "execution_count": null,
   "metadata": {},
   "outputs": [],
   "source": [
    "np.random.seed(42)\n",
    "dnn_list = []\n",
    "for i in range(1):\n",
    "    dnn = sequential_dnn(dim = [2, 3, 1],\n",
    "                     lr = 0.1)\n",
    "    \n",
    "    dnn.train(x, y, epochs=1000)\n",
    "    dnn_list.append(dnn)\n",
    "\n",
    "saver(dnn_list, data_path(\"trainability_dnn_2D\"))"
   ]
  },
  {
   "cell_type": "code",
   "execution_count": null,
   "metadata": {},
   "outputs": [],
   "source": [
    "np.random.seed(42)\n",
    "\n",
    "n = 20\n",
    "x = np.linspace(0, 1, n)\n",
    "x = generate_meshgrid([x,x])\n",
    "y = random_mixed_gaussian(x, n_gaussians=10)\n",
    "\n",
    "x = scaler(x, a=0, b=np.pi)\n",
    "y = scaler(y, a=0.1, b=0.9)"
   ]
  },
  {
   "cell_type": "code",
   "execution_count": null,
   "metadata": {},
   "outputs": [],
   "source": [
    "plt.imshow(y.reshape(20,20))\n",
    "plt.show()"
   ]
  },
  {
   "cell_type": "code",
   "execution_count": null,
   "metadata": {},
   "outputs": [],
   "source": [
    "np.random.seed(42)\n",
    "\n",
    "qnn_list = []\n",
    "for i in range(1):\n",
    "    qnn = sequential_qnn(q_bits = [2, 3],\n",
    "                         dim = [2, 3, 1],\n",
    "                         reps = 1,\n",
    "                         backend=backend,\n",
    "                         shots=10000,\n",
    "                         lr = 0.1)\n",
    "    qnn.train(x, y, epochs=50, verbose=True)\n",
    "    qnn_list.append(qnn)"
   ]
  },
  {
   "cell_type": "code",
   "execution_count": null,
   "metadata": {},
   "outputs": [],
   "source": [
    "saver(qnn_list, data_path(\"trainability_qnn_2D_random\"))"
   ]
  },
  {
   "cell_type": "code",
   "execution_count": null,
   "metadata": {},
   "outputs": [],
   "source": [
    "np.random.seed(42)\n",
    "dnn_list = []\n",
    "for i in range(1):\n",
    "    dnn = sequential_dnn(dim = [2, 3, 1],\n",
    "                         bias=False,\n",
    "                     lr = 0.1)\n",
    "    \n",
    "    dnn.train(x, y, epochs=5000)\n",
    "    dnn_list.append(dnn)\n",
    "\n",
    "saver(dnn_list, data_path(\"trainability_dnn_2D_random\"))"
   ]
  },
  {
   "cell_type": "markdown",
   "metadata": {},
   "source": [
    "## 3D function"
   ]
  },
  {
   "cell_type": "markdown",
   "metadata": {},
   "source": [
    "### Generate Data"
   ]
  },
  {
   "cell_type": "code",
   "execution_count": null,
   "metadata": {},
   "outputs": [],
   "source": [
    "np.random.seed(42)\n",
    "\n",
    "n = 8\n",
    "x = np.linspace(0, 1, n)\n",
    "x = generate_meshgrid([x,x,x])\n",
    "y = random_mixed_gaussian(x, n_gaussians=10)\n",
    "\n",
    "x = scaler(x, a=0, b=np.pi)\n",
    "y = scaler(y, a=0.1, b=0.9)"
   ]
  },
  {
   "cell_type": "code",
   "execution_count": null,
   "metadata": {},
   "outputs": [],
   "source": []
  }
 ],
 "metadata": {
  "kernelspec": {
   "display_name": "env_qiskit",
   "language": "python",
   "name": "env_qiskit"
  },
  "language_info": {
   "codemirror_mode": {
    "name": "ipython",
    "version": 3
   },
   "file_extension": ".py",
   "mimetype": "text/x-python",
   "name": "python",
   "nbconvert_exporter": "python",
   "pygments_lexer": "ipython3",
   "version": "3.9.1"
  }
 },
 "nbformat": 4,
 "nbformat_minor": 4
}
