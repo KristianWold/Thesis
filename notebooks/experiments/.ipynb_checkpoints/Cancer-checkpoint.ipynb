{
 "cells": [
  {
   "cell_type": "code",
   "execution_count": 5,
   "metadata": {},
   "outputs": [
    {
     "name": "stdout",
     "output_type": "stream",
     "text": [
      "The autoreload extension is already loaded. To reload it, use:\n",
      "  %reload_ext autoreload\n"
     ]
    }
   ],
   "source": [
    "import numpy as np\n",
    "import qiskit as qk\n",
    "import matplotlib.pyplot as plt\n",
    "\n",
    "from qiskit import Aer\n",
    "from tqdm.notebook import tqdm\n",
    "from sklearn.datasets import load_breast_cancer\n",
    "from sklearn.model_selection import train_test_split\n",
    "from sklearn.decomposition import PCA\n",
    "\n",
    "import sys\n",
    "sys.path.insert(0, '../../src/')\n",
    "from neuralnetwork import *\n",
    "from analysis import *\n",
    "\n",
    "#%matplotlib notebook\n",
    "%matplotlib inline\n",
    "%load_ext autoreload\n",
    "%autoreload 2"
   ]
  },
  {
   "cell_type": "markdown",
   "metadata": {},
   "source": [
    "# Breast Cancer Data"
   ]
  },
  {
   "cell_type": "markdown",
   "metadata": {},
   "source": [
    "## Data Preparation"
   ]
  },
  {
   "cell_type": "code",
   "execution_count": 32,
   "metadata": {},
   "outputs": [],
   "source": [
    "data = load_breast_cancer()"
   ]
  },
  {
   "cell_type": "code",
   "execution_count": 33,
   "metadata": {},
   "outputs": [],
   "source": [
    "x = data.data\n",
    "y = data.target.reshape(-1, 1)"
   ]
  },
  {
   "cell_type": "code",
   "execution_count": 34,
   "metadata": {},
   "outputs": [],
   "source": [
    "pca = PCA(n_components=3)\n",
    "x = pca.fit_transform(x)"
   ]
  },
  {
   "cell_type": "code",
   "execution_count": 36,
   "metadata": {},
   "outputs": [
    {
     "data": {
      "text/plain": [
       "[<matplotlib.lines.Line2D at 0x7f68d5421d00>]"
      ]
     },
     "execution_count": 36,
     "metadata": {},
     "output_type": "execute_result"
    },
    {
     "data": {
      "image/png": "[encoded data removed]",
      "text/plain": [
       "<Figure size 432x288 with 1 Axes>"
      ]
     },
     "metadata": {
      "needs_background": "light"
     },
     "output_type": "display_data"
    }
   ],
   "source": [
    "plt.plot(x[:,0], y,\"o\")"
   ]
  },
  {
   "cell_type": "code",
   "execution_count": 37,
   "metadata": {},
   "outputs": [],
   "source": [
    "np.random.seed(42)\n",
    "x_train, x_test, y_train, y_test = train_test_split(x, y, test_size=0.9)"
   ]
  },
  {
   "cell_type": "markdown",
   "metadata": {},
   "source": [
    "### Normalize Input Data"
   ]
  },
  {
   "cell_type": "code",
   "execution_count": 38,
   "metadata": {},
   "outputs": [],
   "source": [
    "x_train_qnn = scaler(x_train, mode=\"uniform\", a=0, b=np.pi)\n",
    "x_train_dnn = scaler(x_train, mode=\"standard\")"
   ]
  },
  {
   "cell_type": "markdown",
   "metadata": {},
   "source": [
    "## Train Model"
   ]
  },
  {
   "cell_type": "code",
   "execution_count": 39,
   "metadata": {},
   "outputs": [],
   "source": [
    "backend = Aer.get_backend('qasm_simulator')"
   ]
  },
  {
   "cell_type": "code",
   "execution_count": 47,
   "metadata": {},
   "outputs": [],
   "source": [
    "np.random.seed(42)\n",
    "dnn = sequential_dnn(dim = [3, 5, 1], lr = 0.1)"
   ]
  },
  {
   "cell_type": "code",
   "execution_count": 48,
   "metadata": {},
   "outputs": [
    {
     "data": {
      "application/vnd.jupyter.widget-view+json": {
       "model_id": "d1c88d3b481643e8bcbcbe9f597724dc",
       "version_major": 2,
       "version_minor": 0
      },
      "text/plain": [
       "  0%|          | 0/100 [00:00<?, ?it/s]"
      ]
     },
     "metadata": {},
     "output_type": "display_data"
    },
    {
     "name": "stdout",
     "output_type": "stream",
     "text": [
      "epoch: 0, loss: 0.14737538587258747\n",
      "epoch: 1, loss: 0.1350377621306064\n",
      "epoch: 2, loss: 0.12766013038052965\n",
      "epoch: 3, loss: 0.12141254376438813\n",
      "epoch: 4, loss: 0.11516815095066399\n",
      "epoch: 5, loss: 0.10927380632019204\n",
      "epoch: 6, loss: 0.10411542364002867\n",
      "epoch: 7, loss: 0.09978084304719206\n",
      "epoch: 8, loss: 0.09611198914441696\n",
      "epoch: 9, loss: 0.09287331141810136\n",
      "epoch: 10, loss: 0.0898739074389314\n",
      "epoch: 11, loss: 0.08701148518000908\n",
      "epoch: 12, loss: 0.08426299462337843\n",
      "epoch: 13, loss: 0.08165832396254864\n",
      "epoch: 14, loss: 0.07925592578795672\n",
      "epoch: 15, loss: 0.07710321383518522\n",
      "epoch: 16, loss: 0.07517607466080338\n",
      "epoch: 17, loss: 0.07339013247446884\n",
      "epoch: 18, loss: 0.0716825472328705\n",
      "epoch: 19, loss: 0.07001992218682145\n",
      "epoch: 20, loss: 0.0683577241392209\n",
      "epoch: 21, loss: 0.06665851324682392\n",
      "epoch: 22, loss: 0.06495755137975215\n",
      "epoch: 23, loss: 0.06334468834170584\n",
      "epoch: 24, loss: 0.06184902238720168\n",
      "epoch: 25, loss: 0.06046166856786646\n",
      "epoch: 26, loss: 0.059230880742457505\n",
      "epoch: 27, loss: 0.05822282147412915\n",
      "epoch: 28, loss: 0.05742819083384459\n",
      "epoch: 29, loss: 0.056741146488554974\n",
      "epoch: 30, loss: 0.056028492124234074\n",
      "epoch: 31, loss: 0.055212434076533826\n",
      "epoch: 32, loss: 0.05429858745642879\n",
      "epoch: 33, loss: 0.05334692590561747\n",
      "epoch: 34, loss: 0.05241824711521977\n",
      "epoch: 35, loss: 0.0515337233553095\n",
      "epoch: 36, loss: 0.05067555853269444\n",
      "epoch: 37, loss: 0.04982306909679047\n",
      "epoch: 38, loss: 0.04898140895737626\n",
      "epoch: 39, loss: 0.04817314746625828\n",
      "epoch: 40, loss: 0.04741053575625851\n",
      "epoch: 41, loss: 0.046683135807228805\n",
      "epoch: 42, loss: 0.045970717067965024\n",
      "epoch: 43, loss: 0.04526300029558567\n",
      "epoch: 44, loss: 0.04456579155589636\n",
      "epoch: 45, loss: 0.04389130199006778\n",
      "epoch: 46, loss: 0.043245274693803334\n",
      "epoch: 47, loss: 0.04262358813768978\n",
      "epoch: 48, loss: 0.04201980567045848\n",
      "epoch: 49, loss: 0.04143385860880396\n",
      "epoch: 50, loss: 0.04087216677791713\n",
      "epoch: 51, loss: 0.04034009254307339\n",
      "epoch: 52, loss: 0.03983572612239187\n",
      "epoch: 53, loss: 0.039351329908630446\n",
      "epoch: 54, loss: 0.03888001278254937\n",
      "epoch: 55, loss: 0.03842029097569456\n",
      "epoch: 56, loss: 0.03797445500845626\n",
      "epoch: 57, loss: 0.03754361537274083\n",
      "epoch: 58, loss: 0.037125325082506204\n",
      "epoch: 59, loss: 0.036715993798533235\n",
      "epoch: 60, loss: 0.03631463560883967\n",
      "epoch: 61, loss: 0.03592347949109317\n",
      "epoch: 62, loss: 0.03554513238918573\n",
      "epoch: 63, loss: 0.03517975291256712\n",
      "epoch: 64, loss: 0.034825048484153576\n",
      "epoch: 65, loss: 0.03447848734903665\n",
      "epoch: 66, loss: 0.034139065262274886\n",
      "epoch: 67, loss: 0.033807068137693214\n",
      "epoch: 68, loss: 0.033482663442221165\n",
      "epoch: 69, loss: 0.03316510170067445\n",
      "epoch: 70, loss: 0.03285322894218754\n",
      "epoch: 71, loss: 0.03254649298850851\n",
      "epoch: 72, loss: 0.032245289407911944\n",
      "epoch: 73, loss: 0.03195038729848756\n",
      "epoch: 74, loss: 0.031662135440466\n",
      "epoch: 75, loss: 0.03138022519064983\n",
      "epoch: 76, loss: 0.031104095065707105\n",
      "epoch: 77, loss: 0.030833433636567174\n",
      "epoch: 78, loss: 0.03056827147793503\n",
      "epoch: 79, loss: 0.03030867510325495\n",
      "epoch: 80, loss: 0.030054443983935884\n",
      "epoch: 81, loss: 0.029805117167220823\n",
      "epoch: 82, loss: 0.029560227721722922\n",
      "epoch: 83, loss: 0.029319521793400288\n",
      "epoch: 84, loss: 0.02908295649793634\n",
      "epoch: 85, loss: 0.028850536230834476\n",
      "epoch: 86, loss: 0.028622177036179336\n",
      "epoch: 87, loss: 0.028397713101690664\n",
      "epoch: 88, loss: 0.02817699812430962\n",
      "epoch: 89, loss: 0.02795997604067563\n",
      "epoch: 90, loss: 0.027746653110867457\n",
      "epoch: 91, loss: 0.027537012587165628\n",
      "epoch: 92, loss: 0.027330961646788086\n",
      "epoch: 93, loss: 0.027128355777676534\n",
      "epoch: 94, loss: 0.026929067919678463\n",
      "epoch: 95, loss: 0.026733035704046837\n",
      "epoch: 96, loss: 0.02654025177699879\n",
      "epoch: 97, loss: 0.026350717992279487\n",
      "epoch: 98, loss: 0.02616441015795155\n",
      "epoch: 99, loss: 0.025981279969416245\n"
     ]
    }
   ],
   "source": [
    "dnn.train(x_train_dnn, y_train, epochs = 100, verbose = True)"
   ]
  },
  {
   "cell_type": "code",
   "execution_count": 49,
   "metadata": {},
   "outputs": [],
   "source": [
    "y_pred = dnn.predict(x_train_dnn)"
   ]
  },
  {
   "cell_type": "code",
   "execution_count": 50,
   "metadata": {},
   "outputs": [
    {
     "name": "stdout",
     "output_type": "stream",
     "text": [
      "0.9821428571428571\n"
     ]
    }
   ],
   "source": [
    "print(np.mean(y_train.flatten()==np.round(y_pred.flatten())))"
   ]
  },
  {
   "cell_type": "code",
   "execution_count": 53,
   "metadata": {},
   "outputs": [],
   "source": [
    "np.random.seed(42)\n",
    "\n",
    "qnn_list = []\n",
    "for i in tqdm(range(10)):\n",
    "    qnn = sequential_qnn(q_bits = [3, 3],\n",
    "                         dim = [3, 3, 1],\n",
    "                         reps = 2,\n",
    "                         backend=backend,\n",
    "                         shots=10000,\n",
    "                         lr = 0.1)\n",
    "    qnn.train(x_train_qnn, y_train, epochs=100, verbose=True)\n",
    "    qnn_list.append(qnn)"
   ]
  },
  {
   "cell_type": "code",
   "execution_count": null,
   "metadata": {},
   "outputs": [],
   "source": [
    "saver(qnn_list, data_path(\"cancer_qnn_PCA\"))"
   ]
  },
  {
   "cell_type": "code",
   "execution_count": null,
   "metadata": {},
   "outputs": [],
   "source": [
    "plt.plot(dnn.loss[:100])\n",
    "plt.plot(network.loss[:100])\n",
    "plt.show()"
   ]
  },
  {
   "cell_type": "code",
   "execution_count": null,
   "metadata": {},
   "outputs": [],
   "source": []
  }
 ],
 "metadata": {
  "kernelspec": {
   "display_name": "env_qiskit",
   "language": "python",
   "name": "env_qiskit"
  },
  "language_info": {
   "codemirror_mode": {
    "name": "ipython",
    "version": 3
   },
   "file_extension": ".py",
   "mimetype": "text/x-python",
   "name": "python",
   "nbconvert_exporter": "python",
   "pygments_lexer": "ipython3",
   "version": "3.9.1"
  }
 },
 "nbformat": 4,
 "nbformat_minor": 4
}
