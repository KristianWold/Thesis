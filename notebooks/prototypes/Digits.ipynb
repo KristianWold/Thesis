{
 "cells": [
  {
   "cell_type": "code",
   "execution_count": 1,
   "metadata": {},
   "outputs": [],
   "source": [
    "import numpy as np\n",
    "import qiskit as qk\n",
    "import matplotlib.pyplot as plt\n",
    "\n",
    "from qiskit import Aer\n",
    "from tqdm.notebook import tqdm\n",
    "from sklearn.datasets import load_digits\n",
    "from sklearn.model_selection import train_test_split\n",
    "from skimage.measure import block_reduce\n",
    "\n",
    "import sys\n",
    "sys.path.insert(0, '../../src/')\n",
    "from neuralnetwork import *\n",
    "from analysis import *\n",
    "\n",
    "%matplotlib notebook\n",
    "#%matplotlib inline\n",
    "%load_ext autoreload\n",
    "%autoreload 2"
   ]
  },
  {
   "cell_type": "markdown",
   "metadata": {},
   "source": [
    "### Digits data"
   ]
  },
  {
   "cell_type": "code",
   "execution_count": 2,
   "metadata": {},
   "outputs": [],
   "source": [
    "digits = load_digits()\n",
    "three_idx = (digits.target == 3)\n",
    "six_idx = (digits.target == 6)"
   ]
  },
  {
   "cell_type": "code",
   "execution_count": 3,
   "metadata": {},
   "outputs": [],
   "source": [
    "threes = digits.data[three_idx]\n",
    "sixes =  digits.data[six_idx]\n",
    "\n",
    "x = np.concatenate((threes, sixes))\n",
    "x = [block_reduce(image.reshape(8, 8), (2, 2), func=np.mean).reshape(-1) for image in x]\n",
    "x = np.array(x)\n",
    "\n",
    "y = np.concatenate((np.zeros(len(threes)), np.ones(len(sixes)))).reshape(-1,1)"
   ]
  },
  {
   "cell_type": "code",
   "execution_count": 4,
   "metadata": {},
   "outputs": [
    {
     "name": "stdout",
     "output_type": "stream",
     "text": [
      "(72, 16)\n"
     ]
    }
   ],
   "source": [
    "np.random.seed(42)\n",
    "x_train, x_test, y_train, y_test = train_test_split(x, y, train_size=0.2)\n",
    "print(x_train.shape)"
   ]
  },
  {
   "cell_type": "markdown",
   "metadata": {},
   "source": [
    "### Network"
   ]
  },
  {
   "cell_type": "code",
   "execution_count": 17,
   "metadata": {},
   "outputs": [],
   "source": [
    "np.random.seed(42)\n",
    "backend = Aer.get_backend('qasm_simulator')\n",
    "\n",
    "network1 = sequential_qnn(q_bits=[16, 4],\n",
    "                         dim=[16, 4, 1],\n",
    "                         reps = 1,\n",
    "                         backend=backend,\n",
    "                         shots=10000,\n",
    "                         lr=0.1\n",
    "                         )"
   ]
  },
  {
   "cell_type": "markdown",
   "metadata": {},
   "source": [
    "### Training"
   ]
  },
  {
   "cell_type": "code",
   "execution_count": null,
   "metadata": {},
   "outputs": [
    {
     "data": {
      "application/vnd.jupyter.widget-view+json": {
       "model_id": "12af6de7e3344025ab830b9703e387d5",
       "version_major": 2,
       "version_minor": 0
      },
      "text/plain": [
       "  0%|          | 0/100 [00:00<?, ?it/s]"
      ]
     },
     "metadata": {},
     "output_type": "display_data"
    },
    {
     "name": "stdout",
     "output_type": "stream",
     "text": [
      "epoch: 0, loss: 0.25007651430555555\n",
      "epoch: 1, loss: 0.25068750236111115\n",
      "epoch: 2, loss: 0.25007928138888885\n",
      "epoch: 3, loss: 0.2504128961111111\n",
      "epoch: 4, loss: 0.24962473263888885\n",
      "epoch: 5, loss: 0.24915818291666664\n",
      "epoch: 6, loss: 0.24909448972222226\n",
      "epoch: 7, loss: 0.24834058805555553\n",
      "epoch: 8, loss: 0.24752100666666665\n",
      "epoch: 9, loss: 0.2456326048611111\n",
      "epoch: 10, loss: 0.24122545680555557\n",
      "epoch: 11, loss: 0.23124697194444443\n",
      "epoch: 12, loss: 0.21927599\n",
      "epoch: 13, loss: 0.20485389666666665\n",
      "epoch: 14, loss: 0.18919585333333333\n",
      "epoch: 15, loss: 0.1765114541666667\n",
      "epoch: 16, loss: 0.16624544166666666\n",
      "epoch: 17, loss: 0.1585639838888889\n",
      "epoch: 18, loss: 0.15261586444444444\n",
      "epoch: 19, loss: 0.1462805459722222\n",
      "epoch: 20, loss: 0.13755847694444442\n",
      "epoch: 21, loss: 0.13217977194444444\n",
      "epoch: 22, loss: 0.12133340375000001\n",
      "epoch: 23, loss: 0.11415056249999998\n",
      "epoch: 24, loss: 0.10640133958333332\n",
      "epoch: 25, loss: 0.10438537208333333\n",
      "epoch: 26, loss: 0.10529403416666666\n",
      "epoch: 27, loss: 0.10635870597222222\n",
      "epoch: 28, loss: 0.10785223388888888\n",
      "epoch: 29, loss: 0.10628080138888889\n",
      "epoch: 30, loss: 0.104599715\n",
      "epoch: 31, loss: 0.10112878069444445\n",
      "epoch: 32, loss: 0.10092829736111111\n",
      "epoch: 33, loss: 0.10041107569444446\n",
      "epoch: 34, loss: 0.10278939458333333\n",
      "epoch: 35, loss: 0.10167588097222222\n",
      "epoch: 36, loss: 0.1001803447222222\n",
      "epoch: 37, loss: 0.09768521347222223\n",
      "epoch: 38, loss: 0.09765410722222223\n",
      "epoch: 39, loss: 0.09549764277777778\n",
      "epoch: 40, loss: 0.09279566777777777\n",
      "epoch: 41, loss: 0.09327506513888889\n",
      "epoch: 42, loss: 0.09156578069444445\n",
      "epoch: 43, loss: 0.09180740513888891\n",
      "epoch: 44, loss: 0.09054157138888888\n",
      "epoch: 45, loss: 0.09136595166666667\n",
      "epoch: 46, loss: 0.09050733791666667\n",
      "epoch: 47, loss: 0.08955867708333333\n",
      "epoch: 48, loss: 0.09138316249999999\n",
      "epoch: 49, loss: 0.08988706027777778\n",
      "epoch: 50, loss: 0.08782186152777777\n",
      "epoch: 51, loss: 0.08906620111111112\n",
      "epoch: 52, loss: 0.09019640555555557\n",
      "epoch: 53, loss: 0.09008689736111111\n",
      "epoch: 54, loss: 0.08764557083333334\n",
      "epoch: 55, loss: 0.08801165694444443\n",
      "epoch: 56, loss: 0.08842104416666667\n",
      "epoch: 57, loss: 0.0891331823611111\n",
      "epoch: 58, loss: 0.08800609402777776\n",
      "epoch: 59, loss: 0.08760421569444445\n",
      "epoch: 60, loss: 0.08729239180555558\n",
      "epoch: 61, loss: 0.08827661125\n",
      "epoch: 62, loss: 0.08800176152777778\n",
      "epoch: 63, loss: 0.08764318638888888\n",
      "epoch: 64, loss: 0.08924215625\n"
     ]
    }
   ],
   "source": [
    "network1.train(x_train, y_train, epochs=100, verbose=True)"
   ]
  },
  {
   "cell_type": "code",
   "execution_count": null,
   "metadata": {},
   "outputs": [],
   "source": [
    "saver(network1, data_path(\"QNN_digits_16qb\"))"
   ]
  },
  {
   "cell_type": "code",
   "execution_count": 8,
   "metadata": {},
   "outputs": [],
   "source": [
    "np.random.seed(42)\n",
    "network2 = sequential_dnn(dim=[16, 4, 1], lr=0.1)"
   ]
  },
  {
   "cell_type": "code",
   "execution_count": 9,
   "metadata": {},
   "outputs": [
    {
     "data": {
      "application/vnd.jupyter.widget-view+json": {
       "model_id": "0e568e7fbb36416b9ab3cae5f785b754",
       "version_major": 2,
       "version_minor": 0
      },
      "text/plain": [
       "  0%|          | 0/100 [00:00<?, ?it/s]"
      ]
     },
     "metadata": {},
     "output_type": "display_data"
    },
    {
     "name": "stdout",
     "output_type": "stream",
     "text": [
      "epoch: 0, loss: 0.21717602763437535\n",
      "epoch: 1, loss: 0.16388157680374751\n",
      "epoch: 2, loss: 0.12676802310603488\n",
      "epoch: 3, loss: 0.11055128901867321\n",
      "epoch: 4, loss: 0.08722395795675966\n",
      "epoch: 5, loss: 0.06505103617194709\n",
      "epoch: 6, loss: 0.05474521315133621\n",
      "epoch: 7, loss: 0.04831287441906112\n",
      "epoch: 8, loss: 0.043696138752481115\n",
      "epoch: 9, loss: 0.039763530194833335\n",
      "epoch: 10, loss: 0.03597268839270532\n",
      "epoch: 11, loss: 0.032183066809473804\n",
      "epoch: 12, loss: 0.028425222629953173\n",
      "epoch: 13, loss: 0.024740829791258166\n",
      "epoch: 14, loss: 0.021221140539797657\n",
      "epoch: 15, loss: 0.018045989692695306\n",
      "epoch: 16, loss: 0.015337715725036295\n",
      "epoch: 17, loss: 0.013099251909122483\n",
      "epoch: 18, loss: 0.011277673916117288\n",
      "epoch: 19, loss: 0.009808049157418378\n",
      "epoch: 20, loss: 0.008627184716671673\n",
      "epoch: 21, loss: 0.007678212534981987\n",
      "epoch: 22, loss: 0.00691242465441699\n",
      "epoch: 23, loss: 0.006289623189577449\n",
      "epoch: 24, loss: 0.005777554529188249\n",
      "epoch: 25, loss: 0.005350882306110686\n",
      "epoch: 26, loss: 0.004990020231581845\n",
      "epoch: 27, loss: 0.004680012009536258\n",
      "epoch: 28, loss: 0.004409546351730619\n",
      "epoch: 29, loss: 0.004170134305847863\n",
      "epoch: 30, loss: 0.003955444135009701\n",
      "epoch: 31, loss: 0.003760775040201735\n",
      "epoch: 32, loss: 0.003582646985348473\n",
      "epoch: 33, loss: 0.0034184846609413336\n",
      "epoch: 34, loss: 0.0032663763375540274\n",
      "epoch: 35, loss: 0.0031248915584279353\n",
      "epoch: 36, loss: 0.0029929446455502803\n",
      "epoch: 37, loss: 0.002869693608437671\n",
      "epoch: 38, loss: 0.0027544662084537266\n",
      "epoch: 39, loss: 0.0026467066840124374\n",
      "epoch: 40, loss: 0.0025459380477689617\n",
      "epoch: 41, loss: 0.0024517359898872555\n",
      "epoch: 42, loss: 0.00236371131675951\n",
      "epoch: 43, loss: 0.0022814985667723667\n",
      "epoch: 44, loss: 0.002204749009334484\n",
      "epoch: 45, loss: 0.002133126678606094\n",
      "epoch: 46, loss: 0.0020663064418940985\n",
      "epoch: 47, loss: 0.002003973373004713\n",
      "epoch: 48, loss: 0.0019458229082450662\n",
      "epoch: 49, loss: 0.0018915614198981544\n",
      "epoch: 50, loss: 0.0018409069593645563\n",
      "epoch: 51, loss: 0.0017935900084348243\n",
      "epoch: 52, loss: 0.0017493541394156295\n",
      "epoch: 53, loss: 0.00170795652880904\n",
      "epoch: 54, loss: 0.0016691682995083003\n",
      "epoch: 55, loss: 0.0016327746866189735\n",
      "epoch: 56, loss: 0.0015985750348252066\n",
      "epoch: 57, loss: 0.0015663826428202034\n",
      "epoch: 58, loss: 0.0015360244743004526\n",
      "epoch: 59, loss: 0.0015073407565597665\n",
      "epoch: 60, loss: 0.0014801844876627993\n",
      "epoch: 61, loss: 0.0014544208721330016\n",
      "epoch: 62, loss: 0.001429926703477177\n",
      "epoch: 63, loss: 0.0014065897099726067\n",
      "epoch: 64, loss: 0.0013843078781505236\n",
      "epoch: 65, loss: 0.001362988766439924\n",
      "epoch: 66, loss: 0.0013425488195593024\n",
      "epoch: 67, loss: 0.0013229126925002918\n",
      "epoch: 68, loss: 0.0013040125913546695\n",
      "epoch: 69, loss: 0.0012857876368004685\n",
      "epoch: 70, loss: 0.0012681832547816944\n",
      "epoch: 71, loss: 0.0012511505977829624\n",
      "epoch: 72, loss: 0.0012346459991065084\n",
      "epoch: 73, loss: 0.0012186304616951015\n",
      "epoch: 74, loss: 0.0012030691823005776\n",
      "epoch: 75, loss: 0.0011879311111646625\n",
      "epoch: 76, loss: 0.0011731885468472664\n",
      "epoch: 77, loss: 0.0011588167653986997\n",
      "epoch: 78, loss: 0.0011447936827178294\n",
      "epoch: 79, loss: 0.0011310995486598506\n",
      "epoch: 80, loss: 0.0011177166712472238\n",
      "epoch: 81, loss: 0.0011046291691876832\n",
      "epoch: 82, loss: 0.0010918227508067287\n",
      "epoch: 83, loss: 0.0010792845174516015\n",
      "epoch: 84, loss: 0.0010670027894126197\n",
      "epoch: 85, loss: 0.001054966952429638\n",
      "epoch: 86, loss: 0.0010431673229003042\n",
      "epoch: 87, loss: 0.0010315950299773675\n",
      "epoch: 88, loss: 0.0010202419128294991\n",
      "epoch: 89, loss: 0.0010091004314394976\n",
      "epoch: 90, loss: 0.0009981635894216\n",
      "epoch: 91, loss: 0.0009874248674521995\n",
      "epoch: 92, loss: 0.0009768781660230213\n",
      "epoch: 93, loss: 0.000966517756340015\n",
      "epoch: 94, loss: 0.000956338238303156\n",
      "epoch: 95, loss: 0.0009463345046101751\n",
      "epoch: 96, loss: 0.0009365017101299921\n",
      "epoch: 97, loss: 0.0009268352457882764\n",
      "epoch: 98, loss: 0.0009173307162976094\n",
      "epoch: 99, loss: 0.000907983921147716\n"
     ]
    }
   ],
   "source": [
    "network2.train(x_train, y_train, epochs=100, verbose=True)"
   ]
  },
  {
   "cell_type": "code",
   "execution_count": 15,
   "metadata": {},
   "outputs": [],
   "source": [
    "y_pred = network2.predict(x_train)\n",
    "y_pred = network.predict(x_train)"
   ]
  },
  {
   "cell_type": "code",
   "execution_count": 16,
   "metadata": {},
   "outputs": [
    {
     "name": "stdout",
     "output_type": "stream",
     "text": [
      "0.18055555555555555\n"
     ]
    }
   ],
   "source": [
    "print(np.mean(np.round(y_pred) != y_train))"
   ]
  },
  {
   "cell_type": "code",
   "execution_count": null,
   "metadata": {},
   "outputs": [],
   "source": []
  }
 ],
 "metadata": {
  "kernelspec": {
   "display_name": "env_qiskit",
   "language": "python",
   "name": "env_qiskit"
  },
  "language_info": {
   "codemirror_mode": {
    "name": "ipython",
    "version": 3
   },
   "file_extension": ".py",
   "mimetype": "text/x-python",
   "name": "python",
   "nbconvert_exporter": "python",
   "pygments_lexer": "ipython3",
   "version": "3.8.5"
  }
 },
 "nbformat": 4,
 "nbformat_minor": 4
}
