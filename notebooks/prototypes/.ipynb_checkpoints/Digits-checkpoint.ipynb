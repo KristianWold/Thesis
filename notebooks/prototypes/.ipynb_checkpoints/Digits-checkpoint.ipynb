{
 "cells": [
  {
   "cell_type": "code",
   "execution_count": 1,
   "metadata": {},
   "outputs": [],
   "source": [
    "import numpy as np\n",
    "import qiskit as qk\n",
    "import matplotlib.pyplot as plt\n",
    "\n",
    "from qiskit import Aer\n",
    "from tqdm.notebook import tqdm\n",
    "from sklearn.datasets import load_digits\n",
    "from sklearn.model_selection import train_test_split\n",
    "from skimage.measure import block_reduce\n",
    "\n",
    "import sys\n",
    "sys.path.insert(0, '../../src/')\n",
    "from neuralnetwork import *\n",
    "from analysis import *\n",
    "\n",
    "%matplotlib notebook\n",
    "#%matplotlib inline\n",
    "%load_ext autoreload\n",
    "%autoreload 2"
   ]
  },
  {
   "cell_type": "markdown",
   "metadata": {},
   "source": [
    "### Digits data"
   ]
  },
  {
   "cell_type": "code",
   "execution_count": 2,
   "metadata": {},
   "outputs": [],
   "source": [
    "digits = load_digits()\n",
    "three_idx = (digits.target == 3)\n",
    "six_idx = (digits.target == 6)"
   ]
  },
  {
   "cell_type": "code",
   "execution_count": 3,
   "metadata": {},
   "outputs": [],
   "source": [
    "threes = digits.data[three_idx]\n",
    "sixes =  digits.data[six_idx]\n",
    "\n",
    "x = np.concatenate((threes, sixes))\n",
    "x = [block_reduce(image.reshape(8, 8), (2, 2), func=np.mean).reshape(-1) for image in x]\n",
    "x = np.array(x)\n",
    "\n",
    "y = np.concatenate((np.zeros(len(threes)), np.ones(len(sixes)))).reshape(-1,1)"
   ]
  },
  {
   "cell_type": "code",
   "execution_count": 4,
   "metadata": {},
   "outputs": [
    {
     "name": "stdout",
     "output_type": "stream",
     "text": [
      "(72, 16)\n"
     ]
    }
   ],
   "source": [
    "np.random.seed(42)\n",
    "x_train, x_test, y_train, y_test = train_test_split(x, y, train_size=0.2)\n",
    "print(x_train.shape)"
   ]
  },
  {
   "cell_type": "markdown",
   "metadata": {},
   "source": [
    "### Network"
   ]
  },
  {
   "cell_type": "code",
   "execution_count": 5,
   "metadata": {},
   "outputs": [],
   "source": [
    "np.random.seed(42)\n",
    "backend = Aer.get_backend('qasm_simulator')\n",
    "\n",
    "network1 = sequential_qnn(q_bits=[16, 4],\n",
    "                         dim=[16, 4, 1],\n",
    "                         reps = 1,\n",
    "                         backend=backend,\n",
    "                         shots=10000,\n",
    "                         lr=0.1\n",
    "                         )"
   ]
  },
  {
   "cell_type": "markdown",
   "metadata": {},
   "source": [
    "### Training"
   ]
  },
  {
   "cell_type": "code",
   "execution_count": 6,
   "metadata": {},
   "outputs": [
    {
     "data": {
      "application/vnd.jupyter.widget-view+json": {
       "model_id": "42fa566944c0447f801d68cd78095582",
       "version_major": 2,
       "version_minor": 0
      },
      "text/plain": [
       "  0%|          | 0/100 [00:00<?, ?it/s]"
      ]
     },
     "metadata": {},
     "output_type": "display_data"
    },
    {
     "name": "stdout",
     "output_type": "stream",
     "text": [
      "epoch: 0, loss: 0.2582664602777778\n",
      "epoch: 1, loss: 0.24961145861111111\n",
      "epoch: 2, loss: 0.2438326081944444\n",
      "epoch: 3, loss: 0.2432853488888889\n",
      "epoch: 4, loss: 0.24333207722222225\n",
      "epoch: 5, loss: 0.24065142152777774\n",
      "epoch: 6, loss: 0.23672300111111116\n",
      "epoch: 7, loss: 0.23485696888888885\n",
      "epoch: 8, loss: 0.23332320305555557\n",
      "epoch: 9, loss: 0.22634395444444444\n",
      "epoch: 10, loss: 0.22324502680555558\n",
      "epoch: 11, loss: 0.22077186611111113\n",
      "epoch: 12, loss: 0.21846342458333334\n",
      "epoch: 13, loss: 0.2162096177777778\n",
      "epoch: 14, loss: 0.21250792805555557\n",
      "epoch: 15, loss: 0.2095244423611111\n",
      "epoch: 16, loss: 0.2068099634722222\n",
      "epoch: 17, loss: 0.20985439972222222\n",
      "epoch: 18, loss: 0.20775253777777777\n",
      "epoch: 19, loss: 0.20386455569444445\n",
      "epoch: 20, loss: 0.20379286\n",
      "epoch: 21, loss: 0.20385990305555557\n",
      "epoch: 22, loss: 0.20048300694444443\n",
      "epoch: 23, loss: 0.20181725416666665\n",
      "epoch: 24, loss: 0.19925808430555556\n",
      "epoch: 25, loss: 0.19683705444444444\n",
      "epoch: 26, loss: 0.1983087063888889\n",
      "epoch: 27, loss: 0.19581106527777775\n",
      "epoch: 28, loss: 0.1960597684722222\n",
      "epoch: 29, loss: 0.19578738875\n",
      "epoch: 30, loss: 0.19570997583333336\n",
      "epoch: 31, loss: 0.1912039526388889\n",
      "epoch: 32, loss: 0.18854973111111115\n",
      "epoch: 33, loss: 0.18681004555555555\n",
      "epoch: 34, loss: 0.18088276472222223\n",
      "epoch: 35, loss: 0.17982089291666664\n",
      "epoch: 36, loss: 0.1781870713888889\n",
      "epoch: 37, loss: 0.17556714125\n",
      "epoch: 38, loss: 0.17195273555555557\n",
      "epoch: 39, loss: 0.1759213479166667\n",
      "epoch: 40, loss: 0.17277887638888886\n",
      "epoch: 41, loss: 0.1726114425\n",
      "epoch: 42, loss: 0.17339759930555557\n",
      "epoch: 43, loss: 0.1733759936111111\n",
      "epoch: 44, loss: 0.17548178791666666\n",
      "epoch: 45, loss: 0.1710455488888889\n",
      "epoch: 46, loss: 0.1736092784722222\n",
      "epoch: 47, loss: 0.17401849569444444\n",
      "epoch: 48, loss: 0.17335864180555557\n",
      "epoch: 49, loss: 0.17051723055555557\n",
      "epoch: 50, loss: 0.17464122041666666\n",
      "epoch: 51, loss: 0.17072954236111113\n",
      "epoch: 52, loss: 0.17121693124999998\n",
      "epoch: 53, loss: 0.17330447875000002\n",
      "epoch: 54, loss: 0.17283596291666667\n",
      "epoch: 55, loss: 0.17165245083333336\n",
      "epoch: 56, loss: 0.16971651444444447\n",
      "epoch: 57, loss: 0.17254501763888888\n",
      "epoch: 58, loss: 0.17058230791666668\n",
      "epoch: 59, loss: 0.1722845125\n",
      "epoch: 60, loss: 0.1692361701388889\n",
      "epoch: 61, loss: 0.17137698430555556\n",
      "epoch: 62, loss: 0.1688666975\n",
      "epoch: 63, loss: 0.17060671430555555\n",
      "epoch: 64, loss: 0.1707086459722222\n",
      "epoch: 65, loss: 0.17029922791666668\n",
      "epoch: 66, loss: 0.16896331736111111\n",
      "epoch: 67, loss: 0.17061383027777777\n",
      "epoch: 68, loss: 0.17015824124999998\n",
      "epoch: 69, loss: 0.16984802138888888\n",
      "epoch: 70, loss: 0.1707076861111111\n",
      "epoch: 71, loss: 0.17133294986111114\n",
      "epoch: 72, loss: 0.16977404569444443\n",
      "epoch: 73, loss: 0.16981211361111112\n",
      "epoch: 74, loss: 0.17248012763888887\n",
      "epoch: 75, loss: 0.17172628777777776\n",
      "epoch: 76, loss: 0.1720099188888889\n",
      "epoch: 77, loss: 0.1716744536111111\n",
      "epoch: 78, loss: 0.17134774555555554\n",
      "epoch: 79, loss: 0.17152834347222223\n",
      "epoch: 80, loss: 0.17188203708333333\n",
      "epoch: 81, loss: 0.16894156166666666\n",
      "epoch: 82, loss: 0.16999610180555555\n",
      "epoch: 83, loss: 0.16953254958333333\n",
      "epoch: 84, loss: 0.17205152333333334\n",
      "epoch: 85, loss: 0.1707440772222222\n",
      "epoch: 86, loss: 0.17057062486111113\n",
      "epoch: 87, loss: 0.16912935527777778\n",
      "epoch: 88, loss: 0.17098597152777778\n",
      "epoch: 89, loss: 0.170838245\n",
      "epoch: 90, loss: 0.17087413125\n",
      "epoch: 91, loss: 0.17027830152777776\n",
      "epoch: 92, loss: 0.17001057333333333\n",
      "epoch: 93, loss: 0.1717560675\n",
      "epoch: 94, loss: 0.17180422958333333\n",
      "epoch: 95, loss: 0.17167725222222222\n",
      "epoch: 96, loss: 0.17063712513888887\n",
      "epoch: 97, loss: 0.1711998573611111\n",
      "epoch: 98, loss: 0.1704610895833333\n",
      "epoch: 99, loss: 0.1728248001388889\n"
     ]
    }
   ],
   "source": [
    "network1.train(x_train, y_train, epochs=100, verbose=True)"
   ]
  },
  {
   "cell_type": "code",
   "execution_count": 7,
   "metadata": {},
   "outputs": [],
   "source": [
    "saver(network1, data_path(\"QNN_digits_16qb\"))"
   ]
  },
  {
   "cell_type": "code",
   "execution_count": 8,
   "metadata": {},
   "outputs": [],
   "source": [
    "np.random.seed(42)\n",
    "network2 = sequential_dnn(dim=[16, 4, 1], lr=0.1)"
   ]
  },
  {
   "cell_type": "code",
   "execution_count": 9,
   "metadata": {},
   "outputs": [
    {
     "data": {
      "application/vnd.jupyter.widget-view+json": {
       "model_id": "0e568e7fbb36416b9ab3cae5f785b754",
       "version_major": 2,
       "version_minor": 0
      },
      "text/plain": [
       "  0%|          | 0/100 [00:00<?, ?it/s]"
      ]
     },
     "metadata": {},
     "output_type": "display_data"
    },
    {
     "name": "stdout",
     "output_type": "stream",
     "text": [
      "epoch: 0, loss: 0.21717602763437535\n",
      "epoch: 1, loss: 0.16388157680374751\n",
      "epoch: 2, loss: 0.12676802310603488\n",
      "epoch: 3, loss: 0.11055128901867321\n",
      "epoch: 4, loss: 0.08722395795675966\n",
      "epoch: 5, loss: 0.06505103617194709\n",
      "epoch: 6, loss: 0.05474521315133621\n",
      "epoch: 7, loss: 0.04831287441906112\n",
      "epoch: 8, loss: 0.043696138752481115\n",
      "epoch: 9, loss: 0.039763530194833335\n",
      "epoch: 10, loss: 0.03597268839270532\n",
      "epoch: 11, loss: 0.032183066809473804\n",
      "epoch: 12, loss: 0.028425222629953173\n",
      "epoch: 13, loss: 0.024740829791258166\n",
      "epoch: 14, loss: 0.021221140539797657\n",
      "epoch: 15, loss: 0.018045989692695306\n",
      "epoch: 16, loss: 0.015337715725036295\n",
      "epoch: 17, loss: 0.013099251909122483\n",
      "epoch: 18, loss: 0.011277673916117288\n",
      "epoch: 19, loss: 0.009808049157418378\n",
      "epoch: 20, loss: 0.008627184716671673\n",
      "epoch: 21, loss: 0.007678212534981987\n",
      "epoch: 22, loss: 0.00691242465441699\n",
      "epoch: 23, loss: 0.006289623189577449\n",
      "epoch: 24, loss: 0.005777554529188249\n",
      "epoch: 25, loss: 0.005350882306110686\n",
      "epoch: 26, loss: 0.004990020231581845\n",
      "epoch: 27, loss: 0.004680012009536258\n",
      "epoch: 28, loss: 0.004409546351730619\n",
      "epoch: 29, loss: 0.004170134305847863\n",
      "epoch: 30, loss: 0.003955444135009701\n",
      "epoch: 31, loss: 0.003760775040201735\n",
      "epoch: 32, loss: 0.003582646985348473\n",
      "epoch: 33, loss: 0.0034184846609413336\n",
      "epoch: 34, loss: 0.0032663763375540274\n",
      "epoch: 35, loss: 0.0031248915584279353\n",
      "epoch: 36, loss: 0.0029929446455502803\n",
      "epoch: 37, loss: 0.002869693608437671\n",
      "epoch: 38, loss: 0.0027544662084537266\n",
      "epoch: 39, loss: 0.0026467066840124374\n",
      "epoch: 40, loss: 0.0025459380477689617\n",
      "epoch: 41, loss: 0.0024517359898872555\n",
      "epoch: 42, loss: 0.00236371131675951\n",
      "epoch: 43, loss: 0.0022814985667723667\n",
      "epoch: 44, loss: 0.002204749009334484\n",
      "epoch: 45, loss: 0.002133126678606094\n",
      "epoch: 46, loss: 0.0020663064418940985\n",
      "epoch: 47, loss: 0.002003973373004713\n",
      "epoch: 48, loss: 0.0019458229082450662\n",
      "epoch: 49, loss: 0.0018915614198981544\n",
      "epoch: 50, loss: 0.0018409069593645563\n",
      "epoch: 51, loss: 0.0017935900084348243\n",
      "epoch: 52, loss: 0.0017493541394156295\n",
      "epoch: 53, loss: 0.00170795652880904\n",
      "epoch: 54, loss: 0.0016691682995083003\n",
      "epoch: 55, loss: 0.0016327746866189735\n",
      "epoch: 56, loss: 0.0015985750348252066\n",
      "epoch: 57, loss: 0.0015663826428202034\n",
      "epoch: 58, loss: 0.0015360244743004526\n",
      "epoch: 59, loss: 0.0015073407565597665\n",
      "epoch: 60, loss: 0.0014801844876627993\n",
      "epoch: 61, loss: 0.0014544208721330016\n",
      "epoch: 62, loss: 0.001429926703477177\n",
      "epoch: 63, loss: 0.0014065897099726067\n",
      "epoch: 64, loss: 0.0013843078781505236\n",
      "epoch: 65, loss: 0.001362988766439924\n",
      "epoch: 66, loss: 0.0013425488195593024\n",
      "epoch: 67, loss: 0.0013229126925002918\n",
      "epoch: 68, loss: 0.0013040125913546695\n",
      "epoch: 69, loss: 0.0012857876368004685\n",
      "epoch: 70, loss: 0.0012681832547816944\n",
      "epoch: 71, loss: 0.0012511505977829624\n",
      "epoch: 72, loss: 0.0012346459991065084\n",
      "epoch: 73, loss: 0.0012186304616951015\n",
      "epoch: 74, loss: 0.0012030691823005776\n",
      "epoch: 75, loss: 0.0011879311111646625\n",
      "epoch: 76, loss: 0.0011731885468472664\n",
      "epoch: 77, loss: 0.0011588167653986997\n",
      "epoch: 78, loss: 0.0011447936827178294\n",
      "epoch: 79, loss: 0.0011310995486598506\n",
      "epoch: 80, loss: 0.0011177166712472238\n",
      "epoch: 81, loss: 0.0011046291691876832\n",
      "epoch: 82, loss: 0.0010918227508067287\n",
      "epoch: 83, loss: 0.0010792845174516015\n",
      "epoch: 84, loss: 0.0010670027894126197\n",
      "epoch: 85, loss: 0.001054966952429638\n",
      "epoch: 86, loss: 0.0010431673229003042\n",
      "epoch: 87, loss: 0.0010315950299773675\n",
      "epoch: 88, loss: 0.0010202419128294991\n",
      "epoch: 89, loss: 0.0010091004314394976\n",
      "epoch: 90, loss: 0.0009981635894216\n",
      "epoch: 91, loss: 0.0009874248674521995\n",
      "epoch: 92, loss: 0.0009768781660230213\n",
      "epoch: 93, loss: 0.000966517756340015\n",
      "epoch: 94, loss: 0.000956338238303156\n",
      "epoch: 95, loss: 0.0009463345046101751\n",
      "epoch: 96, loss: 0.0009365017101299921\n",
      "epoch: 97, loss: 0.0009268352457882764\n",
      "epoch: 98, loss: 0.0009173307162976094\n",
      "epoch: 99, loss: 0.000907983921147716\n"
     ]
    }
   ],
   "source": [
    "network2.train(x_train, y_train, epochs=100, verbose=True)"
   ]
  },
  {
   "cell_type": "code",
   "execution_count": 10,
   "metadata": {},
   "outputs": [],
   "source": [
    "y_pred = network2.predict(x_train)"
   ]
  },
  {
   "cell_type": "code",
   "execution_count": 12,
   "metadata": {},
   "outputs": [
    {
     "name": "stdout",
     "output_type": "stream",
     "text": [
      "[[1.]\n",
      " [1.]\n",
      " [1.]\n",
      " [1.]\n",
      " [1.]\n",
      " [1.]\n",
      " [1.]\n",
      " [1.]\n",
      " [0.]\n",
      " [0.]\n",
      " [1.]\n",
      " [1.]\n",
      " [1.]\n",
      " [0.]\n",
      " [0.]\n",
      " [0.]\n",
      " [0.]\n",
      " [0.]\n",
      " [1.]\n",
      " [0.]\n",
      " [1.]\n",
      " [0.]\n",
      " [0.]\n",
      " [1.]\n",
      " [1.]\n",
      " [0.]\n",
      " [1.]\n",
      " [0.]\n",
      " [1.]\n",
      " [0.]\n",
      " [1.]\n",
      " [0.]\n",
      " [1.]\n",
      " [1.]\n",
      " [1.]\n",
      " [1.]\n",
      " [0.]\n",
      " [0.]\n",
      " [0.]\n",
      " [1.]\n",
      " [1.]\n",
      " [1.]\n",
      " [0.]\n",
      " [0.]\n",
      " [0.]\n",
      " [1.]\n",
      " [1.]\n",
      " [0.]\n",
      " [1.]\n",
      " [0.]\n",
      " [1.]\n",
      " [1.]\n",
      " [1.]\n",
      " [1.]\n",
      " [1.]\n",
      " [1.]\n",
      " [0.]\n",
      " [0.]\n",
      " [0.]\n",
      " [0.]\n",
      " [0.]\n",
      " [1.]\n",
      " [1.]\n",
      " [0.]\n",
      " [1.]\n",
      " [0.]\n",
      " [1.]\n",
      " [0.]\n",
      " [0.]\n",
      " [1.]\n",
      " [1.]\n",
      " [0.]]\n"
     ]
    }
   ],
   "source": [
    "print(np.mean(np.round(y_pred) != y_train))"
   ]
  },
  {
   "cell_type": "code",
   "execution_count": null,
   "metadata": {},
   "outputs": [],
   "source": []
  }
 ],
 "metadata": {
  "kernelspec": {
   "display_name": "env_qiskit",
   "language": "python",
   "name": "env_qiskit"
  },
  "language_info": {
   "codemirror_mode": {
    "name": "ipython",
    "version": 3
   },
   "file_extension": ".py",
   "mimetype": "text/x-python",
   "name": "python",
   "nbconvert_exporter": "python",
   "pygments_lexer": "ipython3",
   "version": "3.9.1"
  }
 },
 "nbformat": 4,
 "nbformat_minor": 4
}
