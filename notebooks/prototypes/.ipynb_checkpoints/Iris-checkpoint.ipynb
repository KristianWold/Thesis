{
 "cells": [
  {
   "cell_type": "code",
   "execution_count": 1,
   "metadata": {},
   "outputs": [],
   "source": [
    "import numpy as np\n",
    "import qiskit as qk\n",
    "import matplotlib.pyplot as plt\n",
    "\n",
    "from qiskit import Aer\n",
    "from tqdm.notebook import tqdm\n",
    "from sklearn.datasets import load_iris\n",
    "\n",
    "import sys\n",
    "sys.path.insert(0, '../../src/')\n",
    "from neuralnetwork import *\n",
    "from analysis import *\n",
    "\n",
    "#%matplotlib notebook\n",
    "%matplotlib inline\n",
    "%load_ext autoreload\n",
    "%autoreload 2"
   ]
  },
  {
   "cell_type": "markdown",
   "metadata": {},
   "source": [
    "# Iris Data"
   ]
  },
  {
   "cell_type": "markdown",
   "metadata": {},
   "source": [
    "## Data Preparation"
   ]
  },
  {
   "cell_type": "code",
   "execution_count": 16,
   "metadata": {},
   "outputs": [],
   "source": [
    "iris = load_iris()"
   ]
  },
  {
   "cell_type": "code",
   "execution_count": 17,
   "metadata": {},
   "outputs": [],
   "source": [
    "x = iris.data\n",
    "y = iris.target"
   ]
  },
  {
   "cell_type": "markdown",
   "metadata": {},
   "source": [
    "### Only first two classes"
   ]
  },
  {
   "cell_type": "code",
   "execution_count": 18,
   "metadata": {},
   "outputs": [
    {
     "name": "stdout",
     "output_type": "stream",
     "text": [
      "(100, 4) (100, 1)\n"
     ]
    }
   ],
   "source": [
    "x = x[y != 1]\n",
    "y = y[y != 1].reshape(-1,1)\n",
    "print(x.shape, y.shape)"
   ]
  },
  {
   "cell_type": "markdown",
   "metadata": {},
   "source": [
    "### Normalize Input Data"
   ]
  },
  {
   "cell_type": "code",
   "execution_count": 19,
   "metadata": {},
   "outputs": [],
   "source": [
    "x = x - np.amin(x, axis = 0)\n",
    "x = x/np.max(x, axis = 0)\n",
    "x = np.pi*x"
   ]
  },
  {
   "cell_type": "markdown",
   "metadata": {},
   "source": [
    "## Train Model"
   ]
  },
  {
   "cell_type": "code",
   "execution_count": 23,
   "metadata": {},
   "outputs": [],
   "source": [
    "backend = Aer.get_backend('qasm_simulator')"
   ]
  },
  {
   "cell_type": "code",
   "execution_count": 24,
   "metadata": {},
   "outputs": [],
   "source": [
    "np.random.seed(42)\n",
    "network1 = sequential_qnn(q_bits = [4],\n",
    "                         dim = [4, 1],\n",
    "                         reps = 1,\n",
    "                         backend = backend,\n",
    "                         shots = 10000,\n",
    "                         lr = 0.1)"
   ]
  },
  {
   "cell_type": "code",
   "execution_count": 25,
   "metadata": {},
   "outputs": [
    {
     "data": {
      "application/vnd.jupyter.widget-view+json": {
       "model_id": "3c1d47ba25754497b8ccb6e8e1cfe462",
       "version_major": 2,
       "version_minor": 0
      },
      "text/plain": [
       "  0%|          | 0/50 [00:00<?, ?it/s]"
      ]
     },
     "metadata": {},
     "output_type": "display_data"
    },
    {
     "name": "stdout",
     "output_type": "stream",
     "text": [
      "epoch: 0, loss: 1.1527570775999998\n",
      "epoch: 1, loss: 1.1432410688999999\n",
      "epoch: 2, loss: 1.1319638663\n",
      "epoch: 3, loss: 1.1255205453000001\n",
      "epoch: 4, loss: 1.1183436096000001\n",
      "epoch: 5, loss: 1.1034186715999998\n",
      "epoch: 6, loss: 1.0856707595\n",
      "epoch: 7, loss: 1.0644486639\n",
      "epoch: 8, loss: 1.0315730901\n",
      "epoch: 9, loss: 1.0009704498\n",
      "epoch: 10, loss: 0.9625433124\n",
      "epoch: 11, loss: 0.9242998844999998\n",
      "epoch: 12, loss: 0.8828646592999999\n",
      "epoch: 13, loss: 0.8457529427\n",
      "epoch: 14, loss: 0.8084631108000001\n",
      "epoch: 15, loss: 0.7762725243000002\n",
      "epoch: 16, loss: 0.7489233442\n",
      "epoch: 17, loss: 0.7291378882\n",
      "epoch: 18, loss: 0.7189416395000001\n",
      "epoch: 19, loss: 0.7147969799\n",
      "epoch: 20, loss: 0.7195930479\n",
      "epoch: 21, loss: 0.7265950472000001\n",
      "epoch: 22, loss: 0.7356103681999998\n",
      "epoch: 23, loss: 0.7434279069\n",
      "epoch: 24, loss: 0.7482699832000002\n",
      "epoch: 25, loss: 0.7499213949999999\n",
      "epoch: 26, loss: 0.7503259837000001\n",
      "epoch: 27, loss: 0.7489787788\n",
      "epoch: 28, loss: 0.7460167752000001\n",
      "epoch: 29, loss: 0.7420389096\n",
      "epoch: 30, loss: 0.7357071226\n",
      "epoch: 31, loss: 0.7318434862000001\n",
      "epoch: 32, loss: 0.7281579452\n",
      "epoch: 33, loss: 0.7254953026000002\n",
      "epoch: 34, loss: 0.7235418315000001\n",
      "epoch: 35, loss: 0.7208085782999999\n",
      "epoch: 36, loss: 0.7201063485\n",
      "epoch: 37, loss: 0.7179307616999999\n",
      "epoch: 38, loss: 0.7166561912999998\n",
      "epoch: 39, loss: 0.7151384445999999\n",
      "epoch: 40, loss: 0.7146118561999999\n",
      "epoch: 41, loss: 0.7154269093999999\n",
      "epoch: 42, loss: 0.7153070603999998\n",
      "epoch: 43, loss: 0.7158605934999999\n",
      "epoch: 44, loss: 0.7185504337\n",
      "epoch: 45, loss: 0.7189280052\n",
      "epoch: 46, loss: 0.7184195913000001\n",
      "epoch: 47, loss: 0.7182724624999999\n",
      "epoch: 48, loss: 0.7174724062\n",
      "epoch: 49, loss: 0.7169452458000001\n"
     ]
    }
   ],
   "source": [
    "network1.train(x,y, epochs = 50, verbose = True)"
   ]
  },
  {
   "cell_type": "code",
   "execution_count": null,
   "metadata": {},
   "outputs": [],
   "source": [
    "plt.plot(network1.loss)"
   ]
  },
  {
   "cell_type": "code",
   "execution_count": 8,
   "metadata": {},
   "outputs": [],
   "source": [
    "#saver(network1, data_path(\"Iris_qnn1\"))\n",
    "network1 = loader(data_path(\"Iris_qnn1\"))"
   ]
  },
  {
   "cell_type": "code",
   "execution_count": 20,
   "metadata": {},
   "outputs": [],
   "source": [
    "np.random.seed(40)\n",
    "network2 = sequential_dnn(dim=[4, 4, 1], bias=False, lr=0.1)"
   ]
  },
  {
   "cell_type": "code",
   "execution_count": 21,
   "metadata": {},
   "outputs": [
    {
     "data": {
      "application/vnd.jupyter.widget-view+json": {
       "model_id": "f7976468c7a4430e99ecc4558aaeaf4c",
       "version_major": 2,
       "version_minor": 0
      },
      "text/plain": [
       "  0%|          | 0/100 [00:00<?, ?it/s]"
      ]
     },
     "metadata": {},
     "output_type": "display_data"
    },
    {
     "name": "stdout",
     "output_type": "stream",
     "text": [
      "epoch: 0, loss: 1.6713503090240278\n",
      "epoch: 1, loss: 1.40674361147114\n",
      "epoch: 2, loss: 1.1013973547956104\n",
      "epoch: 3, loss: 0.8548767841625147\n",
      "epoch: 4, loss: 0.7217089765797061\n",
      "epoch: 5, loss: 0.6756559635457868\n",
      "epoch: 6, loss: 0.6706243895586864\n",
      "epoch: 7, loss: 0.6784775879970243\n",
      "epoch: 8, loss: 0.6872266242258336\n",
      "epoch: 9, loss: 0.6927279549734139\n",
      "epoch: 10, loss: 0.6939134416106728\n",
      "epoch: 11, loss: 0.690798967012754\n",
      "epoch: 12, loss: 0.6837593838070046\n",
      "epoch: 13, loss: 0.6732993582697204\n",
      "epoch: 14, loss: 0.6600052598345468\n",
      "epoch: 15, loss: 0.6445526635474735\n",
      "epoch: 16, loss: 0.6277140788883668\n",
      "epoch: 17, loss: 0.6103383948551762\n",
      "epoch: 18, loss: 0.593290150324153\n",
      "epoch: 19, loss: 0.5773554863196547\n",
      "epoch: 20, loss: 0.5631414815446874\n",
      "epoch: 21, loss: 0.5510059192220588\n",
      "epoch: 22, loss: 0.5410449174782874\n",
      "epoch: 23, loss: 0.533139068377857\n",
      "epoch: 24, loss: 0.5270329187025594\n",
      "epoch: 25, loss: 0.5224151305479721\n",
      "epoch: 26, loss: 0.5189776566757298\n",
      "epoch: 27, loss: 0.5164486151752132\n",
      "epoch: 28, loss: 0.5146042192534028\n",
      "epoch: 29, loss: 0.5132680993488896\n",
      "epoch: 30, loss: 0.5123048669450423\n",
      "epoch: 31, loss: 0.5116121373662896\n",
      "epoch: 32, loss: 0.5111130823579856\n",
      "epoch: 33, loss: 0.5107502663883386\n",
      "epoch: 34, loss: 0.5104808557028983\n",
      "epoch: 35, loss: 0.5102730173106111\n",
      "epoch: 36, loss: 0.5101032536030251\n",
      "epoch: 37, loss: 0.5099544338658741\n",
      "epoch: 38, loss: 0.5098143287685661\n",
      "epoch: 39, loss: 0.5096745020303368\n",
      "epoch: 40, loss: 0.5095294549664985\n",
      "epoch: 41, loss: 0.5093759519831381\n",
      "epoch: 42, loss: 0.5092124787888254\n",
      "epoch: 43, loss: 0.5090388016073295\n",
      "epoch: 44, loss: 0.5088556066482481\n",
      "epoch: 45, loss: 0.5086642060097865\n",
      "epoch: 46, loss: 0.5084663002852777\n",
      "epoch: 47, loss: 0.5082637903954272\n",
      "epoch: 48, loss: 0.5080586323026103\n",
      "epoch: 49, loss: 0.5078527288018851\n",
      "epoch: 50, loss: 0.5076478528708133\n",
      "epoch: 51, loss: 0.5074455973037967\n",
      "epoch: 52, loss: 0.5072473456613875\n",
      "epoch: 53, loss: 0.5070542599659443\n",
      "epoch: 54, loss: 0.5068672810643925\n",
      "epoch: 55, loss: 0.506687138127139\n",
      "epoch: 56, loss: 0.5065143643228925\n",
      "epoch: 57, loss: 0.506349316268\n",
      "epoch: 58, loss: 0.506192195368916\n",
      "epoch: 59, loss: 0.5060430696394511\n",
      "epoch: 60, loss: 0.5059018949709118\n",
      "epoch: 61, loss: 0.5057685351607455\n",
      "epoch: 62, loss: 0.505642780266609\n",
      "epoch: 63, loss: 0.5055243630541387\n",
      "epoch: 64, loss: 0.505412973456192\n",
      "epoch: 65, loss: 0.505308271067598\n",
      "epoch: 66, loss: 0.5052098957710216\n",
      "epoch: 67, loss: 0.5051174766340631\n",
      "epoch: 68, loss: 0.5050306392419297\n",
      "epoch: 69, loss: 0.5049490116394233\n",
      "epoch: 70, loss: 0.504872229055146\n",
      "epoch: 71, loss: 0.504799937573155\n",
      "epoch: 72, loss: 0.5047317969054875\n",
      "epoch: 73, loss: 0.5046674824049375\n",
      "epoch: 74, loss: 0.5046066864425814\n",
      "epoch: 75, loss: 0.504549119259741\n",
      "epoch: 76, loss: 0.5044945093899437\n",
      "epoch: 77, loss: 0.504442603733348\n",
      "epoch: 78, loss: 0.5043931673542204\n",
      "epoch: 79, loss: 0.5043459830614383\n",
      "epoch: 80, loss: 0.5043008508226507\n",
      "epoch: 81, loss: 0.5042575870545463\n",
      "epoch: 82, loss: 0.5042160238246148\n",
      "epoch: 83, loss: 0.504176007993689\n",
      "epoch: 84, loss: 0.504137400323329\n",
      "epoch: 85, loss: 0.5041000745676617\n",
      "epoch: 86, loss: 0.504063916565494\n",
      "epoch: 87, loss: 0.5040288233453023\n",
      "epoch: 88, loss: 0.5039947022529901\n",
      "epoch: 89, loss: 0.503961470110009\n",
      "epoch: 90, loss: 0.5039290524075135\n",
      "epoch: 91, loss: 0.5038973825406106\n",
      "epoch: 92, loss: 0.5038664010854199\n",
      "epoch: 93, loss: 0.5038360551205455\n",
      "epoch: 94, loss: 0.5038062975936455\n",
      "epoch: 95, loss: 0.5037770867330369\n",
      "epoch: 96, loss: 0.5037483855036725\n",
      "epoch: 97, loss: 0.503720161106346\n",
      "epoch: 98, loss: 0.5036923845186113\n",
      "epoch: 99, loss: 0.5036650300756198\n"
     ]
    }
   ],
   "source": [
    "network2.train(x,y, epochs = 100, verbose = True)"
   ]
  },
  {
   "cell_type": "code",
   "execution_count": 22,
   "metadata": {},
   "outputs": [
    {
     "data": {
      "image/png": "[encoded data removed]",
      "text/plain": [
       "<Figure size 432x288 with 1 Axes>"
      ]
     },
     "metadata": {
      "needs_background": "light"
     },
     "output_type": "display_data"
    }
   ],
   "source": [
    "network1 = loader(data_path(\"Iris_qnn1\"))\n",
    "plt.plot(network1.loss)\n",
    "plt.plot(network2.loss)\n",
    "plt.show()\n",
    "\n",
    "y_pred = np.round(network2.predict(x))"
   ]
  },
  {
   "cell_type": "code",
   "execution_count": 15,
   "metadata": {},
   "outputs": [
    {
     "name": "stdout",
     "output_type": "stream",
     "text": [
      "[0. 0. 0. 0. 0. 0. 0. 0. 0. 0. 0. 0. 0. 0. 0. 0. 0. 0. 0. 0. 0. 0. 0. 0.\n",
      " 0. 0. 0. 0. 0. 0. 0. 0. 0. 0. 0. 0. 0. 0. 0. 0. 0. 0. 0. 0. 0. 0. 0. 0.\n",
      " 0. 0. 1. 1. 1. 1. 1. 1. 1. 1. 1. 1. 1. 1. 1. 1. 1. 1. 1. 1. 1. 1. 1. 1.\n",
      " 1. 1. 1. 1. 1. 1. 1. 1. 1. 1. 1. 1. 1. 1. 1. 1. 1. 1. 1. 1. 1. 1. 1. 1.\n",
      " 1. 1. 1. 1.]\n",
      "[0 0 0 0 0 0 0 0 0 0 0 0 0 0 0 0 0 0 0 0 0 0 0 0 0 0 0 0 0 0 0 0 0 0 0 0 0\n",
      " 0 0 0 0 0 0 0 0 0 0 0 0 0 1 1 1 1 1 1 1 1 1 1 1 1 1 1 1 1 1 1 1 1 1 1 1 1\n",
      " 1 1 1 1 1 1 1 1 1 1 1 1 1 1 1 1 1 1 1 1 1 1 1 1 1 1]\n"
     ]
    }
   ],
   "source": [
    "print(y_pred.flatten())\n",
    "print(y.flatten())"
   ]
  },
  {
   "cell_type": "code",
   "execution_count": null,
   "metadata": {},
   "outputs": [],
   "source": []
  }
 ],
 "metadata": {
  "kernelspec": {
   "display_name": "env_qiskit",
   "language": "python",
   "name": "env_qiskit"
  },
  "language_info": {
   "codemirror_mode": {
    "name": "ipython",
    "version": 3
   },
   "file_extension": ".py",
   "mimetype": "text/x-python",
   "name": "python",
   "nbconvert_exporter": "python",
   "pygments_lexer": "ipython3",
   "version": "3.9.1"
  }
 },
 "nbformat": 4,
 "nbformat_minor": 4
}
