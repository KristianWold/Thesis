{
 "cells": [
  {
   "cell_type": "code",
   "execution_count": 2,
   "metadata": {},
   "outputs": [],
   "source": [
    "import numpy as np\n",
    "import qiskit as qk\n",
    "import matplotlib.pyplot as plt\n",
    "from qiskit import Aer\n",
    "from tqdm.notebook import tqdm\n",
    "\n",
    "import sys\n",
    "sys.path.insert(0, '../../src/')\n",
    "from neuralnetwork import *\n",
    "from analysis import *\n",
    "from data_encoders import *\n",
    "from parametrizations import *\n",
    "\n",
    "#%matplotlib notebook\n",
    "%matplotlib inline\n",
    "%load_ext autoreload\n",
    "%autoreload 2\n",
    "\n",
    "np.set_printoptions(formatter={'float': lambda x: \"{0:0.3f}\".format(x)})"
   ]
  },
  {
   "cell_type": "markdown",
   "metadata": {},
   "source": [
    "### Generate data"
   ]
  },
  {
   "cell_type": "code",
   "execution_count": 89,
   "metadata": {},
   "outputs": [
    {
     "name": "stdout",
     "output_type": "stream",
     "text": [
      "[[0.000 0.000]\n",
      " [3.142 3.142]]\n",
      "[[0.500]\n",
      " [2.071]]\n"
     ]
    }
   ],
   "source": [
    "backend = Aer.get_backend('qasm_simulator')\n",
    "n_samples = 2\n",
    "n_features = 2\n",
    "n_targets = 1\n",
    "\n",
    "x = np.linspace(0, 2, n_samples)\n",
    "y = x**2\n",
    "y = y - np.min(y)\n",
    "y = y/np.max(y)\n",
    "y = np.pi/2 *y\n",
    "y = y.reshape(-1,1) + 0.5\n",
    "\n",
    "X = np.zeros((n_samples, n_features))\n",
    "X[:,0] = x\n",
    "X[:,1] = x**2\n",
    "#X[:,2] = x**3\n",
    "#X[:,3] = x**4\n",
    "\n",
    "\n",
    "\n",
    "X = X - np.min(X, axis=0).reshape(1,-1)\n",
    "X = X/np.max(X, axis=0).reshape(1,-1)\n",
    "X = np.pi * X\n",
    "\n",
    "print(X)\n",
    "print(y)"
   ]
  },
  {
   "cell_type": "code",
   "execution_count": 137,
   "metadata": {},
   "outputs": [
    {
     "name": "stdout",
     "output_type": "stream",
     "text": [
      "[[0.788 0.145]\n",
      " [2.126 0.137]]\n",
      "[[0.468]\n",
      " [0.825]]\n"
     ]
    }
   ],
   "source": [
    "backend = Aer.get_backend('qasm_simulator')\n",
    "n_samples = 2\n",
    "n_features = 2\n",
    "n_targets = 1\n",
    "\n",
    "np.random.seed(41)\n",
    "X = np.random.uniform(0, np.pi, (n_samples, n_features))\n",
    "model = ParallelModel(n_features=n_features,\n",
    "                      n_targets=n_targets,\n",
    "                      reps=2,\n",
    "                      backend=backend, \n",
    "                      shots=100000)\n",
    "y = model.predict(X)\n",
    "print(X)\n",
    "print(y)"
   ]
  },
  {
   "cell_type": "markdown",
   "metadata": {},
   "source": [
    "### Parallel Model"
   ]
  },
  {
   "cell_type": "code",
   "execution_count": 138,
   "metadata": {},
   "outputs": [],
   "source": [
    "reps = 2\n",
    "np.random.seed(42)\n",
    "model = ParallelModel(n_features=n_features,\n",
    "                      n_targets=n_targets,\n",
    "                      reps=reps,\n",
    "                      backend=backend, \n",
    "                      shots=100000)\n",
    "\n",
    "optimizer = Adam()\n",
    "optimizer.initialize(model.theta.shape)"
   ]
  },
  {
   "cell_type": "code",
   "execution_count": 139,
   "metadata": {
    "scrolled": true
   },
   "outputs": [
    {
     "data": {
      "application/vnd.jupyter.widget-view+json": {
       "model_id": "ed7cd4498ab24d1b8b97259b32a8f3df",
       "version_major": 2,
       "version_minor": 0
      },
      "text/plain": [
       "  0%|          | 0/100 [00:00<?, ?it/s]"
      ]
     },
     "metadata": {},
     "output_type": "display_data"
    },
    {
     "name": "stdout",
     "output_type": "stream",
     "text": [
      "loss=0.764, mse=0.057, y_pred.flatten()=array([0.798, 0.894])\n",
      "loss=0.741, mse=0.048, y_pred.flatten()=array([0.775, 0.858])\n",
      "loss=0.718, mse=0.041, y_pred.flatten()=array([0.754, 0.819])\n",
      "loss=0.692, mse=0.036, y_pred.flatten()=array([0.733, 0.779])\n",
      "loss=0.658, mse=0.034, y_pred.flatten()=array([0.713, 0.739])\n",
      "loss=0.629, mse=0.034, y_pred.flatten()=array([0.696, 0.696])\n",
      "loss=0.603, mse=0.037, y_pred.flatten()=array([0.679, 0.654])\n",
      "loss=0.579, mse=0.042, y_pred.flatten()=array([0.665, 0.614])\n",
      "loss=0.552, mse=0.050, y_pred.flatten()=array([0.659, 0.575])\n",
      "loss=0.530, mse=0.058, y_pred.flatten()=array([0.652, 0.538])\n",
      "loss=0.500, mse=0.068, y_pred.flatten()=array([0.653, 0.506])\n",
      "loss=0.487, mse=0.079, y_pred.flatten()=array([0.652, 0.474])\n",
      "loss=0.464, mse=0.090, y_pred.flatten()=array([0.656, 0.446])\n",
      "loss=0.449, mse=0.101, y_pred.flatten()=array([0.664, 0.422])\n",
      "loss=0.430, mse=0.110, y_pred.flatten()=array([0.668, 0.400])\n",
      "loss=0.417, mse=0.122, y_pred.flatten()=array([0.676, 0.378])\n",
      "loss=0.400, mse=0.133, y_pred.flatten()=array([0.676, 0.353])\n",
      "loss=0.384, mse=0.146, y_pred.flatten()=array([0.677, 0.328])\n",
      "loss=0.367, mse=0.158, y_pred.flatten()=array([0.673, 0.302])\n",
      "loss=0.348, mse=0.172, y_pred.flatten()=array([0.667, 0.275])\n",
      "loss=0.325, mse=0.188, y_pred.flatten()=array([0.658, 0.243])\n",
      "loss=0.308, mse=0.200, y_pred.flatten()=array([0.644, 0.218])\n",
      "loss=0.289, mse=0.217, y_pred.flatten()=array([0.628, 0.187])\n",
      "loss=0.266, mse=0.236, y_pred.flatten()=array([0.610, 0.154])\n",
      "loss=0.248, mse=0.251, y_pred.flatten()=array([0.588, 0.128])\n",
      "loss=0.228, mse=0.269, y_pred.flatten()=array([0.571, 0.100])\n",
      "loss=0.211, mse=0.283, y_pred.flatten()=array([0.547, 0.077])\n",
      "loss=0.200, mse=0.296, y_pred.flatten()=array([0.527, 0.058])\n",
      "loss=0.190, mse=0.308, y_pred.flatten()=array([0.508, 0.041])\n",
      "loss=0.178, mse=0.317, y_pred.flatten()=array([0.487, 0.029])\n",
      "loss=0.174, mse=0.324, y_pred.flatten()=array([0.468, 0.020])\n",
      "loss=0.170, mse=0.329, y_pred.flatten()=array([0.453, 0.015])\n",
      "loss=0.169, mse=0.332, y_pred.flatten()=array([0.434, 0.012])\n",
      "loss=0.172, mse=0.333, y_pred.flatten()=array([0.421, 0.011])\n",
      "loss=0.168, mse=0.331, y_pred.flatten()=array([0.405, 0.014])\n",
      "loss=0.171, mse=0.330, y_pred.flatten()=array([0.391, 0.016])\n",
      "loss=0.173, mse=0.329, y_pred.flatten()=array([0.382, 0.019])\n",
      "loss=0.176, mse=0.328, y_pred.flatten()=array([0.365, 0.022])\n",
      "loss=0.177, mse=0.327, y_pred.flatten()=array([0.358, 0.024])\n",
      "loss=0.179, mse=0.328, y_pred.flatten()=array([0.345, 0.025])\n",
      "loss=0.177, mse=0.330, y_pred.flatten()=array([0.335, 0.024])\n",
      "loss=0.177, mse=0.331, y_pred.flatten()=array([0.328, 0.024])\n",
      "loss=0.178, mse=0.333, y_pred.flatten()=array([0.317, 0.023])\n",
      "loss=0.175, mse=0.337, y_pred.flatten()=array([0.309, 0.020])\n",
      "loss=0.173, mse=0.339, y_pred.flatten()=array([0.305, 0.018])\n",
      "loss=0.172, mse=0.342, y_pred.flatten()=array([0.301, 0.015])\n",
      "loss=0.171, mse=0.345, y_pred.flatten()=array([0.297, 0.012])\n",
      "loss=0.167, mse=0.348, y_pred.flatten()=array([0.293, 0.010])\n",
      "loss=0.166, mse=0.350, y_pred.flatten()=array([0.295, 0.007])\n",
      "loss=0.162, mse=0.351, y_pred.flatten()=array([0.296, 0.005])\n",
      "loss=0.161, mse=0.352, y_pred.flatten()=array([0.294, 0.004])\n",
      "loss=0.163, mse=0.352, y_pred.flatten()=array([0.297, 0.003])\n",
      "loss=0.163, mse=0.353, y_pred.flatten()=array([0.300, 0.002])\n",
      "loss=0.163, mse=0.351, y_pred.flatten()=array([0.306, 0.003])\n",
      "loss=0.160, mse=0.351, y_pred.flatten()=array([0.310, 0.003])\n",
      "loss=0.163, mse=0.350, y_pred.flatten()=array([0.317, 0.003])\n",
      "loss=0.163, mse=0.349, y_pred.flatten()=array([0.318, 0.003])\n",
      "loss=0.164, mse=0.348, y_pred.flatten()=array([0.325, 0.003])\n",
      "loss=0.161, mse=0.347, y_pred.flatten()=array([0.329, 0.003])\n",
      "loss=0.164, mse=0.347, y_pred.flatten()=array([0.334, 0.003])\n",
      "loss=0.163, mse=0.346, y_pred.flatten()=array([0.340, 0.004])\n",
      "loss=0.162, mse=0.346, y_pred.flatten()=array([0.344, 0.003])\n",
      "loss=0.166, mse=0.345, y_pred.flatten()=array([0.348, 0.003])\n",
      "loss=0.161, mse=0.346, y_pred.flatten()=array([0.351, 0.002])\n",
      "loss=0.161, mse=0.345, y_pred.flatten()=array([0.357, 0.002])\n",
      "loss=0.161, mse=0.345, y_pred.flatten()=array([0.358, 0.002])\n",
      "loss=0.160, mse=0.345, y_pred.flatten()=array([0.359, 0.001])\n",
      "loss=0.162, mse=0.346, y_pred.flatten()=array([0.358, 0.001])\n",
      "loss=0.162, mse=0.346, y_pred.flatten()=array([0.360, 0.001])\n",
      "loss=0.160, mse=0.346, y_pred.flatten()=array([0.362, 0.001])\n",
      "loss=0.161, mse=0.346, y_pred.flatten()=array([0.364, 0.000])\n",
      "loss=0.162, mse=0.346, y_pred.flatten()=array([0.364, 0.000])\n",
      "loss=0.162, mse=0.346, y_pred.flatten()=array([0.366, 0.000])\n",
      "loss=0.160, mse=0.346, y_pred.flatten()=array([0.363, 0.000])\n",
      "loss=0.160, mse=0.346, y_pred.flatten()=array([0.366, 0.000])\n",
      "loss=0.162, mse=0.345, y_pred.flatten()=array([0.366, 0.000])\n",
      "loss=0.160, mse=0.345, y_pred.flatten()=array([0.364, 0.001])\n",
      "loss=0.159, mse=0.346, y_pred.flatten()=array([0.364, 0.000])\n",
      "loss=0.163, mse=0.346, y_pred.flatten()=array([0.364, 0.001])\n",
      "loss=0.161, mse=0.346, y_pred.flatten()=array([0.363, 0.001])\n",
      "loss=0.160, mse=0.346, y_pred.flatten()=array([0.362, 0.001])\n",
      "loss=0.162, mse=0.346, y_pred.flatten()=array([0.361, 0.001])\n",
      "loss=0.159, mse=0.346, y_pred.flatten()=array([0.356, 0.000])\n",
      "loss=0.162, mse=0.347, y_pred.flatten()=array([0.355, 0.000])\n",
      "loss=0.160, mse=0.347, y_pred.flatten()=array([0.354, 0.000])\n",
      "loss=0.160, mse=0.347, y_pred.flatten()=array([0.355, 0.000])\n",
      "loss=0.161, mse=0.347, y_pred.flatten()=array([0.353, 0.000])\n",
      "loss=0.161, mse=0.347, y_pred.flatten()=array([0.353, 0.000])\n",
      "loss=0.159, mse=0.347, y_pred.flatten()=array([0.351, 0.000])\n",
      "loss=0.162, mse=0.347, y_pred.flatten()=array([0.350, 0.000])\n",
      "loss=0.161, mse=0.347, y_pred.flatten()=array([0.351, 0.000])\n",
      "loss=0.161, mse=0.348, y_pred.flatten()=array([0.348, 0.000])\n"
     ]
    },
    {
     "ename": "KeyboardInterrupt",
     "evalue": "",
     "output_type": "error",
     "traceback": [
      "\u001b[0;31m---------------------------------------------------------------------------\u001b[0m",
      "\u001b[0;31mKeyboardInterrupt\u001b[0m                         Traceback (most recent call last)",
      "\u001b[0;32m<ipython-input-139-7361c832d284>\u001b[0m in \u001b[0;36m<module>\u001b[0;34m\u001b[0m\n\u001b[1;32m      1\u001b[0m \u001b[0;32mfor\u001b[0m \u001b[0mi\u001b[0m \u001b[0;32min\u001b[0m \u001b[0mtqdm\u001b[0m\u001b[0;34m(\u001b[0m\u001b[0mrange\u001b[0m\u001b[0;34m(\u001b[0m\u001b[0;36m100\u001b[0m\u001b[0;34m)\u001b[0m\u001b[0;34m)\u001b[0m\u001b[0;34m:\u001b[0m\u001b[0;34m\u001b[0m\u001b[0;34m\u001b[0m\u001b[0m\n\u001b[0;32m----> 2\u001b[0;31m     \u001b[0mgrad\u001b[0m \u001b[0;34m=\u001b[0m \u001b[0;34m[\u001b[0m\u001b[0mmodel\u001b[0m\u001b[0;34m.\u001b[0m\u001b[0mgradient\u001b[0m\u001b[0;34m(\u001b[0m\u001b[0mX\u001b[0m\u001b[0;34m,\u001b[0m \u001b[0my\u001b[0m\u001b[0;34m)\u001b[0m\u001b[0;34m]\u001b[0m\u001b[0;34m\u001b[0m\u001b[0;34m\u001b[0m\u001b[0m\n\u001b[0m\u001b[1;32m      3\u001b[0m     \u001b[0mgrad\u001b[0m \u001b[0;34m=\u001b[0m \u001b[0moptimizer\u001b[0m\u001b[0;34m(\u001b[0m\u001b[0mgrad\u001b[0m\u001b[0;34m)\u001b[0m\u001b[0;34m\u001b[0m\u001b[0;34m\u001b[0m\u001b[0m\n\u001b[1;32m      4\u001b[0m     \u001b[0mmodel\u001b[0m\u001b[0;34m.\u001b[0m\u001b[0mtheta\u001b[0m \u001b[0;34m+=\u001b[0m \u001b[0;34m-\u001b[0m\u001b[0;36m0.05\u001b[0m\u001b[0;34m*\u001b[0m\u001b[0mgrad\u001b[0m\u001b[0;34m[\u001b[0m\u001b[0;36m0\u001b[0m\u001b[0;34m]\u001b[0m\u001b[0;34m\u001b[0m\u001b[0;34m\u001b[0m\u001b[0m\n\u001b[1;32m      5\u001b[0m     \u001b[0my_pred\u001b[0m \u001b[0;34m=\u001b[0m \u001b[0mmodel\u001b[0m\u001b[0;34m.\u001b[0m\u001b[0mpredict\u001b[0m\u001b[0;34m(\u001b[0m\u001b[0mX\u001b[0m\u001b[0;34m)\u001b[0m\u001b[0;34m\u001b[0m\u001b[0;34m\u001b[0m\u001b[0m\n",
      "\u001b[0;32m~/Documents/Thesis/src/parametrizations.py\u001b[0m in \u001b[0;36mgradient\u001b[0;34m(self, x, y)\u001b[0m\n\u001b[1;32m    142\u001b[0m         \u001b[0;32mfor\u001b[0m \u001b[0mi\u001b[0m \u001b[0;32min\u001b[0m \u001b[0mrange\u001b[0m\u001b[0;34m(\u001b[0m\u001b[0mlen\u001b[0m\u001b[0;34m(\u001b[0m\u001b[0mself\u001b[0m\u001b[0;34m.\u001b[0m\u001b[0mtheta\u001b[0m\u001b[0;34m)\u001b[0m\u001b[0;34m)\u001b[0m\u001b[0;34m:\u001b[0m\u001b[0;34m\u001b[0m\u001b[0;34m\u001b[0m\u001b[0m\n\u001b[1;32m    143\u001b[0m             \u001b[0mself\u001b[0m\u001b[0;34m.\u001b[0m\u001b[0mtheta\u001b[0m\u001b[0;34m[\u001b[0m\u001b[0mi\u001b[0m\u001b[0;34m]\u001b[0m \u001b[0;34m+=\u001b[0m \u001b[0mnp\u001b[0m\u001b[0;34m.\u001b[0m\u001b[0mpi\u001b[0m \u001b[0;34m/\u001b[0m \u001b[0;36m2\u001b[0m\u001b[0;34m\u001b[0m\u001b[0;34m\u001b[0m\u001b[0m\n\u001b[0;32m--> 144\u001b[0;31m             \u001b[0mweight_gradient\u001b[0m\u001b[0;34m[\u001b[0m\u001b[0mi\u001b[0m\u001b[0;34m]\u001b[0m \u001b[0;34m+=\u001b[0m \u001b[0;36m1\u001b[0m \u001b[0;34m/\u001b[0m \u001b[0;34m(\u001b[0m\u001b[0;36m2\u001b[0m \u001b[0;34m*\u001b[0m \u001b[0mnp\u001b[0m\u001b[0;34m.\u001b[0m\u001b[0msqrt\u001b[0m\u001b[0;34m(\u001b[0m\u001b[0;36m2\u001b[0m\u001b[0;34m)\u001b[0m\u001b[0;34m)\u001b[0m \u001b[0;34m*\u001b[0m \u001b[0mself\u001b[0m\u001b[0;34m.\u001b[0m\u001b[0mloss\u001b[0m\u001b[0;34m(\u001b[0m\u001b[0mx\u001b[0m\u001b[0;34m,\u001b[0m \u001b[0my\u001b[0m\u001b[0;34m)\u001b[0m\u001b[0;34m\u001b[0m\u001b[0;34m\u001b[0m\u001b[0m\n\u001b[0m\u001b[1;32m    145\u001b[0m             \u001b[0mself\u001b[0m\u001b[0;34m.\u001b[0m\u001b[0mtheta\u001b[0m\u001b[0;34m[\u001b[0m\u001b[0mi\u001b[0m\u001b[0;34m]\u001b[0m \u001b[0;34m+=\u001b[0m \u001b[0;34m-\u001b[0m\u001b[0mnp\u001b[0m\u001b[0;34m.\u001b[0m\u001b[0mpi\u001b[0m\u001b[0;34m\u001b[0m\u001b[0;34m\u001b[0m\u001b[0m\n\u001b[1;32m    146\u001b[0m             \u001b[0mweight_gradient\u001b[0m\u001b[0;34m[\u001b[0m\u001b[0mi\u001b[0m\u001b[0;34m]\u001b[0m \u001b[0;34m+=\u001b[0m \u001b[0;34m-\u001b[0m\u001b[0;36m1\u001b[0m \u001b[0;34m/\u001b[0m \u001b[0;34m(\u001b[0m\u001b[0;36m2\u001b[0m \u001b[0;34m*\u001b[0m \u001b[0mnp\u001b[0m\u001b[0;34m.\u001b[0m\u001b[0msqrt\u001b[0m\u001b[0;34m(\u001b[0m\u001b[0;36m2\u001b[0m\u001b[0;34m)\u001b[0m\u001b[0;34m)\u001b[0m \u001b[0;34m*\u001b[0m \u001b[0mself\u001b[0m\u001b[0;34m.\u001b[0m\u001b[0mloss\u001b[0m\u001b[0;34m(\u001b[0m\u001b[0mx\u001b[0m\u001b[0;34m,\u001b[0m \u001b[0my\u001b[0m\u001b[0;34m)\u001b[0m\u001b[0;34m\u001b[0m\u001b[0;34m\u001b[0m\u001b[0m\n",
      "\u001b[0;32m~/Documents/Thesis/src/parametrizations.py\u001b[0m in \u001b[0;36mloss\u001b[0;34m(self, x, y)\u001b[0m\n\u001b[1;32m    129\u001b[0m \u001b[0;34m\u001b[0m\u001b[0m\n\u001b[1;32m    130\u001b[0m         \u001b[0mjob\u001b[0m \u001b[0;34m=\u001b[0m \u001b[0mqk\u001b[0m\u001b[0;34m.\u001b[0m\u001b[0mexecute\u001b[0m\u001b[0;34m(\u001b[0m\u001b[0mcircuit\u001b[0m\u001b[0;34m,\u001b[0m \u001b[0mself\u001b[0m\u001b[0;34m.\u001b[0m\u001b[0mbackend\u001b[0m\u001b[0;34m,\u001b[0m \u001b[0mshots\u001b[0m\u001b[0;34m=\u001b[0m\u001b[0mself\u001b[0m\u001b[0;34m.\u001b[0m\u001b[0mshots\u001b[0m\u001b[0;34m)\u001b[0m\u001b[0;34m\u001b[0m\u001b[0;34m\u001b[0m\u001b[0m\n\u001b[0;32m--> 131\u001b[0;31m         \u001b[0mcounts\u001b[0m \u001b[0;34m=\u001b[0m \u001b[0mjob\u001b[0m\u001b[0;34m.\u001b[0m\u001b[0mresult\u001b[0m\u001b[0;34m(\u001b[0m\u001b[0;34m)\u001b[0m\u001b[0;34m.\u001b[0m\u001b[0mget_counts\u001b[0m\u001b[0;34m(\u001b[0m\u001b[0mcircuit\u001b[0m\u001b[0;34m)\u001b[0m\u001b[0;34m\u001b[0m\u001b[0;34m\u001b[0m\u001b[0m\n\u001b[0m\u001b[1;32m    132\u001b[0m         \u001b[0;32mif\u001b[0m \u001b[0;34m\"0\"\u001b[0m \u001b[0;32min\u001b[0m \u001b[0mcounts\u001b[0m\u001b[0;34m:\u001b[0m\u001b[0;34m\u001b[0m\u001b[0;34m\u001b[0m\u001b[0m\n\u001b[1;32m    133\u001b[0m             \u001b[0mloss\u001b[0m \u001b[0;34m=\u001b[0m \u001b[0mcounts\u001b[0m\u001b[0;34m[\u001b[0m\u001b[0;34m\"0\"\u001b[0m\u001b[0;34m]\u001b[0m \u001b[0;34m/\u001b[0m \u001b[0mself\u001b[0m\u001b[0;34m.\u001b[0m\u001b[0mshots\u001b[0m\u001b[0;34m\u001b[0m\u001b[0;34m\u001b[0m\u001b[0m\n",
      "\u001b[0;32m~/anaconda3/envs/env_qiskit/lib/python3.8/site-packages/qiskit/providers/aer/aerjob.py\u001b[0m in \u001b[0;36m_wrapper\u001b[0;34m(self, *args, **kwargs)\u001b[0m\n\u001b[1;32m     39\u001b[0m         \u001b[0;32mif\u001b[0m \u001b[0mself\u001b[0m\u001b[0;34m.\u001b[0m\u001b[0m_future\u001b[0m \u001b[0;32mis\u001b[0m \u001b[0;32mNone\u001b[0m\u001b[0;34m:\u001b[0m\u001b[0;34m\u001b[0m\u001b[0;34m\u001b[0m\u001b[0m\n\u001b[1;32m     40\u001b[0m             \u001b[0;32mraise\u001b[0m \u001b[0mJobError\u001b[0m\u001b[0;34m(\u001b[0m\u001b[0;34m\"Job not submitted yet!. You have to .submit() first!\"\u001b[0m\u001b[0;34m)\u001b[0m\u001b[0;34m\u001b[0m\u001b[0;34m\u001b[0m\u001b[0m\n\u001b[0;32m---> 41\u001b[0;31m         \u001b[0;32mreturn\u001b[0m \u001b[0mfunc\u001b[0m\u001b[0;34m(\u001b[0m\u001b[0mself\u001b[0m\u001b[0;34m,\u001b[0m \u001b[0;34m*\u001b[0m\u001b[0margs\u001b[0m\u001b[0;34m,\u001b[0m \u001b[0;34m**\u001b[0m\u001b[0mkwargs\u001b[0m\u001b[0;34m)\u001b[0m\u001b[0;34m\u001b[0m\u001b[0;34m\u001b[0m\u001b[0m\n\u001b[0m\u001b[1;32m     42\u001b[0m     \u001b[0;32mreturn\u001b[0m \u001b[0m_wrapper\u001b[0m\u001b[0;34m\u001b[0m\u001b[0;34m\u001b[0m\u001b[0m\n\u001b[1;32m     43\u001b[0m \u001b[0;34m\u001b[0m\u001b[0m\n",
      "\u001b[0;32m~/anaconda3/envs/env_qiskit/lib/python3.8/site-packages/qiskit/providers/aer/aerjob.py\u001b[0m in \u001b[0;36mresult\u001b[0;34m(self, timeout)\u001b[0m\n\u001b[1;32m     92\u001b[0m             \u001b[0mconcurrent\u001b[0m\u001b[0;34m.\u001b[0m\u001b[0mfutures\u001b[0m\u001b[0;34m.\u001b[0m\u001b[0mCancelledError\u001b[0m\u001b[0;34m:\u001b[0m \u001b[0;32mif\u001b[0m \u001b[0mjob\u001b[0m \u001b[0mcancelled\u001b[0m \u001b[0mbefore\u001b[0m \u001b[0mcompleted\u001b[0m\u001b[0;34m.\u001b[0m\u001b[0;34m\u001b[0m\u001b[0;34m\u001b[0m\u001b[0m\n\u001b[1;32m     93\u001b[0m         \"\"\"\n\u001b[0;32m---> 94\u001b[0;31m         \u001b[0;32mreturn\u001b[0m \u001b[0mself\u001b[0m\u001b[0;34m.\u001b[0m\u001b[0m_future\u001b[0m\u001b[0;34m.\u001b[0m\u001b[0mresult\u001b[0m\u001b[0;34m(\u001b[0m\u001b[0mtimeout\u001b[0m\u001b[0;34m=\u001b[0m\u001b[0mtimeout\u001b[0m\u001b[0;34m)\u001b[0m\u001b[0;34m\u001b[0m\u001b[0;34m\u001b[0m\u001b[0m\n\u001b[0m\u001b[1;32m     95\u001b[0m \u001b[0;34m\u001b[0m\u001b[0m\n\u001b[1;32m     96\u001b[0m     \u001b[0;34m@\u001b[0m\u001b[0mrequires_submit\u001b[0m\u001b[0;34m\u001b[0m\u001b[0;34m\u001b[0m\u001b[0m\n",
      "\u001b[0;32m~/anaconda3/envs/env_qiskit/lib/python3.8/concurrent/futures/_base.py\u001b[0m in \u001b[0;36mresult\u001b[0;34m(self, timeout)\u001b[0m\n\u001b[1;32m    432\u001b[0m                 \u001b[0;32mreturn\u001b[0m \u001b[0mself\u001b[0m\u001b[0;34m.\u001b[0m\u001b[0m__get_result\u001b[0m\u001b[0;34m(\u001b[0m\u001b[0;34m)\u001b[0m\u001b[0;34m\u001b[0m\u001b[0;34m\u001b[0m\u001b[0m\n\u001b[1;32m    433\u001b[0m \u001b[0;34m\u001b[0m\u001b[0m\n\u001b[0;32m--> 434\u001b[0;31m             \u001b[0mself\u001b[0m\u001b[0;34m.\u001b[0m\u001b[0m_condition\u001b[0m\u001b[0;34m.\u001b[0m\u001b[0mwait\u001b[0m\u001b[0;34m(\u001b[0m\u001b[0mtimeout\u001b[0m\u001b[0;34m)\u001b[0m\u001b[0;34m\u001b[0m\u001b[0;34m\u001b[0m\u001b[0m\n\u001b[0m\u001b[1;32m    435\u001b[0m \u001b[0;34m\u001b[0m\u001b[0m\n\u001b[1;32m    436\u001b[0m             \u001b[0;32mif\u001b[0m \u001b[0mself\u001b[0m\u001b[0;34m.\u001b[0m\u001b[0m_state\u001b[0m \u001b[0;32min\u001b[0m \u001b[0;34m[\u001b[0m\u001b[0mCANCELLED\u001b[0m\u001b[0;34m,\u001b[0m \u001b[0mCANCELLED_AND_NOTIFIED\u001b[0m\u001b[0;34m]\u001b[0m\u001b[0;34m:\u001b[0m\u001b[0;34m\u001b[0m\u001b[0;34m\u001b[0m\u001b[0m\n",
      "\u001b[0;32m~/anaconda3/envs/env_qiskit/lib/python3.8/threading.py\u001b[0m in \u001b[0;36mwait\u001b[0;34m(self, timeout)\u001b[0m\n\u001b[1;32m    300\u001b[0m         \u001b[0;32mtry\u001b[0m\u001b[0;34m:\u001b[0m    \u001b[0;31m# restore state no matter what (e.g., KeyboardInterrupt)\u001b[0m\u001b[0;34m\u001b[0m\u001b[0;34m\u001b[0m\u001b[0m\n\u001b[1;32m    301\u001b[0m             \u001b[0;32mif\u001b[0m \u001b[0mtimeout\u001b[0m \u001b[0;32mis\u001b[0m \u001b[0;32mNone\u001b[0m\u001b[0;34m:\u001b[0m\u001b[0;34m\u001b[0m\u001b[0;34m\u001b[0m\u001b[0m\n\u001b[0;32m--> 302\u001b[0;31m                 \u001b[0mwaiter\u001b[0m\u001b[0;34m.\u001b[0m\u001b[0macquire\u001b[0m\u001b[0;34m(\u001b[0m\u001b[0;34m)\u001b[0m\u001b[0;34m\u001b[0m\u001b[0;34m\u001b[0m\u001b[0m\n\u001b[0m\u001b[1;32m    303\u001b[0m                 \u001b[0mgotit\u001b[0m \u001b[0;34m=\u001b[0m \u001b[0;32mTrue\u001b[0m\u001b[0;34m\u001b[0m\u001b[0;34m\u001b[0m\u001b[0m\n\u001b[1;32m    304\u001b[0m             \u001b[0;32melse\u001b[0m\u001b[0;34m:\u001b[0m\u001b[0;34m\u001b[0m\u001b[0;34m\u001b[0m\u001b[0m\n",
      "\u001b[0;31mKeyboardInterrupt\u001b[0m: "
     ]
    }
   ],
   "source": [
    "for i in tqdm(range(100)):\n",
    "    grad = [model.gradient(X, y)]\n",
    "    grad = optimizer(grad)\n",
    "    model.theta += -0.05*grad[0]\n",
    "    y_pred = model.predict(X)\n",
    "    mse = np.mean((y_pred - y)**2)\n",
    "    loss = model.loss(X,y)\n",
    "    #print(loss)\n",
    "    #print(loss, model.theta, y_pred.flatten())\n",
    "    print(f\"{loss=:.3f}, {mse=:.3f}, {y_pred.flatten()=}\")"
   ]
  },
  {
   "cell_type": "markdown",
   "metadata": {},
   "source": [
    "### Single-Layer Quantum Neural Network"
   ]
  },
  {
   "cell_type": "code",
   "execution_count": 60,
   "metadata": {},
   "outputs": [],
   "source": [
    "np.random.seed(42)\n",
    "network = sequential_qnn(q_bits=[3],\n",
    "                         dim=[3, 1],\n",
    "                         reps = 1,\n",
    "                         scale = [2*np.pi],\n",
    "                         backend=backend,\n",
    "                         shots=10000,\n",
    "                         lr=0.05\n",
    "                         )"
   ]
  },
  {
   "cell_type": "code",
   "execution_count": 61,
   "metadata": {},
   "outputs": [
    {
     "data": {
      "application/vnd.jupyter.widget-view+json": {
       "model_id": "34ed2147caef46718bb68361f12f86dc",
       "version_major": 2,
       "version_minor": 0
      },
      "text/plain": [
       "  0%|          | 0/50 [00:00<?, ?it/s]"
      ]
     },
     "metadata": {},
     "output_type": "display_data"
    },
    {
     "name": "stdout",
     "output_type": "stream",
     "text": [
      "epoch: 0, loss: 4.289608686598001\n",
      "epoch: 1, loss: 3.583653174273608\n",
      "epoch: 2, loss: 3.095622386185959\n",
      "epoch: 3, loss: 2.5769182366593757\n",
      "epoch: 4, loss: 2.2058801567104513\n",
      "epoch: 5, loss: 1.8918448274179072\n",
      "epoch: 6, loss: 1.4850671096861112\n",
      "epoch: 7, loss: 1.2603278345322007\n",
      "epoch: 8, loss: 1.0737450370165087\n",
      "epoch: 9, loss: 0.944613704395857\n",
      "epoch: 10, loss: 0.8952673239836294\n",
      "epoch: 11, loss: 0.8793707024194402\n",
      "epoch: 12, loss: 0.9028758825404988\n",
      "epoch: 13, loss: 0.9286009993732365\n",
      "epoch: 14, loss: 1.001502661723368\n",
      "epoch: 15, loss: 0.9870473800158807\n",
      "epoch: 16, loss: 1.0297204210393518\n",
      "epoch: 17, loss: 0.9793940212370399\n",
      "epoch: 18, loss: 0.9441326611218793\n",
      "epoch: 19, loss: 0.9301614411958141\n",
      "epoch: 20, loss: 0.8123009738408352\n",
      "epoch: 21, loss: 0.7419663010008286\n",
      "epoch: 22, loss: 0.642808906823388\n",
      "epoch: 23, loss: 0.5867690017326519\n",
      "epoch: 24, loss: 0.40753941263024923\n",
      "epoch: 25, loss: 0.33321603111365306\n",
      "epoch: 26, loss: 0.24740134872806305\n",
      "epoch: 27, loss: 0.16538927323605823\n",
      "epoch: 28, loss: 0.13073280782825158\n",
      "epoch: 29, loss: 0.11608857469153011\n",
      "epoch: 30, loss: 0.11077957961857905\n",
      "epoch: 31, loss: 0.1164650916714928\n",
      "epoch: 32, loss: 0.1272803161217098\n",
      "epoch: 33, loss: 0.13058801303222495\n",
      "epoch: 34, loss: 0.1260023922591703\n",
      "epoch: 35, loss: 0.09745806691522174\n",
      "epoch: 36, loss: 0.07370229736811648\n",
      "epoch: 37, loss: 0.07072725908920424\n",
      "epoch: 38, loss: 0.04906379812034627\n",
      "epoch: 39, loss: 0.0266967429366743\n",
      "epoch: 40, loss: 0.011523311701815859\n",
      "epoch: 41, loss: 0.0013636211774756754\n",
      "epoch: 42, loss: 0.005071081813370818\n",
      "epoch: 43, loss: 0.009552998229806906\n",
      "epoch: 44, loss: 0.01676712817865869\n",
      "epoch: 45, loss: 0.027820570286388506\n",
      "epoch: 46, loss: 0.02681788620387747\n",
      "epoch: 47, loss: 0.02988065737352459\n",
      "epoch: 48, loss: 0.02414707253068677\n",
      "epoch: 49, loss: 0.024402949116403092\n"
     ]
    }
   ],
   "source": [
    "network.train(X,y, epochs=50, verbose=True)"
   ]
  },
  {
   "cell_type": "code",
   "execution_count": 62,
   "metadata": {},
   "outputs": [
    {
     "name": "stdout",
     "output_type": "stream",
     "text": [
      "[1.352 0.863 1.935 2.091]\n",
      "[1.340 0.767 1.800 1.855]\n"
     ]
    }
   ],
   "source": [
    "print(network.predict(X).flatten())\n",
    "print(y.flatten())"
   ]
  },
  {
   "cell_type": "markdown",
   "metadata": {},
   "source": [
    "# Cheese"
   ]
  },
  {
   "cell_type": "code",
   "execution_count": 109,
   "metadata": {},
   "outputs": [
    {
     "name": "stdout",
     "output_type": "stream",
     "text": [
      "                              \n",
      "q23760_0: ────────────────────\n",
      "          ┌───────┐           \n",
      "q23761_0: ┤ RY(2) ├─X─────────\n",
      "          ├───────┤ │         \n",
      "q23762_0: ┤ RY(2) ├─X─────────\n",
      "          └─┬───┬─┘ │ ┌───┐┌─┐\n",
      "q23763_0: ──┤ H ├───■─┤ H ├┤M├\n",
      "            └───┘     └───┘└╥┘\n",
      " c3346: 1/══════════════════╩═\n",
      "                            0 \n",
      "1.0\n"
     ]
    }
   ],
   "source": [
    "backend = Aer.get_backend('qasm_simulator')\n",
    "shots = 1000000\n",
    "\n",
    "register1 = qk.QuantumRegister(1)\n",
    "register2 = qk.QuantumRegister(1)\n",
    "register3 = qk.QuantumRegister(1)\n",
    "ancilla = qk.QuantumRegister(1)\n",
    "classical = qk.ClassicalRegister(1)\n",
    "registers = [register1, register2, register3, ancilla, classical]\n",
    "\n",
    "circuit = qk.QuantumCircuit(*registers)\n",
    "\n",
    "circuit.ry(2+np.pi, register2)\n",
    "circuit.ry(2, register3)\n",
    "\n",
    "circuit.h(ancilla)\n",
    "circuit.cswap(ancilla, register2, register3)\n",
    "circuit.h(ancilla)\n",
    "\n",
    "circuit.measure(ancilla, classical)\n",
    "\n",
    "job = qk.execute(circuit, backend, shots=shots)\n",
    "counts = job.result().get_counts(circuit)\n",
    "if \"0\" in counts:\n",
    "    value = counts[\"0\"] / shots\n",
    "else:\n",
    "    value = 0\n",
    "\n",
    "print(circuit)\n",
    "print(value)"
   ]
  },
  {
   "cell_type": "code",
   "execution_count": 110,
   "metadata": {},
   "outputs": [
    {
     "name": "stdout",
     "output_type": "stream",
     "text": [
      "          ┌──────────┐                \n",
      "q23768_0: ┤ RY(pi/2) ├──■─────────────\n",
      "          └──────────┘┌─┴─┐           \n",
      "q23769_0: ────────────┤ X ├─X─────────\n",
      "          ┌──────────┐└───┘ │         \n",
      "q23770_0: ┤ RY(pi/2) ├──────X─────────\n",
      "          └──┬───┬───┘      │ ┌───┐┌─┐\n",
      "q23771_0: ───┤ H ├──────────■─┤ H ├┤M├\n",
      "             └───┘            └───┘└╥┘\n",
      " c3347: 1/══════════════════════════╩═\n",
      "                                    0 \n",
      "0.75118\n"
     ]
    }
   ],
   "source": [
    "backend = Aer.get_backend('qasm_simulator')\n",
    "shots = 100000\n",
    "\n",
    "register1 = qk.QuantumRegister(1)\n",
    "register2 = qk.QuantumRegister(1)\n",
    "register3 = qk.QuantumRegister(1)\n",
    "ancilla = qk.QuantumRegister(1)\n",
    "classical = qk.ClassicalRegister(1)\n",
    "registers = [register1, register2, register3, ancilla, classical]\n",
    "\n",
    "circuit = qk.QuantumCircuit(*registers)\n",
    "\n",
    "circuit.ry(np.pi/2, register1)\n",
    "circuit.cx(register1, register2)\n",
    "circuit.ry(np.pi/2, register3)\n",
    "\n",
    "circuit.h(ancilla)\n",
    "circuit.cswap(ancilla, register2, register3)\n",
    "circuit.h(ancilla)\n",
    "\n",
    "circuit.measure(ancilla, classical)\n",
    "\n",
    "job = qk.execute(circuit, backend, shots=shots)\n",
    "counts = job.result().get_counts(circuit)\n",
    "if \"0\" in counts:\n",
    "    value = counts[\"0\"] / shots\n",
    "else:\n",
    "    value = 0\n",
    "\n",
    "print(circuit)\n",
    "print(value)"
   ]
  },
  {
   "cell_type": "code",
   "execution_count": 70,
   "metadata": {},
   "outputs": [
    {
     "name": "stdout",
     "output_type": "stream",
     "text": [
      "        ┌─────────┐                 \n",
      "q464_0: ┤ RY(2pi) ├───■─────────────\n",
      "        └─────────┘ ┌─┴─┐           \n",
      "q465_0: ────────────┤ X ├─X─────────\n",
      "        ┌──────────┐└───┘ │         \n",
      "q466_0: ┤ RY(pi/2) ├──────X─────────\n",
      "        └──┬───┬───┘      │ ┌───┐┌─┐\n",
      "q467_0: ───┤ H ├──────────■─┤ H ├┤M├\n",
      "           └───┘            └───┘└╥┘\n",
      " c46: 1/══════════════════════════╩═\n",
      "                                  0 \n"
     ]
    }
   ],
   "source": [
    "print(circuit)"
   ]
  },
  {
   "cell_type": "code",
   "execution_count": null,
   "metadata": {},
   "outputs": [],
   "source": []
  }
 ],
 "metadata": {
  "kernelspec": {
   "display_name": "env_qiskit",
   "language": "python",
   "name": "env_qiskit"
  },
  "language_info": {
   "codemirror_mode": {
    "name": "ipython",
    "version": 3
   },
   "file_extension": ".py",
   "mimetype": "text/x-python",
   "name": "python",
   "nbconvert_exporter": "python",
   "pygments_lexer": "ipython3",
   "version": "3.8.5"
  }
 },
 "nbformat": 4,
 "nbformat_minor": 4
}
