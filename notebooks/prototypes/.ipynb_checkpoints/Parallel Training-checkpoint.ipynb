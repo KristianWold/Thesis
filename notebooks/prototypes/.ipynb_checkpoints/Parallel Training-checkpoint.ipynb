{
 "cells": [
  {
   "cell_type": "code",
   "execution_count": 158,
   "metadata": {},
   "outputs": [
    {
     "name": "stdout",
     "output_type": "stream",
     "text": [
      "The autoreload extension is already loaded. To reload it, use:\n",
      "  %reload_ext autoreload\n"
     ]
    }
   ],
   "source": [
    "import numpy as np\n",
    "import qiskit as qk\n",
    "import matplotlib.pyplot as plt\n",
    "from qiskit import Aer\n",
    "from tqdm.notebook import tqdm\n",
    "\n",
    "import sys\n",
    "sys.path.insert(0, '../../src/')\n",
    "from neuralnetwork import *\n",
    "from analysis import *\n",
    "from data_encoders import *\n",
    "from parametrizations import *\n",
    "\n",
    "#%matplotlib notebook\n",
    "%matplotlib inline\n",
    "%load_ext autoreload\n",
    "%autoreload 2\n",
    "\n",
    "np.set_printoptions(formatter={'float': lambda x: \"{0:0.3f}\".format(x)})"
   ]
  },
  {
   "cell_type": "code",
   "execution_count": 178,
   "metadata": {},
   "outputs": [
    {
     "name": "stdout",
     "output_type": "stream",
     "text": [
      "[5.230 1.334 1.142 1.152 1.912 3.297 2.714 1.830 3.844 0.876 1.836 2.302]\n",
      "[[0.716 1.233 0.314]\n",
      " [0.808 0.931 0.073]\n",
      " [0.954 0.268 0.102]\n",
      " [1.491 1.517 1.270]]\n",
      "[0.200 0.800 1.600 2.000]\n"
     ]
    }
   ],
   "source": [
    "backend = Aer.get_backend('qasm_simulator')\n",
    "n_samples = 4\n",
    "n_features = 3\n",
    "n_targets = 1\n",
    "\n",
    "model = ParallelModel(n_features=n_features,\n",
    "                      n_targets=n_targets,\n",
    "                      reps=reps,\n",
    "                      backend=backend, \n",
    "                      shots=100000)\n",
    "\n",
    "x = np.random.uniform(0, np.pi/2, (n_samples, n_features))\n",
    "y = np.array([[0.2], [0.8], [1.6], [2.]])\n",
    "\n",
    "print(model.theta)\n",
    "print(x)\n",
    "print(y.flatten())"
   ]
  },
  {
   "cell_type": "code",
   "execution_count": 179,
   "metadata": {},
   "outputs": [],
   "source": [
    "reps = 4\n",
    "np.random.seed(42)\n",
    "model = ParallelModel(n_features=n_features,\n",
    "                      n_targets=n_targets,\n",
    "                      reps=reps,\n",
    "                      backend=backend, \n",
    "                      shots=100000)"
   ]
  },
  {
   "cell_type": "code",
   "execution_count": null,
   "metadata": {},
   "outputs": [
    {
     "data": {
      "application/vnd.jupyter.widget-view+json": {
       "model_id": "8901808109f142bcba238781f3ce8b7d",
       "version_major": 2,
       "version_minor": 0
      },
      "text/plain": [
       "  0%|          | 0/200 [00:00<?, ?it/s]"
      ]
     },
     "metadata": {},
     "output_type": "display_data"
    },
    {
     "name": "stdout",
     "output_type": "stream",
     "text": [
      "loss=0.428, y_pred.flatten()=array([1.781, 1.871, 1.757, 1.377])\n",
      "loss=0.371, y_pred.flatten()=array([1.653, 1.768, 1.693, 1.346])\n",
      "loss=0.321, y_pred.flatten()=array([1.536, 1.657, 1.644, 1.301])\n",
      "loss=0.282, y_pred.flatten()=array([1.406, 1.554, 1.603, 1.249])\n",
      "loss=0.255, y_pred.flatten()=array([1.274, 1.452, 1.557, 1.180])\n",
      "loss=0.231, y_pred.flatten()=array([1.160, 1.350, 1.529, 1.127])\n",
      "loss=0.213, y_pred.flatten()=array([1.049, 1.263, 1.499, 1.085])\n",
      "loss=0.202, y_pred.flatten()=array([0.965, 1.197, 1.497, 1.067])\n",
      "loss=0.198, y_pred.flatten()=array([0.902, 1.149, 1.498, 1.064])\n",
      "loss=0.196, y_pred.flatten()=array([0.872, 1.128, 1.521, 1.091])\n",
      "loss=0.196, y_pred.flatten()=array([0.862, 1.124, 1.547, 1.117])\n",
      "loss=0.198, y_pred.flatten()=array([0.876, 1.124, 1.579, 1.155])\n",
      "loss=0.200, y_pred.flatten()=array([0.886, 1.140, 1.602, 1.202])\n",
      "loss=0.202, y_pred.flatten()=array([0.904, 1.153, 1.623, 1.247])\n",
      "loss=0.200, y_pred.flatten()=array([0.923, 1.158, 1.624, 1.289])\n",
      "loss=0.202, y_pred.flatten()=array([0.922, 1.148, 1.630, 1.319])\n",
      "loss=0.199, y_pred.flatten()=array([0.920, 1.148, 1.616, 1.339])\n",
      "loss=0.194, y_pred.flatten()=array([0.916, 1.141, 1.606, 1.362])\n",
      "loss=0.188, y_pred.flatten()=array([0.917, 1.132, 1.587, 1.379])\n",
      "loss=0.183, y_pred.flatten()=array([0.907, 1.117, 1.567, 1.399])\n",
      "loss=0.175, y_pred.flatten()=array([0.886, 1.096, 1.533, 1.423])\n",
      "loss=0.176, y_pred.flatten()=array([0.877, 1.071, 1.508, 1.430])\n",
      "loss=0.171, y_pred.flatten()=array([0.865, 1.049, 1.477, 1.450])\n",
      "loss=0.170, y_pred.flatten()=array([0.844, 1.026, 1.435, 1.464])\n",
      "loss=0.167, y_pred.flatten()=array([0.827, 0.989, 1.406, 1.483])\n",
      "loss=0.162, y_pred.flatten()=array([0.815, 0.969, 1.374, 1.507])\n",
      "loss=0.158, y_pred.flatten()=array([0.799, 0.943, 1.337, 1.528])\n",
      "loss=0.153, y_pred.flatten()=array([0.794, 0.927, 1.317, 1.553])\n",
      "loss=0.149, y_pred.flatten()=array([0.784, 0.911, 1.305, 1.581])\n",
      "loss=0.143, y_pred.flatten()=array([0.782, 0.897, 1.283, 1.607])\n",
      "loss=0.135, y_pred.flatten()=array([0.795, 0.900, 1.276, 1.631])\n",
      "loss=0.132, y_pred.flatten()=array([0.802, 0.901, 1.268, 1.660])\n",
      "loss=0.127, y_pred.flatten()=array([0.808, 0.898, 1.259, 1.683])\n",
      "loss=0.126, y_pred.flatten()=array([0.814, 0.902, 1.253, 1.711])\n",
      "loss=0.123, y_pred.flatten()=array([0.830, 0.905, 1.245, 1.725])\n",
      "loss=0.128, y_pred.flatten()=array([0.833, 0.902, 1.229, 1.745])\n",
      "loss=0.124, y_pred.flatten()=array([0.839, 0.899, 1.210, 1.757])\n",
      "loss=0.124, y_pred.flatten()=array([0.831, 0.884, 1.188, 1.770])\n",
      "loss=0.122, y_pred.flatten()=array([0.826, 0.863, 1.154, 1.770])\n",
      "loss=0.122, y_pred.flatten()=array([0.821, 0.845, 1.112, 1.778])\n",
      "loss=0.117, y_pred.flatten()=array([0.804, 0.815, 1.077, 1.773])\n",
      "loss=0.117, y_pred.flatten()=array([0.785, 0.785, 1.034, 1.777])\n",
      "loss=0.114, y_pred.flatten()=array([0.780, 0.767, 0.987, 1.781])\n",
      "loss=0.117, y_pred.flatten()=array([0.767, 0.739, 0.952, 1.786])\n",
      "loss=0.113, y_pred.flatten()=array([0.760, 0.727, 0.913, 1.799])\n",
      "loss=0.115, y_pred.flatten()=array([0.764, 0.724, 0.891, 1.811])\n",
      "loss=0.115, y_pred.flatten()=array([0.765, 0.724, 0.873, 1.824])\n",
      "loss=0.117, y_pred.flatten()=array([0.776, 0.713, 0.855, 1.832])\n",
      "loss=0.116, y_pred.flatten()=array([0.785, 0.718, 0.837, 1.861])\n",
      "loss=0.118, y_pred.flatten()=array([0.790, 0.720, 0.835, 1.876])\n",
      "loss=0.118, y_pred.flatten()=array([0.794, 0.724, 0.830, 1.888])\n",
      "loss=0.113, y_pred.flatten()=array([0.806, 0.728, 0.822, 1.900])\n",
      "loss=0.113, y_pred.flatten()=array([0.816, 0.738, 0.815, 1.913])\n",
      "loss=0.112, y_pred.flatten()=array([0.832, 0.747, 0.824, 1.926])\n",
      "loss=0.115, y_pred.flatten()=array([0.830, 0.750, 0.829, 1.944])\n",
      "loss=0.116, y_pred.flatten()=array([0.841, 0.757, 0.830, 1.963])\n",
      "loss=0.112, y_pred.flatten()=array([0.843, 0.757, 0.833, 1.967])\n",
      "loss=0.115, y_pred.flatten()=array([0.849, 0.767, 0.829, 1.975])\n",
      "loss=0.111, y_pred.flatten()=array([0.857, 0.766, 0.839, 1.971])\n",
      "loss=0.113, y_pred.flatten()=array([0.848, 0.770, 0.839, 1.971])\n",
      "loss=0.114, y_pred.flatten()=array([0.855, 0.767, 0.848, 1.970])\n",
      "loss=0.113, y_pred.flatten()=array([0.842, 0.761, 0.843, 1.962])\n",
      "loss=0.112, y_pred.flatten()=array([0.846, 0.753, 0.853, 1.959])\n",
      "loss=0.111, y_pred.flatten()=array([0.842, 0.760, 0.849, 1.951])\n",
      "loss=0.112, y_pred.flatten()=array([0.839, 0.762, 0.856, 1.941])\n",
      "loss=0.112, y_pred.flatten()=array([0.836, 0.758, 0.870, 1.935])\n",
      "loss=0.111, y_pred.flatten()=array([0.829, 0.753, 0.858, 1.920])\n",
      "loss=0.111, y_pred.flatten()=array([0.816, 0.752, 0.865, 1.916])\n",
      "loss=0.113, y_pred.flatten()=array([0.817, 0.747, 0.867, 1.903])\n",
      "loss=0.111, y_pred.flatten()=array([0.813, 0.743, 0.873, 1.895])\n",
      "loss=0.110, y_pred.flatten()=array([0.807, 0.742, 0.876, 1.882])\n",
      "loss=0.111, y_pred.flatten()=array([0.810, 0.747, 0.886, 1.890])\n",
      "loss=0.110, y_pred.flatten()=array([0.808, 0.749, 0.897, 1.882])\n",
      "loss=0.110, y_pred.flatten()=array([0.812, 0.752, 0.901, 1.879])\n",
      "loss=0.111, y_pred.flatten()=array([0.813, 0.755, 0.915, 1.877])\n",
      "loss=0.109, y_pred.flatten()=array([0.815, 0.762, 0.923, 1.875])\n",
      "loss=0.110, y_pred.flatten()=array([0.823, 0.768, 0.938, 1.882])\n",
      "loss=0.110, y_pred.flatten()=array([0.819, 0.765, 0.936, 1.880])\n",
      "loss=0.110, y_pred.flatten()=array([0.819, 0.777, 0.943, 1.872])\n",
      "loss=0.108, y_pred.flatten()=array([0.815, 0.771, 0.940, 1.864])\n",
      "loss=0.111, y_pred.flatten()=array([0.808, 0.762, 0.944, 1.861])\n",
      "loss=0.109, y_pred.flatten()=array([0.811, 0.770, 0.940, 1.853])\n",
      "loss=0.108, y_pred.flatten()=array([0.801, 0.757, 0.931, 1.852])\n",
      "loss=0.112, y_pred.flatten()=array([0.793, 0.751, 0.925, 1.841])\n",
      "loss=0.110, y_pred.flatten()=array([0.786, 0.746, 0.923, 1.837])\n",
      "loss=0.113, y_pred.flatten()=array([0.785, 0.747, 0.916, 1.836])\n",
      "loss=0.110, y_pred.flatten()=array([0.784, 0.743, 0.911, 1.836])\n",
      "loss=0.108, y_pred.flatten()=array([0.789, 0.747, 0.917, 1.841])\n",
      "loss=0.107, y_pred.flatten()=array([0.789, 0.748, 0.917, 1.845])\n",
      "loss=0.108, y_pred.flatten()=array([0.795, 0.756, 0.923, 1.853])\n",
      "loss=0.110, y_pred.flatten()=array([0.803, 0.762, 0.927, 1.853])\n",
      "loss=0.106, y_pred.flatten()=array([0.809, 0.760, 0.921, 1.860])\n",
      "loss=0.110, y_pred.flatten()=array([0.801, 0.766, 0.923, 1.860])\n",
      "loss=0.109, y_pred.flatten()=array([0.805, 0.763, 0.919, 1.874])\n",
      "loss=0.109, y_pred.flatten()=array([0.812, 0.759, 0.921, 1.868])\n",
      "loss=0.106, y_pred.flatten()=array([0.805, 0.751, 0.916, 1.868])\n",
      "loss=0.108, y_pred.flatten()=array([0.807, 0.750, 0.918, 1.865])\n",
      "loss=0.108, y_pred.flatten()=array([0.799, 0.748, 0.905, 1.867])\n",
      "loss=0.109, y_pred.flatten()=array([0.803, 0.745, 0.906, 1.868])\n",
      "loss=0.110, y_pred.flatten()=array([0.804, 0.745, 0.902, 1.867])\n",
      "loss=0.109, y_pred.flatten()=array([0.796, 0.744, 0.901, 1.865])\n",
      "loss=0.107, y_pred.flatten()=array([0.799, 0.740, 0.908, 1.875])\n",
      "loss=0.109, y_pred.flatten()=array([0.801, 0.744, 0.910, 1.869])\n",
      "loss=0.106, y_pred.flatten()=array([0.807, 0.745, 0.906, 1.872])\n",
      "loss=0.110, y_pred.flatten()=array([0.801, 0.746, 0.908, 1.866])\n",
      "loss=0.110, y_pred.flatten()=array([0.803, 0.748, 0.907, 1.874])\n",
      "loss=0.110, y_pred.flatten()=array([0.799, 0.749, 0.908, 1.874])\n",
      "loss=0.108, y_pred.flatten()=array([0.803, 0.750, 0.905, 1.868])\n"
     ]
    }
   ],
   "source": [
    "optimizer = Adam()\n",
    "optimizer.initialize(model.theta.shape)\n",
    "\n",
    "for i in tqdm(range(200)):\n",
    "    grad = [model.gradient(x, y)]\n",
    "    grad = optimizer(grad)\n",
    "    model.theta += -0.05*grad[0]\n",
    "    y_pred = model.predict(x)\n",
    "    loss = model.loss(x,y)\n",
    "    print(f\"{loss=:.3f}, {y_pred.flatten()=}\")"
   ]
  },
  {
   "cell_type": "code",
   "execution_count": 100,
   "metadata": {},
   "outputs": [
    {
     "name": "stdout",
     "output_type": "stream",
     "text": [
      "[[0.595835330329655], [0.5495493202923394], [0.6471920352251825], [0.5200385989089172]]\n"
     ]
    }
   ],
   "source": [
    "print(model.predict(x))"
   ]
  },
  {
   "cell_type": "code",
   "execution_count": null,
   "metadata": {},
   "outputs": [],
   "source": []
  }
 ],
 "metadata": {
  "kernelspec": {
   "display_name": "env_qiskit",
   "language": "python",
   "name": "env_qiskit"
  },
  "language_info": {
   "codemirror_mode": {
    "name": "ipython",
    "version": 3
   },
   "file_extension": ".py",
   "mimetype": "text/x-python",
   "name": "python",
   "nbconvert_exporter": "python",
   "pygments_lexer": "ipython3",
   "version": "3.8.5"
  }
 },
 "nbformat": 4,
 "nbformat_minor": 4
}
