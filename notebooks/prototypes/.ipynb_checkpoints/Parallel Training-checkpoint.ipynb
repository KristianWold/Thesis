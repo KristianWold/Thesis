{
 "cells": [
  {
   "cell_type": "code",
   "execution_count": 7,
   "metadata": {},
   "outputs": [
    {
     "name": "stdout",
     "output_type": "stream",
     "text": [
      "The autoreload extension is already loaded. To reload it, use:\n",
      "  %reload_ext autoreload\n"
     ]
    }
   ],
   "source": [
    "import numpy as np\n",
    "import qiskit as qk\n",
    "import matplotlib.pyplot as plt\n",
    "from qiskit import Aer\n",
    "from tqdm.notebook import tqdm\n",
    "\n",
    "import sys\n",
    "sys.path.insert(0, '../../src/')\n",
    "from neuralnetwork import *\n",
    "from analysis import *\n",
    "from data_encoders import *\n",
    "from parametrizations import *\n",
    "\n",
    "#%matplotlib notebook\n",
    "%matplotlib inline\n",
    "%load_ext autoreload\n",
    "%autoreload 2\n",
    "\n",
    "np.set_printoptions(formatter={'float': lambda x: \"{0:0.3f}\".format(x)})"
   ]
  },
  {
   "cell_type": "code",
   "execution_count": 9,
   "metadata": {},
   "outputs": [
    {
     "name": "stdout",
     "output_type": "stream",
     "text": [
      "[[0.000 0.000]\n",
      " [3.142 3.142]]\n",
      "[[0.000]\n",
      " [3.142]]\n"
     ]
    }
   ],
   "source": [
    "backend = Aer.get_backend('qasm_simulator')\n",
    "n_samples = 2\n",
    "n_features = 2\n",
    "n_targets = 1\n",
    "\n",
    "x = np.linspace(0, 2, n_samples)\n",
    "y = x**2\n",
    "y = y - np.min(y)\n",
    "y = y/np.max(y)\n",
    "y = np.pi *y\n",
    "y = y.reshape(-1,1)\n",
    "\n",
    "X = np.zeros((n_samples, n_features))\n",
    "X[:,0] = x\n",
    "X[:,1] = x**2\n",
    "#X[:,2] = x**3\n",
    "#X[:,3] = x**4\n",
    "\n",
    "\n",
    "\n",
    "X = X - np.min(X, axis=0).reshape(1,-1)\n",
    "X = X/np.max(X, axis=0).reshape(1,-1)\n",
    "X = np.pi * X\n",
    "\n",
    "print(X)\n",
    "print(y)"
   ]
  },
  {
   "cell_type": "code",
   "execution_count": 18,
   "metadata": {},
   "outputs": [],
   "source": [
    "reps = 4\n",
    "np.random.seed(42)\n",
    "model = ParallelModel(n_features=n_features,\n",
    "                      n_targets=n_targets,\n",
    "                      reps=reps,\n",
    "                      backend=backend, \n",
    "                      shots=100000)\n",
    "\n",
    "optimizer = Adam()\n",
    "optimizer.initialize(model.theta.shape)"
   ]
  },
  {
   "cell_type": "code",
   "execution_count": null,
   "metadata": {},
   "outputs": [
    {
     "data": {
      "application/vnd.jupyter.widget-view+json": {
       "model_id": "1f9151f6d6a34333b045503e388acd4f",
       "version_major": 2,
       "version_minor": 0
      },
      "text/plain": [
       "  0%|          | 0/100 [00:00<?, ?it/s]"
      ]
     },
     "metadata": {},
     "output_type": "display_data"
    },
    {
     "name": "stdout",
     "output_type": "stream",
     "text": [
      "[2.363 5.984 4.609 3.771 0.970 0.990 0.355 5.452]\n",
      "loss=0.540, mse=0.351, y_pred.flatten()=array([0.395, 2.402])\n",
      "[2.373 5.993 4.619 3.781 0.960 1.000 0.361 5.462]\n",
      "loss=0.539, mse=0.313, y_pred.flatten()=array([0.377, 2.446])\n",
      "[2.383 6.003 4.629 3.791 0.950 1.010 0.367 5.472]\n",
      "loss=0.536, mse=0.279, y_pred.flatten()=array([0.356, 2.485])\n",
      "[2.393 6.012 4.639 3.801 0.940 1.020 0.372 5.482]\n",
      "loss=0.528, mse=0.250, y_pred.flatten()=array([0.344, 2.523])\n",
      "[2.403 6.022 4.649 3.811 0.930 1.030 0.375 5.492]\n",
      "loss=0.530, mse=0.223, y_pred.flatten()=array([0.328, 2.560])\n",
      "[2.413 6.032 4.659 3.821 0.921 1.040 0.375 5.502]\n",
      "loss=0.527, mse=0.193, y_pred.flatten()=array([0.309, 2.602])\n",
      "[2.423 6.042 4.669 3.831 0.911 1.050 0.376 5.512]\n",
      "loss=0.520, mse=0.165, y_pred.flatten()=array([0.287, 2.644])\n",
      "[2.432 6.051 4.679 3.840 0.901 1.059 0.377 5.521]\n",
      "loss=0.514, mse=0.146, y_pred.flatten()=array([0.269, 2.674])\n",
      "[2.442 6.061 4.689 3.850 0.891 1.069 0.380 5.531]\n",
      "loss=0.516, mse=0.119, y_pred.flatten()=array([0.250, 2.723])\n"
     ]
    }
   ],
   "source": [
    "for i in tqdm(range(100)):\n",
    "    grad = [model.gradient(X, y)]\n",
    "    grad = optimizer(grad)\n",
    "    model.theta += -0.01*grad[0]\n",
    "    y_pred = model.predict(X)\n",
    "    mse = np.mean((y_pred - y)**2)\n",
    "    loss = model.loss(X,y)\n",
    "    #print(model.theta)\n",
    "    print(f\"{loss=:.3f}, {mse=:.3f}, {y_pred.flatten()=}\")"
   ]
  },
  {
   "cell_type": "code",
   "execution_count": null,
   "metadata": {},
   "outputs": [],
   "source": [
    "data = np.array([[0,0], [1,1], [2,2], [3,3]])\n",
    "encoder = ParallelEncoder()\n",
    "\n",
    "\n",
    "features = qk.QuantumRegister(2, name=\"features\")\n",
    "ancilla = qk.QuantumRegister(2, name=\"ancilla_f\")\n",
    "registers = [features, ancilla]\n",
    "circuit = qk.QuantumCircuit(*registers)\n",
    "\n",
    "circuit = encoder(circuit, features, ancilla, data)\n",
    "\n",
    "circuit.draw()"
   ]
  },
  {
   "cell_type": "code",
   "execution_count": null,
   "metadata": {},
   "outputs": [],
   "source": []
  }
 ],
 "metadata": {
  "kernelspec": {
   "display_name": "env_qiskit",
   "language": "python",
   "name": "env_qiskit"
  },
  "language_info": {
   "codemirror_mode": {
    "name": "ipython",
    "version": 3
   },
   "file_extension": ".py",
   "mimetype": "text/x-python",
   "name": "python",
   "nbconvert_exporter": "python",
   "pygments_lexer": "ipython3",
   "version": "3.9.1"
  }
 },
 "nbformat": 4,
 "nbformat_minor": 4
}
