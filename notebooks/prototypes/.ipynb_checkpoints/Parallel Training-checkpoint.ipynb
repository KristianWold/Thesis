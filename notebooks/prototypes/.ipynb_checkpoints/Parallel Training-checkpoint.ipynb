{
 "cells": [
  {
   "cell_type": "code",
   "execution_count": 8,
   "metadata": {},
   "outputs": [
    {
     "name": "stdout",
     "output_type": "stream",
     "text": [
      "The autoreload extension is already loaded. To reload it, use:\n",
      "  %reload_ext autoreload\n"
     ]
    }
   ],
   "source": [
    "import numpy as np\n",
    "import qiskit as qk\n",
    "import matplotlib.pyplot as plt\n",
    "from qiskit import Aer\n",
    "from tqdm.notebook import tqdm\n",
    "\n",
    "import sys\n",
    "sys.path.insert(0, '../../src/')\n",
    "from neuralnetwork import *\n",
    "from analysis import *\n",
    "from data_encoders import *\n",
    "from parametrizations import *\n",
    "\n",
    "#%matplotlib notebook\n",
    "%matplotlib inline\n",
    "%load_ext autoreload\n",
    "%autoreload 2\n",
    "\n",
    "np.set_printoptions(formatter={'float': lambda x: \"{0:0.3f}\".format(x)})"
   ]
  },
  {
   "cell_type": "code",
   "execution_count": 15,
   "metadata": {},
   "outputs": [
    {
     "name": "stdout",
     "output_type": "stream",
     "text": [
      "[[0.000 0.000 0.000]\n",
      " [1.047 0.349 0.116]\n",
      " [2.094 1.396 0.931]\n",
      " [3.142 3.142 3.142]]\n",
      "[[0.000]\n",
      " [0.349]\n",
      " [1.396]\n",
      " [3.142]]\n"
     ]
    }
   ],
   "source": [
    "backend = Aer.get_backend('qasm_simulator')\n",
    "n_samples = 4\n",
    "n_features = 3\n",
    "n_targets = 1\n",
    "\n",
    "x = np.linspace(0, 2, n_samples)\n",
    "y = x**2\n",
    "y = y - np.min(y)\n",
    "y = y/np.max(y)\n",
    "y = np.pi *y\n",
    "y = y.reshape(-1,1)\n",
    "\n",
    "X = np.zeros((n_samples, n_features))\n",
    "X[:,0] = x\n",
    "X[:,1] = x**2\n",
    "X[:,2] = x**3\n",
    "#X[:,3] = x**4\n",
    "\n",
    "\n",
    "\n",
    "X = X - np.min(X, axis=0).reshape(1,-1)\n",
    "X = X/np.max(X, axis=0).reshape(1,-1)\n",
    "X = np.pi * X\n",
    "\n",
    "print(X)\n",
    "print(y)"
   ]
  },
  {
   "cell_type": "code",
   "execution_count": 16,
   "metadata": {},
   "outputs": [],
   "source": [
    "reps = 4\n",
    "np.random.seed(42)\n",
    "model = ParallelModel(n_features=n_features,\n",
    "                      n_targets=n_targets,\n",
    "                      reps=reps,\n",
    "                      backend=backend, \n",
    "                      shots=100000)\n",
    "\n",
    "optimizer = Adam()\n",
    "optimizer.initialize(model.theta.shape)"
   ]
  },
  {
   "cell_type": "code",
   "execution_count": null,
   "metadata": {},
   "outputs": [
    {
     "data": {
      "application/vnd.jupyter.widget-view+json": {
       "model_id": "2e8fbbe884cc465285736aead05a9926",
       "version_major": 2,
       "version_minor": 0
      },
      "text/plain": [
       "  0%|          | 0/100 [00:00<?, ?it/s]"
      ]
     },
     "metadata": {},
     "output_type": "display_data"
    },
    {
     "name": "stdout",
     "output_type": "stream",
     "text": [
      "loss=0.682, mse=1.258, y_pred.flatten()=array([1.806, 1.284, 1.303, 2.198])\n",
      "loss=0.656, mse=1.105, y_pred.flatten()=array([1.693, 1.117, 1.217, 2.176])\n",
      "loss=0.637, mse=0.994, y_pred.flatten()=array([1.593, 0.968, 1.159, 2.144])\n",
      "loss=0.619, mse=0.895, y_pred.flatten()=array([1.500, 0.804, 1.125, 2.117])\n",
      "loss=0.600, mse=0.824, y_pred.flatten()=array([1.417, 0.667, 1.118, 2.089])\n",
      "loss=0.590, mse=0.767, y_pred.flatten()=array([1.344, 0.522, 1.128, 2.065])\n",
      "loss=0.577, mse=0.738, y_pred.flatten()=array([1.299, 0.400, 1.149, 2.047])\n",
      "loss=0.577, mse=0.702, y_pred.flatten()=array([1.239, 0.286, 1.178, 2.037])\n",
      "loss=0.568, mse=0.664, y_pred.flatten()=array([1.184, 0.209, 1.213, 2.046])\n",
      "loss=0.561, mse=0.611, y_pred.flatten()=array([1.119, 0.155, 1.249, 2.076])\n",
      "loss=0.563, mse=0.568, y_pred.flatten()=array([1.069, 0.160, 1.269, 2.104])\n",
      "loss=0.560, mse=0.516, y_pred.flatten()=array([1.008, 0.199, 1.300, 2.134])\n",
      "loss=0.558, mse=0.460, y_pred.flatten()=array([0.942, 0.250, 1.318, 2.173])\n",
      "loss=0.551, mse=0.411, y_pred.flatten()=array([0.875, 0.308, 1.338, 2.206])\n",
      "loss=0.553, mse=0.369, y_pred.flatten()=array([0.811, 0.352, 1.349, 2.238])\n",
      "loss=0.550, mse=0.334, y_pred.flatten()=array([0.749, 0.395, 1.356, 2.263])\n",
      "loss=0.553, mse=0.309, y_pred.flatten()=array([0.699, 0.416, 1.359, 2.281])\n",
      "loss=0.554, mse=0.289, y_pred.flatten()=array([0.662, 0.452, 1.350, 2.302])\n",
      "loss=0.554, mse=0.279, y_pred.flatten()=array([0.632, 0.466, 1.341, 2.304])\n",
      "loss=0.552, mse=0.261, y_pred.flatten()=array([0.602, 0.483, 1.334, 2.328])\n",
      "loss=0.555, mse=0.249, y_pred.flatten()=array([0.576, 0.496, 1.327, 2.342])\n",
      "loss=0.557, mse=0.240, y_pred.flatten()=array([0.563, 0.487, 1.311, 2.358])\n",
      "loss=0.553, mse=0.230, y_pred.flatten()=array([0.559, 0.482, 1.298, 2.380])\n",
      "loss=0.552, mse=0.220, y_pred.flatten()=array([0.562, 0.469, 1.281, 2.408])\n",
      "loss=0.556, mse=0.213, y_pred.flatten()=array([0.573, 0.452, 1.258, 2.439])\n",
      "loss=0.550, mse=0.206, y_pred.flatten()=array([0.579, 0.429, 1.230, 2.468])\n",
      "loss=0.546, mse=0.202, y_pred.flatten()=array([0.601, 0.405, 1.222, 2.498])\n",
      "loss=0.548, mse=0.205, y_pred.flatten()=array([0.626, 0.375, 1.193, 2.521])\n",
      "loss=0.545, mse=0.208, y_pred.flatten()=array([0.664, 0.352, 1.185, 2.554])\n",
      "loss=0.546, mse=0.218, y_pred.flatten()=array([0.689, 0.324, 1.164, 2.557])\n",
      "loss=0.547, mse=0.224, y_pred.flatten()=array([0.708, 0.295, 1.149, 2.566])\n",
      "loss=0.547, mse=0.237, y_pred.flatten()=array([0.745, 0.274, 1.150, 2.570])\n",
      "loss=0.545, mse=0.250, y_pred.flatten()=array([0.771, 0.261, 1.143, 2.565])\n",
      "loss=0.548, mse=0.258, y_pred.flatten()=array([0.791, 0.242, 1.151, 2.564])\n"
     ]
    }
   ],
   "source": [
    "for i in tqdm(range(100)):\n",
    "    grad = [model.gradient(X, y)]\n",
    "    grad = optimizer(grad)\n",
    "    model.theta += -0.05*grad[0]\n",
    "    y_pred = model.predict(X)\n",
    "    mse = np.mean((y_pred - y)**2)\n",
    "    loss = model.loss(X,y)\n",
    "    #print(model.theta)\n",
    "    print(f\"{loss=:.3f}, {mse=:.3f}, {y_pred.flatten()=}\")"
   ]
  },
  {
   "cell_type": "code",
   "execution_count": null,
   "metadata": {},
   "outputs": [],
   "source": [
    "reps = 2\n",
    "np.random.seed(42)\n",
    "model = ParallelModel(n_features=n_features,\n",
    "                      n_targets=n_targets,\n",
    "                      reps=reps,\n",
    "                      backend=backend, \n",
    "                      shots=100000)\n",
    "\n",
    "backend = Aer.get_backend('qasm_simulator')\n",
    "n_samples = 2\n",
    "n_features = 2\n",
    "n_targets = 1\n",
    "\n",
    "x = np.linspace(0, 2, n_samples)\n",
    "\n",
    "X = np.zeros((n_samples, n_features))\n",
    "X[:,0] = x\n",
    "X[:,1] = x**2\n",
    "\n",
    "\n",
    "\n",
    "X = X - np.min(X, axis=0).reshape(1,-1)\n",
    "X = X/np.max(X, axis=0).reshape(1,-1)\n",
    "X = np.pi * X\n",
    "\n",
    "y = model.predict(X)\n",
    "print(y)\n",
    "\n",
    "loss = model.loss(X,y)\n",
    "print(loss)"
   ]
  },
  {
   "cell_type": "code",
   "execution_count": null,
   "metadata": {},
   "outputs": [],
   "source": [
    "data = np.array([[0,0], [1,1], [2,2], [3,3]])\n",
    "encoder = ParallelEncoder()\n",
    "\n",
    "\n",
    "features = qk.QuantumRegister(2, name=\"features\")\n",
    "ancilla = qk.QuantumRegister(2, name=\"ancilla_f\")\n",
    "registers = [features, ancilla]\n",
    "circuit = qk.QuantumCircuit(*registers)\n",
    "\n",
    "circuit = encoder(circuit, features, ancilla, data)\n",
    "\n",
    "circuit.draw()"
   ]
  },
  {
   "cell_type": "code",
   "execution_count": null,
   "metadata": {},
   "outputs": [],
   "source": []
  }
 ],
 "metadata": {
  "kernelspec": {
   "display_name": "env_qiskit",
   "language": "python",
   "name": "env_qiskit"
  },
  "language_info": {
   "codemirror_mode": {
    "name": "ipython",
    "version": 3
   },
   "file_extension": ".py",
   "mimetype": "text/x-python",
   "name": "python",
   "nbconvert_exporter": "python",
   "pygments_lexer": "ipython3",
   "version": "3.9.1"
  }
 },
 "nbformat": 4,
 "nbformat_minor": 4
}
