{
 "cells": [
  {
   "cell_type": "code",
   "execution_count": 75,
   "metadata": {},
   "outputs": [
    {
     "name": "stdout",
     "output_type": "stream",
     "text": [
      "The autoreload extension is already loaded. To reload it, use:\n",
      "  %reload_ext autoreload\n"
     ]
    }
   ],
   "source": [
    "import numpy as np\n",
    "import qiskit as qk\n",
    "import matplotlib.pyplot as plt\n",
    "from qiskit import Aer\n",
    "from tqdm.notebook import tqdm\n",
    "\n",
    "import sys\n",
    "sys.path.insert(0, '../../src/')\n",
    "from neuralnetwork import *\n",
    "from analysis import *\n",
    "from data_encoders import *\n",
    "from parametrizations import *\n",
    "\n",
    "#%matplotlib notebook\n",
    "%matplotlib inline\n",
    "%load_ext autoreload\n",
    "%autoreload 2\n",
    "\n",
    "np.set_printoptions(formatter={'float': lambda x: \"{0:0.3f}\".format(x)})"
   ]
  },
  {
   "cell_type": "code",
   "execution_count": 86,
   "metadata": {},
   "outputs": [
    {
     "name": "stdout",
     "output_type": "stream",
     "text": [
      "[[0.000 0.000 0.000]\n",
      " [1.047 0.349 0.116]\n",
      " [2.094 1.396 0.931]\n",
      " [3.142 3.142 3.142]]\n",
      "[[0.500]\n",
      " [0.675]\n",
      " [1.198]\n",
      " [2.071]]\n"
     ]
    }
   ],
   "source": [
    "backend = Aer.get_backend('qasm_simulator')\n",
    "n_samples = 4\n",
    "n_features = 3\n",
    "n_targets = 1\n",
    "\n",
    "x = np.linspace(0, 2, n_samples)\n",
    "y = x**2\n",
    "y = y - np.min(y)\n",
    "y = y/np.max(y)\n",
    "y = np.pi/2 *y\n",
    "y = y.reshape(-1,1) + 0.5\n",
    "\n",
    "X = np.zeros((n_samples, n_features))\n",
    "X[:,0] = x\n",
    "X[:,1] = x**2\n",
    "X[:,2] = x**3\n",
    "#X[:,3] = x**4\n",
    "\n",
    "\n",
    "\n",
    "X = X - np.min(X, axis=0).reshape(1,-1)\n",
    "X = X/np.max(X, axis=0).reshape(1,-1)\n",
    "X = np.pi * X\n",
    "\n",
    "print(X)\n",
    "print(y)"
   ]
  },
  {
   "cell_type": "code",
   "execution_count": 91,
   "metadata": {},
   "outputs": [],
   "source": [
    "reps = 10\n",
    "np.random.seed(42)\n",
    "model = ParallelModel(n_features=n_features,\n",
    "                      n_targets=n_targets,\n",
    "                      reps=reps,\n",
    "                      backend=backend, \n",
    "                      shots=100000)\n",
    "\n",
    "optimizer = Adam()\n",
    "optimizer.initialize(model.theta.shape)"
   ]
  },
  {
   "cell_type": "code",
   "execution_count": null,
   "metadata": {
    "scrolled": true
   },
   "outputs": [
    {
     "data": {
      "application/vnd.jupyter.widget-view+json": {
       "model_id": "bc3bbbb8fc244d39b07df6f6a96e7e0f",
       "version_major": 2,
       "version_minor": 0
      },
      "text/plain": [
       "  0%|          | 0/100 [00:00<?, ?it/s]"
      ]
     },
     "metadata": {},
     "output_type": "display_data"
    },
    {
     "name": "stdout",
     "output_type": "stream",
     "text": [
      "loss=0.351, mse=0.370, y_pred.flatten()=array([0.637, 1.090, 2.156, 1.460])\n",
      "loss=0.403, mse=0.130, y_pred.flatten()=array([1.054, 0.722, 1.467, 1.698])\n",
      "loss=0.404, mse=0.195, y_pred.flatten()=array([1.367, 0.554, 1.081, 2.086])\n",
      "loss=0.395, mse=0.275, y_pred.flatten()=array([1.489, 0.619, 1.116, 2.405])\n",
      "loss=0.390, mse=0.277, y_pred.flatten()=array([1.449, 0.642, 1.222, 2.524])\n",
      "loss=0.391, mse=0.211, y_pred.flatten()=array([1.302, 0.529, 1.251, 2.494])\n",
      "loss=0.405, mse=0.145, y_pred.flatten()=array([1.100, 0.343, 1.225, 2.403])\n",
      "loss=0.415, mse=0.118, y_pred.flatten()=array([0.951, 0.213, 1.176, 2.308])\n",
      "loss=0.416, mse=0.076, y_pred.flatten()=array([0.872, 0.306, 1.157, 2.240])\n",
      "loss=0.414, mse=0.045, y_pred.flatten()=array([0.841, 0.478, 1.174, 2.223])\n",
      "loss=0.407, mse=0.034, y_pred.flatten()=array([0.827, 0.615, 1.225, 2.228])\n",
      "loss=0.407, mse=0.035, y_pred.flatten()=array([0.809, 0.689, 1.287, 2.263])\n",
      "loss=0.411, mse=0.043, y_pred.flatten()=array([0.811, 0.703, 1.339, 2.308])\n",
      "loss=0.418, mse=0.057, y_pred.flatten()=array([0.814, 0.665, 1.388, 2.377])\n",
      "loss=0.423, mse=0.080, y_pred.flatten()=array([0.864, 0.577, 1.405, 2.437])\n",
      "loss=0.422, mse=0.109, y_pred.flatten()=array([0.934, 0.454, 1.402, 2.468])\n",
      "loss=0.425, mse=0.142, y_pred.flatten()=array([1.008, 0.341, 1.378, 2.477])\n",
      "loss=0.419, mse=0.173, y_pred.flatten()=array([1.090, 0.279, 1.356, 2.473])\n",
      "loss=0.417, mse=0.188, y_pred.flatten()=array([1.132, 0.264, 1.329, 2.479])\n",
      "loss=0.417, mse=0.195, y_pred.flatten()=array([1.134, 0.265, 1.321, 2.511])\n",
      "loss=0.422, mse=0.192, y_pred.flatten()=array([1.091, 0.273, 1.320, 2.562])\n",
      "loss=0.430, mse=0.182, y_pred.flatten()=array([1.029, 0.302, 1.339, 2.607])\n",
      "loss=0.426, mse=0.167, y_pred.flatten()=array([0.977, 0.379, 1.365, 2.640])\n",
      "loss=0.426, mse=0.154, y_pred.flatten()=array([0.948, 0.462, 1.386, 2.649])\n",
      "loss=0.425, mse=0.149, y_pred.flatten()=array([0.934, 0.501, 1.375, 2.661])\n",
      "loss=0.425, mse=0.153, y_pred.flatten()=array([0.934, 0.502, 1.355, 2.677])\n",
      "loss=0.418, mse=0.164, y_pred.flatten()=array([0.955, 0.464, 1.313, 2.696])\n",
      "loss=0.423, mse=0.185, y_pred.flatten()=array([0.980, 0.407, 1.273, 2.728])\n",
      "loss=0.429, mse=0.209, y_pred.flatten()=array([0.997, 0.352, 1.244, 2.765])\n",
      "loss=0.426, mse=0.225, y_pred.flatten()=array([1.005, 0.313, 1.233, 2.786])\n",
      "loss=0.429, mse=0.244, y_pred.flatten()=array([1.019, 0.294, 1.232, 2.821])\n",
      "loss=0.420, mse=0.251, y_pred.flatten()=array([1.011, 0.288, 1.241, 2.841])\n",
      "loss=0.420, mse=0.251, y_pred.flatten()=array([1.002, 0.311, 1.261, 2.856])\n",
      "loss=0.426, mse=0.245, y_pred.flatten()=array([0.996, 0.330, 1.274, 2.852])\n",
      "loss=0.428, mse=0.236, y_pred.flatten()=array([0.977, 0.338, 1.298, 2.841])\n",
      "loss=0.430, mse=0.224, y_pred.flatten()=array([0.974, 0.337, 1.313, 2.810])\n",
      "loss=0.425, mse=0.208, y_pred.flatten()=array([0.972, 0.349, 1.319, 2.769])\n",
      "loss=0.426, mse=0.191, y_pred.flatten()=array([0.980, 0.360, 1.312, 2.721])\n",
      "loss=0.429, mse=0.177, y_pred.flatten()=array([0.992, 0.389, 1.305, 2.683])\n",
      "loss=0.422, mse=0.171, y_pred.flatten()=array([0.999, 0.397, 1.314, 2.658])\n",
      "loss=0.426, mse=0.166, y_pred.flatten()=array([0.991, 0.401, 1.323, 2.648])\n",
      "loss=0.425, mse=0.166, y_pred.flatten()=array([0.989, 0.404, 1.333, 2.647])\n",
      "loss=0.425, mse=0.168, y_pred.flatten()=array([0.976, 0.396, 1.329, 2.664])\n",
      "loss=0.425, mse=0.182, y_pred.flatten()=array([0.985, 0.376, 1.330, 2.694])\n",
      "loss=0.425, mse=0.200, y_pred.flatten()=array([0.987, 0.351, 1.324, 2.737])\n",
      "loss=0.424, mse=0.214, y_pred.flatten()=array([0.995, 0.340, 1.317, 2.767])\n",
      "loss=0.425, mse=0.224, y_pred.flatten()=array([1.005, 0.331, 1.309, 2.786])\n",
      "loss=0.422, mse=0.232, y_pred.flatten()=array([1.018, 0.323, 1.296, 2.797])\n",
      "loss=0.423, mse=0.229, y_pred.flatten()=array([1.010, 0.327, 1.288, 2.796])\n",
      "loss=0.428, mse=0.223, y_pred.flatten()=array([1.007, 0.342, 1.284, 2.789])\n",
      "loss=0.429, mse=0.208, y_pred.flatten()=array([0.981, 0.355, 1.291, 2.771])\n",
      "loss=0.431, mse=0.202, y_pred.flatten()=array([0.980, 0.367, 1.303, 2.759])\n",
      "loss=0.426, mse=0.195, y_pred.flatten()=array([0.971, 0.384, 1.324, 2.748])\n",
      "loss=0.429, mse=0.192, y_pred.flatten()=array([0.958, 0.393, 1.328, 2.749])\n",
      "loss=0.427, mse=0.191, y_pred.flatten()=array([0.977, 0.394, 1.324, 2.737])\n",
      "loss=0.432, mse=0.196, y_pred.flatten()=array([0.985, 0.389, 1.313, 2.746])\n",
      "loss=0.429, mse=0.201, y_pred.flatten()=array([0.990, 0.366, 1.307, 2.746])\n",
      "loss=0.429, mse=0.208, y_pred.flatten()=array([0.994, 0.354, 1.308, 2.757])\n",
      "loss=0.421, mse=0.212, y_pred.flatten()=array([0.993, 0.344, 1.303, 2.768])\n",
      "loss=0.428, mse=0.211, y_pred.flatten()=array([0.993, 0.353, 1.315, 2.766])\n",
      "loss=0.431, mse=0.211, y_pred.flatten()=array([0.995, 0.354, 1.309, 2.766])\n",
      "loss=0.427, mse=0.204, y_pred.flatten()=array([0.988, 0.358, 1.323, 2.752])\n",
      "loss=0.425, mse=0.198, y_pred.flatten()=array([0.983, 0.358, 1.328, 2.736])\n",
      "loss=0.419, mse=0.190, y_pred.flatten()=array([0.978, 0.357, 1.334, 2.712])\n",
      "loss=0.429, mse=0.179, y_pred.flatten()=array([0.976, 0.372, 1.332, 2.687])\n",
      "loss=0.431, mse=0.175, y_pred.flatten()=array([0.982, 0.385, 1.327, 2.677])\n",
      "loss=0.431, mse=0.170, y_pred.flatten()=array([0.990, 0.406, 1.321, 2.665])\n",
      "loss=0.429, mse=0.178, y_pred.flatten()=array([0.993, 0.393, 1.314, 2.683])\n",
      "loss=0.420, mse=0.182, y_pred.flatten()=array([0.977, 0.380, 1.319, 2.701])\n",
      "loss=0.430, mse=0.191, y_pred.flatten()=array([0.977, 0.372, 1.316, 2.729])\n",
      "loss=0.430, mse=0.196, y_pred.flatten()=array([0.967, 0.368, 1.319, 2.746])\n",
      "loss=0.428, mse=0.206, y_pred.flatten()=array([0.965, 0.348, 1.314, 2.769])\n",
      "loss=0.428, mse=0.211, y_pred.flatten()=array([0.964, 0.342, 1.303, 2.783])\n",
      "loss=0.427, mse=0.211, y_pred.flatten()=array([0.978, 0.353, 1.288, 2.779])\n",
      "loss=0.420, mse=0.205, y_pred.flatten()=array([0.979, 0.361, 1.279, 2.769])\n",
      "loss=0.428, mse=0.203, y_pred.flatten()=array([0.982, 0.359, 1.279, 2.760])\n",
      "loss=0.425, mse=0.202, y_pred.flatten()=array([0.976, 0.362, 1.284, 2.762])\n",
      "loss=0.421, mse=0.200, y_pred.flatten()=array([0.977, 0.364, 1.282, 2.756])\n",
      "loss=0.429, mse=0.199, y_pred.flatten()=array([0.974, 0.375, 1.286, 2.759])\n",
      "loss=0.424, mse=0.198, y_pred.flatten()=array([0.973, 0.374, 1.285, 2.757])\n"
     ]
    }
   ],
   "source": [
    "for i in tqdm(range(100)):\n",
    "    grad = [model.gradient(X, y)]\n",
    "    grad = optimizer(grad)\n",
    "    model.theta += 0.1*grad[0]\n",
    "    y_pred = model.predict(X)\n",
    "    mse = np.mean((y_pred - y)**2)\n",
    "    loss = model.loss(X,y)\n",
    "    #print(loss, model.theta, y_pred.flatten())\n",
    "    print(f\"{loss=:.3f}, {mse=:.3f}, {y_pred.flatten()=}\")"
   ]
  },
  {
   "cell_type": "markdown",
   "metadata": {},
   "source": [
    "# Cheese"
   ]
  },
  {
   "cell_type": "code",
   "execution_count": null,
   "metadata": {},
   "outputs": [],
   "source": [
    "reps = 2\n",
    "np.random.seed(42)\n",
    "model = ParallelModel(n_features=n_features,\n",
    "                      n_targets=n_targets,\n",
    "                      reps=reps,\n",
    "                      backend=backend, \n",
    "                      shots=100000)\n",
    "\n",
    "backend = Aer.get_backend('qasm_simulator')\n",
    "n_samples = 2\n",
    "n_features = 2\n",
    "n_targets = 1\n",
    "\n",
    "x = np.linspace(0, 2, n_samples)\n",
    "\n",
    "X = np.zeros((n_samples, n_features))\n",
    "X[:,0] = x\n",
    "X[:,1] = x**2\n",
    "\n",
    "\n",
    "\n",
    "X = X - np.min(X, axis=0).reshape(1,-1)\n",
    "X = X/np.max(X, axis=0).reshape(1,-1)\n",
    "X = np.pi * X\n",
    "\n",
    "y = model.predict(X)\n",
    "print(y)\n",
    "\n",
    "loss = model.loss(X,y)\n",
    "print(loss)"
   ]
  },
  {
   "cell_type": "code",
   "execution_count": null,
   "metadata": {},
   "outputs": [],
   "source": [
    "data = np.array([[0,0], [1,1], [2,2], [3,3]])\n",
    "encoder = ParallelEncoder()\n",
    "\n",
    "\n",
    "features = qk.QuantumRegister(2, name=\"features\")\n",
    "ancilla = qk.QuantumRegister(2, name=\"ancilla_f\")\n",
    "registers = [features, ancilla]\n",
    "circuit = qk.QuantumCircuit(*registers)\n",
    "\n",
    "circuit = encoder(circuit, features, ancilla, data)\n",
    "\n",
    "circuit.draw()"
   ]
  },
  {
   "cell_type": "code",
   "execution_count": null,
   "metadata": {},
   "outputs": [],
   "source": []
  }
 ],
 "metadata": {
  "kernelspec": {
   "display_name": "env_qiskit",
   "language": "python",
   "name": "env_qiskit"
  },
  "language_info": {
   "codemirror_mode": {
    "name": "ipython",
    "version": 3
   },
   "file_extension": ".py",
   "mimetype": "text/x-python",
   "name": "python",
   "nbconvert_exporter": "python",
   "pygments_lexer": "ipython3",
   "version": "3.9.1"
  }
 },
 "nbformat": 4,
 "nbformat_minor": 4
}
