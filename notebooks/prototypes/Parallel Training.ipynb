{
 "cells": [
  {
   "cell_type": "code",
   "execution_count": 7,
   "metadata": {},
   "outputs": [
    {
     "name": "stdout",
     "output_type": "stream",
     "text": [
      "The autoreload extension is already loaded. To reload it, use:\n",
      "  %reload_ext autoreload\n"
     ]
    }
   ],
   "source": [
    "import numpy as np\n",
    "import qiskit as qk\n",
    "import matplotlib.pyplot as plt\n",
    "from qiskit import Aer\n",
    "from tqdm.notebook import tqdm\n",
    "\n",
    "import sys\n",
    "sys.path.insert(0, '../../src/')\n",
    "from neuralnetwork import *\n",
    "from analysis import *\n",
    "from data_encoders import *\n",
    "from parametrizations import *\n",
    "\n",
    "#%matplotlib notebook\n",
    "%matplotlib inline\n",
    "%load_ext autoreload\n",
    "%autoreload 2\n",
    "\n",
    "np.set_printoptions(formatter={'float': lambda x: \"{0:0.3f}\".format(x)})"
   ]
  },
  {
   "cell_type": "code",
   "execution_count": 9,
   "metadata": {},
   "outputs": [
    {
     "name": "stdout",
     "output_type": "stream",
     "text": [
      "[[0.000 0.000]\n",
      " [3.142 3.142]]\n",
      "[[0.000]\n",
      " [3.142]]\n"
     ]
    }
   ],
   "source": [
    "backend = Aer.get_backend('qasm_simulator')\n",
    "n_samples = 2\n",
    "n_features = 2\n",
    "n_targets = 1\n",
    "\n",
    "x = np.linspace(0, 2, n_samples)\n",
    "y = x**2\n",
    "y = y - np.min(y)\n",
    "y = y/np.max(y)\n",
    "y = np.pi *y\n",
    "y = y.reshape(-1,1)\n",
    "\n",
    "X = np.zeros((n_samples, n_features))\n",
    "X[:,0] = x\n",
    "X[:,1] = x**2\n",
    "#X[:,2] = x**3\n",
    "#X[:,3] = x**4\n",
    "\n",
    "\n",
    "\n",
    "X = X - np.min(X, axis=0).reshape(1,-1)\n",
    "X = X/np.max(X, axis=0).reshape(1,-1)\n",
    "X = np.pi * X\n",
    "\n",
    "print(X)\n",
    "print(y)"
   ]
  },
  {
   "cell_type": "code",
   "execution_count": 20,
   "metadata": {},
   "outputs": [],
   "source": [
    "reps = 4\n",
    "np.random.seed(42)\n",
    "model = ParallelModel(n_features=n_features,\n",
    "                      n_targets=n_targets,\n",
    "                      reps=reps,\n",
    "                      backend=backend, \n",
    "                      shots=100000)\n",
    "\n",
    "optimizer = Adam()\n",
    "optimizer.initialize(model.theta.shape)"
   ]
  },
  {
   "cell_type": "code",
   "execution_count": 21,
   "metadata": {},
   "outputs": [
    {
     "data": {
      "application/vnd.jupyter.widget-view+json": {
       "model_id": "158bf95153704c31b9d205adb9e6e3e7",
       "version_major": 2,
       "version_minor": 0
      },
      "text/plain": [
       "  0%|          | 0/100 [00:00<?, ?it/s]"
      ]
     },
     "metadata": {},
     "output_type": "display_data"
    },
    {
     "name": "stdout",
     "output_type": "stream",
     "text": [
      "loss=0.541, mse=0.349, y_pred.flatten()=array([0.394, 2.405])\n",
      "loss=0.535, mse=0.316, y_pred.flatten()=array([0.380, 2.444])\n",
      "loss=0.534, mse=0.283, y_pred.flatten()=array([0.355, 2.479])\n",
      "loss=0.529, mse=0.253, y_pred.flatten()=array([0.350, 2.522])\n",
      "loss=0.535, mse=0.217, y_pred.flatten()=array([0.326, 2.568])\n",
      "loss=0.522, mse=0.195, y_pred.flatten()=array([0.309, 2.599])\n",
      "loss=0.518, mse=0.165, y_pred.flatten()=array([0.290, 2.645])\n",
      "loss=0.518, mse=0.142, y_pred.flatten()=array([0.267, 2.680])\n",
      "loss=0.519, mse=0.121, y_pred.flatten()=array([0.251, 2.719])\n",
      "loss=0.514, mse=0.100, y_pred.flatten()=array([0.235, 2.762])\n",
      "loss=0.511, mse=0.084, y_pred.flatten()=array([0.221, 2.797])\n",
      "loss=0.511, mse=0.069, y_pred.flatten()=array([0.197, 2.826])\n",
      "loss=0.504, mse=0.055, y_pred.flatten()=array([0.180, 2.863])\n",
      "loss=0.507, mse=0.042, y_pred.flatten()=array([0.161, 2.901])\n",
      "loss=0.504, mse=0.032, y_pred.flatten()=array([0.143, 2.934])\n",
      "loss=0.500, mse=0.022, y_pred.flatten()=array([0.124, 2.974])\n",
      "loss=0.503, mse=0.015, y_pred.flatten()=array([0.109, 3.004])\n",
      "loss=0.501, mse=0.011, y_pred.flatten()=array([0.093, 3.022])\n",
      "loss=0.504, mse=0.006, y_pred.flatten()=array([0.074, 3.056])\n",
      "loss=0.502, mse=0.004, y_pred.flatten()=array([0.062, 3.083])\n",
      "loss=0.503, mse=0.002, y_pred.flatten()=array([0.045, 3.103])\n",
      "loss=0.498, mse=0.001, y_pred.flatten()=array([0.043, 3.120])\n",
      "loss=0.495, mse=0.001, y_pred.flatten()=array([0.023, 3.116])\n",
      "loss=0.499, mse=0.001, y_pred.flatten()=array([0.015, 3.108])\n",
      "loss=0.501, mse=0.001, y_pred.flatten()=array([0.013, 3.099])\n",
      "loss=0.503, mse=0.002, y_pred.flatten()=array([0.028, 3.080])\n",
      "loss=0.503, mse=0.003, y_pred.flatten()=array([0.027, 3.071])\n",
      "loss=0.504, mse=0.004, y_pred.flatten()=array([0.036, 3.056])\n",
      "loss=0.504, mse=0.005, y_pred.flatten()=array([0.049, 3.051])\n",
      "loss=0.500, mse=0.006, y_pred.flatten()=array([0.051, 3.049])\n",
      "loss=0.498, mse=0.007, y_pred.flatten()=array([0.060, 3.040])\n",
      "loss=0.502, mse=0.007, y_pred.flatten()=array([0.060, 3.038])\n",
      "loss=0.498, mse=0.007, y_pred.flatten()=array([0.068, 3.044])\n",
      "loss=0.501, mse=0.008, y_pred.flatten()=array([0.070, 3.037])\n",
      "loss=0.499, mse=0.007, y_pred.flatten()=array([0.067, 3.044])\n",
      "loss=0.495, mse=0.007, y_pred.flatten()=array([0.067, 3.039])\n",
      "loss=0.498, mse=0.007, y_pred.flatten()=array([0.071, 3.051])\n",
      "loss=0.506, mse=0.007, y_pred.flatten()=array([0.070, 3.049])\n",
      "loss=0.500, mse=0.006, y_pred.flatten()=array([0.070, 3.062])\n",
      "loss=0.499, mse=0.005, y_pred.flatten()=array([0.063, 3.066])\n",
      "loss=0.507, mse=0.004, y_pred.flatten()=array([0.062, 3.073])\n",
      "loss=0.500, mse=0.004, y_pred.flatten()=array([0.057, 3.076])\n",
      "loss=0.501, mse=0.003, y_pred.flatten()=array([0.053, 3.086])\n",
      "loss=0.494, mse=0.003, y_pred.flatten()=array([0.051, 3.093])\n",
      "loss=0.501, mse=0.002, y_pred.flatten()=array([0.046, 3.096])\n",
      "loss=0.503, mse=0.002, y_pred.flatten()=array([0.043, 3.102])\n",
      "loss=0.499, mse=0.001, y_pred.flatten()=array([0.041, 3.113])\n",
      "loss=0.496, mse=0.001, y_pred.flatten()=array([0.033, 3.116])\n",
      "loss=0.500, mse=0.001, y_pred.flatten()=array([0.028, 3.125])\n",
      "loss=0.499, mse=0.000, y_pred.flatten()=array([0.027, 3.131])\n",
      "loss=0.503, mse=0.000, y_pred.flatten()=array([0.026, 3.133])\n",
      "loss=0.502, mse=0.000, y_pred.flatten()=array([0.023, 3.135])\n",
      "loss=0.499, mse=4.935, y_pred.flatten()=array([0.015, 0.000])\n",
      "loss=0.502, mse=4.935, y_pred.flatten()=array([0.011, 0.000])\n",
      "loss=0.500, mse=0.000, y_pred.flatten()=array([0.000, 3.127])\n",
      "loss=0.500, mse=0.000, y_pred.flatten()=array([0.009, 3.125])\n",
      "loss=0.497, mse=0.000, y_pred.flatten()=array([0.000, 3.129])\n",
      "loss=0.501, mse=0.000, y_pred.flatten()=array([0.013, 3.121])\n",
      "loss=0.500, mse=0.000, y_pred.flatten()=array([0.006, 3.118])\n",
      "loss=0.503, mse=0.000, y_pred.flatten()=array([0.013, 3.118])\n",
      "loss=0.500, mse=0.000, y_pred.flatten()=array([0.014, 3.118])\n",
      "loss=0.501, mse=0.000, y_pred.flatten()=array([0.013, 3.117])\n",
      "loss=0.499, mse=0.000, y_pred.flatten()=array([0.014, 3.116])\n",
      "loss=0.499, mse=0.000, y_pred.flatten()=array([0.017, 3.126])\n"
     ]
    },
    {
     "ename": "KeyboardInterrupt",
     "evalue": "",
     "output_type": "error",
     "traceback": [
      "\u001b[0;31m---------------------------------------------------------------------------\u001b[0m",
      "\u001b[0;31mKeyboardInterrupt\u001b[0m                         Traceback (most recent call last)",
      "\u001b[0;32m<ipython-input-21-218e297f9a03>\u001b[0m in \u001b[0;36m<module>\u001b[0;34m\u001b[0m\n\u001b[1;32m      3\u001b[0m     \u001b[0mgrad\u001b[0m \u001b[0;34m=\u001b[0m \u001b[0moptimizer\u001b[0m\u001b[0;34m(\u001b[0m\u001b[0mgrad\u001b[0m\u001b[0;34m)\u001b[0m\u001b[0;34m\u001b[0m\u001b[0;34m\u001b[0m\u001b[0m\n\u001b[1;32m      4\u001b[0m     \u001b[0mmodel\u001b[0m\u001b[0;34m.\u001b[0m\u001b[0mtheta\u001b[0m \u001b[0;34m+=\u001b[0m \u001b[0;34m-\u001b[0m\u001b[0;36m0.01\u001b[0m\u001b[0;34m*\u001b[0m\u001b[0mgrad\u001b[0m\u001b[0;34m[\u001b[0m\u001b[0;36m0\u001b[0m\u001b[0;34m]\u001b[0m\u001b[0;34m\u001b[0m\u001b[0;34m\u001b[0m\u001b[0m\n\u001b[0;32m----> 5\u001b[0;31m     \u001b[0my_pred\u001b[0m \u001b[0;34m=\u001b[0m \u001b[0mmodel\u001b[0m\u001b[0;34m.\u001b[0m\u001b[0mpredict\u001b[0m\u001b[0;34m(\u001b[0m\u001b[0mX\u001b[0m\u001b[0;34m)\u001b[0m\u001b[0;34m\u001b[0m\u001b[0;34m\u001b[0m\u001b[0m\n\u001b[0m\u001b[1;32m      6\u001b[0m     \u001b[0mmse\u001b[0m \u001b[0;34m=\u001b[0m \u001b[0mnp\u001b[0m\u001b[0;34m.\u001b[0m\u001b[0mmean\u001b[0m\u001b[0;34m(\u001b[0m\u001b[0;34m(\u001b[0m\u001b[0my_pred\u001b[0m \u001b[0;34m-\u001b[0m \u001b[0my\u001b[0m\u001b[0;34m)\u001b[0m\u001b[0;34m**\u001b[0m\u001b[0;36m2\u001b[0m\u001b[0;34m)\u001b[0m\u001b[0;34m\u001b[0m\u001b[0;34m\u001b[0m\u001b[0m\n\u001b[1;32m      7\u001b[0m     \u001b[0mloss\u001b[0m \u001b[0;34m=\u001b[0m \u001b[0mmodel\u001b[0m\u001b[0;34m.\u001b[0m\u001b[0mloss\u001b[0m\u001b[0;34m(\u001b[0m\u001b[0mX\u001b[0m\u001b[0;34m,\u001b[0m\u001b[0my\u001b[0m\u001b[0;34m)\u001b[0m\u001b[0;34m\u001b[0m\u001b[0;34m\u001b[0m\u001b[0m\n",
      "\u001b[0;32m~/Documents/Thesis/src/parametrizations.py\u001b[0m in \u001b[0;36mpredict\u001b[0;34m(self, x)\u001b[0m\n\u001b[1;32m     68\u001b[0m \u001b[0;34m\u001b[0m\u001b[0m\n\u001b[1;32m     69\u001b[0m             \u001b[0mjob\u001b[0m \u001b[0;34m=\u001b[0m \u001b[0mqk\u001b[0m\u001b[0;34m.\u001b[0m\u001b[0mexecute\u001b[0m\u001b[0;34m(\u001b[0m\u001b[0mcircuit\u001b[0m\u001b[0;34m,\u001b[0m \u001b[0mself\u001b[0m\u001b[0;34m.\u001b[0m\u001b[0mbackend\u001b[0m\u001b[0;34m,\u001b[0m \u001b[0mshots\u001b[0m\u001b[0;34m=\u001b[0m\u001b[0mself\u001b[0m\u001b[0;34m.\u001b[0m\u001b[0mshots\u001b[0m\u001b[0;34m)\u001b[0m\u001b[0;34m\u001b[0m\u001b[0;34m\u001b[0m\u001b[0m\n\u001b[0;32m---> 70\u001b[0;31m             \u001b[0mcounts\u001b[0m \u001b[0;34m=\u001b[0m \u001b[0mjob\u001b[0m\u001b[0;34m.\u001b[0m\u001b[0mresult\u001b[0m\u001b[0;34m(\u001b[0m\u001b[0;34m)\u001b[0m\u001b[0;34m.\u001b[0m\u001b[0mget_counts\u001b[0m\u001b[0;34m(\u001b[0m\u001b[0mcircuit\u001b[0m\u001b[0;34m)\u001b[0m\u001b[0;34m\u001b[0m\u001b[0;34m\u001b[0m\u001b[0m\n\u001b[0m\u001b[1;32m     71\u001b[0m             \u001b[0;32mif\u001b[0m \u001b[0;34m\"0\"\u001b[0m \u001b[0;32min\u001b[0m \u001b[0mcounts\u001b[0m\u001b[0;34m:\u001b[0m\u001b[0;34m\u001b[0m\u001b[0;34m\u001b[0m\u001b[0m\n\u001b[1;32m     72\u001b[0m                 y_pred.append(\n",
      "\u001b[0;32m~/anaconda3/envs/env_qiskit/lib/python3.9/site-packages/qiskit/providers/aer/aerjob.py\u001b[0m in \u001b[0;36m_wrapper\u001b[0;34m(self, *args, **kwargs)\u001b[0m\n\u001b[1;32m     40\u001b[0m         \u001b[0;32mif\u001b[0m \u001b[0mself\u001b[0m\u001b[0;34m.\u001b[0m\u001b[0m_future\u001b[0m \u001b[0;32mis\u001b[0m \u001b[0;32mNone\u001b[0m\u001b[0;34m:\u001b[0m\u001b[0;34m\u001b[0m\u001b[0;34m\u001b[0m\u001b[0m\n\u001b[1;32m     41\u001b[0m             \u001b[0;32mraise\u001b[0m \u001b[0mJobError\u001b[0m\u001b[0;34m(\u001b[0m\u001b[0;34m\"Job not submitted yet!. You have to .submit() first!\"\u001b[0m\u001b[0;34m)\u001b[0m\u001b[0;34m\u001b[0m\u001b[0;34m\u001b[0m\u001b[0m\n\u001b[0;32m---> 42\u001b[0;31m         \u001b[0;32mreturn\u001b[0m \u001b[0mfunc\u001b[0m\u001b[0;34m(\u001b[0m\u001b[0mself\u001b[0m\u001b[0;34m,\u001b[0m \u001b[0;34m*\u001b[0m\u001b[0margs\u001b[0m\u001b[0;34m,\u001b[0m \u001b[0;34m**\u001b[0m\u001b[0mkwargs\u001b[0m\u001b[0;34m)\u001b[0m\u001b[0;34m\u001b[0m\u001b[0;34m\u001b[0m\u001b[0m\n\u001b[0m\u001b[1;32m     43\u001b[0m     \u001b[0;32mreturn\u001b[0m \u001b[0m_wrapper\u001b[0m\u001b[0;34m\u001b[0m\u001b[0;34m\u001b[0m\u001b[0m\n\u001b[1;32m     44\u001b[0m \u001b[0;34m\u001b[0m\u001b[0m\n",
      "\u001b[0;32m~/anaconda3/envs/env_qiskit/lib/python3.9/site-packages/qiskit/providers/aer/aerjob.py\u001b[0m in \u001b[0;36mresult\u001b[0;34m(self, timeout)\u001b[0m\n\u001b[1;32m     99\u001b[0m             \u001b[0mconcurrent\u001b[0m\u001b[0;34m.\u001b[0m\u001b[0mfutures\u001b[0m\u001b[0;34m.\u001b[0m\u001b[0mCancelledError\u001b[0m\u001b[0;34m:\u001b[0m \u001b[0;32mif\u001b[0m \u001b[0mjob\u001b[0m \u001b[0mcancelled\u001b[0m \u001b[0mbefore\u001b[0m \u001b[0mcompleted\u001b[0m\u001b[0;34m.\u001b[0m\u001b[0;34m\u001b[0m\u001b[0;34m\u001b[0m\u001b[0m\n\u001b[1;32m    100\u001b[0m         \"\"\"\n\u001b[0;32m--> 101\u001b[0;31m         \u001b[0;32mreturn\u001b[0m \u001b[0mself\u001b[0m\u001b[0;34m.\u001b[0m\u001b[0m_future\u001b[0m\u001b[0;34m.\u001b[0m\u001b[0mresult\u001b[0m\u001b[0;34m(\u001b[0m\u001b[0mtimeout\u001b[0m\u001b[0;34m=\u001b[0m\u001b[0mtimeout\u001b[0m\u001b[0;34m)\u001b[0m\u001b[0;34m\u001b[0m\u001b[0;34m\u001b[0m\u001b[0m\n\u001b[0m\u001b[1;32m    102\u001b[0m \u001b[0;34m\u001b[0m\u001b[0m\n\u001b[1;32m    103\u001b[0m     \u001b[0;34m@\u001b[0m\u001b[0mrequires_submit\u001b[0m\u001b[0;34m\u001b[0m\u001b[0;34m\u001b[0m\u001b[0m\n",
      "\u001b[0;32m~/anaconda3/envs/env_qiskit/lib/python3.9/concurrent/futures/_base.py\u001b[0m in \u001b[0;36mresult\u001b[0;34m(self, timeout)\u001b[0m\n\u001b[1;32m    433\u001b[0m                 \u001b[0;32mreturn\u001b[0m \u001b[0mself\u001b[0m\u001b[0;34m.\u001b[0m\u001b[0m__get_result\u001b[0m\u001b[0;34m(\u001b[0m\u001b[0;34m)\u001b[0m\u001b[0;34m\u001b[0m\u001b[0;34m\u001b[0m\u001b[0m\n\u001b[1;32m    434\u001b[0m \u001b[0;34m\u001b[0m\u001b[0m\n\u001b[0;32m--> 435\u001b[0;31m             \u001b[0mself\u001b[0m\u001b[0;34m.\u001b[0m\u001b[0m_condition\u001b[0m\u001b[0;34m.\u001b[0m\u001b[0mwait\u001b[0m\u001b[0;34m(\u001b[0m\u001b[0mtimeout\u001b[0m\u001b[0;34m)\u001b[0m\u001b[0;34m\u001b[0m\u001b[0;34m\u001b[0m\u001b[0m\n\u001b[0m\u001b[1;32m    436\u001b[0m \u001b[0;34m\u001b[0m\u001b[0m\n\u001b[1;32m    437\u001b[0m             \u001b[0;32mif\u001b[0m \u001b[0mself\u001b[0m\u001b[0;34m.\u001b[0m\u001b[0m_state\u001b[0m \u001b[0;32min\u001b[0m \u001b[0;34m[\u001b[0m\u001b[0mCANCELLED\u001b[0m\u001b[0;34m,\u001b[0m \u001b[0mCANCELLED_AND_NOTIFIED\u001b[0m\u001b[0;34m]\u001b[0m\u001b[0;34m:\u001b[0m\u001b[0;34m\u001b[0m\u001b[0;34m\u001b[0m\u001b[0m\n",
      "\u001b[0;32m~/anaconda3/envs/env_qiskit/lib/python3.9/threading.py\u001b[0m in \u001b[0;36mwait\u001b[0;34m(self, timeout)\u001b[0m\n\u001b[1;32m    310\u001b[0m         \u001b[0;32mtry\u001b[0m\u001b[0;34m:\u001b[0m    \u001b[0;31m# restore state no matter what (e.g., KeyboardInterrupt)\u001b[0m\u001b[0;34m\u001b[0m\u001b[0;34m\u001b[0m\u001b[0m\n\u001b[1;32m    311\u001b[0m             \u001b[0;32mif\u001b[0m \u001b[0mtimeout\u001b[0m \u001b[0;32mis\u001b[0m \u001b[0;32mNone\u001b[0m\u001b[0;34m:\u001b[0m\u001b[0;34m\u001b[0m\u001b[0;34m\u001b[0m\u001b[0m\n\u001b[0;32m--> 312\u001b[0;31m                 \u001b[0mwaiter\u001b[0m\u001b[0;34m.\u001b[0m\u001b[0macquire\u001b[0m\u001b[0;34m(\u001b[0m\u001b[0;34m)\u001b[0m\u001b[0;34m\u001b[0m\u001b[0;34m\u001b[0m\u001b[0m\n\u001b[0m\u001b[1;32m    313\u001b[0m                 \u001b[0mgotit\u001b[0m \u001b[0;34m=\u001b[0m \u001b[0;32mTrue\u001b[0m\u001b[0;34m\u001b[0m\u001b[0;34m\u001b[0m\u001b[0m\n\u001b[1;32m    314\u001b[0m             \u001b[0;32melse\u001b[0m\u001b[0;34m:\u001b[0m\u001b[0;34m\u001b[0m\u001b[0;34m\u001b[0m\u001b[0m\n",
      "\u001b[0;31mKeyboardInterrupt\u001b[0m: "
     ]
    }
   ],
   "source": [
    "for i in tqdm(range(100)):\n",
    "    grad = [model.gradient(X, y)]\n",
    "    grad = optimizer(grad)\n",
    "    model.theta += -0.01*grad[0]\n",
    "    y_pred = model.predict(X)\n",
    "    mse = np.mean((y_pred - y)**2)\n",
    "    loss = model.loss(X,y)\n",
    "    #print(model.theta)\n",
    "    print(f\"{loss=:.3f}, {mse=:.3f}, {y_pred.flatten()=}\")"
   ]
  },
  {
   "cell_type": "code",
   "execution_count": null,
   "metadata": {},
   "outputs": [],
   "source": [
    "data = np.array([[0,0], [1,1], [2,2], [3,3]])\n",
    "encoder = ParallelEncoder()\n",
    "\n",
    "\n",
    "features = qk.QuantumRegister(2, name=\"features\")\n",
    "ancilla = qk.QuantumRegister(2, name=\"ancilla_f\")\n",
    "registers = [features, ancilla]\n",
    "circuit = qk.QuantumCircuit(*registers)\n",
    "\n",
    "circuit = encoder(circuit, features, ancilla, data)\n",
    "\n",
    "circuit.draw()"
   ]
  },
  {
   "cell_type": "code",
   "execution_count": null,
   "metadata": {},
   "outputs": [],
   "source": []
  }
 ],
 "metadata": {
  "kernelspec": {
   "display_name": "env_qiskit",
   "language": "python",
   "name": "env_qiskit"
  },
  "language_info": {
   "codemirror_mode": {
    "name": "ipython",
    "version": 3
   },
   "file_extension": ".py",
   "mimetype": "text/x-python",
   "name": "python",
   "nbconvert_exporter": "python",
   "pygments_lexer": "ipython3",
   "version": "3.9.1"
  }
 },
 "nbformat": 4,
 "nbformat_minor": 4
}
