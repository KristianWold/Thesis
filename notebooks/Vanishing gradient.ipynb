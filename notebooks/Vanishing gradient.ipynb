{
 "cells": [
  {
   "cell_type": "code",
   "execution_count": 1,
   "metadata": {},
   "outputs": [],
   "source": [
    "import numpy as np\n",
    "import qiskit as qk\n",
    "import matplotlib.pyplot as plt\n",
    "from qiskit import Aer\n",
    "from tqdm.notebook import tqdm\n",
    "\n",
    "\n",
    "import sys\n",
    "sys.path.insert(0, '../src/')\n",
    "from neuralnetwork import *\n",
    "\n",
    "#%matplotlib notebook\n",
    "%matplotlib inline\n",
    "%load_ext autoreload\n",
    "%autoreload 2"
   ]
  },
  {
   "cell_type": "markdown",
   "metadata": {},
   "source": [
    "### Ansatz Width"
   ]
  },
  {
   "cell_type": "code",
   "execution_count": null,
   "metadata": {},
   "outputs": [],
   "source": [
    "n = 100\n",
    "backend = Aer.get_backend('qasm_simulator')\n",
    "np.random.seed(42)\n",
    "y = np.array([[0]])\n",
    "\n",
    "grad1_list_width = []\n",
    "grad2_list_width = []\n",
    "for i in tqdm(range(3, 20)):\n",
    "    grad1 = 0\n",
    "    grad2 = 0\n",
    "    for j in tqdm(range(n), leave=False):    \n",
    "        network = sequential([i, 1], backend, shots=10000)\n",
    "        x = np.array([i*[np.pi/8]])\n",
    "        network.backward(x, y)\n",
    "\n",
    "        grad1 += np.mean(np.abs(network.weight_gradient_list[0][0]))\n",
    "        grad2 += np.mean(np.abs(network.weight_gradient_list[0][-1]))\n",
    "    \n",
    "    grad1 /= n\n",
    "    grad2 /= n\n",
    "    grad1_list_width.append(grad1)\n",
    "    grad2_list_width.append(grad2)"
   ]
  },
  {
   "cell_type": "code",
   "execution_count": null,
   "metadata": {},
   "outputs": [],
   "source": [
    "plt.plot(np.log(np.array(grad1_list_width)))\n",
    "plt.plot(np.log(np.array(grad2_list_width)))\n",
    "plt.show()"
   ]
  },
  {
   "cell_type": "markdown",
   "metadata": {},
   "source": [
    "### Ansatz Depth"
   ]
  },
  {
   "cell_type": "code",
   "execution_count": null,
   "metadata": {},
   "outputs": [
    {
     "data": {
      "application/vnd.jupyter.widget-view+json": {
       "model_id": "aae3c1ef5be64d2dae6212d7f0d1c1e6",
       "version_major": 2,
       "version_minor": 0
      },
      "text/plain": [
       "  0%|          | 0/19 [00:00<?, ?it/s]"
      ]
     },
     "metadata": {},
     "output_type": "display_data"
    },
    {
     "data": {
      "application/vnd.jupyter.widget-view+json": {
       "model_id": "",
       "version_major": 2,
       "version_minor": 0
      },
      "text/plain": [
       "  0%|          | 0/100 [00:00<?, ?it/s]"
      ]
     },
     "metadata": {},
     "output_type": "display_data"
    },
    {
     "data": {
      "application/vnd.jupyter.widget-view+json": {
       "model_id": "",
       "version_major": 2,
       "version_minor": 0
      },
      "text/plain": [
       "  0%|          | 0/100 [00:00<?, ?it/s]"
      ]
     },
     "metadata": {},
     "output_type": "display_data"
    },
    {
     "data": {
      "application/vnd.jupyter.widget-view+json": {
       "model_id": "",
       "version_major": 2,
       "version_minor": 0
      },
      "text/plain": [
       "  0%|          | 0/100 [00:00<?, ?it/s]"
      ]
     },
     "metadata": {},
     "output_type": "display_data"
    },
    {
     "data": {
      "application/vnd.jupyter.widget-view+json": {
       "model_id": "",
       "version_major": 2,
       "version_minor": 0
      },
      "text/plain": [
       "  0%|          | 0/100 [00:00<?, ?it/s]"
      ]
     },
     "metadata": {},
     "output_type": "display_data"
    },
    {
     "data": {
      "application/vnd.jupyter.widget-view+json": {
       "model_id": "",
       "version_major": 2,
       "version_minor": 0
      },
      "text/plain": [
       "  0%|          | 0/100 [00:00<?, ?it/s]"
      ]
     },
     "metadata": {},
     "output_type": "display_data"
    },
    {
     "data": {
      "application/vnd.jupyter.widget-view+json": {
       "model_id": "a107c1daa9ac4374b346858a98f76074",
       "version_major": 2,
       "version_minor": 0
      },
      "text/plain": [
       "  0%|          | 0/100 [00:00<?, ?it/s]"
      ]
     },
     "metadata": {},
     "output_type": "display_data"
    }
   ],
   "source": [
    "n = 100\n",
    "backend = Aer.get_backend('qasm_simulator')\n",
    "np.random.seed(42)\n",
    "\n",
    "x = np.array([[np.pi/8, np.pi/8, np.pi/8]])\n",
    "y = np.array([[0]])\n",
    "\n",
    "\n",
    "grad_list_depth = []\n",
    "for i in tqdm(range(1, 20)):\n",
    "    grad = 0\n",
    "    dim = [3] + i*[3] + [1]\n",
    "    for j in tqdm(range(n), leave=False):\n",
    "        \n",
    "        network = sequential(dim, backend, shots=1000)\n",
    "        network.backward(x, y)\n",
    "\n",
    "        grad += np.abs(np.mean(network.weight_gradient_list[0]))\n",
    "    \n",
    "    grad /= n\n",
    "    grad_list_depth.append(grad)"
   ]
  },
  {
   "cell_type": "code",
   "execution_count": null,
   "metadata": {},
   "outputs": [],
   "source": [
    "plt.plot(grad_list_depth)\n",
    "plt.show()"
   ]
  },
  {
   "cell_type": "markdown",
   "metadata": {},
   "source": [
    "### Ansatz Repetitions"
   ]
  },
  {
   "cell_type": "code",
   "execution_count": null,
   "metadata": {},
   "outputs": [],
   "source": [
    "n = 10\n",
    "backend = Aer.get_backend('qasm_simulator')\n",
    "np.random.seed(42)\n",
    "\n",
    "y = np.array([[0]])\n",
    "grad_list_reps = []\n",
    "\n",
    "for i in tqdm(range(3, 10)):\n",
    "    x = np.array([i*[np.pi/8]])\n",
    "    grad = 0\n",
    "    for j in tqdm(range(n), leave=False):    \n",
    "        network = sequential([i, 1], backend, reps = 3, shots = 10000)\n",
    "        network.backward(x, y)\n",
    "        grad += np.abs(network.weight_gradient_list[0])\n",
    "    \n",
    "    grad /= n\n",
    "    grad_list_reps.append(grad)"
   ]
  },
  {
   "cell_type": "code",
   "execution_count": null,
   "metadata": {},
   "outputs": [],
   "source": [
    "grad_list_reps_sub = []\n",
    "for i, j in enumerate(range(3, 10)):\n",
    "    grad_list_reps_sub.append([grad_list_reps[i][0][0][0], grad_list_reps[i][0][j][0], grad_list_reps[i][0][2*j][0]])"
   ]
  },
  {
   "cell_type": "code",
   "execution_count": null,
   "metadata": {},
   "outputs": [],
   "source": [
    "plt.plot(grad_list_reps_sub)\n",
    "plt.show()"
   ]
  },
  {
   "cell_type": "code",
   "execution_count": null,
   "metadata": {},
   "outputs": [],
   "source": []
  }
 ],
 "metadata": {
  "kernelspec": {
   "display_name": "env_qiskit",
   "language": "python",
   "name": "env_qiskit"
  },
  "language_info": {
   "codemirror_mode": {
    "name": "ipython",
    "version": 3
   },
   "file_extension": ".py",
   "mimetype": "text/x-python",
   "name": "python",
   "nbconvert_exporter": "python",
   "pygments_lexer": "ipython3",
   "version": "3.9.1"
  }
 },
 "nbformat": 4,
 "nbformat_minor": 4
}
