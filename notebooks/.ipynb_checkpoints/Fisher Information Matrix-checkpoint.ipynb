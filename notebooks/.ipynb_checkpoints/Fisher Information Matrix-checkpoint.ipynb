{
 "cells": [
  {
   "cell_type": "code",
   "execution_count": 1,
   "metadata": {},
   "outputs": [],
   "source": [
    "import numpy as np\n",
    "import qiskit as qk\n",
    "import matplotlib.pyplot as plt\n",
    "from qiskit import Aer\n",
    "from tqdm.notebook import tqdm\n",
    "\n",
    "import sys\n",
    "sys.path.insert(0, '../src/')\n",
    "from neuralnetwork import *\n",
    "from analysis import *\n",
    "\n",
    "%matplotlib notebook\n",
    "#%matplotlib inline\n",
    "%load_ext autoreload\n",
    "%autoreload 2"
   ]
  },
  {
   "cell_type": "markdown",
   "metadata": {},
   "source": [
    "# Fisher Information Matrix"
   ]
  },
  {
   "cell_type": "markdown",
   "metadata": {},
   "source": [
    "## Random Initialization"
   ]
  },
  {
   "cell_type": "markdown",
   "metadata": {},
   "source": [
    "### Quantum Neural Network"
   ]
  },
  {
   "cell_type": "code",
   "execution_count": null,
   "metadata": {},
   "outputs": [],
   "source": [
    "np.random.seed(42)\n",
    "backend = Aer.get_backend('qasm_simulator')\n",
    "\n",
    "layer1 = QLayer(n_qubits=1, n_features=1, n_targets=5, encoder=Encoder(), ansatz=Ansatz(), reps=1, scale=np.pi, backend=backend, shots=100000)\n",
    "layer2 = QLayer(n_qubits=5, n_features=5, n_targets=5, encoder=Encoder(), ansatz=Ansatz(), reps=1, scale=np.pi, backend=backend, shots=100000)\n",
    "layer3 = QLayer(n_qubits=5, n_features=5, n_targets=1, encoder=Encoder(), ansatz=Ansatz(), reps=1, scale=1, backend=backend, shots=100000)\n",
    "\n",
    "\n",
    "layers = [layer1, layer2, layer3]\n",
    "\n",
    "optimizer = Adam()\n",
    "network = NeuralNetwork(layers, optimizer)"
   ]
  },
  {
   "cell_type": "code",
   "execution_count": null,
   "metadata": {},
   "outputs": [],
   "source": [
    "x = np.random.uniform(0, 1, 100).reshape(-1,1)\n",
    "y = np.exp(-10*(x-0.5)**2) - 0.05"
   ]
  },
  {
   "cell_type": "code",
   "execution_count": null,
   "metadata": {},
   "outputs": [],
   "source": [
    "fim1, fr1 = fisher_information_matrix(network, x, y)"
   ]
  },
  {
   "cell_type": "code",
   "execution_count": null,
   "metadata": {},
   "outputs": [],
   "source": [
    "eigen = np.linalg.eig(fim1)[0]\n",
    "eigen[::-1].sort()\n",
    "print(len(eigen))\n",
    "print(eigen)\n",
    "print(fr1)"
   ]
  },
  {
   "cell_type": "markdown",
   "metadata": {},
   "source": [
    "### Classic Neural Network"
   ]
  },
  {
   "cell_type": "code",
   "execution_count": null,
   "metadata": {},
   "outputs": [],
   "source": [
    "np.random.seed(42)\n",
    "\n",
    "layer1 = Dense(n_features=1, n_targets=4, scale = 1, activation = Sigmoid())\n",
    "layer2 = Dense(n_features=4, n_targets=4, scale = 1, activation = Sigmoid())\n",
    "layer3 = Dense(n_features=4, n_targets=1, scale = 1, activation = Identity())\n",
    "layers =[layer1, layer2, layer3]\n",
    "\n",
    "optimizer = Adam()\n",
    "network = NeuralNetwork(layers, optimizer)"
   ]
  },
  {
   "cell_type": "code",
   "execution_count": null,
   "metadata": {},
   "outputs": [],
   "source": [
    "x = np.random.uniform(0, 1, 100).reshape(-1,1)\n",
    "y = np.exp(-10*(x-0.5)**2) - 0.05"
   ]
  },
  {
   "cell_type": "code",
   "execution_count": null,
   "metadata": {},
   "outputs": [],
   "source": [
    "fim2, fr2 = fisher_information_matrix(network, x, y)"
   ]
  },
  {
   "cell_type": "code",
   "execution_count": null,
   "metadata": {},
   "outputs": [],
   "source": [
    "eigen = np.linalg.eig(fim2)[0]\n",
    "eigen[::-1].sort()\n",
    "print(len(eigen))\n",
    "print(eigen)\n",
    "print(fr2)"
   ]
  },
  {
   "cell_type": "markdown",
   "metadata": {},
   "source": [
    "## Global minimum"
   ]
  },
  {
   "cell_type": "markdown",
   "metadata": {},
   "source": [
    "### Quantum Neural Network"
   ]
  },
  {
   "cell_type": "code",
   "execution_count": 10,
   "metadata": {},
   "outputs": [],
   "source": [
    "np.random.seed(42)\n",
    "backend = Aer.get_backend('qasm_simulator')\n",
    "\n",
    "layer1 = QLayer(n_qubits=1, n_features=1, n_targets=5, encoder=Encoder(), ansatz=Ansatz(), reps=1, scale=np.pi, backend=backend, shots=100000)\n",
    "layer2 = QLayer(n_qubits=5, n_features=5, n_targets=5, encoder=Encoder(), ansatz=Ansatz(), reps=1, scale=np.pi, backend=backend, shots=100000)\n",
    "layer3 = QLayer(n_qubits=5, n_features=5, n_targets=1, encoder=Encoder(), ansatz=Ansatz(), reps=1, scale=1, backend=backend, shots=100000)\n",
    "\n",
    "\n",
    "layers = [layer1, layer2, layer3]\n",
    "\n",
    "optimizer = Adam()\n",
    "network = NeuralNetwork(layers, optimizer)"
   ]
  },
  {
   "cell_type": "code",
   "execution_count": 11,
   "metadata": {},
   "outputs": [],
   "source": [
    "x = np.random.uniform(0, 1, 100).reshape(-1,1)\n",
    "y = network.predict(x) + np.random.normal(0, 0.1, 100).reshape(-1,1)"
   ]
  },
  {
   "cell_type": "code",
   "execution_count": 12,
   "metadata": {},
   "outputs": [
    {
     "data": {
      "application/vnd.jupyter.widget-view+json": {
       "model_id": "1ca2cbcb42a44b8c982302a08501eb7d",
       "version_major": 2,
       "version_minor": 0
      },
      "text/plain": [
       "  0%|          | 0/100 [00:00<?, ?it/s]"
      ]
     },
     "metadata": {},
     "output_type": "display_data"
    }
   ],
   "source": [
    "fim3, fr3 = fisher_information_matrix(network, x, y)"
   ]
  },
  {
   "cell_type": "code",
   "execution_count": 13,
   "metadata": {},
   "outputs": [
    {
     "name": "stdout",
     "output_type": "stream",
     "text": [
      "35\n",
      "[1.45080493e-03 3.15897803e-04 2.15971793e-04 1.58916669e-04\n",
      " 7.86888709e-05 5.97111804e-05 3.03360896e-05 1.51942055e-05\n",
      " 7.84854977e-06 4.42483314e-06 3.25913046e-06 1.74027470e-06\n",
      " 1.00196207e-06 2.76220793e-07 1.33173999e-07 7.58482713e-08\n",
      " 5.94657566e-08 3.54775842e-08 2.13251125e-08 1.56754427e-08\n",
      " 1.26461459e-08 9.34918164e-09 8.61756024e-09 7.32019757e-09\n",
      " 5.56878395e-09 4.04712983e-09 2.80947175e-09 2.59992783e-09\n",
      " 1.61798696e-09 1.33389770e-09 1.06344032e-09 5.51275499e-10\n",
      " 3.21910191e-10 6.45165152e-11 4.13461595e-11]\n",
      "[[0.00472609]]\n"
     ]
    }
   ],
   "source": [
    "eigen = np.linalg.eig(fim3)[0]\n",
    "eigen[::-1].sort()\n",
    "print(len(eigen))\n",
    "print(eigen)\n",
    "print(fr3)"
   ]
  },
  {
   "cell_type": "markdown",
   "metadata": {},
   "source": [
    "### Classic Neural Network"
   ]
  },
  {
   "cell_type": "code",
   "execution_count": 18,
   "metadata": {},
   "outputs": [],
   "source": [
    "np.random.seed(40)\n",
    "\n",
    "layer1 = Dense(n_features=1, n_targets=4, scale = 1, activation = Sigmoid())\n",
    "layer2 = Dense(n_features=4, n_targets=4, scale = 1, activation = Sigmoid())\n",
    "layer3 = Dense(n_features=4, n_targets=1, scale = 1, activation = Identity())\n",
    "layers =[layer1, layer2, layer3]\n",
    "\n",
    "optimizer = Adam()\n",
    "network = NeuralNetwork(layers, optimizer)"
   ]
  },
  {
   "cell_type": "code",
   "execution_count": 19,
   "metadata": {},
   "outputs": [],
   "source": [
    "x = np.random.uniform(0, 1, 100).reshape(-1,1)\n",
    "y = network.predict(x) + np.random.normal(0, 0.1, 100).reshape(-1,1)"
   ]
  },
  {
   "cell_type": "code",
   "execution_count": 20,
   "metadata": {},
   "outputs": [
    {
     "data": {
      "application/vnd.jupyter.widget-view+json": {
       "model_id": "1072ddbea3134aed9be220d8047404cf",
       "version_major": 2,
       "version_minor": 0
      },
      "text/plain": [
       "  0%|          | 0/100 [00:00<?, ?it/s]"
      ]
     },
     "metadata": {},
     "output_type": "display_data"
    }
   ],
   "source": [
    "fim4, fr4 = fisher_information_matrix(network, x, y)"
   ]
  },
  {
   "cell_type": "code",
   "execution_count": 21,
   "metadata": {},
   "outputs": [
    {
     "name": "stdout",
     "output_type": "stream",
     "text": [
      "33\n",
      "[ 2.07546640e-02+0.00000000e+00j  4.38287766e-06+0.00000000e+00j\n",
      "  2.38921251e-10+0.00000000e+00j  2.53986154e-12+0.00000000e+00j\n",
      "  5.85662102e-17+0.00000000e+00j  2.62052692e-18+0.00000000e+00j\n",
      "  1.35682473e-18+0.00000000e+00j  5.63145139e-19+0.00000000e+00j\n",
      "  2.84034272e-19+0.00000000e+00j  1.93713297e-19+0.00000000e+00j\n",
      "  1.24840953e-19+0.00000000e+00j  1.12488128e-19+0.00000000e+00j\n",
      "  7.78587717e-20+0.00000000e+00j  5.91551977e-20+0.00000000e+00j\n",
      "  3.80454209e-20+0.00000000e+00j  2.22426359e-20+1.10123847e-20j\n",
      "  2.22426359e-20-1.10123847e-20j  8.00017902e-21+0.00000000e+00j\n",
      " -1.85103475e-22+1.87496039e-21j -1.85103475e-22-1.87496039e-21j\n",
      " -3.77761854e-21+2.84797633e-21j -3.77761854e-21-2.84797633e-21j\n",
      " -2.52900981e-20+0.00000000e+00j -3.87081449e-20+0.00000000e+00j\n",
      " -4.64340298e-20+0.00000000e+00j -5.22757321e-20+0.00000000e+00j\n",
      " -7.87313829e-20+0.00000000e+00j -8.28758223e-20+0.00000000e+00j\n",
      " -1.62769420e-19+0.00000000e+00j -1.95352737e-19+0.00000000e+00j\n",
      " -2.93938978e-19+0.00000000e+00j -6.15152038e-19+0.00000000e+00j\n",
      " -1.76960176e-18+0.00000000e+00j]\n",
      "[[0.0127021]]\n"
     ]
    }
   ],
   "source": [
    "eigen = np.linalg.eig(fim4)[0]\n",
    "eigen[::-1].sort()\n",
    "print(len(eigen))\n",
    "print(eigen)\n",
    "print(fr4)"
   ]
  },
  {
   "cell_type": "code",
   "execution_count": null,
   "metadata": {},
   "outputs": [],
   "source": []
  }
 ],
 "metadata": {
  "kernelspec": {
   "display_name": "env_qiskit",
   "language": "python",
   "name": "env_qiskit"
  },
  "language_info": {
   "codemirror_mode": {
    "name": "ipython",
    "version": 3
   },
   "file_extension": ".py",
   "mimetype": "text/x-python",
   "name": "python",
   "nbconvert_exporter": "python",
   "pygments_lexer": "ipython3",
   "version": "3.8.5"
  }
 },
 "nbformat": 4,
 "nbformat_minor": 4
}
