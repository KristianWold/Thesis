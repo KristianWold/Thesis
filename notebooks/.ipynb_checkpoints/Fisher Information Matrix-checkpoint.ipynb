{
 "cells": [
  {
   "cell_type": "code",
   "execution_count": 5,
   "metadata": {},
   "outputs": [
    {
     "name": "stdout",
     "output_type": "stream",
     "text": [
      "The autoreload extension is already loaded. To reload it, use:\n",
      "  %reload_ext autoreload\n"
     ]
    }
   ],
   "source": [
    "import numpy as np\n",
    "import qiskit as qk\n",
    "import matplotlib.pyplot as plt\n",
    "from qiskit import Aer\n",
    "from tqdm.notebook import tqdm\n",
    "\n",
    "import sys\n",
    "sys.path.insert(0, '../src/')\n",
    "from neuralnetwork import *\n",
    "from analysis import *\n",
    "\n",
    "%matplotlib notebook\n",
    "#%matplotlib inline\n",
    "%load_ext autoreload\n",
    "%autoreload 2"
   ]
  },
  {
   "cell_type": "markdown",
   "metadata": {},
   "source": [
    "## QNN"
   ]
  },
  {
   "cell_type": "code",
   "execution_count": 30,
   "metadata": {},
   "outputs": [],
   "source": [
    "np.random.seed(42)\n",
    "backend = Aer.get_backend('qasm_simulator')\n",
    "\n",
    "layer1 = QLayer(n_qubits=1, n_features=1, n_targets=5, encoder=Encoder(), ansatz=Ansatz(), reps=1, scale=np.pi, backend=backend, shots=100000)\n",
    "layer2 = QLayer(n_qubits=5, n_features=5, n_targets=5, encoder=Encoder(), ansatz=Ansatz(), reps=1, scale=np.pi, backend=backend, shots=100000)\n",
    "layer3 = QLayer(n_qubits=5, n_features=5, n_targets=1, encoder=Encoder(), ansatz=Ansatz(), reps=1, scale=1, backend=backend, shots=100000)\n",
    "\n",
    "\n",
    "layers = [layer1, layer2, layer3]\n",
    "\n",
    "optimizer = Adam(lr=0.1)\n",
    "network = NeuralNetwork(layers, optimizer)"
   ]
  },
  {
   "cell_type": "code",
   "execution_count": 31,
   "metadata": {},
   "outputs": [],
   "source": [
    "x = np.random.uniform(0, 1, 100).reshape(-1,1)\n",
    "y = np.exp(-10*(x-0.5)**2) - 0.05"
   ]
  },
  {
   "cell_type": "code",
   "execution_count": null,
   "metadata": {},
   "outputs": [
    {
     "data": {
      "application/vnd.jupyter.widget-view+json": {
       "model_id": "b9c9bd8ef5e247afbef0a2b7c92838ba",
       "version_major": 2,
       "version_minor": 0
      },
      "text/plain": [
       "  0%|          | 0/100 [00:00<?, ?it/s]"
      ]
     },
     "metadata": {},
     "output_type": "display_data"
    }
   ],
   "source": [
    "fim_list1 = []\n",
    "for x_, y_ in tqdm(zip(x, y), total=len(x)):\n",
    "    x_ = x_.reshape(1, -1)\n",
    "    y_ = y_.reshape(1, -1)\n",
    "\n",
    "    network.backward(x_, y_)\n",
    "    weight_gradient_list1 = []\n",
    "\n",
    "    for grad in network.weight_gradient_list:\n",
    "        weight_gradient_list1.append(grad.flatten())\n",
    "\n",
    "    weight_gradient_list1 = np.concatenate(weight_gradient_list1).reshape(-1, 1)\n",
    "\n",
    "    fim_ = weight_gradient_list1 @ weight_gradient_list1.T\n",
    "\n",
    "    fim_list1.append(fim_)\n",
    "\n",
    "fim1 = np.mean(np.array(fim_list1), axis=0)\n",
    "fim1.sort()\n",
    "\n",
    "fr1 = weight_gradient_list1.T@fim1@weight_gradient_list1"
   ]
  },
  {
   "cell_type": "code",
   "execution_count": 9,
   "metadata": {},
   "outputs": [
    {
     "name": "stdout",
     "output_type": "stream",
     "text": [
      "[2.66576309e-02 6.00857693e-03 3.65054870e-03 2.68222183e-03\n",
      " 8.97405858e-04 4.35135044e-04 2.79298168e-04 2.24200754e-04\n",
      " 1.21098929e-04 3.52375383e-05 2.21738056e-05 1.26715108e-05\n",
      " 3.83228126e-06 2.10110559e-06 1.71394197e-06 1.43679552e-06\n",
      " 7.02094097e-07 4.22594214e-07 2.81700276e-07 2.35629547e-07\n",
      " 2.25737897e-07 1.65502293e-07 1.17544851e-07 1.02254026e-07\n",
      " 1.01182454e-07 7.38959687e-08 5.29437908e-08 4.25276481e-08\n",
      " 3.22443107e-08 2.29674237e-08 1.57137992e-08 1.11244968e-08\n",
      " 5.43243016e-09 8.83788871e-10 1.46013455e-09]\n"
     ]
    }
   ],
   "source": [
    "print(np.linalg.eig(fim)[0])"
   ]
  },
  {
   "cell_type": "code",
   "execution_count": null,
   "metadata": {},
   "outputs": [],
   "source": [
    "print(fr1)"
   ]
  },
  {
   "cell_type": "markdown",
   "metadata": {},
   "source": [
    "### classic"
   ]
  },
  {
   "cell_type": "code",
   "execution_count": 22,
   "metadata": {},
   "outputs": [],
   "source": [
    "np.random.seed(42)\n",
    "backend = Aer.get_backend('qasm_simulator')\n",
    "\n",
    "layer1 = Dense(n_features=1, n_targets=5, scale = 1, activation = Sigmoid())\n",
    "layer2 = Dense(n_features=5, n_targets=5, scale = 1, activation = Sigmoid())\n",
    "layer3 = Dense(n_features=5, n_targets=1, scale = 1, activation = Identity())\n",
    "layers =[layer1, layer2, layer3]\n",
    "\n",
    "layers = [layer1, layer2, layer3]\n",
    "\n",
    "optimizer = Adam(lr=0.1)\n",
    "network = NeuralNetwork(layers, optimizer)"
   ]
  },
  {
   "cell_type": "code",
   "execution_count": 23,
   "metadata": {},
   "outputs": [],
   "source": [
    "x = np.random.uniform(0, 1, 100).reshape(-1,1)\n",
    "y = np.exp(-10*(x-0.5)**2) - 0.05"
   ]
  },
  {
   "cell_type": "code",
   "execution_count": 24,
   "metadata": {},
   "outputs": [
    {
     "data": {
      "application/vnd.jupyter.widget-view+json": {
       "model_id": "4b0455934af044cda92603563a558dff",
       "version_major": 2,
       "version_minor": 0
      },
      "text/plain": [
       "|          | 0/? [00:00<?, ?it/s]"
      ]
     },
     "metadata": {},
     "output_type": "display_data"
    }
   ],
   "source": [
    "fim_list2 = []\n",
    "for x_, y_ in tqdm(zip(x, y)):\n",
    "    x_ = x_.reshape(1, -1)\n",
    "    y_ = y_.reshape(1, -1)\n",
    "\n",
    "    network.backward(x_, y_)\n",
    "    weight_gradient_list2 = []\n",
    "\n",
    "    for grad in network.weight_gradient_list:\n",
    "        weight_gradient_list2.append(grad.flatten())\n",
    "\n",
    "    weight_gradient_list2 = np.concatenate(weight_gradient_list2).reshape(-1, 1)\n",
    "\n",
    "    fim_ = weight_gradient_list2 @ weight_gradient_list2.T\n",
    "\n",
    "    fim_list2.append(fim_)\n",
    "\n",
    "fim2 = np.mean(np.array(fim_list2), axis=0, dtype = \"float64\")\n",
    "fim2.sort()\n",
    "\n",
    "fr2 = weight_gradient_list2.T@fim2@weight_gradient_list2"
   ]
  },
  {
   "cell_type": "code",
   "execution_count": 25,
   "metadata": {},
   "outputs": [
    {
     "name": "stdout",
     "output_type": "stream",
     "text": [
      "[ 1.10196543e+00+0.00000000e+00j  2.69173081e-02+0.00000000e+00j\n",
      "  5.49593617e-05+0.00000000e+00j -4.23648094e-06+0.00000000e+00j\n",
      " -1.05537874e-10+2.60064874e-10j -1.05537874e-10-2.60064874e-10j\n",
      " -2.93683921e-11+0.00000000e+00j  8.41443147e-13+0.00000000e+00j\n",
      "  6.44903061e-16+0.00000000e+00j  1.11666027e-16+2.62884722e-17j\n",
      "  1.11666027e-16-2.62884722e-17j -1.14626674e-16+1.11584565e-17j\n",
      " -1.14626674e-16-1.11584565e-17j  3.55323118e-17+5.31606370e-17j\n",
      "  3.55323118e-17-5.31606370e-17j -4.93535199e-17+0.00000000e+00j\n",
      " -3.65771500e-18+3.61374455e-17j -3.65771500e-18-3.61374455e-17j\n",
      " -3.59579071e-17+0.00000000e+00j  2.34236725e-17+0.00000000e+00j\n",
      "  1.73473912e-17+0.00000000e+00j  3.71458289e-18+5.31240001e-18j\n",
      "  3.71458289e-18-5.31240001e-18j -5.45407119e-18+0.00000000e+00j\n",
      "  6.11145222e-19+4.22407510e-18j  6.11145222e-19-4.22407510e-18j\n",
      " -1.77158102e-18+2.20493478e-18j -1.77158102e-18-2.20493478e-18j\n",
      "  2.20471076e-18+0.00000000e+00j -6.61671044e-19+1.34668422e-18j\n",
      " -6.61671044e-19-1.34668422e-18j -1.22661673e-18+0.00000000e+00j\n",
      " -1.27820747e-19+4.94677067e-19j -1.27820747e-19-4.94677067e-19j\n",
      " -3.03731517e-19+0.00000000e+00j  2.88679695e-19+0.00000000e+00j\n",
      "  1.81059328e-19+1.41869664e-19j  1.81059328e-19-1.41869664e-19j\n",
      " -6.04972440e-20+1.39990343e-19j -6.04972440e-20-1.39990343e-19j\n",
      "  7.08680508e-20+2.03392596e-20j  7.08680508e-20-2.03392596e-20j\n",
      " -6.85843895e-20+0.00000000e+00j  2.56284056e-21+9.82179824e-21j\n",
      "  2.56284056e-21-9.82179824e-21j -5.01755221e-21+0.00000000e+00j]\n"
     ]
    }
   ],
   "source": [
    "print(np.linalg.eig(fim2)[0])"
   ]
  },
  {
   "cell_type": "code",
   "execution_count": 26,
   "metadata": {},
   "outputs": [
    {
     "name": "stdout",
     "output_type": "stream",
     "text": [
      "[[0.15862892]]\n"
     ]
    }
   ],
   "source": [
    "print(fr2)"
   ]
  },
  {
   "cell_type": "code",
   "execution_count": null,
   "metadata": {},
   "outputs": [],
   "source": []
  }
 ],
 "metadata": {
  "kernelspec": {
   "display_name": "env_qiskit",
   "language": "python",
   "name": "env_qiskit"
  },
  "language_info": {
   "codemirror_mode": {
    "name": "ipython",
    "version": 3
   },
   "file_extension": ".py",
   "mimetype": "text/x-python",
   "name": "python",
   "nbconvert_exporter": "python",
   "pygments_lexer": "ipython3",
   "version": "3.9.1"
  }
 },
 "nbformat": 4,
 "nbformat_minor": 4
}
