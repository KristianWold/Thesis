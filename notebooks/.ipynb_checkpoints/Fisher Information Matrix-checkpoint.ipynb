{
 "cells": [
  {
   "cell_type": "code",
   "execution_count": 5,
   "metadata": {},
   "outputs": [
    {
     "name": "stdout",
     "output_type": "stream",
     "text": [
      "The autoreload extension is already loaded. To reload it, use:\n",
      "  %reload_ext autoreload\n"
     ]
    }
   ],
   "source": [
    "import numpy as np\n",
    "import qiskit as qk\n",
    "import matplotlib.pyplot as plt\n",
    "from qiskit import Aer\n",
    "from tqdm.notebook import tqdm\n",
    "\n",
    "import sys\n",
    "sys.path.insert(0, '../src/')\n",
    "from neuralnetwork import *\n",
    "from analysis import *\n",
    "\n",
    "%matplotlib notebook\n",
    "#%matplotlib inline\n",
    "%load_ext autoreload\n",
    "%autoreload 2"
   ]
  },
  {
   "cell_type": "markdown",
   "metadata": {},
   "source": [
    "# Fisher Information Matrix"
   ]
  },
  {
   "cell_type": "markdown",
   "metadata": {},
   "source": [
    "## Random Initialization"
   ]
  },
  {
   "cell_type": "markdown",
   "metadata": {},
   "source": [
    "### Quantum Neural Network"
   ]
  },
  {
   "cell_type": "code",
   "execution_count": 31,
   "metadata": {},
   "outputs": [],
   "source": [
    "np.random.seed(42)\n",
    "backend = Aer.get_backend('qasm_simulator')\n",
    "\n",
    "layer1 = QLayer(n_qubits=1, n_features=1, n_targets=5, encoder=Encoder(), ansatz=Ansatz(), reps=1, scale=np.pi, backend=backend, shots=100000)\n",
    "layer2 = QLayer(n_qubits=5, n_features=5, n_targets=5, encoder=Encoder(), ansatz=Ansatz(), reps=1, scale=np.pi, backend=backend, shots=100000)\n",
    "layer3 = QLayer(n_qubits=5, n_features=5, n_targets=1, encoder=Encoder(), ansatz=Ansatz(), reps=1, scale=1, backend=backend, shots=100000)\n",
    "\n",
    "\n",
    "layers = [layer1, layer2, layer3]\n",
    "\n",
    "optimizer = Adam()\n",
    "network = NeuralNetwork(layers, optimizer)"
   ]
  },
  {
   "cell_type": "code",
   "execution_count": 32,
   "metadata": {},
   "outputs": [],
   "source": [
    "x = np.random.uniform(0, 1, 100).reshape(-1,1)\n",
    "y = np.exp(-10*(x-0.5)**2) - 0.05"
   ]
  },
  {
   "cell_type": "code",
   "execution_count": 33,
   "metadata": {},
   "outputs": [
    {
     "data": {
      "application/vnd.jupyter.widget-view+json": {
       "model_id": "07b601b16b834ef788fbe8746d929916",
       "version_major": 2,
       "version_minor": 0
      },
      "text/plain": [
       "  0%|          | 0/100 [00:00<?, ?it/s]"
      ]
     },
     "metadata": {},
     "output_type": "display_data"
    }
   ],
   "source": [
    "fim1, fr1 = fisher_information_matrix(network, x, y)"
   ]
  },
  {
   "cell_type": "code",
   "execution_count": 34,
   "metadata": {},
   "outputs": [
    {
     "name": "stdout",
     "output_type": "stream",
     "text": [
      "35\n",
      "[2.66267824e-02 6.01431741e-03 3.60964109e-03 2.67456201e-03\n",
      " 8.95841969e-04 4.23556583e-04 2.77707767e-04 2.21133619e-04\n",
      " 1.21147767e-04 3.47705159e-05 2.07203010e-05 1.34725394e-05\n",
      " 3.57081415e-06 1.76804899e-06 1.16573969e-06 8.50909366e-07\n",
      " 6.32206275e-07 4.39450405e-07 3.36056779e-07 3.32320222e-07\n",
      " 1.95215800e-07 1.82181201e-07 1.55399640e-07 1.25999004e-07\n",
      " 8.75712103e-08 6.20649084e-08 4.49457022e-08 3.74453236e-08\n",
      " 3.08793439e-08 2.91976748e-08 1.58635471e-08 1.48188179e-08\n",
      " 6.50063807e-09 1.32089804e-09 5.10881593e-10]\n",
      "[[0.09273945]]\n"
     ]
    }
   ],
   "source": [
    "eigen = np.linalg.eig(fim1)[0]\n",
    "eigen[::-1].sort()\n",
    "print(len(eigen))\n",
    "print(eigen)\n",
    "print(fr1)"
   ]
  },
  {
   "cell_type": "markdown",
   "metadata": {},
   "source": [
    "### Classic Neural Network"
   ]
  },
  {
   "cell_type": "code",
   "execution_count": 36,
   "metadata": {},
   "outputs": [],
   "source": [
    "np.random.seed(42)\n",
    "\n",
    "layer1 = Dense(n_features=1, n_targets=4, scale = 1, activation = Sigmoid())\n",
    "layer2 = Dense(n_features=4, n_targets=4, scale = 1, activation = Sigmoid())\n",
    "layer3 = Dense(n_features=4, n_targets=1, scale = 1, activation = Identity())\n",
    "layers =[layer1, layer2, layer3]\n",
    "\n",
    "optimizer = Adam()\n",
    "network = NeuralNetwork(layers, optimizer)"
   ]
  },
  {
   "cell_type": "code",
   "execution_count": 37,
   "metadata": {},
   "outputs": [],
   "source": [
    "x = np.random.uniform(0, 1, 100).reshape(-1,1)\n",
    "y = np.exp(-10*(x-0.5)**2) - 0.05"
   ]
  },
  {
   "cell_type": "code",
   "execution_count": 38,
   "metadata": {},
   "outputs": [
    {
     "data": {
      "application/vnd.jupyter.widget-view+json": {
       "model_id": "e13ce4625da345929a2d01d2654f19c2",
       "version_major": 2,
       "version_minor": 0
      },
      "text/plain": [
       "  0%|          | 0/100 [00:00<?, ?it/s]"
      ]
     },
     "metadata": {},
     "output_type": "display_data"
    }
   ],
   "source": [
    "fim2, fr2 = fisher_information_matrix(network, x, y)"
   ]
  },
  {
   "cell_type": "code",
   "execution_count": 30,
   "metadata": {},
   "outputs": [
    {
     "name": "stdout",
     "output_type": "stream",
     "text": [
      "33\n",
      "[ 6.47396801e+00+0.00000000e+00j  9.74304635e-04+0.00000000e+00j\n",
      "  5.26353924e-08+0.00000000e+00j  7.03969418e-10+0.00000000e+00j\n",
      "  1.67693034e-14+0.00000000e+00j  6.63935140e-16+0.00000000e+00j\n",
      "  4.01771371e-16+0.00000000e+00j  1.90944830e-16+0.00000000e+00j\n",
      "  9.14756457e-17+3.82808896e-18j  9.14756457e-17-3.82808896e-18j\n",
      "  5.27921803e-17+0.00000000e+00j  3.40549935e-17+0.00000000e+00j\n",
      "  2.38535949e-17+0.00000000e+00j  1.65581273e-17+8.59118720e-19j\n",
      "  1.65581273e-17-8.59118720e-19j  6.06707096e-18+0.00000000e+00j\n",
      "  4.13419559e-18+0.00000000e+00j  2.11830422e-18+7.48047551e-20j\n",
      "  2.11830422e-18-7.48047551e-20j  1.69304546e-19+0.00000000e+00j\n",
      "  9.30153095e-21+0.00000000e+00j -3.55450149e-18+0.00000000e+00j\n",
      " -3.91335052e-18+0.00000000e+00j -1.00881738e-17+1.67797439e-19j\n",
      " -1.00881738e-17-1.67797439e-19j -1.44380898e-17+0.00000000e+00j\n",
      " -2.22263719e-17+0.00000000e+00j -2.41192910e-17+0.00000000e+00j\n",
      " -5.73615563e-17+0.00000000e+00j -7.87193053e-17+0.00000000e+00j\n",
      " -1.83777362e-16+0.00000000e+00j -4.52423487e-16+0.00000000e+00j\n",
      " -6.59152290e-16+0.00000000e+00j]\n",
      "[[3.96484622]]\n"
     ]
    }
   ],
   "source": [
    "eigen = np.linalg.eig(fim2)[0]\n",
    "eigen[::-1].sort()\n",
    "print(len(eigen))\n",
    "print(eigen)\n",
    "print(fr2)"
   ]
  },
  {
   "cell_type": "markdown",
   "metadata": {},
   "source": [
    "## Global minimum"
   ]
  },
  {
   "cell_type": "markdown",
   "metadata": {},
   "source": [
    "### Quantum Neural Network"
   ]
  },
  {
   "cell_type": "code",
   "execution_count": 39,
   "metadata": {},
   "outputs": [],
   "source": [
    "np.random.seed(42)\n",
    "backend = Aer.get_backend('qasm_simulator')\n",
    "\n",
    "layer1 = QLayer(n_qubits=1, n_features=1, n_targets=5, encoder=Encoder(), ansatz=Ansatz(), reps=1, scale=np.pi, backend=backend, shots=100000)\n",
    "layer2 = QLayer(n_qubits=5, n_features=5, n_targets=5, encoder=Encoder(), ansatz=Ansatz(), reps=1, scale=np.pi, backend=backend, shots=100000)\n",
    "layer3 = QLayer(n_qubits=5, n_features=5, n_targets=1, encoder=Encoder(), ansatz=Ansatz(), reps=1, scale=1, backend=backend, shots=100000)\n",
    "\n",
    "\n",
    "layers = [layer1, layer2, layer3]\n",
    "\n",
    "optimizer = Adam()\n",
    "network = NeuralNetwork(layers, optimizer)"
   ]
  },
  {
   "cell_type": "code",
   "execution_count": 40,
   "metadata": {},
   "outputs": [],
   "source": [
    "x = np.random.uniform(0, 1, 100).reshape(-1,1)\n",
    "y = network.predict(x)"
   ]
  },
  {
   "cell_type": "code",
   "execution_count": 41,
   "metadata": {},
   "outputs": [
    {
     "data": {
      "application/vnd.jupyter.widget-view+json": {
       "model_id": "d76b5490111841a88b214bf82cb70db0",
       "version_major": 2,
       "version_minor": 0
      },
      "text/plain": [
       "  0%|          | 0/100 [00:00<?, ?it/s]"
      ]
     },
     "metadata": {},
     "output_type": "display_data"
    }
   ],
   "source": [
    "fim3, fr3 = fisher_information_matrix(network, x, y)"
   ]
  },
  {
   "cell_type": "code",
   "execution_count": 42,
   "metadata": {},
   "outputs": [
    {
     "name": "stdout",
     "output_type": "stream",
     "text": [
      "35\n",
      "[1.05749046e-06 7.10814208e-07 1.90972243e-07 1.23095549e-07\n",
      " 1.06895422e-07 5.88087298e-08 3.03356416e-08 1.55756642e-08\n",
      " 8.26278914e-09 5.44796497e-09 3.90043537e-09 1.68310824e-09\n",
      " 5.53897968e-10 2.46587546e-10 1.08338958e-10 8.44451862e-11\n",
      " 5.58304674e-11 3.58558831e-11 2.39448365e-11 1.93326253e-11\n",
      " 1.20081940e-11 9.31099645e-12 8.01660717e-12 5.86054614e-12\n",
      " 5.14508083e-12 3.27766559e-12 2.66402431e-12 2.05182460e-12\n",
      " 1.47656568e-12 1.20448828e-12 9.73649456e-13 8.00634156e-13\n",
      " 2.42811081e-13 7.12541709e-14 3.06704820e-14]\n",
      "[[4.92778815e-06]]\n"
     ]
    }
   ],
   "source": [
    "eigen = np.linalg.eig(fim3)[0]\n",
    "eigen[::-1].sort()\n",
    "print(len(eigen))\n",
    "print(eigen)\n",
    "print(fr3)"
   ]
  },
  {
   "cell_type": "markdown",
   "metadata": {},
   "source": [
    "### Classic Neural Network"
   ]
  },
  {
   "cell_type": "code",
   "execution_count": null,
   "metadata": {},
   "outputs": [],
   "source": [
    "np.random.seed(42)\n",
    "\n",
    "layer1 = Dense(n_features=1, n_targets=4, scale = 1, activation = Sigmoid())\n",
    "layer2 = Dense(n_features=4, n_targets=4, scale = 1, activation = Sigmoid())\n",
    "layer3 = Dense(n_features=4, n_targets=1, scale = 1, activation = Identity())\n",
    "layers =[layer1, layer2, layer3]\n",
    "\n",
    "optimizer = Adam()\n",
    "network = NeuralNetwork(layers, optimizer)"
   ]
  },
  {
   "cell_type": "code",
   "execution_count": null,
   "metadata": {},
   "outputs": [],
   "source": [
    "x = np.random.uniform(0, 1, 100).reshape(-1,1)\n",
    "y = network.predict(x)"
   ]
  },
  {
   "cell_type": "code",
   "execution_count": null,
   "metadata": {},
   "outputs": [],
   "source": [
    "fim4, fr4 = fisher_information_matrix(network, x, y)"
   ]
  },
  {
   "cell_type": "code",
   "execution_count": null,
   "metadata": {},
   "outputs": [],
   "source": [
    "eigen = np.linalg.eig(fim3)[0]\n",
    "eigen[::-1].sort()\n",
    "print(len(eigen))\n",
    "print(eigen)\n",
    "print(fr3)"
   ]
  }
 ],
 "metadata": {
  "kernelspec": {
   "display_name": "env_qiskit",
   "language": "python",
   "name": "env_qiskit"
  },
  "language_info": {
   "codemirror_mode": {
    "name": "ipython",
    "version": 3
   },
   "file_extension": ".py",
   "mimetype": "text/x-python",
   "name": "python",
   "nbconvert_exporter": "python",
   "pygments_lexer": "ipython3",
   "version": "3.9.1"
  }
 },
 "nbformat": 4,
 "nbformat_minor": 4
}
