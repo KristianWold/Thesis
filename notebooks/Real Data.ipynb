{
 "cells": [
  {
   "cell_type": "code",
   "execution_count": 1,
   "metadata": {},
   "outputs": [],
   "source": [
    "import numpy as np\n",
    "import qiskit as qk\n",
    "import matplotlib.pyplot as plt\n",
    "\n",
    "from qiskit import Aer\n",
    "from tqdm.notebook import tqdm\n",
    "from sklearn.datasets import load_digits\n",
    "from sklearn.model_selection import train_test_split\n",
    "\n",
    "import sys\n",
    "sys.path.insert(0, '../src/')\n",
    "from neuralnetwork import *\n",
    "from analysis import *\n",
    "\n",
    "%matplotlib notebook\n",
    "#%matplotlib inline\n",
    "%load_ext autoreload\n",
    "%autoreload 2"
   ]
  },
  {
   "cell_type": "markdown",
   "metadata": {},
   "source": [
    "### Digits data"
   ]
  },
  {
   "cell_type": "code",
   "execution_count": 2,
   "metadata": {},
   "outputs": [],
   "source": [
    "digits = load_digits()\n",
    "one_idx = (digits.target == 1)\n",
    "four_idx = (digits.target == 4)"
   ]
  },
  {
   "cell_type": "code",
   "execution_count": 3,
   "metadata": {},
   "outputs": [],
   "source": [
    "ones = digits.data[one_idx]\n",
    "fours =  digits.data[four_idx]\n",
    "\n",
    "x = np.concatenate((ones, fours))\n",
    "y = np.concatenate((np.zeros(len(ones)), np.ones(len(fours)))).reshape(-1,1)"
   ]
  },
  {
   "cell_type": "code",
   "execution_count": 4,
   "metadata": {},
   "outputs": [],
   "source": [
    "np.random.seed(42)\n",
    "x_train, x_test, y_train, y_test = train_test_split(x, y, test_size=0.2)"
   ]
  },
  {
   "cell_type": "markdown",
   "metadata": {},
   "source": [
    "### Network"
   ]
  },
  {
   "cell_type": "code",
   "execution_count": 5,
   "metadata": {},
   "outputs": [],
   "source": [
    "np.random.seed(42)\n",
    "backend = Aer.get_backend('qasm_simulator')\n",
    "\n",
    "layer1 = QLayer(n_qubits=8, n_features=64, n_targets=1, encoder=Encoder(), ansatz=Ansatz(), reps=1, scale=1, backend=backend, shots=1000)\n",
    "\n",
    "layers = [layer1]\n",
    "\n",
    "optimizer = Adam()\n",
    "network = NeuralNetwork(layers, optimizer)"
   ]
  },
  {
   "cell_type": "markdown",
   "metadata": {},
   "source": [
    "### Training"
   ]
  },
  {
   "cell_type": "code",
   "execution_count": null,
   "metadata": {},
   "outputs": [
    {
     "data": {
      "application/vnd.jupyter.widget-view+json": {
       "model_id": "b8a337be45684d1a878790984ee5bd6c",
       "version_major": 2,
       "version_minor": 0
      },
      "text/plain": [
       "  0%|          | 0/100 [00:00<?, ?it/s]"
      ]
     },
     "metadata": {},
     "output_type": "display_data"
    },
    {
     "name": "stdout",
     "output_type": "stream",
     "text": [
      "0.7499973\n",
      "0.7523318\n",
      "0.7590079000000001\n",
      "0.7603147\n",
      "0.7577893\n",
      "0.76396\n",
      "0.7637436\n",
      "0.7672924\n",
      "0.7611455\n",
      "0.7708142\n",
      "0.7746071\n",
      "0.7694905\n",
      "0.7740642\n",
      "0.770937\n",
      "0.7820182\n",
      "0.7864687\n",
      "0.7905174\n",
      "0.7848938000000001\n",
      "0.7878034\n",
      "0.7907087\n",
      "0.7914867\n",
      "0.7951708\n",
      "0.7931567\n",
      "0.806526\n",
      "0.7999024\n",
      "0.7995425\n",
      "0.8084985\n",
      "0.8116472\n",
      "0.8119076000000001\n",
      "0.8070077\n",
      "0.8223446\n",
      "0.8244621\n",
      "0.8209470999999999\n",
      "0.8138812\n",
      "0.8244125\n",
      "0.8187287\n",
      "0.8225004\n",
      "0.8175617\n",
      "0.8219274000000001\n",
      "0.8257556\n",
      "0.8238779\n",
      "0.8298264\n",
      "0.8309176\n",
      "0.8255761\n",
      "0.8286732\n",
      "0.8371756\n",
      "0.8239107999999999\n",
      "0.8282341\n",
      "0.8202532\n",
      "0.8313995000000001\n",
      "0.8271521\n",
      "0.8329287999999999\n",
      "0.8331653\n"
     ]
    }
   ],
   "source": [
    "for i in tqdm(range(100)):\n",
    "    network.backward(x_train[:10], y_train[:10])\n",
    "    network.step()\n",
    "    y_pred = network.predict(x_train[:10])\n",
    "    accuracy = 1 - np.mean((y_train[:10]-y_pred)**2)\n",
    "    print(accuracy)"
   ]
  },
  {
   "cell_type": "code",
   "execution_count": null,
   "metadata": {},
   "outputs": [],
   "source": []
  }
 ],
 "metadata": {
  "kernelspec": {
   "display_name": "env_qiskit",
   "language": "python",
   "name": "env_qiskit"
  },
  "language_info": {
   "codemirror_mode": {
    "name": "ipython",
    "version": 3
   },
   "file_extension": ".py",
   "mimetype": "text/x-python",
   "name": "python",
   "nbconvert_exporter": "python",
   "pygments_lexer": "ipython3",
   "version": "3.9.1"
  }
 },
 "nbformat": 4,
 "nbformat_minor": 4
}
