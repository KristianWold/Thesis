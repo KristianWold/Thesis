{
 "cells": [
  {
   "cell_type": "code",
   "execution_count": 3,
   "metadata": {},
   "outputs": [
    {
     "name": "stdout",
     "output_type": "stream",
     "text": [
      "The autoreload extension is already loaded. To reload it, use:\n",
      "  %reload_ext autoreload\n"
     ]
    }
   ],
   "source": [
    "import numpy as np\n",
    "import qiskit as qk\n",
    "import matplotlib.pyplot as plt\n",
    "from qiskit import Aer\n",
    "from tqdm.notebook import tqdm\n",
    "\n",
    "import sys\n",
    "sys.path.insert(0, '../src/')\n",
    "from neuralnetwork import *\n",
    "from analysis import *\n",
    "\n",
    "%matplotlib notebook\n",
    "#%matplotlib inline\n",
    "%load_ext autoreload\n",
    "%autoreload 2"
   ]
  },
  {
   "cell_type": "markdown",
   "metadata": {},
   "source": [
    "# Fisher Information Matrix"
   ]
  },
  {
   "cell_type": "markdown",
   "metadata": {},
   "source": [
    "## Random Initialization"
   ]
  },
  {
   "cell_type": "markdown",
   "metadata": {},
   "source": [
    "### Quantum Neural Network"
   ]
  },
  {
   "cell_type": "code",
   "execution_count": null,
   "metadata": {},
   "outputs": [],
   "source": [
    "np.random.seed(42)\n",
    "backend = Aer.get_backend('qasm_simulator')\n",
    "\n",
    "layer1 = QLayer(n_qubits=1, n_features=1, n_targets=5, encoder=Encoder(), ansatz=Ansatz(), reps=1, scale=np.pi, backend=backend, shots=100000)\n",
    "layer2 = QLayer(n_qubits=5, n_features=5, n_targets=5, encoder=Encoder(), ansatz=Ansatz(), reps=1, scale=np.pi, backend=backend, shots=100000)\n",
    "layer3 = QLayer(n_qubits=5, n_features=5, n_targets=1, encoder=Encoder(), ansatz=Ansatz(), reps=1, scale=1, backend=backend, shots=100000)\n",
    "\n",
    "\n",
    "layers = [layer1, layer2, layer3]\n",
    "\n",
    "optimizer = Adam()\n",
    "network = NeuralNetwork(layers, optimizer)"
   ]
  },
  {
   "cell_type": "code",
   "execution_count": null,
   "metadata": {},
   "outputs": [],
   "source": [
    "x = np.random.uniform(0, 1, 100).reshape(-1,1)\n",
    "y = np.exp(-10*(x-0.5)**2) - 0.05"
   ]
  },
  {
   "cell_type": "code",
   "execution_count": null,
   "metadata": {},
   "outputs": [],
   "source": [
    "fim1, fr1 = fisher_information_matrix(network, x, y)"
   ]
  },
  {
   "cell_type": "code",
   "execution_count": null,
   "metadata": {},
   "outputs": [],
   "source": [
    "eigen = np.linalg.eig(fim1)[0]\n",
    "eigen[::-1].sort()\n",
    "print(len(eigen))\n",
    "print(eigen)\n",
    "print(fr1)"
   ]
  },
  {
   "cell_type": "markdown",
   "metadata": {},
   "source": [
    "### Classic Neural Network"
   ]
  },
  {
   "cell_type": "code",
   "execution_count": null,
   "metadata": {},
   "outputs": [],
   "source": [
    "np.random.seed(42)\n",
    "\n",
    "layer1 = Dense(n_features=1, n_targets=4, scale = 1, activation = Sigmoid())\n",
    "layer2 = Dense(n_features=4, n_targets=4, scale = 1, activation = Sigmoid())\n",
    "layer3 = Dense(n_features=4, n_targets=1, scale = 1, activation = Identity())\n",
    "layers =[layer1, layer2, layer3]\n",
    "\n",
    "optimizer = Adam()\n",
    "network = NeuralNetwork(layers, optimizer)"
   ]
  },
  {
   "cell_type": "code",
   "execution_count": null,
   "metadata": {},
   "outputs": [],
   "source": [
    "x = np.random.uniform(0, 1, 100).reshape(-1,1)\n",
    "y = np.exp(-10*(x-0.5)**2) - 0.05"
   ]
  },
  {
   "cell_type": "code",
   "execution_count": null,
   "metadata": {},
   "outputs": [],
   "source": [
    "fim2, fr2 = fisher_information_matrix(network, x, y)"
   ]
  },
  {
   "cell_type": "code",
   "execution_count": null,
   "metadata": {},
   "outputs": [],
   "source": [
    "eigen = np.linalg.eig(fim2)[0]\n",
    "eigen[::-1].sort()\n",
    "print(len(eigen))\n",
    "print(eigen)\n",
    "print(fr2)"
   ]
  },
  {
   "cell_type": "markdown",
   "metadata": {},
   "source": [
    "## Global minimum"
   ]
  },
  {
   "cell_type": "markdown",
   "metadata": {},
   "source": [
    "### Quantum Neural Network"
   ]
  },
  {
   "cell_type": "code",
   "execution_count": 4,
   "metadata": {},
   "outputs": [],
   "source": [
    "np.random.seed(42)\n",
    "backend = Aer.get_backend('qasm_simulator')\n",
    "\n",
    "layer1 = QLayer(n_qubits=1, n_features=1, n_targets=5, encoder=Encoder(), ansatz=Ansatz(), reps=1, scale=np.pi, backend=backend, shots=100000)\n",
    "layer2 = QLayer(n_qubits=5, n_features=5, n_targets=5, encoder=Encoder(), ansatz=Ansatz(), reps=1, scale=np.pi, backend=backend, shots=100000)\n",
    "layer3 = QLayer(n_qubits=5, n_features=5, n_targets=1, encoder=Encoder(), ansatz=Ansatz(), reps=1, scale=1, backend=backend, shots=100000)\n",
    "\n",
    "\n",
    "layers = [layer1, layer2, layer3]\n",
    "\n",
    "optimizer = Adam()\n",
    "network = NeuralNetwork(layers, optimizer)"
   ]
  },
  {
   "cell_type": "code",
   "execution_count": 5,
   "metadata": {},
   "outputs": [],
   "source": [
    "x = np.random.uniform(0, 1, 100).reshape(-1,1)\n",
    "y = network.predict(x)# + np.random.normal(0, 0.1, 100).reshape(-1,1)"
   ]
  },
  {
   "cell_type": "code",
   "execution_count": 6,
   "metadata": {},
   "outputs": [
    {
     "data": {
      "application/vnd.jupyter.widget-view+json": {
       "model_id": "17e25ce468ce457ca0b6e85e254b1fa8",
       "version_major": 2,
       "version_minor": 0
      },
      "text/plain": [
       "  0%|          | 0/100 [00:00<?, ?it/s]"
      ]
     },
     "metadata": {},
     "output_type": "display_data"
    }
   ],
   "source": [
    "fim3, fr3 = fisher_information_matrix(network, x, y)"
   ]
  },
  {
   "cell_type": "code",
   "execution_count": 7,
   "metadata": {},
   "outputs": [
    {
     "name": "stdout",
     "output_type": "stream",
     "text": [
      "35\n",
      "[1.53663284e-01 4.85132565e-02 2.33499420e-02 1.65420139e-02\n",
      " 9.69863423e-03 6.53570014e-03 3.87731689e-03 2.08150178e-03\n",
      " 9.86928787e-04 6.31517239e-04 5.06236568e-04 2.95120785e-04\n",
      " 1.36576950e-04 3.47519802e-05 1.71332296e-05 1.32119959e-05\n",
      " 6.24137560e-06 4.74082604e-06 2.71572504e-06 2.53471278e-06\n",
      " 2.16338069e-06 1.39029059e-06 9.46391643e-07 8.34453025e-07\n",
      " 7.34427738e-07 5.35844953e-07 3.34931526e-07 3.10989236e-07\n",
      " 2.53149812e-07 2.45568530e-07 1.80074466e-07 1.14280159e-07\n",
      " 4.86705189e-08 1.26550019e-08 5.47973612e-09]\n",
      "[[0.50936122]]\n"
     ]
    }
   ],
   "source": [
    "eigen = np.linalg.eig(fim3)[0]\n",
    "eigen[::-1].sort()\n",
    "print(len(eigen))\n",
    "print(eigen)\n",
    "print(fr3)"
   ]
  },
  {
   "cell_type": "markdown",
   "metadata": {},
   "source": [
    "### Classic Neural Network"
   ]
  },
  {
   "cell_type": "code",
   "execution_count": 8,
   "metadata": {},
   "outputs": [],
   "source": [
    "np.random.seed(40)\n",
    "\n",
    "layer1 = Dense(n_features=1, n_targets=4, scale = 1, activation = Sigmoid())\n",
    "layer2 = Dense(n_features=4, n_targets=4, scale = 1, activation = Sigmoid())\n",
    "layer3 = Dense(n_features=4, n_targets=1, scale = 1, activation = Identity())\n",
    "layers =[layer1, layer2, layer3]\n",
    "\n",
    "optimizer = Adam()\n",
    "network = NeuralNetwork(layers, optimizer)"
   ]
  },
  {
   "cell_type": "code",
   "execution_count": 9,
   "metadata": {},
   "outputs": [],
   "source": [
    "x = np.random.uniform(0, 1, 100).reshape(-1,1)\n",
    "y = network.predict(x) + np.random.normal(0, 0.1, 100).reshape(-1,1)"
   ]
  },
  {
   "cell_type": "code",
   "execution_count": 10,
   "metadata": {},
   "outputs": [
    {
     "data": {
      "application/vnd.jupyter.widget-view+json": {
       "model_id": "a69d3c3d432d4c8cb10c301d66a149b6",
       "version_major": 2,
       "version_minor": 0
      },
      "text/plain": [
       "  0%|          | 0/100 [00:00<?, ?it/s]"
      ]
     },
     "metadata": {},
     "output_type": "display_data"
    }
   ],
   "source": [
    "fim4, fr4 = fisher_information_matrix(network, x, y)"
   ]
  },
  {
   "cell_type": "code",
   "execution_count": 11,
   "metadata": {},
   "outputs": [
    {
     "name": "stdout",
     "output_type": "stream",
     "text": [
      "33\n",
      "[ 2.43616964e+00  1.21259022e-04  7.17385956e-09  1.91080419e-11\n",
      "  2.30016614e-15  3.65200934e-16  1.21672498e-16  7.74385069e-17\n",
      "  6.49449086e-18  4.00465161e-18  1.65214655e-18  1.30681642e-18\n",
      "  9.57442797e-19  7.88353418e-19  5.28678579e-19  4.43173884e-19\n",
      "  2.10704312e-19  3.54950465e-20  1.07914619e-21 -2.53440912e-20\n",
      " -1.06687322e-19 -2.19415284e-19 -2.68455464e-19 -6.02572620e-19\n",
      " -9.87616213e-19 -1.46537067e-18 -2.01048250e-18 -2.90125716e-18\n",
      " -3.88596755e-18 -4.81424418e-18 -8.33535682e-18 -4.34447299e-17\n",
      " -3.44573025e-16]\n",
      "[[0.6646115]]\n"
     ]
    }
   ],
   "source": [
    "eigen = np.linalg.eig(fim4)[0]\n",
    "eigen[::-1].sort()\n",
    "print(len(eigen))\n",
    "print(eigen)\n",
    "print(fr4)"
   ]
  },
  {
   "cell_type": "code",
   "execution_count": null,
   "metadata": {},
   "outputs": [],
   "source": []
  },
  {
   "cell_type": "code",
   "execution_count": null,
   "metadata": {},
   "outputs": [],
   "source": []
  }
 ],
 "metadata": {
  "kernelspec": {
   "display_name": "env_qiskit",
   "language": "python",
   "name": "env_qiskit"
  },
  "language_info": {
   "codemirror_mode": {
    "name": "ipython",
    "version": 3
   },
   "file_extension": ".py",
   "mimetype": "text/x-python",
   "name": "python",
   "nbconvert_exporter": "python",
   "pygments_lexer": "ipython3",
   "version": "3.8.5"
  }
 },
 "nbformat": 4,
 "nbformat_minor": 4
}
