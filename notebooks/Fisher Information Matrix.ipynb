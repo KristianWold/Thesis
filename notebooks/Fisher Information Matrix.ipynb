{
 "cells": [
  {
   "cell_type": "code",
   "execution_count": 28,
   "metadata": {},
   "outputs": [
    {
     "name": "stdout",
     "output_type": "stream",
     "text": [
      "The autoreload extension is already loaded. To reload it, use:\n",
      "  %reload_ext autoreload\n"
     ]
    }
   ],
   "source": [
    "import numpy as np\n",
    "import qiskit as qk\n",
    "import matplotlib.pyplot as plt\n",
    "from qiskit import Aer\n",
    "from tqdm.notebook import tqdm\n",
    "\n",
    "import sys\n",
    "sys.path.insert(0, '../src/')\n",
    "from neuralnetwork import *\n",
    "from analysis import *\n",
    "\n",
    "#%matplotlib notebook\n",
    "%matplotlib inline\n",
    "%load_ext autoreload\n",
    "%autoreload 2"
   ]
  },
  {
   "cell_type": "markdown",
   "metadata": {},
   "source": [
    "# Fisher Information Matrix"
   ]
  },
  {
   "cell_type": "markdown",
   "metadata": {},
   "source": [
    "## Random Initialization"
   ]
  },
  {
   "cell_type": "code",
   "execution_count": 53,
   "metadata": {},
   "outputs": [],
   "source": [
    "np.random.seed(42)\n",
    "x = np.random.uniform(0, np.pi, (100,5))"
   ]
  },
  {
   "cell_type": "markdown",
   "metadata": {},
   "source": [
    "### Quantum Neural Network"
   ]
  },
  {
   "cell_type": "code",
   "execution_count": 61,
   "metadata": {},
   "outputs": [],
   "source": [
    "backend = Aer.get_backend('qasm_simulator')\n",
    "np.random.seed(42)\n",
    "\n",
    "layer1 = QLayer(n_qubits=5, n_features=5, n_targets=5, encoder=Encoder(), ansatz=Ansatz(), reps=1, scale=2*np.pi, backend=backend, shots=100000)\n",
    "layer2 = QLayer(n_qubits=5, n_features=5, n_targets=1, encoder=Encoder(), ansatz=Ansatz(), reps=1, scale=1, backend=backend, shots=100000)\n",
    "layers = [layer1, layer2]\n",
    "\n",
    "optimizer = Adam()\n",
    "network = NeuralNetwork(layers, optimizer)"
   ]
  },
  {
   "cell_type": "code",
   "execution_count": 62,
   "metadata": {},
   "outputs": [],
   "source": [
    "fim1 = FIM(network)\n",
    "fim1.fit(x)"
   ]
  },
  {
   "cell_type": "code",
   "execution_count": 63,
   "metadata": {},
   "outputs": [
    {
     "name": "stdout",
     "output_type": "stream",
     "text": [
      "(30, 30)\n",
      "[8.12074235e-03 3.05449358e-03 1.86201596e-03 7.29277213e-04\n",
      " 6.21828244e-04 3.38300352e-04 3.07676267e-04 1.83083499e-04\n",
      " 1.30411606e-04 1.22785104e-04 8.66178704e-05 4.91621924e-05\n",
      " 4.26193535e-05 3.42328588e-05 2.86817561e-05 2.48482499e-05\n",
      " 1.85403128e-05 1.59603119e-05 1.34756703e-05 1.07527627e-05\n",
      " 8.66156738e-06 8.32484994e-06 6.13117152e-06 5.14712161e-06\n",
      " 4.25258807e-06 2.50382582e-06 1.57524384e-06 1.36065176e-06\n",
      " 6.46792216e-07 3.53258820e-07]\n"
     ]
    }
   ],
   "source": [
    "print(fim1.fim.shape)\n",
    "\n",
    "eigen1 = np.linalg.eig(fim1.fim)[0]\n",
    "eigen1[::-1].sort()\n",
    "print(eigen1)"
   ]
  },
  {
   "cell_type": "markdown",
   "metadata": {},
   "source": [
    "### Classic Neural Network"
   ]
  },
  {
   "cell_type": "code",
   "execution_count": 68,
   "metadata": {},
   "outputs": [],
   "source": [
    "np.random.seed(42)\n",
    "\n",
    "layer1 = Dense(n_features=5, n_targets=5, scale = 1, activation = Sigmoid(), bias=False)\n",
    "layer2 = Dense(n_features=5, n_targets=1, scale = 1, activation = Identity(), bias=False)\n",
    "layers =[layer1, layer2]\n",
    "\n",
    "optimizer = Adam()\n",
    "network = NeuralNetwork(layers, optimizer)"
   ]
  },
  {
   "cell_type": "code",
   "execution_count": 69,
   "metadata": {},
   "outputs": [],
   "source": [
    "fim2 = FIM(network)\n",
    "fim2.fit(x)"
   ]
  },
  {
   "cell_type": "code",
   "execution_count": 70,
   "metadata": {},
   "outputs": [
    {
     "name": "stdout",
     "output_type": "stream",
     "text": [
      "(30, 30)\n",
      "[2.01851266e+00 1.31665747e-01 1.05186592e-01 5.46030179e-02\n",
      " 4.40518814e-02 2.81052775e-02 1.24600738e-02 5.40484853e-03\n",
      " 4.82320451e-03 2.77245409e-03 1.49682377e-03 1.11320538e-03\n",
      " 8.66637706e-04 7.60915366e-04 5.78360526e-04 4.91331255e-04\n",
      " 2.56180203e-04 1.90094252e-04 1.48331649e-04 1.22594852e-04\n",
      " 6.57018257e-05 5.19085808e-05 4.96386774e-05 3.77806893e-05\n",
      " 2.74960546e-05 2.21518135e-05 1.10539115e-05 9.26978695e-06\n",
      " 5.64030413e-06 3.57699793e-06]\n"
     ]
    }
   ],
   "source": [
    "print(fim2.fim.shape)\n",
    "\n",
    "eigen2 = np.linalg.eig(fim2.fim)[0]\n",
    "eigen2[::-1].sort()\n",
    "print(eigen2)"
   ]
  },
  {
   "cell_type": "markdown",
   "metadata": {},
   "source": [
    "### Comparison"
   ]
  },
  {
   "cell_type": "code",
   "execution_count": 71,
   "metadata": {},
   "outputs": [
    {
     "data": {
      "image/png": "[encoded data removed]",
      "text/plain": [
       "<Figure size 432x288 with 1 Axes>"
      ]
     },
     "metadata": {
      "needs_background": "light"
     },
     "output_type": "display_data"
    }
   ],
   "source": [
    "plt.plot(np.log(np.abs(eigen1)), \"o\")\n",
    "plt.plot(np.log(np.abs(eigen2)), \"o\")\n",
    "plt.show()"
   ]
  },
  {
   "cell_type": "code",
   "execution_count": 42,
   "metadata": {},
   "outputs": [
    {
     "name": "stdout",
     "output_type": "stream",
     "text": [
      "[5.00750016e-02 5.83676724e-03 5.04415623e-03 3.63022000e-03\n",
      " 2.69382436e-03 1.63691243e-03 1.04291359e-03 8.93120117e-04\n",
      " 3.58635350e-04 2.46628377e-04 1.46234484e-04 1.20316011e-04\n",
      " 9.90248623e-05 8.06649400e-05 5.21593597e-05 4.33894973e-05\n",
      " 2.31504282e-05 1.36073759e-05 8.36183652e-06 4.37046932e-06\n",
      " 2.35063967e-06 1.31836723e-06 1.14961687e-06 5.19696900e-07\n",
      " 5.03955057e-07 3.16145095e-07 2.16154384e-07 1.79273252e-07\n",
      " 1.30482572e-07 8.63250211e-08 5.40611179e-08 4.13926809e-08\n",
      " 2.68005287e-08 1.17816819e-08 5.37104053e-09]\n",
      "[ 1.65752079e+00+0.00000000e+00j  2.94575538e-02+0.00000000e+00j\n",
      "  9.54266287e-04+0.00000000e+00j  3.72531321e-05+0.00000000e+00j\n",
      "  5.91963051e-07+0.00000000e+00j  4.75509816e-08+0.00000000e+00j\n",
      "  8.54694161e-10+0.00000000e+00j  1.14452285e-11+0.00000000e+00j\n",
      "  4.55213845e-13+0.00000000e+00j  7.43228761e-15+0.00000000e+00j\n",
      "  8.07008576e-17+0.00000000e+00j  1.82361961e-17+0.00000000e+00j\n",
      "  8.83282312e-18+0.00000000e+00j  3.77729679e-18+1.47493861e-18j\n",
      "  3.77729679e-18-1.47493861e-18j  3.46795382e-18+0.00000000e+00j\n",
      "  1.31766783e-18+0.00000000e+00j  6.23004808e-19+0.00000000e+00j\n",
      "  5.31138493e-20+9.58759845e-20j  5.31138493e-20-9.58759845e-20j\n",
      "  1.57930354e-21+1.18966266e-21j  1.57930354e-21-1.18966266e-21j\n",
      "  9.94718426e-22+0.00000000e+00j -2.08385122e-21+0.00000000e+00j\n",
      " -4.37396588e-20+0.00000000e+00j -4.60558685e-19+1.00348081e-18j\n",
      " -4.60558685e-19-1.00348081e-18j -1.00476407e-18+0.00000000e+00j\n",
      " -1.73221341e-18+0.00000000e+00j -2.09545128e-18+0.00000000e+00j\n",
      " -6.95856622e-18+2.76938037e-17j -6.95856622e-18-2.76938037e-17j\n",
      " -7.65093666e-18+0.00000000e+00j -3.41503208e-17+6.51344440e-18j\n",
      " -3.41503208e-17-6.51344440e-18j]\n"
     ]
    }
   ],
   "source": [
    "print(eigen1)\n",
    "print(eigen2)"
   ]
  },
  {
   "cell_type": "code",
   "execution_count": null,
   "metadata": {},
   "outputs": [],
   "source": []
  }
 ],
 "metadata": {
  "kernelspec": {
   "display_name": "env_qiskit",
   "language": "python",
   "name": "env_qiskit"
  },
  "language_info": {
   "codemirror_mode": {
    "name": "ipython",
    "version": 3
   },
   "file_extension": ".py",
   "mimetype": "text/x-python",
   "name": "python",
   "nbconvert_exporter": "python",
   "pygments_lexer": "ipython3",
   "version": "3.8.5"
  }
 },
 "nbformat": 4,
 "nbformat_minor": 4
}
