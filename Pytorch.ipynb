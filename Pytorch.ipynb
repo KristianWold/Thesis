{
 "cells": [
  {
   "cell_type": "code",
   "execution_count": 20,
   "metadata": {},
   "outputs": [],
   "source": [
    "import torch\n",
    "import torch.nn as nn\n",
    "import numpy as np\n",
    "import matplotlib.pyplot as plt"
   ]
  },
  {
   "cell_type": "code",
   "execution_count": 27,
   "metadata": {},
   "outputs": [],
   "source": [
    "class Model(nn.Module):\n",
    "    def __init__(self):\n",
    "        super(Model, self).__init__()\n",
    "        \n",
    "        self.layer1 = nn.Linear(1, 5)\n",
    "        self.layer2 = nn.Linear(5, 5)\n",
    "        self.layer3 = nn.Linear(5, 1)\n",
    "\n",
    "    def forward(self, x):\n",
    "        x = torch.tanh(self.layer1(x))\n",
    "        x = torch.tanh(self.layer2(x))\n",
    "        x = self.layer3(x)\n",
    "        \n",
    "        return x"
   ]
  },
  {
   "cell_type": "code",
   "execution_count": 28,
   "metadata": {},
   "outputs": [],
   "source": [
    "np.random.seed(42)\n",
    "model = Model()\n",
    "loss_func = nn.MSELoss()\n",
    "optimizer = torch.optim.SGD(model.parameters(), lr=0.01)\n",
    "\n",
    "x = torch.linspace(0, 1, 100).reshape(-1,1)\n",
    "y = x**2 + 1"
   ]
  },
  {
   "cell_type": "code",
   "execution_count": 29,
   "metadata": {},
   "outputs": [
    {
     "name": "stdout",
     "output_type": "stream",
     "text": [
      "tensor([[-0.0020],\n",
      "        [ 0.2458],\n",
      "        [ 0.2205],\n",
      "        [-0.0748],\n",
      "        [ 0.0554]])\n",
      "tensor([-0.0136,  0.4795,  0.4159, -0.1436,  0.0930])\n",
      "tensor([[-0.2891,  0.4981,  0.2787, -0.5411, -0.2976],\n",
      "        [ 0.1822, -0.3135, -0.1769,  0.3387,  0.1974],\n",
      "        [-0.5019,  0.8637,  0.4875, -0.9325, -0.5459],\n",
      "        [ 0.1702, -0.2930, -0.1645,  0.3175,  0.1791],\n",
      "        [ 0.4985, -0.8576, -0.4844,  0.9255,  0.5443]])\n",
      "tensor([ 0.7012, -0.4385,  1.2071, -0.4113, -1.1980])\n",
      "tensor([[-1.6175, -1.1434,  0.3350,  1.9913,  0.1950]])\n",
      "tensor([-3.1928])\n"
     ]
    }
   ],
   "source": [
    "y_pred = model.forward(x)\n",
    "loss = loss_func(y, y_pred)\n",
    "loss.backward()\n",
    "\n",
    "for param in model.parameters():\n",
    "    print(param.grad)"
   ]
  },
  {
   "cell_type": "code",
   "execution_count": null,
   "metadata": {},
   "outputs": [],
   "source": []
  }
 ],
 "metadata": {
  "kernelspec": {
   "display_name": "env_qiskit",
   "language": "python",
   "name": "env_qiskit"
  },
  "language_info": {
   "codemirror_mode": {
    "name": "ipython",
    "version": 3
   },
   "file_extension": ".py",
   "mimetype": "text/x-python",
   "name": "python",
   "nbconvert_exporter": "python",
   "pygments_lexer": "ipython3",
   "version": "3.8.5"
  }
 },
 "nbformat": 4,
 "nbformat_minor": 2
}
