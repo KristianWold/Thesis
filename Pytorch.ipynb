{
 "cells": [
  {
   "cell_type": "code",
   "execution_count": 1,
   "metadata": {},
   "outputs": [],
   "source": [
    "import torch\n",
    "import torch.nn as nn\n",
    "import numpy as np\n",
    "import matplotlib.pyplot as plt"
   ]
  },
  {
   "cell_type": "code",
   "execution_count": 2,
   "metadata": {},
   "outputs": [],
   "source": [
    "class Model(nn.Module):\n",
    "    def __init__(self):\n",
    "        super(Model, self).__init__()\n",
    "        \n",
    "        self.layer1 = nn.Linear(1, 5)\n",
    "        self.layer2 = nn.Linear(5, 5)\n",
    "        self.layer3 = nn.Linear(5, 1)\n",
    "\n",
    "    def forward(self, x):\n",
    "        x = torch.tanh(self.layer1(x))\n",
    "        x = torch.tanh(self.layer2(x))\n",
    "        x = self.layer3(x)\n",
    "        \n",
    "        return x"
   ]
  },
  {
   "cell_type": "code",
   "execution_count": 3,
   "metadata": {},
   "outputs": [],
   "source": [
    "np.random.seed(42)\n",
    "model = Model()\n",
    "loss_func = nn.MSELoss()\n",
    "optimizer = torch.optim.SGD(model.parameters(), lr=0.01)\n",
    "\n",
    "x = torch.linspace(0, 1, 100).reshape(-1,1)\n",
    "y = x**2 + 1"
   ]
  },
  {
   "cell_type": "code",
   "execution_count": 4,
   "metadata": {},
   "outputs": [
    {
     "name": "stdout",
     "output_type": "stream",
     "text": [
      "tensor([[-0.1909],\n",
      "        [ 0.1448],\n",
      "        [-0.0270],\n",
      "        [ 0.0481],\n",
      "        [-0.0552]])\n",
      "tensor([-0.3353,  0.2490, -0.0409,  0.0830, -0.0918])\n",
      "tensor([[-2.0228e-01,  3.3673e-01,  3.0743e-01, -4.3054e-01,  7.6364e-03],\n",
      "        [ 1.1377e-02, -1.8247e-02, -1.6219e-02,  2.3298e-02, -9.6927e-04],\n",
      "        [-1.5194e-03,  2.4748e-03,  2.2237e-03, -3.1617e-03,  1.0077e-04],\n",
      "        [ 3.7025e-02, -6.3285e-02, -5.8775e-02,  8.0990e-02, -1.5223e-04],\n",
      "        [-9.7220e-02,  1.6356e-01,  1.5031e-01, -2.0920e-01,  2.4166e-03]])\n",
      "tensor([-0.6766,  0.0364, -0.0050,  0.1277, -0.3293])\n",
      "tensor([[ 0.3620,  0.8166,  1.1022,  1.1993, -0.7390]])\n",
      "tensor([-1.7354])\n"
     ]
    }
   ],
   "source": [
    "y_pred = model.forward(x)\n",
    "loss = loss_func(y, y_pred)\n",
    "loss.backward()\n",
    "\n",
    "for param in model.parameters():\n",
    "    print(param.grad)"
   ]
  },
  {
   "cell_type": "code",
   "execution_count": null,
   "metadata": {},
   "outputs": [],
   "source": []
  }
 ],
 "metadata": {
  "kernelspec": {
   "display_name": "qiskit",
   "language": "python",
   "name": "qiskit"
  },
  "language_info": {
   "codemirror_mode": {
    "name": "ipython",
    "version": 3
   },
   "file_extension": ".py",
   "mimetype": "text/x-python",
   "name": "python",
   "nbconvert_exporter": "python",
   "pygments_lexer": "ipython3",
   "version": "3.8.5"
  }
 },
 "nbformat": 4,
 "nbformat_minor": 2
}
